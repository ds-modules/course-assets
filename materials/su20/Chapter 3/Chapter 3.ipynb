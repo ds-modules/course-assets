{
 "cells": [
  {
   "cell_type": "markdown",
   "metadata": {},
   "source": [
    "# Chapter 3: Progamming in Python"
   ]
  },
  {
   "cell_type": "code",
   "execution_count": 2,
   "metadata": {},
   "outputs": [],
   "source": [
    "import datascience \n",
    "import pandas as pd \n",
    "import numpy as np\n",
    "from datascience import Table\n",
    "from datascience import *\n",
    "import matplotlib\n",
    "%matplotlib inline\n",
    "import matplotlib.pyplot as plt\n",
    "import numpy as np\n",
    "plt.style.use('fivethirtyeight')"
   ]
  },
  {
   "cell_type": "markdown",
   "metadata": {},
   "source": [
    "###### Goal: Replace Minard Dataset example used in [Chapter 3](https://data-8r.gitbooks.io/textbook/chapters/03/4/call-expressions.html \"Chapter 3\") with CalEnvironscreen dataset. "
   ]
  },
  {
   "cell_type": "markdown",
   "metadata": {},
   "source": [
    "### The Data\n",
    "\n",
    "For this section, we will be using the [CalEnvironScreen 3.0](https://oehha.ca.gov/calenviroscreen/maps-data) dataset from the Ofice of Environmental Health Hazard Assessment. This dataset includes population and pollution data for several counties in California. First, we must import the dataset into our notebook and create a table. We will call this table `ces_data`."
   ]
  },
  {
   "cell_type": "code",
   "execution_count": 67,
   "metadata": {
    "scrolled": true
   },
   "outputs": [
    {
     "data": {
      "text/html": [
       "<table border=\"1\" class=\"dataframe\">\n",
       "    <thead>\n",
       "        <tr>\n",
       "            <th>Census Tract</th> <th>CES 3.0 Score</th> <th>CES 3.0 Percentile</th> <th>CES 3.0 Percentile Range</th> <th>Total Population</th> <th>California County</th> <th>Children < 10 (%)</th> <th>Pop 11-64 years (%)</th> <th>Elderly > 65 (%)</th> <th>Hispanic (%)</th> <th>White (%)</th> <th>African American (%)</th> <th>Native American (%)</th> <th>Asian American (%)</th> <th>Other (%)</th> <th>ZIP</th> <th>Nearby City \n",
       "(to help approximate location only)</th> <th>Longitude</th> <th>Latitude</th> <th> CES 3.0 Percentile</th> <th>CES 3.0 \n",
       "Percentile Range</th> <th>SB 535 Disadvantaged Community</th> <th>Ozone</th> <th>Ozone Pctl</th> <th>PM2.5</th> <th>PM2.5 Pctl</th> <th>Diesel PM</th> <th>Diesel PM Pctl</th> <th>Drinking Water</th> <th>Drinking Water Pctl</th> <th>Pesticides</th> <th>Pesticides Pctl</th> <th>Tox. Release</th> <th>Tox. Release Pctl</th> <th>Traffic</th> <th>Traffic Pctl</th> <th>Cleanup Sites</th> <th>Cleanup Sites Pctl</th> <th>Groundwater Threats</th> <th>Groundwater Threats Pctl</th> <th>Haz. Waste</th> <th>Haz. Waste Pctl</th> <th>Imp. Water Bodies</th> <th>Imp. Water Bodies Pctl</th> <th>Solid Waste</th> <th>Solid Waste Pctl</th> <th>Pollution Burden</th> <th>Pollution Burden Score</th> <th>Pollution Burden Pctl</th> <th>Asthma</th> <th>Asthma Pctl</th> <th>Low Birth Weight</th> <th>Low Birth Weight Pctl</th> <th>Cardiovascular Disease</th> <th>Cardiovascular Disease Pctl</th> <th>Education</th> <th>Education Pctl</th> <th>Linguistic Isolation</th> <th>Linguistic Isolation Pctl</th> <th>Poverty</th> <th>Poverty Pctl</th> <th>Unemployment</th> <th>Unemployment Pctl</th> <th>Housing Burden</th> <th>Housing Burden Pctl</th> <th>Pop. Char. </th> <th>Pop. Char. Score</th> <th>Pop. Char. Pctl</th>\n",
       "        </tr>\n",
       "    </thead>\n",
       "    <tbody>\n",
       "        <tr>\n",
       "            <td>6.03723e+09 </td> <td>71.53        </td> <td>99.5              </td> <td>95-100% (highest scores)</td> <td>2068            </td> <td>Los Angeles      </td> <td>17.1             </td> <td>76.5               </td> <td>6.4             </td> <td>89.1        </td> <td>1.7      </td> <td>6.1                 </td> <td>0.2                </td> <td>2.6               </td> <td>0.2      </td> <td>90021</td> <td>Los Angeles                                     </td> <td>-118.25  </td> <td>34.0245 </td> <td>99.5               </td> <td>95-100% (highest scores) </td> <td>Yes                           </td> <td>0.046</td> <td>53.02     </td> <td>12.89</td> <td>92.89     </td> <td>41.684   </td> <td>94.19         </td> <td>664.07        </td> <td>78.57              </td> <td>0         </td> <td>0              </td> <td>5941.16     </td> <td>84.47            </td> <td>2289.68</td> <td>93.38       </td> <td>55.6         </td> <td>96.64             </td> <td>4.6                </td> <td>28.85                   </td> <td>3.55      </td> <td>95.14          </td> <td>7                </td> <td>71.61                 </td> <td>24.7       </td> <td>98.7            </td> <td>73.35           </td> <td>9.03                  </td> <td>99.43                </td> <td>87.25 </td> <td>88.14      </td> <td>6.16            </td> <td>79.28                </td> <td>9.3                   </td> <td>66.56                      </td> <td>59.2     </td> <td>98.02         </td> <td>33                  </td> <td>96.01                    </td> <td>79.3   </td> <td>98.1        </td> <td>4.1         </td> <td>6.94             </td> <td>24.2          </td> <td>74.38              </td> <td>76.34      </td> <td>7.92            </td> <td>88.88          </td>\n",
       "        </tr>\n",
       "        <tr>\n",
       "            <td>6.03724e+09 </td> <td>71.36        </td> <td>99.48             </td> <td>95-100% (highest scores)</td> <td>3454            </td> <td>Los Angeles      </td> <td>19.3             </td> <td>74.1               </td> <td>6.6             </td> <td>74.8        </td> <td>0.7      </td> <td>24                  </td> <td>0                  </td> <td>0.1               </td> <td>0.3      </td> <td>90001</td> <td>Los Angeles                                     </td> <td>-118.263 </td> <td>33.973  </td> <td>99.48              </td> <td>95-100% (highest scores) </td> <td>Yes                           </td> <td>0.046</td> <td>53.02     </td> <td>12.05</td> <td>81.66     </td> <td>26.33    </td> <td>79.39         </td> <td>664.07        </td> <td>78.57              </td> <td>0         </td> <td>0              </td> <td>5153.31     </td> <td>80.77            </td> <td>1289.16</td> <td>77.92       </td> <td>22.7         </td> <td>85.63             </td> <td>14.5               </td> <td>59.3                    </td> <td>0.675     </td> <td>82.3           </td> <td>0                </td> <td>0                     </td> <td>4.75       </td> <td>70.62           </td> <td>62.84           </td> <td>7.74                  </td> <td>94.54                </td> <td>72.52 </td> <td>80.31      </td> <td>7.41            </td> <td>93.64                </td> <td>10.79                 </td> <td>81.41                      </td> <td>50.4     </td> <td>94.36         </td> <td>22.5                </td> <td>87.65                    </td> <td>72.2   </td> <td>94.47       </td> <td>17.6        </td> <td>91.72            </td> <td>35.8          </td> <td>95.11              </td> <td>88.89      </td> <td>9.22            </td> <td>98.71          </td>\n",
       "        </tr>\n",
       "        <tr>\n",
       "            <td>6.019e+09   </td> <td>71.34        </td> <td>99.47             </td> <td>95-100% (highest scores)</td> <td>6369            </td> <td>Fresno           </td> <td>18.4             </td> <td>73.2               </td> <td>8.4             </td> <td>58.3        </td> <td>22.5     </td> <td>8.1                 </td> <td>0.9                </td> <td>7.9               </td> <td>2.4      </td> <td>93728</td> <td>Fresno                                          </td> <td>-119.833 </td> <td>36.7573 </td> <td>99.47              </td> <td>95-100% (highest scores) </td> <td>Yes                           </td> <td>0.062</td> <td>91.1      </td> <td>15.4 </td> <td>97.22     </td> <td>38.25    </td> <td>91.89         </td> <td>756.9         </td> <td>87.13              </td> <td>0.02      </td> <td>11.57          </td> <td>3657.29     </td> <td>75.75            </td> <td>827.41 </td> <td>58.83       </td> <td>6.25         </td> <td>48.98             </td> <td>10.5               </td> <td>50.78                   </td> <td>0.31      </td> <td>69.73          </td> <td>0                </td> <td>0                     </td> <td>5          </td> <td>73.54           </td> <td>65.11           </td> <td>8.02                  </td> <td>96.23                </td> <td>91.21 </td> <td>89.73      </td> <td>8.44            </td> <td>98.09                </td> <td>8.81                  </td> <td>61                         </td> <td>42.1     </td> <td>88.83         </td> <td>19.3                </td> <td>83.22                    </td> <td>80.7   </td> <td>98.58       </td> <td>21.6        </td> <td>96.99            </td> <td>24.6          </td> <td>75.53              </td> <td>85.78      </td> <td>8.9             </td> <td>97.3           </td>\n",
       "        </tr>\n",
       "        <tr>\n",
       "            <td>6.07701e+09 </td> <td>71.3         </td> <td>99.46             </td> <td>95-100% (highest scores)</td> <td>6006            </td> <td>San Joaquin      </td> <td>19.3             </td> <td>75                 </td> <td>5.7             </td> <td>29.8        </td> <td>22.5     </td> <td>10.1                </td> <td>0.3                </td> <td>33.1              </td> <td>4.3      </td> <td>95330</td> <td>Lathrop                                         </td> <td>-121.303 </td> <td>37.8447 </td> <td>99.46              </td> <td>95-100% (highest scores) </td> <td>Yes                           </td> <td>0.05 </td> <td>64.8      </td> <td>12.05</td> <td>81.66     </td> <td>13.467   </td> <td>40.76         </td> <td>1050.74       </td> <td>99.11              </td> <td>1994.23   </td> <td>92.49          </td> <td>1144.8      </td> <td>61.52            </td> <td>1088.07</td> <td>71.25       </td> <td>34           </td> <td>92.28             </td> <td>290.05             </td> <td>99.74                   </td> <td>3.01      </td> <td>94.51          </td> <td>11               </td> <td>89.54                 </td> <td>14.55      </td> <td>94.6            </td> <td>80.1            </td> <td>9.87                  </td> <td>99.98                </td> <td>65.67 </td> <td>74.73      </td> <td>6.3             </td> <td>81.93                </td> <td>10.67                 </td> <td>80.01                      </td> <td>18.4     </td> <td>58.97         </td> <td>13.9                </td> <td>72.04                    </td> <td>34.7   </td> <td>52.09       </td> <td>11.3        </td> <td>65.55            </td> <td>18.8          </td> <td>53.71              </td> <td>69.68      </td> <td>7.23            </td> <td>79.47          </td>\n",
       "        </tr>\n",
       "        <tr>\n",
       "            <td>6.0372e+09  </td> <td>71.05        </td> <td>99.45             </td> <td>95-100% (highest scores)</td> <td>4839            </td> <td>Los Angeles      </td> <td>20.1             </td> <td>74                 </td> <td>5.9             </td> <td>95.8        </td> <td>1        </td> <td>1.1                 </td> <td>0.3                </td> <td>1.5               </td> <td>0.3      </td> <td>90033</td> <td>Los Angeles                                     </td> <td>-118.196 </td> <td>34.0591 </td> <td>99.45              </td> <td>95-100% (highest scores) </td> <td>Yes                           </td> <td>0.046</td> <td>53.02     </td> <td>12.89</td> <td>92.89     </td> <td>31.02    </td> <td>86.68         </td> <td>527.51        </td> <td>55.68              </td> <td>0         </td> <td>0              </td> <td>6735.29     </td> <td>87.4             </td> <td>2969.91</td> <td>97.28       </td> <td>9.8          </td> <td>61.51             </td> <td>41.3               </td> <td>88.28                   </td> <td>0.66      </td> <td>81.98          </td> <td>6                </td> <td>63.17                 </td> <td>5.5        </td> <td>75.64           </td> <td>69.75           </td> <td>8.59                  </td> <td>98.57                </td> <td>76.55 </td> <td>82.86      </td> <td>5.17            </td> <td>57.03                </td> <td>8.65                  </td> <td>58.86                      </td> <td>57.7     </td> <td>97.45         </td> <td>26.8                </td> <td>92.03                    </td> <td>76.1   </td> <td>96.96       </td> <td>14.9        </td> <td>84.1             </td> <td>36.4          </td> <td>95.71              </td> <td>79.75      </td> <td>8.27            </td> <td>92.47          </td>\n",
       "        </tr>\n",
       "    </tbody>\n",
       "</table>\n",
       "<p>... (5 rows omitted)</p>"
      ],
      "text/plain": [
       "<IPython.core.display.HTML object>"
      ]
     },
     "metadata": {},
     "output_type": "display_data"
    }
   ],
   "source": [
    "ces_data = Table.read_table('ces_data.csv')\n",
    "ces_data.take(np.arange(40, 50)).show(5)"
   ]
  },
  {
   "cell_type": "markdown",
   "metadata": {},
   "source": [
    "If we scroll to the right, we can see a column called `Pesticides`. Notice how a lot of the entries are 0s. When dealing with large datasets, we will often encounter **missing** values. These values are simply empty values that appear when we do not have a value available for a particular record. It is important to clean these meaningless values to carry out analysis of the dataset. Much of data science consists of **cleaning data** which includes **renaming columns**, **reducing the table size to include only the columns of interest**, and **removing missing values.**  \n",
    "\n",
    "There are various methods of dealing with missing values -- for our purposes, it is safe to simply remove these values from our table.\n",
    "\n",
    "This has been done for you: simply run the cell below to save a clean and reduced version of the data as `clean_ces_data`. From this point forward, we'll use this cleaned CES data to run our analysis."
   ]
  },
  {
   "cell_type": "markdown",
   "metadata": {},
   "source": [
    "To understand our data, it is important to understand what **each row** represents. Notice our first two columns: `California County` & `census_tract`. Each row represents a specific census tract (some specific geographic region) for a given county.  \n",
    "\n",
    "For instance, our first row represents some small region in the county of Fresno. "
   ]
  },
  {
   "cell_type": "code",
   "execution_count": 22,
   "metadata": {},
   "outputs": [
    {
     "data": {
      "text/html": [
       "<table border=\"1\" class=\"dataframe\">\n",
       "    <thead>\n",
       "        <tr>\n",
       "            <th>California County</th> <th>census_tract</th> <th>asthma</th> <th>cardiovascular_disease</th>\n",
       "        </tr>\n",
       "    </thead>\n",
       "    <tbody>\n",
       "        <tr>\n",
       "            <td>Fresno           </td> <td>6.019e+09   </td> <td>131.64</td> <td>14.13                 </td>\n",
       "        </tr>\n",
       "        <tr>\n",
       "            <td>San Bernardino   </td> <td>6.071e+09   </td> <td>60.66 </td> <td>12.94                 </td>\n",
       "        </tr>\n",
       "        <tr>\n",
       "            <td>Fresno           </td> <td>6.019e+09   </td> <td>142.12</td> <td>14.96                 </td>\n",
       "        </tr>\n",
       "        <tr>\n",
       "            <td>San Joaquin      </td> <td>6.077e+09   </td> <td>142.17</td> <td>14.72                 </td>\n",
       "        </tr>\n",
       "        <tr>\n",
       "            <td>Fresno           </td> <td>6.019e+09   </td> <td>90.48 </td> <td>12.82                 </td>\n",
       "        </tr>\n",
       "    </tbody>\n",
       "</table>\n",
       "<p>... (7552 rows omitted)</p>"
      ],
      "text/plain": [
       "<IPython.core.display.HTML object>"
      ]
     },
     "metadata": {},
     "output_type": "display_data"
    }
   ],
   "source": [
    "clean_ces_data = Table.read_table('cleaned_data.csv').select('California County', 'census_tract', 'asthma', 'cardiovascular_disease')\n",
    "clean_ces_data.show(5)"
   ]
  },
  {
   "cell_type": "markdown",
   "metadata": {},
   "source": [
    "Our dataset contains a lot of entries. Let's narrow down our analysis to the counties of Los Angeles, Alameda, San Francisco, and San Diego"
   ]
  },
  {
   "cell_type": "code",
   "execution_count": 53,
   "metadata": {},
   "outputs": [],
   "source": [
    "clean_ces_data = clean_ces_data.where('California County', \n",
    "                     are.contained_in(['Los Angeles', 'Alameda', \n",
    "                                       'San Francisco', 'San Diego']))"
   ]
  },
  {
   "cell_type": "markdown",
   "metadata": {},
   "source": [
    "### Statistics"
   ]
  },
  {
   "cell_type": "code",
   "execution_count": 54,
   "metadata": {},
   "outputs": [
    {
     "data": {
      "text/html": [
       "<table border=\"1\" class=\"dataframe\">\n",
       "    <thead>\n",
       "        <tr>\n",
       "            <th>California County</th> <th>census_tract</th> <th>asthma</th> <th>cardiovascular_disease</th>\n",
       "        </tr>\n",
       "    </thead>\n",
       "    <tbody>\n",
       "        <tr>\n",
       "            <td>Los Angeles      </td> <td>6.0379e+09  </td> <td>154.14</td> <td>16.02                 </td>\n",
       "        </tr>\n",
       "        <tr>\n",
       "            <td>Los Angeles      </td> <td>6.0379e+09  </td> <td>154.14</td> <td>16.02                 </td>\n",
       "        </tr>\n",
       "        <tr>\n",
       "            <td>Los Angeles      </td> <td>6.0379e+09  </td> <td>154.14</td> <td>16.02                 </td>\n",
       "        </tr>\n",
       "        <tr>\n",
       "            <td>Los Angeles      </td> <td>6.0379e+09  </td> <td>154.14</td> <td>16.02                 </td>\n",
       "        </tr>\n",
       "    </tbody>\n",
       "</table>"
      ],
      "text/plain": [
       "California County | census_tract | asthma | cardiovascular_disease\n",
       "Los Angeles       | 6.0379e+09   | 154.14 | 16.02\n",
       "Los Angeles       | 6.0379e+09   | 154.14 | 16.02\n",
       "Los Angeles       | 6.0379e+09   | 154.14 | 16.02\n",
       "Los Angeles       | 6.0379e+09   | 154.14 | 16.02"
      ]
     },
     "execution_count": 54,
     "metadata": {},
     "output_type": "execute_result"
    }
   ],
   "source": [
    "clean_ces_data.where('asthma', max(clean_ces_data['asthma']))"
   ]
  },
  {
   "cell_type": "code",
   "execution_count": 55,
   "metadata": {},
   "outputs": [
    {
     "data": {
      "text/html": [
       "<table border=\"1\" class=\"dataframe\">\n",
       "    <thead>\n",
       "        <tr>\n",
       "            <th>California County</th> <th>census_tract</th> <th>asthma</th> <th>cardiovascular_disease</th>\n",
       "        </tr>\n",
       "    </thead>\n",
       "    <tbody>\n",
       "        <tr>\n",
       "            <td>Los Angeles      </td> <td>6.0378e+09  </td> <td>6.09  </td> <td>1.56                  </td>\n",
       "        </tr>\n",
       "    </tbody>\n",
       "</table>"
      ],
      "text/plain": [
       "California County | census_tract | asthma | cardiovascular_disease\n",
       "Los Angeles       | 6.0378e+09   | 6.09   | 1.56"
      ]
     },
     "execution_count": 55,
     "metadata": {},
     "output_type": "execute_result"
    }
   ],
   "source": [
    "clean_ces_data.where('asthma', min(clean_ces_data['asthma']))"
   ]
  },
  {
   "cell_type": "markdown",
   "metadata": {},
   "source": [
    "In our data, the maximum level of asthma is $ 154.14 $ and the smallest is $ 6.09 $ \n",
    "\n",
    "Lets compute the difference between both of these"
   ]
  },
  {
   "cell_type": "code",
   "execution_count": 56,
   "metadata": {},
   "outputs": [],
   "source": [
    "tract_with_max_asthma = 154.14\n",
    "tract_with_min_asthma = 6.09"
   ]
  },
  {
   "cell_type": "code",
   "execution_count": 57,
   "metadata": {},
   "outputs": [
    {
     "data": {
      "text/plain": [
       "148.04999999999998"
      ]
     },
     "execution_count": 57,
     "metadata": {},
     "output_type": "execute_result"
    }
   ],
   "source": [
    "difference = tract_with_max_asthma - tract_with_min_asthma\n",
    "difference"
   ]
  },
  {
   "cell_type": "markdown",
   "metadata": {},
   "source": [
    "Another important statistic can be the percentage change between the biggest and smallest asthma rates. "
   ]
  },
  {
   "cell_type": "code",
   "execution_count": 58,
   "metadata": {},
   "outputs": [
    {
     "data": {
      "text/plain": [
       "0.9604904632152589"
      ]
     },
     "execution_count": 58,
     "metadata": {},
     "output_type": "execute_result"
    }
   ],
   "source": [
    "percentage_change = (tract_with_max_asthma - tract_with_min_asthma) / tract_with_max_asthma\n",
    "percentage_change"
   ]
  },
  {
   "cell_type": "markdown",
   "metadata": {},
   "source": [
    "Thus, our percentage change between the smallest & largest asthma rates is 98%. This a **big** change, however the minimum and maximum values alone do not tell us the whole story. \n",
    "\n",
    "For instance, if we wanted to calculate the percentage change in the first two tracts, we see the first row of our dataset has an asthma rate of $ 21.12 $ and our second row has asthma rate of  $ 30.97 $\n",
    "\n",
    "We assign names to these numbers so that our code becomes easier to read and our results can be easily interpreted."
   ]
  },
  {
   "cell_type": "code",
   "execution_count": 61,
   "metadata": {},
   "outputs": [
    {
     "data": {
      "text/html": [
       "<table border=\"1\" class=\"dataframe\">\n",
       "    <thead>\n",
       "        <tr>\n",
       "            <th>California County</th> <th>census_tract</th> <th>asthma</th> <th>cardiovascular_disease</th>\n",
       "        </tr>\n",
       "    </thead>\n",
       "    <tbody>\n",
       "        <tr>\n",
       "            <td>San Diego        </td> <td>6.07302e+09 </td> <td>21.12 </td> <td>4.4                   </td>\n",
       "        </tr>\n",
       "        <tr>\n",
       "            <td>San Diego        </td> <td>6.07302e+09 </td> <td>30.97 </td> <td>5.34                  </td>\n",
       "        </tr>\n",
       "    </tbody>\n",
       "</table>\n",
       "<p>... (3016 rows omitted)</p>"
      ],
      "text/plain": [
       "<IPython.core.display.HTML object>"
      ]
     },
     "metadata": {},
     "output_type": "display_data"
    }
   ],
   "source": [
    "clean_ces_data.show(2)"
   ]
  },
  {
   "cell_type": "code",
   "execution_count": 62,
   "metadata": {},
   "outputs": [],
   "source": [
    "tract_one_asthma = 21.12\n",
    "tract_two_asthma = 30.97"
   ]
  },
  {
   "cell_type": "code",
   "execution_count": 64,
   "metadata": {},
   "outputs": [
    {
     "data": {
      "text/plain": [
       "9.849999999999998"
      ]
     },
     "execution_count": 64,
     "metadata": {},
     "output_type": "execute_result"
    }
   ],
   "source": [
    "difference = abs(tract_one_asthma - tract_two_asthma)\n",
    "difference "
   ]
  },
  {
   "cell_type": "markdown",
   "metadata": {},
   "source": [
    "Lets calculate the percentage change between these two regions."
   ]
  },
  {
   "cell_type": "code",
   "execution_count": 66,
   "metadata": {},
   "outputs": [
    {
     "data": {
      "text/plain": [
       "0.46638257575757563"
      ]
     },
     "execution_count": 66,
     "metadata": {},
     "output_type": "execute_result"
    }
   ],
   "source": [
    "abs(tract_one_asthma - tract_two_asthma) / tract_one_asthma"
   ]
  },
  {
   "cell_type": "markdown",
   "metadata": {},
   "source": [
    "We can see that there is a $ 46 \\% $ change in the asthma rates between the first two rows of our dataset.  "
   ]
  }
 ],
 "metadata": {
  "kernelspec": {
   "display_name": "Python 3",
   "language": "python",
   "name": "python3"
  },
  "language_info": {
   "codemirror_mode": {
    "name": "ipython",
    "version": 3
   },
   "file_extension": ".py",
   "mimetype": "text/x-python",
   "name": "python",
   "nbconvert_exporter": "python",
   "pygments_lexer": "ipython3",
   "version": "3.7.3"
  }
 },
 "nbformat": 4,
 "nbformat_minor": 2
}
