{
 "cells": [
  {
   "cell_type": "markdown",
   "metadata": {},
   "source": [
    "# Chapter 3: Progamming in Python"
   ]
  },
  {
   "cell_type": "code",
   "execution_count": 1,
   "metadata": {},
   "outputs": [],
   "source": [
    "import datascience \n",
    "import pandas as pd \n",
    "import numpy as np\n",
    "from datascience import Table\n",
    "from datascience import *\n",
    "import matplotlib\n",
    "%matplotlib inline\n",
    "import matplotlib.pyplot as plt\n",
    "import numpy as np\n",
    "plt.style.use('fivethirtyeight')"
   ]
  },
  {
   "cell_type": "markdown",
   "metadata": {},
   "source": [
    "###### Goal: Replace Minard Dataset example used in [Chapter 3](https://data-8r.gitbooks.io/textbook/chapters/03/4/call-expressions.html \"Chapter 3\") with CalEnvironscreen dataset. "
   ]
  },
  {
   "cell_type": "code",
   "execution_count": 2,
   "metadata": {},
   "outputs": [],
   "source": [
    "data = Table.read_table('cleaned_data_new.csv')"
   ]
  },
  {
   "cell_type": "code",
   "execution_count": 3,
   "metadata": {},
   "outputs": [
    {
     "data": {
      "text/html": [
       "<table border=\"1\" class=\"dataframe\">\n",
       "    <thead>\n",
       "        <tr>\n",
       "            <th>census_tract</th> <th>hispanic</th> <th>white</th> <th>african_american</th> <th>native_american</th> <th>asian_american</th> <th>other</th> <th>unemployment</th> <th>poverty</th> <th>ces_pollution_score</th> <th>ozone</th> <th>pesticides</th> <th>tox_release</th> <th>asthma</th> <th>cardiovascular_disease</th> <th>low_birth_weight</th>\n",
       "        </tr>\n",
       "    </thead>\n",
       "    <tbody>\n",
       "        <tr>\n",
       "            <td>6.019e+09   </td> <td>65.3    </td> <td>4.2  </td> <td>24.6            </td> <td>0.5            </td> <td>3.5           </td> <td>1.8  </td> <td>17.6        </td> <td>76.3   </td> <td>94.09              </td> <td>0.065</td> <td>2.75      </td> <td>18552      </td> <td>131.64</td> <td>14.13                 </td> <td>7.44            </td>\n",
       "        </tr>\n",
       "        <tr>\n",
       "            <td>6.071e+09   </td> <td>91.1    </td> <td>5.8  </td> <td>0.7             </td> <td>0.3            </td> <td>1.4           </td> <td>0.7  </td> <td>12.3        </td> <td>72.5   </td> <td>90.68              </td> <td>0.062</td> <td>1.37      </td> <td>7494.24    </td> <td>60.66 </td> <td>12.94                 </td> <td>7.04            </td>\n",
       "        </tr>\n",
       "        <tr>\n",
       "            <td>6.019e+09   </td> <td>63.6    </td> <td>5.3  </td> <td>18.9            </td> <td>0.6            </td> <td>9.8           </td> <td>1.8  </td> <td>16.1        </td> <td>86.8   </td> <td>85.97              </td> <td>0.062</td> <td>3.03      </td> <td>12454.9    </td> <td>142.12</td> <td>14.96                 </td> <td>10.16           </td>\n",
       "        </tr>\n",
       "    </tbody>\n",
       "</table>\n",
       "<p>... (7554 rows omitted)</p>"
      ],
      "text/plain": [
       "<IPython.core.display.HTML object>"
      ]
     },
     "metadata": {},
     "output_type": "display_data"
    }
   ],
   "source": [
    "data.show(3)"
   ]
  },
  {
   "cell_type": "markdown",
   "metadata": {},
   "source": [
    "### Statistics"
   ]
  },
  {
   "cell_type": "code",
   "execution_count": 4,
   "metadata": {},
   "outputs": [
    {
     "data": {
      "text/plain": [
       "223.3"
      ]
     },
     "execution_count": 4,
     "metadata": {},
     "output_type": "execute_result"
    }
   ],
   "source": [
    "max(data['asthma'])"
   ]
  },
  {
   "cell_type": "code",
   "execution_count": 5,
   "metadata": {},
   "outputs": [
    {
     "data": {
      "text/plain": [
       "3.63"
      ]
     },
     "execution_count": 5,
     "metadata": {},
     "output_type": "execute_result"
    }
   ],
   "source": [
    "min(data['asthma'])"
   ]
  },
  {
   "cell_type": "markdown",
   "metadata": {},
   "source": [
    "In this table the maximum level of asthma is $ 223.3 $ and the smallest is $ 3.63 $ \n",
    "\n",
    "Lets compute the difference between both of these"
   ]
  },
  {
   "cell_type": "code",
   "execution_count": 7,
   "metadata": {},
   "outputs": [],
   "source": [
    "tract_with_max_asthma = 223.3\n",
    "tract_with_min_asthma = 3.63"
   ]
  },
  {
   "cell_type": "code",
   "execution_count": 8,
   "metadata": {},
   "outputs": [
    {
     "data": {
      "text/plain": [
       "219.67000000000002"
      ]
     },
     "execution_count": 8,
     "metadata": {},
     "output_type": "execute_result"
    }
   ],
   "source": [
    "difference = tract_with_max_asthma - tract_with_min_asthma\n",
    "difference"
   ]
  },
  {
   "cell_type": "markdown",
   "metadata": {},
   "source": [
    "Another important statistic can be the percentage change between the biggest and smallest asthma rates. "
   ]
  },
  {
   "cell_type": "code",
   "execution_count": 10,
   "metadata": {},
   "outputs": [
    {
     "data": {
      "text/plain": [
       "0.983743842364532"
      ]
     },
     "execution_count": 10,
     "metadata": {},
     "output_type": "execute_result"
    }
   ],
   "source": [
    "(tract_with_max_asthma - tract_with_min_asthma) / tract_with_max_asthma"
   ]
  },
  {
   "cell_type": "markdown",
   "metadata": {},
   "source": [
    "Since this was not productive in showing the difference since it was so small, we will do the first and second entry of the dataset.  \n",
    "\n",
    "The first row of our dataset has an asthma rate of $ 131.64 $ and our second row has asthma rate of  $ 60.66 $\n",
    "\n",
    "We assign names to these numbers so that our code becomes easier to read and our results can be easily interpreted."
   ]
  },
  {
   "cell_type": "code",
   "execution_count": 11,
   "metadata": {},
   "outputs": [],
   "source": [
    "tract_one_asthma = 131.64\n",
    "tract_two_asthma = 60.66"
   ]
  },
  {
   "cell_type": "code",
   "execution_count": 12,
   "metadata": {},
   "outputs": [
    {
     "data": {
      "text/plain": [
       "70.97999999999999"
      ]
     },
     "execution_count": 12,
     "metadata": {},
     "output_type": "execute_result"
    }
   ],
   "source": [
    "difference = tract_one_asthma - tract_two_asthma\n",
    "difference "
   ]
  },
  {
   "cell_type": "markdown",
   "metadata": {},
   "source": [
    "Lets calculate the percentage change between these two regions."
   ]
  },
  {
   "cell_type": "code",
   "execution_count": 13,
   "metadata": {},
   "outputs": [
    {
     "data": {
      "text/plain": [
       "0.5391978122151322"
      ]
     },
     "execution_count": 13,
     "metadata": {},
     "output_type": "execute_result"
    }
   ],
   "source": [
    "(tract_one_asthma - tract_two_asthma) / tract_one_asthma"
   ]
  },
  {
   "cell_type": "markdown",
   "metadata": {},
   "source": [
    "We can see that there is a 53% change in the asthma rates between the first two rows of our dataset.  \n",
    "\n",
    "\n",
    "Things to do: \n",
    "\n",
    " -- Bring context into the tracts -- which tracts belong to which areas.  \n",
    " -- Is asthma rate higher in predomenintly poor neighborhoods?"
   ]
  },
  {
   "cell_type": "code",
   "execution_count": null,
   "metadata": {},
   "outputs": [],
   "source": []
  }
 ],
 "metadata": {
  "kernelspec": {
   "display_name": "Python 3",
   "language": "python",
   "name": "python3"
  },
  "language_info": {
   "codemirror_mode": {
    "name": "ipython",
    "version": 3
   },
   "file_extension": ".py",
   "mimetype": "text/x-python",
   "name": "python",
   "nbconvert_exporter": "python",
   "pygments_lexer": "ipython3",
   "version": "3.7.3"
  }
 },
 "nbformat": 4,
 "nbformat_minor": 2
}
