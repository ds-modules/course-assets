{
 "cells": [
  {
   "cell_type": "code",
   "execution_count": 1,
   "metadata": {
    "colab": {},
    "colab_type": "code",
    "id": "7WatuQ0n7Uvw"
   },
   "outputs": [],
   "source": [
    "import pandas as pd\n",
    "import numpy as np \n",
    "import seaborn as sns\n",
    "import matplotlib.pyplot as plt"
   ]
  },
  {
   "cell_type": "code",
   "execution_count": 2,
   "metadata": {
    "colab": {},
    "colab_type": "code",
    "id": "w_uKS9hw7Uv1"
   },
   "outputs": [],
   "source": [
    "url = 'https://raw.githubusercontent.com/ds-modules/course-assets/gh-pages/materials/su20/Spotify/spotify.csv'\n",
    "spotify = pd.read_csv(url)\n",
    "\n",
    "# Dropping unnecessary columns\n",
    "spotify = spotify.drop(['Unnamed: 0', 'track_album_id', 'playlist_id'], axis=1)\n",
    "\n",
    "# Converting date to datetime to visualize datetime\n",
    "spotify['track_album_release_date'] = pd.to_datetime(spotify['track_album_release_date']) \n",
    "\n",
    "# Creating columns \n",
    "spotify['duration_sec'] = spotify['duration_ms']/1000"
   ]
  },
  {
   "cell_type": "code",
   "execution_count": 3,
   "metadata": {
    "colab": {},
    "colab_type": "code",
    "id": "kekjwyZf7Uv4",
    "outputId": "aaff228b-f5f4-49af-ac09-c68b595f50f3"
   },
   "outputs": [
    {
     "data": {
      "text/html": [
       "<div>\n",
       "<style scoped>\n",
       "    .dataframe tbody tr th:only-of-type {\n",
       "        vertical-align: middle;\n",
       "    }\n",
       "\n",
       "    .dataframe tbody tr th {\n",
       "        vertical-align: top;\n",
       "    }\n",
       "\n",
       "    .dataframe thead th {\n",
       "        text-align: right;\n",
       "    }\n",
       "</style>\n",
       "<table border=\"1\" class=\"dataframe\">\n",
       "  <thead>\n",
       "    <tr style=\"text-align: right;\">\n",
       "      <th></th>\n",
       "      <th>track_id</th>\n",
       "      <th>track_name</th>\n",
       "      <th>track_artist</th>\n",
       "      <th>track_popularity</th>\n",
       "      <th>track_album_name</th>\n",
       "      <th>track_album_release_date</th>\n",
       "      <th>playlist_name</th>\n",
       "      <th>playlist_genre</th>\n",
       "      <th>playlist_subgenre</th>\n",
       "      <th>danceability</th>\n",
       "      <th>...</th>\n",
       "      <th>loudness</th>\n",
       "      <th>mode</th>\n",
       "      <th>speechiness</th>\n",
       "      <th>acousticness</th>\n",
       "      <th>instrumentalness</th>\n",
       "      <th>liveness</th>\n",
       "      <th>valence</th>\n",
       "      <th>tempo</th>\n",
       "      <th>duration_ms</th>\n",
       "      <th>duration_sec</th>\n",
       "    </tr>\n",
       "  </thead>\n",
       "  <tbody>\n",
       "    <tr>\n",
       "      <td>0</td>\n",
       "      <td>6f807x0ima9a1j3VPbc7VN</td>\n",
       "      <td>I Don't Care (with Justin Bieber) - Loud Luxur...</td>\n",
       "      <td>Ed Sheeran</td>\n",
       "      <td>66</td>\n",
       "      <td>I Don't Care (with Justin Bieber) [Loud Luxury...</td>\n",
       "      <td>2019-06-14</td>\n",
       "      <td>Pop Remix</td>\n",
       "      <td>pop</td>\n",
       "      <td>dance pop</td>\n",
       "      <td>0.748</td>\n",
       "      <td>...</td>\n",
       "      <td>-2.634</td>\n",
       "      <td>1</td>\n",
       "      <td>0.0583</td>\n",
       "      <td>0.1020</td>\n",
       "      <td>0.000000</td>\n",
       "      <td>0.0653</td>\n",
       "      <td>0.518</td>\n",
       "      <td>122.036</td>\n",
       "      <td>194754.0</td>\n",
       "      <td>194.754</td>\n",
       "    </tr>\n",
       "    <tr>\n",
       "      <td>1</td>\n",
       "      <td>0r7CVbZTWZgbTCYdfa2P31</td>\n",
       "      <td>Memories - Dillon Francis Remix</td>\n",
       "      <td>Maroon 5</td>\n",
       "      <td>67</td>\n",
       "      <td>Memories (Dillon Francis Remix)</td>\n",
       "      <td>2019-12-13</td>\n",
       "      <td>Pop Remix</td>\n",
       "      <td>pop</td>\n",
       "      <td>dance pop</td>\n",
       "      <td>0.726</td>\n",
       "      <td>...</td>\n",
       "      <td>-4.969</td>\n",
       "      <td>1</td>\n",
       "      <td>0.0373</td>\n",
       "      <td>0.0724</td>\n",
       "      <td>0.004210</td>\n",
       "      <td>0.3570</td>\n",
       "      <td>0.693</td>\n",
       "      <td>99.972</td>\n",
       "      <td>162600.0</td>\n",
       "      <td>162.600</td>\n",
       "    </tr>\n",
       "    <tr>\n",
       "      <td>2</td>\n",
       "      <td>1z1Hg7Vb0AhHDiEmnDE79l</td>\n",
       "      <td>All the Time - Don Diablo Remix</td>\n",
       "      <td>Zara Larsson</td>\n",
       "      <td>70</td>\n",
       "      <td>All the Time (Don Diablo Remix)</td>\n",
       "      <td>2019-07-05</td>\n",
       "      <td>Pop Remix</td>\n",
       "      <td>pop</td>\n",
       "      <td>dance pop</td>\n",
       "      <td>0.675</td>\n",
       "      <td>...</td>\n",
       "      <td>-3.432</td>\n",
       "      <td>0</td>\n",
       "      <td>0.0742</td>\n",
       "      <td>0.0794</td>\n",
       "      <td>0.000023</td>\n",
       "      <td>0.1100</td>\n",
       "      <td>0.613</td>\n",
       "      <td>124.008</td>\n",
       "      <td>176616.0</td>\n",
       "      <td>176.616</td>\n",
       "    </tr>\n",
       "    <tr>\n",
       "      <td>3</td>\n",
       "      <td>75FpbthrwQmzHlBJLuGdC7</td>\n",
       "      <td>Call You Mine - Keanu Silva Remix</td>\n",
       "      <td>The Chainsmokers</td>\n",
       "      <td>60</td>\n",
       "      <td>Call You Mine - The Remixes</td>\n",
       "      <td>2019-07-19</td>\n",
       "      <td>Pop Remix</td>\n",
       "      <td>pop</td>\n",
       "      <td>dance pop</td>\n",
       "      <td>0.718</td>\n",
       "      <td>...</td>\n",
       "      <td>-3.778</td>\n",
       "      <td>1</td>\n",
       "      <td>0.1020</td>\n",
       "      <td>0.0287</td>\n",
       "      <td>0.000009</td>\n",
       "      <td>0.2040</td>\n",
       "      <td>0.277</td>\n",
       "      <td>121.956</td>\n",
       "      <td>169093.0</td>\n",
       "      <td>169.093</td>\n",
       "    </tr>\n",
       "    <tr>\n",
       "      <td>4</td>\n",
       "      <td>1e8PAfcKUYoKkxPhrHqw4x</td>\n",
       "      <td>Someone You Loved - Future Humans Remix</td>\n",
       "      <td>Lewis Capaldi</td>\n",
       "      <td>69</td>\n",
       "      <td>Someone You Loved (Future Humans Remix)</td>\n",
       "      <td>2019-03-05</td>\n",
       "      <td>Pop Remix</td>\n",
       "      <td>pop</td>\n",
       "      <td>dance pop</td>\n",
       "      <td>0.650</td>\n",
       "      <td>...</td>\n",
       "      <td>-4.672</td>\n",
       "      <td>1</td>\n",
       "      <td>0.0359</td>\n",
       "      <td>0.0803</td>\n",
       "      <td>0.000000</td>\n",
       "      <td>0.0833</td>\n",
       "      <td>0.725</td>\n",
       "      <td>123.976</td>\n",
       "      <td>189052.0</td>\n",
       "      <td>189.052</td>\n",
       "    </tr>\n",
       "  </tbody>\n",
       "</table>\n",
       "<p>5 rows × 22 columns</p>\n",
       "</div>"
      ],
      "text/plain": [
       "                 track_id                                         track_name  \\\n",
       "0  6f807x0ima9a1j3VPbc7VN  I Don't Care (with Justin Bieber) - Loud Luxur...   \n",
       "1  0r7CVbZTWZgbTCYdfa2P31                    Memories - Dillon Francis Remix   \n",
       "2  1z1Hg7Vb0AhHDiEmnDE79l                    All the Time - Don Diablo Remix   \n",
       "3  75FpbthrwQmzHlBJLuGdC7                  Call You Mine - Keanu Silva Remix   \n",
       "4  1e8PAfcKUYoKkxPhrHqw4x            Someone You Loved - Future Humans Remix   \n",
       "\n",
       "       track_artist  track_popularity  \\\n",
       "0        Ed Sheeran                66   \n",
       "1          Maroon 5                67   \n",
       "2      Zara Larsson                70   \n",
       "3  The Chainsmokers                60   \n",
       "4     Lewis Capaldi                69   \n",
       "\n",
       "                                    track_album_name track_album_release_date  \\\n",
       "0  I Don't Care (with Justin Bieber) [Loud Luxury...               2019-06-14   \n",
       "1                    Memories (Dillon Francis Remix)               2019-12-13   \n",
       "2                    All the Time (Don Diablo Remix)               2019-07-05   \n",
       "3                        Call You Mine - The Remixes               2019-07-19   \n",
       "4            Someone You Loved (Future Humans Remix)               2019-03-05   \n",
       "\n",
       "  playlist_name playlist_genre playlist_subgenre  danceability  ...  loudness  \\\n",
       "0     Pop Remix            pop         dance pop         0.748  ...    -2.634   \n",
       "1     Pop Remix            pop         dance pop         0.726  ...    -4.969   \n",
       "2     Pop Remix            pop         dance pop         0.675  ...    -3.432   \n",
       "3     Pop Remix            pop         dance pop         0.718  ...    -3.778   \n",
       "4     Pop Remix            pop         dance pop         0.650  ...    -4.672   \n",
       "\n",
       "   mode  speechiness  acousticness  instrumentalness  liveness  valence  \\\n",
       "0     1       0.0583        0.1020          0.000000    0.0653    0.518   \n",
       "1     1       0.0373        0.0724          0.004210    0.3570    0.693   \n",
       "2     0       0.0742        0.0794          0.000023    0.1100    0.613   \n",
       "3     1       0.1020        0.0287          0.000009    0.2040    0.277   \n",
       "4     1       0.0359        0.0803          0.000000    0.0833    0.725   \n",
       "\n",
       "     tempo  duration_ms  duration_sec  \n",
       "0  122.036     194754.0       194.754  \n",
       "1   99.972     162600.0       162.600  \n",
       "2  124.008     176616.0       176.616  \n",
       "3  121.956     169093.0       169.093  \n",
       "4  123.976     189052.0       189.052  \n",
       "\n",
       "[5 rows x 22 columns]"
      ]
     },
     "execution_count": 3,
     "metadata": {},
     "output_type": "execute_result"
    }
   ],
   "source": [
    "spotify.head()"
   ]
  },
  {
   "cell_type": "code",
   "execution_count": 4,
   "metadata": {
    "colab": {},
    "colab_type": "code",
    "id": "SAuy6gfH7Uv8",
    "outputId": "ff95beac-3f37-45b6-bd4b-cb936d640586"
   },
   "outputs": [
    {
     "data": {
      "text/plain": [
       "Index(['track_id', 'track_name', 'track_artist', 'track_popularity',\n",
       "       'track_album_name', 'track_album_release_date', 'playlist_name',\n",
       "       'playlist_genre', 'playlist_subgenre', 'danceability', 'energy', 'key',\n",
       "       'loudness', 'mode', 'speechiness', 'acousticness', 'instrumentalness',\n",
       "       'liveness', 'valence', 'tempo', 'duration_ms', 'duration_sec'],\n",
       "      dtype='object')"
      ]
     },
     "execution_count": 4,
     "metadata": {},
     "output_type": "execute_result"
    }
   ],
   "source": [
    "spotify.columns"
   ]
  },
  {
   "cell_type": "code",
   "execution_count": 5,
   "metadata": {
    "colab": {},
    "colab_type": "code",
    "id": "G58AIlcK7Uv-",
    "outputId": "1d1eb15c-cbf8-4297-ba62-e6e9f296fe45"
   },
   "outputs": [
    {
     "data": {
      "text/plain": [
       "count    32833.000000\n",
       "mean        -6.719499\n",
       "std          2.988436\n",
       "min        -46.448000\n",
       "25%         -8.171000\n",
       "50%         -6.166000\n",
       "75%         -4.645000\n",
       "max          1.275000\n",
       "Name: loudness, dtype: float64"
      ]
     },
     "execution_count": 5,
     "metadata": {},
     "output_type": "execute_result"
    }
   ],
   "source": [
    "spotify['loudness'].describe()"
   ]
  },
  {
   "cell_type": "code",
   "execution_count": 6,
   "metadata": {
    "colab": {},
    "colab_type": "code",
    "id": "NgTkJkJh7UwC",
    "outputId": "133896cc-6016-4e1a-c8b3-f79c74ee0b95"
   },
   "outputs": [
    {
     "data": {
      "text/plain": [
       "array(['Ed Sheeran', 'Maroon 5', 'Zara Larsson', ...,\n",
       "       'Ferry Corsten feat. Jenny Wahlstrom', 'Tegan and Sara', 'Mat Zo'],\n",
       "      dtype=object)"
      ]
     },
     "execution_count": 6,
     "metadata": {},
     "output_type": "execute_result"
    }
   ],
   "source": [
    "spotify['track_artist'].unique()"
   ]
  },
  {
   "cell_type": "markdown",
   "metadata": {
    "colab_type": "text",
    "id": "nCO51Qn47UwI"
   },
   "source": [
    "## Functions and Visualization"
   ]
  },
  {
   "cell_type": "code",
   "execution_count": 7,
   "metadata": {
    "colab": {},
    "colab_type": "code",
    "id": "tj6UxCiC7UwI"
   },
   "outputs": [],
   "source": [
    "def distplots(column, artist1, artist2):\n",
    "\n",
    "    '''\n",
    "    Display overlapping histograms of some attribute of music of two different artists.\n",
    "    \n",
    "    Parameters:\n",
    "    column - the attribute to be compared.\n",
    "    artist1, artist2 - two artists from the spotify table.\n",
    "    '''\n",
    "    \n",
    "    if artist1 not in spotify['track_artist'].unique() or artist2 not in spotify['track_artist'].unique():\n",
    "        return (\"Unable to plot graphs: artist(s) not found.\")\n",
    "    \n",
    "    plt.figure(figsize=(10, 5))\n",
    "    \n",
    "    artist1_df = spotify[spotify['track_artist'] == artist1]\n",
    "    artist2_df = spotify[spotify['track_artist'] == artist2]\n",
    "   \n",
    "    sns.distplot(artist1_df[column], label = artist1)\n",
    "    sns.distplot(artist2_df[column], label = artist2)\n",
    "    \n",
    "    plt.legend()"
   ]
  },
  {
   "cell_type": "code",
   "execution_count": 8,
   "metadata": {
    "colab": {},
    "colab_type": "code",
    "id": "opy7rbZK7UwM"
   },
   "outputs": [],
   "source": [
    "# distplots('loudness', 'Katy')"
   ]
  },
  {
   "cell_type": "code",
   "execution_count": 9,
   "metadata": {
    "colab": {},
    "colab_type": "code",
    "id": "8ITQh6DK7UwP",
    "outputId": "13b0cbe0-edf6-4ee7-9564-12bf490b71df"
   },
   "outputs": [
    {
     "data": {
      "image/png": "[encoded data removed]",
      "text/plain": [
       "<Figure size 720x360 with 1 Axes>"
      ]
     },
     "metadata": {
      "needs_background": "light"
     },
     "output_type": "display_data"
    }
   ],
   "source": [
    "distplots('tempo', 'Maroon 5', 'Nicki Minaj')"
   ]
  },
  {
   "cell_type": "code",
   "execution_count": 10,
   "metadata": {
    "colab": {},
    "colab_type": "code",
    "id": "8ygTa-KM7UwT",
    "outputId": "3518ecac-ad85-4b35-8004-8cdb1e93b498"
   },
   "outputs": [
    {
     "data": {
      "image/png": "[encoded data removed]",
      "text/plain": [
       "<Figure size 720x360 with 1 Axes>"
      ]
     },
     "metadata": {
      "needs_background": "light"
     },
     "output_type": "display_data"
    }
   ],
   "source": [
    "distplots('danceability', 'Sam Smith', 'Avicii')"
   ]
  },
  {
   "cell_type": "code",
   "execution_count": 11,
   "metadata": {
    "colab": {},
    "colab_type": "code",
    "id": "Iek13St-7UwX",
    "outputId": "cb39cb03-5ef3-45a8-e6cc-29e9ce2179d2"
   },
   "outputs": [
    {
     "data": {
      "image/png": "[encoded data removed]",
      "text/plain": [
       "<Figure size 720x360 with 1 Axes>"
      ]
     },
     "metadata": {
      "needs_background": "light"
     },
     "output_type": "display_data"
    }
   ],
   "source": [
    "distplots('energy', 'Frank Ocean', 'Steve Aoki')"
   ]
  },
  {
   "cell_type": "code",
   "execution_count": 12,
   "metadata": {
    "colab": {},
    "colab_type": "code",
    "id": "-53nIILj7UwZ",
    "outputId": "977c584a-c2f9-47cb-d300-25db14bc0606"
   },
   "outputs": [
    {
     "data": {
      "image/png": "[encoded data removed]",
      "text/plain": [
       "<Figure size 720x360 with 1 Axes>"
      ]
     },
     "metadata": {
      "needs_background": "light"
     },
     "output_type": "display_data"
    }
   ],
   "source": [
    "distplots('duration_sec', 'The Chainsmokers', 'Steve Aoki')"
   ]
  },
  {
   "cell_type": "code",
   "execution_count": null,
   "metadata": {
    "colab": {},
    "colab_type": "code",
    "id": "TiTXKUXc7Uwc"
   },
   "outputs": [],
   "source": []
  },
  {
   "cell_type": "markdown",
   "metadata": {
    "colab_type": "text",
    "id": "3dkI--AG7Uwe"
   },
   "source": [
    "# Analyzing Playlist Popularity by Track"
   ]
  },
  {
   "cell_type": "code",
   "execution_count": 13,
   "metadata": {
    "colab": {},
    "colab_type": "code",
    "id": "2wkmEQjX7Uwf"
   },
   "outputs": [],
   "source": [
    "names = spotify['playlist_name'].unique()\n",
    "popularities = []\n",
    "count = []\n",
    "\n",
    "for playlist in names:\n",
    "    subset = spotify[spotify['playlist_name'] == playlist]\n",
    "    popularities.append(subset['track_popularity'].sum())\n",
    "    count.append(len(subset))\n",
    "    "
   ]
  },
  {
   "cell_type": "code",
   "execution_count": 14,
   "metadata": {
    "colab": {},
    "colab_type": "code",
    "id": "MbtAritn7Uwi",
    "outputId": "d5c764fb-ee5a-458a-ab6b-aba429533d3b"
   },
   "outputs": [
    {
     "data": {
      "text/html": [
       "<div>\n",
       "<style scoped>\n",
       "    .dataframe tbody tr th:only-of-type {\n",
       "        vertical-align: middle;\n",
       "    }\n",
       "\n",
       "    .dataframe tbody tr th {\n",
       "        vertical-align: top;\n",
       "    }\n",
       "\n",
       "    .dataframe thead th {\n",
       "        text-align: right;\n",
       "    }\n",
       "</style>\n",
       "<table border=\"1\" class=\"dataframe\">\n",
       "  <thead>\n",
       "    <tr style=\"text-align: right;\">\n",
       "      <th></th>\n",
       "      <th>Playlist Name</th>\n",
       "      <th>Aggregate Popularity</th>\n",
       "      <th>Number of Tracks</th>\n",
       "    </tr>\n",
       "  </thead>\n",
       "  <tbody>\n",
       "    <tr>\n",
       "      <td>0</td>\n",
       "      <td>Pop Remix</td>\n",
       "      <td>4174</td>\n",
       "      <td>70</td>\n",
       "    </tr>\n",
       "    <tr>\n",
       "      <td>1</td>\n",
       "      <td>Dance Pop</td>\n",
       "      <td>8380</td>\n",
       "      <td>138</td>\n",
       "    </tr>\n",
       "    <tr>\n",
       "      <td>2</td>\n",
       "      <td>Dance Room</td>\n",
       "      <td>3355</td>\n",
       "      <td>56</td>\n",
       "    </tr>\n",
       "    <tr>\n",
       "      <td>3</td>\n",
       "      <td>Cardio</td>\n",
       "      <td>2641</td>\n",
       "      <td>49</td>\n",
       "    </tr>\n",
       "    <tr>\n",
       "      <td>4</td>\n",
       "      <td>Dance Pop Hits</td>\n",
       "      <td>4051</td>\n",
       "      <td>63</td>\n",
       "    </tr>\n",
       "  </tbody>\n",
       "</table>\n",
       "</div>"
      ],
      "text/plain": [
       "    Playlist Name  Aggregate Popularity  Number of Tracks\n",
       "0       Pop Remix                  4174                70\n",
       "1       Dance Pop                  8380               138\n",
       "2      Dance Room                  3355                56\n",
       "3          Cardio                  2641                49\n",
       "4  Dance Pop Hits                  4051                63"
      ]
     },
     "execution_count": 14,
     "metadata": {},
     "output_type": "execute_result"
    }
   ],
   "source": [
    "playlist_pop = pd.DataFrame({'Playlist Name': names, \n",
    "              'Aggregate Popularity': popularities,\n",
    "              'Number of Tracks': count})\n",
    "playlist_pop.head()"
   ]
  },
  {
   "cell_type": "code",
   "execution_count": 15,
   "metadata": {
    "colab": {},
    "colab_type": "code",
    "id": "ZZOLxuik7Uwk",
    "outputId": "d1c84300-bf48-4fe4-8840-4c0104e51e04"
   },
   "outputs": [
    {
     "data": {
      "text/html": [
       "<div>\n",
       "<style scoped>\n",
       "    .dataframe tbody tr th:only-of-type {\n",
       "        vertical-align: middle;\n",
       "    }\n",
       "\n",
       "    .dataframe tbody tr th {\n",
       "        vertical-align: top;\n",
       "    }\n",
       "\n",
       "    .dataframe thead th {\n",
       "        text-align: right;\n",
       "    }\n",
       "</style>\n",
       "<table border=\"1\" class=\"dataframe\">\n",
       "  <thead>\n",
       "    <tr style=\"text-align: right;\">\n",
       "      <th></th>\n",
       "      <th>Playlist Name</th>\n",
       "      <th>Aggregate Popularity</th>\n",
       "      <th>Number of Tracks</th>\n",
       "    </tr>\n",
       "  </thead>\n",
       "  <tbody>\n",
       "    <tr>\n",
       "      <td>253</td>\n",
       "      <td>2020 Hits &amp; 2019  Hits – Top Global Tracks 🔥🔥🔥</td>\n",
       "      <td>20547</td>\n",
       "      <td>247</td>\n",
       "    </tr>\n",
       "    <tr>\n",
       "      <td>193</td>\n",
       "      <td>Permanent Wave</td>\n",
       "      <td>13261</td>\n",
       "      <td>244</td>\n",
       "    </tr>\n",
       "    <tr>\n",
       "      <td>63</td>\n",
       "      <td>Indie Poptimism</td>\n",
       "      <td>13107</td>\n",
       "      <td>308</td>\n",
       "    </tr>\n",
       "    <tr>\n",
       "      <td>321</td>\n",
       "      <td>Charts 2020 🔥Top 2020🔥Hits 2020🔥Summer 2020🔥Po...</td>\n",
       "      <td>12670</td>\n",
       "      <td>189</td>\n",
       "    </tr>\n",
       "    <tr>\n",
       "      <td>15</td>\n",
       "      <td>Ultimate Indie Presents... Best Indie Tracks o...</td>\n",
       "      <td>11840</td>\n",
       "      <td>198</td>\n",
       "    </tr>\n",
       "  </tbody>\n",
       "</table>\n",
       "</div>"
      ],
      "text/plain": [
       "                                         Playlist Name  Aggregate Popularity  \\\n",
       "253     2020 Hits & 2019  Hits – Top Global Tracks 🔥🔥🔥                 20547   \n",
       "193                                     Permanent Wave                 13261   \n",
       "63                                     Indie Poptimism                 13107   \n",
       "321  Charts 2020 🔥Top 2020🔥Hits 2020🔥Summer 2020🔥Po...                 12670   \n",
       "15   Ultimate Indie Presents... Best Indie Tracks o...                 11840   \n",
       "\n",
       "     Number of Tracks  \n",
       "253               247  \n",
       "193               244  \n",
       "63                308  \n",
       "321               189  \n",
       "15                198  "
      ]
     },
     "execution_count": 15,
     "metadata": {},
     "output_type": "execute_result"
    }
   ],
   "source": [
    "playlist_pop.sort_values(by='Aggregate Popularity', ascending=False).head()"
   ]
  },
  {
   "cell_type": "code",
   "execution_count": 16,
   "metadata": {
    "colab": {},
    "colab_type": "code",
    "id": "wbcvczaP7Uwn",
    "outputId": "39c635d3-30dc-4cf4-89b2-07a26a144de0"
   },
   "outputs": [
    {
     "data": {
      "text/html": [
       "<div>\n",
       "<style scoped>\n",
       "    .dataframe tbody tr th:only-of-type {\n",
       "        vertical-align: middle;\n",
       "    }\n",
       "\n",
       "    .dataframe tbody tr th {\n",
       "        vertical-align: top;\n",
       "    }\n",
       "\n",
       "    .dataframe thead th {\n",
       "        text-align: right;\n",
       "    }\n",
       "</style>\n",
       "<table border=\"1\" class=\"dataframe\">\n",
       "  <thead>\n",
       "    <tr style=\"text-align: right;\">\n",
       "      <th></th>\n",
       "      <th>Playlist Name</th>\n",
       "      <th>Aggregate Popularity</th>\n",
       "      <th>Number of Tracks</th>\n",
       "    </tr>\n",
       "  </thead>\n",
       "  <tbody>\n",
       "    <tr>\n",
       "      <td>63</td>\n",
       "      <td>Indie Poptimism</td>\n",
       "      <td>13107</td>\n",
       "      <td>308</td>\n",
       "    </tr>\n",
       "    <tr>\n",
       "      <td>253</td>\n",
       "      <td>2020 Hits &amp; 2019  Hits – Top Global Tracks 🔥🔥🔥</td>\n",
       "      <td>20547</td>\n",
       "      <td>247</td>\n",
       "    </tr>\n",
       "    <tr>\n",
       "      <td>193</td>\n",
       "      <td>Permanent Wave</td>\n",
       "      <td>13261</td>\n",
       "      <td>244</td>\n",
       "    </tr>\n",
       "    <tr>\n",
       "      <td>208</td>\n",
       "      <td>Hard Rock Workout</td>\n",
       "      <td>8713</td>\n",
       "      <td>219</td>\n",
       "    </tr>\n",
       "    <tr>\n",
       "      <td>15</td>\n",
       "      <td>Ultimate Indie Presents... Best Indie Tracks o...</td>\n",
       "      <td>11840</td>\n",
       "      <td>198</td>\n",
       "    </tr>\n",
       "  </tbody>\n",
       "</table>\n",
       "</div>"
      ],
      "text/plain": [
       "                                         Playlist Name  Aggregate Popularity  \\\n",
       "63                                     Indie Poptimism                 13107   \n",
       "253     2020 Hits & 2019  Hits – Top Global Tracks 🔥🔥🔥                 20547   \n",
       "193                                     Permanent Wave                 13261   \n",
       "208                                  Hard Rock Workout                  8713   \n",
       "15   Ultimate Indie Presents... Best Indie Tracks o...                 11840   \n",
       "\n",
       "     Number of Tracks  \n",
       "63                308  \n",
       "253               247  \n",
       "193               244  \n",
       "208               219  \n",
       "15                198  "
      ]
     },
     "execution_count": 16,
     "metadata": {},
     "output_type": "execute_result"
    }
   ],
   "source": [
    "playlist_pop.sort_values(by='Number of Tracks', ascending=False).head()"
   ]
  },
  {
   "cell_type": "code",
   "execution_count": 17,
   "metadata": {
    "colab": {},
    "colab_type": "code",
    "id": "ITPniu4B7Uwr"
   },
   "outputs": [],
   "source": [
    "playlist_pop['Proportion'] = playlist_pop['Aggregate Popularity']/playlist_pop['Number of Tracks']"
   ]
  },
  {
   "cell_type": "code",
   "execution_count": 18,
   "metadata": {
    "colab": {},
    "colab_type": "code",
    "id": "cXeYYphF7Uwt",
    "outputId": "d4cadd3a-0b5d-422f-8d15-fce267f31094"
   },
   "outputs": [
    {
     "data": {
      "text/html": [
       "<div>\n",
       "<style scoped>\n",
       "    .dataframe tbody tr th:only-of-type {\n",
       "        vertical-align: middle;\n",
       "    }\n",
       "\n",
       "    .dataframe tbody tr th {\n",
       "        vertical-align: top;\n",
       "    }\n",
       "\n",
       "    .dataframe thead th {\n",
       "        text-align: right;\n",
       "    }\n",
       "</style>\n",
       "<table border=\"1\" class=\"dataframe\">\n",
       "  <thead>\n",
       "    <tr style=\"text-align: right;\">\n",
       "      <th></th>\n",
       "      <th>Playlist Name</th>\n",
       "      <th>Aggregate Popularity</th>\n",
       "      <th>Number of Tracks</th>\n",
       "      <th>Proportion</th>\n",
       "    </tr>\n",
       "  </thead>\n",
       "  <tbody>\n",
       "    <tr>\n",
       "      <td>253</td>\n",
       "      <td>2020 Hits &amp; 2019  Hits – Top Global Tracks 🔥🔥🔥</td>\n",
       "      <td>20547</td>\n",
       "      <td>247</td>\n",
       "      <td>83.186235</td>\n",
       "    </tr>\n",
       "    <tr>\n",
       "      <td>73</td>\n",
       "      <td>RapCaviar</td>\n",
       "      <td>3985</td>\n",
       "      <td>50</td>\n",
       "      <td>79.700000</td>\n",
       "    </tr>\n",
       "    <tr>\n",
       "      <td>302</td>\n",
       "      <td>Most Popular 2020 TOP 50</td>\n",
       "      <td>3808</td>\n",
       "      <td>48</td>\n",
       "      <td>79.333333</td>\n",
       "    </tr>\n",
       "    <tr>\n",
       "      <td>19</td>\n",
       "      <td>Pop - Pop UK - 2019 - Canadian Pop - 2019 - Pop</td>\n",
       "      <td>7913</td>\n",
       "      <td>100</td>\n",
       "      <td>79.130000</td>\n",
       "    </tr>\n",
       "    <tr>\n",
       "      <td>261</td>\n",
       "      <td>Baila Reggaeton</td>\n",
       "      <td>3885</td>\n",
       "      <td>50</td>\n",
       "      <td>77.700000</td>\n",
       "    </tr>\n",
       "  </tbody>\n",
       "</table>\n",
       "</div>"
      ],
      "text/plain": [
       "                                       Playlist Name  Aggregate Popularity  \\\n",
       "253   2020 Hits & 2019  Hits – Top Global Tracks 🔥🔥🔥                 20547   \n",
       "73                                         RapCaviar                  3985   \n",
       "302                         Most Popular 2020 TOP 50                  3808   \n",
       "19   Pop - Pop UK - 2019 - Canadian Pop - 2019 - Pop                  7913   \n",
       "261                                  Baila Reggaeton                  3885   \n",
       "\n",
       "     Number of Tracks  Proportion  \n",
       "253               247   83.186235  \n",
       "73                 50   79.700000  \n",
       "302                48   79.333333  \n",
       "19                100   79.130000  \n",
       "261                50   77.700000  "
      ]
     },
     "execution_count": 18,
     "metadata": {},
     "output_type": "execute_result"
    }
   ],
   "source": [
    "playlist_pop.sort_values(by='Proportion', ascending=False).head()\n",
    "# Can do this with groupby"
   ]
  },
  {
   "cell_type": "code",
   "execution_count": 19,
   "metadata": {
    "colab": {},
    "colab_type": "code",
    "id": "KtqYVkEv7Uwv",
    "outputId": "a442b387-359b-4aa3-a8d9-2943010941f4"
   },
   "outputs": [
    {
     "data": {
      "text/html": [
       "<div>\n",
       "<style scoped>\n",
       "    .dataframe tbody tr th:only-of-type {\n",
       "        vertical-align: middle;\n",
       "    }\n",
       "\n",
       "    .dataframe tbody tr th {\n",
       "        vertical-align: top;\n",
       "    }\n",
       "\n",
       "    .dataframe thead th {\n",
       "        text-align: right;\n",
       "    }\n",
       "</style>\n",
       "<table border=\"1\" class=\"dataframe\">\n",
       "  <thead>\n",
       "    <tr style=\"text-align: right;\">\n",
       "      <th></th>\n",
       "      <th>Artist</th>\n",
       "      <th>Number of Tracks</th>\n",
       "    </tr>\n",
       "  </thead>\n",
       "  <tbody>\n",
       "    <tr>\n",
       "      <td>0</td>\n",
       "      <td>Ed Sheeran</td>\n",
       "      <td>69</td>\n",
       "    </tr>\n",
       "    <tr>\n",
       "      <td>1</td>\n",
       "      <td>Maroon 5</td>\n",
       "      <td>71</td>\n",
       "    </tr>\n",
       "    <tr>\n",
       "      <td>2</td>\n",
       "      <td>Zara Larsson</td>\n",
       "      <td>28</td>\n",
       "    </tr>\n",
       "    <tr>\n",
       "      <td>3</td>\n",
       "      <td>The Chainsmokers</td>\n",
       "      <td>123</td>\n",
       "    </tr>\n",
       "    <tr>\n",
       "      <td>4</td>\n",
       "      <td>Lewis Capaldi</td>\n",
       "      <td>21</td>\n",
       "    </tr>\n",
       "    <tr>\n",
       "      <td>...</td>\n",
       "      <td>...</td>\n",
       "      <td>...</td>\n",
       "    </tr>\n",
       "    <tr>\n",
       "      <td>10688</td>\n",
       "      <td>The Cataracs</td>\n",
       "      <td>1</td>\n",
       "    </tr>\n",
       "    <tr>\n",
       "      <td>10689</td>\n",
       "      <td>Qubicon</td>\n",
       "      <td>1</td>\n",
       "    </tr>\n",
       "    <tr>\n",
       "      <td>10690</td>\n",
       "      <td>Ferry Corsten feat. Jenny Wahlstrom</td>\n",
       "      <td>1</td>\n",
       "    </tr>\n",
       "    <tr>\n",
       "      <td>10691</td>\n",
       "      <td>Tegan and Sara</td>\n",
       "      <td>1</td>\n",
       "    </tr>\n",
       "    <tr>\n",
       "      <td>10692</td>\n",
       "      <td>Mat Zo</td>\n",
       "      <td>1</td>\n",
       "    </tr>\n",
       "  </tbody>\n",
       "</table>\n",
       "<p>10693 rows × 2 columns</p>\n",
       "</div>"
      ],
      "text/plain": [
       "                                    Artist  Number of Tracks\n",
       "0                               Ed Sheeran                69\n",
       "1                                 Maroon 5                71\n",
       "2                             Zara Larsson                28\n",
       "3                         The Chainsmokers               123\n",
       "4                            Lewis Capaldi                21\n",
       "...                                    ...               ...\n",
       "10688                         The Cataracs                 1\n",
       "10689                              Qubicon                 1\n",
       "10690  Ferry Corsten feat. Jenny Wahlstrom                 1\n",
       "10691                       Tegan and Sara                 1\n",
       "10692                               Mat Zo                 1\n",
       "\n",
       "[10693 rows x 2 columns]"
      ]
     },
     "execution_count": 19,
     "metadata": {},
     "output_type": "execute_result"
    }
   ],
   "source": [
    "# Further visualization\n",
    "\n",
    "artists = spotify['track_artist'].unique()\n",
    "popular_artists = []\n",
    "count_artists = []\n",
    "\n",
    "for artist in artists:\n",
    "    subset = spotify[spotify['track_artist'] == artist]\n",
    "    count_artists.append(len(subset))\n",
    "    \n",
    "    \n",
    "popular_artists = pd.DataFrame({'Artist': artists, \n",
    "              'Number of Tracks': count_artists})\n",
    "\n",
    "popular_artists"
   ]
  },
  {
   "cell_type": "code",
   "execution_count": 20,
   "metadata": {
    "colab": {},
    "colab_type": "code",
    "id": "Ir1VQhxs7Uwy",
    "outputId": "b5ed4a7b-a8bd-4716-a907-bd5c0210f753"
   },
   "outputs": [
    {
     "data": {
      "text/html": [
       "<div>\n",
       "<style scoped>\n",
       "    .dataframe tbody tr th:only-of-type {\n",
       "        vertical-align: middle;\n",
       "    }\n",
       "\n",
       "    .dataframe tbody tr th {\n",
       "        vertical-align: top;\n",
       "    }\n",
       "\n",
       "    .dataframe thead th {\n",
       "        text-align: right;\n",
       "    }\n",
       "</style>\n",
       "<table border=\"1\" class=\"dataframe\">\n",
       "  <thead>\n",
       "    <tr style=\"text-align: right;\">\n",
       "      <th></th>\n",
       "      <th>Artist</th>\n",
       "      <th>Number of Tracks</th>\n",
       "    </tr>\n",
       "  </thead>\n",
       "  <tbody>\n",
       "    <tr>\n",
       "      <td>11</td>\n",
       "      <td>Martin Garrix</td>\n",
       "      <td>161</td>\n",
       "    </tr>\n",
       "    <tr>\n",
       "      <td>1053</td>\n",
       "      <td>Queen</td>\n",
       "      <td>136</td>\n",
       "    </tr>\n",
       "    <tr>\n",
       "      <td>3</td>\n",
       "      <td>The Chainsmokers</td>\n",
       "      <td>123</td>\n",
       "    </tr>\n",
       "    <tr>\n",
       "      <td>13</td>\n",
       "      <td>David Guetta</td>\n",
       "      <td>110</td>\n",
       "    </tr>\n",
       "    <tr>\n",
       "      <td>1215</td>\n",
       "      <td>Don Omar</td>\n",
       "      <td>102</td>\n",
       "    </tr>\n",
       "    <tr>\n",
       "      <td>1161</td>\n",
       "      <td>Drake</td>\n",
       "      <td>100</td>\n",
       "    </tr>\n",
       "    <tr>\n",
       "      <td>93</td>\n",
       "      <td>Dimitri Vegas &amp; Like Mike</td>\n",
       "      <td>93</td>\n",
       "    </tr>\n",
       "    <tr>\n",
       "      <td>36</td>\n",
       "      <td>Calvin Harris</td>\n",
       "      <td>91</td>\n",
       "    </tr>\n",
       "    <tr>\n",
       "      <td>132</td>\n",
       "      <td>Hardwell</td>\n",
       "      <td>84</td>\n",
       "    </tr>\n",
       "    <tr>\n",
       "      <td>27</td>\n",
       "      <td>Kygo</td>\n",
       "      <td>83</td>\n",
       "    </tr>\n",
       "  </tbody>\n",
       "</table>\n",
       "</div>"
      ],
      "text/plain": [
       "                         Artist  Number of Tracks\n",
       "11                Martin Garrix               161\n",
       "1053                      Queen               136\n",
       "3              The Chainsmokers               123\n",
       "13                 David Guetta               110\n",
       "1215                   Don Omar               102\n",
       "1161                      Drake               100\n",
       "93    Dimitri Vegas & Like Mike                93\n",
       "36                Calvin Harris                91\n",
       "132                    Hardwell                84\n",
       "27                         Kygo                83"
      ]
     },
     "execution_count": 20,
     "metadata": {},
     "output_type": "execute_result"
    }
   ],
   "source": [
    "# top 10 artists\n",
    "popular_artists.sort_values('Number of Tracks', ascending=False).head(10)"
   ]
  },
  {
   "cell_type": "code",
   "execution_count": null,
   "metadata": {
    "colab": {},
    "colab_type": "code",
    "id": "Q7zbhsmp7Uw1"
   },
   "outputs": [],
   "source": []
  },
  {
   "cell_type": "markdown",
   "metadata": {
    "colab_type": "text",
    "id": "UrShQaSA7XlW"
   },
   "source": [
    "## Converting to `datascience` style"
   ]
  },
  {
   "cell_type": "code",
   "execution_count": 21,
   "metadata": {
    "colab": {},
    "colab_type": "code",
    "id": "4MXSZycJ7ar2"
   },
   "outputs": [],
   "source": [
    "from datascience import *"
   ]
  },
  {
   "cell_type": "markdown",
   "metadata": {
    "colab_type": "text",
    "id": "CmPuQAQD-rSP"
   },
   "source": [
    "### Loading datasets"
   ]
  },
  {
   "cell_type": "code",
   "execution_count": 22,
   "metadata": {
    "colab": {
     "base_uri": "https://localhost:8080/",
     "height": 863
    },
    "colab_type": "code",
    "id": "Ce2ncREZ8Ogd",
    "outputId": "222c5caf-d993-480a-938e-5af6420b99d7"
   },
   "outputs": [
    {
     "data": {
      "text/html": [
       "<table border=\"1\" class=\"dataframe\">\n",
       "    <thead>\n",
       "        <tr>\n",
       "            <th>Unnamed: 0</th> <th>track_id</th> <th>track_name</th> <th>track_artist</th> <th>track_popularity</th> <th>track_album_id</th> <th>track_album_name</th> <th>track_album_release_date</th> <th>playlist_name</th> <th>playlist_id</th> <th>playlist_genre</th> <th>playlist_subgenre</th> <th>danceability</th> <th>energy</th> <th>key</th> <th>loudness</th> <th>mode</th> <th>speechiness</th> <th>acousticness</th> <th>instrumentalness</th> <th>liveness</th> <th>valence</th> <th>tempo</th> <th>duration_ms</th>\n",
       "        </tr>\n",
       "    </thead>\n",
       "    <tbody>\n",
       "        <tr>\n",
       "            <td>1         </td> <td>6f807x0ima9a1j3VPbc7VN</td> <td>I Don't Care (with Justin Bieber) - Loud Luxury Remix</td> <td>Ed Sheeran      </td> <td>66              </td> <td>2oCs0DGTsRO98Gh5ZSl2Cx</td> <td>I Don't Care (with Justin Bieber) [Loud Luxury Remix]</td> <td>2019-06-14              </td> <td>Pop Remix    </td> <td>37i9dQZF1DXcZDD7cfEKhW</td> <td>pop           </td> <td>dance pop        </td> <td>0.748       </td> <td>0.916 </td> <td>6   </td> <td>-2.634  </td> <td>1   </td> <td>0.0583     </td> <td>0.102       </td> <td>0               </td> <td>0.0653  </td> <td>0.518  </td> <td>122.036</td> <td>194754     </td>\n",
       "        </tr>\n",
       "        <tr>\n",
       "            <td>2         </td> <td>0r7CVbZTWZgbTCYdfa2P31</td> <td>Memories - Dillon Francis Remix                      </td> <td>Maroon 5        </td> <td>67              </td> <td>63rPSO264uRjW1X5E6cWv6</td> <td>Memories (Dillon Francis Remix)                      </td> <td>2019-12-13              </td> <td>Pop Remix    </td> <td>37i9dQZF1DXcZDD7cfEKhW</td> <td>pop           </td> <td>dance pop        </td> <td>0.726       </td> <td>0.815 </td> <td>11  </td> <td>-4.969  </td> <td>1   </td> <td>0.0373     </td> <td>0.0724      </td> <td>0.00421         </td> <td>0.357   </td> <td>0.693  </td> <td>99.972 </td> <td>162600     </td>\n",
       "        </tr>\n",
       "        <tr>\n",
       "            <td>3         </td> <td>1z1Hg7Vb0AhHDiEmnDE79l</td> <td>All the Time - Don Diablo Remix                      </td> <td>Zara Larsson    </td> <td>70              </td> <td>1HoSmj2eLcsrR0vE9gThr4</td> <td>All the Time (Don Diablo Remix)                      </td> <td>2019-07-05              </td> <td>Pop Remix    </td> <td>37i9dQZF1DXcZDD7cfEKhW</td> <td>pop           </td> <td>dance pop        </td> <td>0.675       </td> <td>0.931 </td> <td>1   </td> <td>-3.432  </td> <td>0   </td> <td>0.0742     </td> <td>0.0794      </td> <td>2.33e-05        </td> <td>0.11    </td> <td>0.613  </td> <td>124.008</td> <td>176616     </td>\n",
       "        </tr>\n",
       "        <tr>\n",
       "            <td>4         </td> <td>75FpbthrwQmzHlBJLuGdC7</td> <td>Call You Mine - Keanu Silva Remix                    </td> <td>The Chainsmokers</td> <td>60              </td> <td>1nqYsOef1yKKuGOVchbsk6</td> <td>Call You Mine - The Remixes                          </td> <td>2019-07-19              </td> <td>Pop Remix    </td> <td>37i9dQZF1DXcZDD7cfEKhW</td> <td>pop           </td> <td>dance pop        </td> <td>0.718       </td> <td>0.93  </td> <td>7   </td> <td>-3.778  </td> <td>1   </td> <td>0.102      </td> <td>0.0287      </td> <td>9.43e-06        </td> <td>0.204   </td> <td>0.277  </td> <td>121.956</td> <td>169093     </td>\n",
       "        </tr>\n",
       "        <tr>\n",
       "            <td>5         </td> <td>1e8PAfcKUYoKkxPhrHqw4x</td> <td>Someone You Loved - Future Humans Remix              </td> <td>Lewis Capaldi   </td> <td>69              </td> <td>7m7vv9wlQ4i0LFuJiE2zsQ</td> <td>Someone You Loved (Future Humans Remix)              </td> <td>2019-03-05              </td> <td>Pop Remix    </td> <td>37i9dQZF1DXcZDD7cfEKhW</td> <td>pop           </td> <td>dance pop        </td> <td>0.65        </td> <td>0.833 </td> <td>1   </td> <td>-4.672  </td> <td>1   </td> <td>0.0359     </td> <td>0.0803      </td> <td>0               </td> <td>0.0833  </td> <td>0.725  </td> <td>123.976</td> <td>189052     </td>\n",
       "        </tr>\n",
       "        <tr>\n",
       "            <td>6         </td> <td>7fvUMiyapMsRRxr07cU8Ef</td> <td>Beautiful People (feat. Khalid) - Jack Wins Remix    </td> <td>Ed Sheeran      </td> <td>67              </td> <td>2yiy9cd2QktrNvWC2EUi0k</td> <td>Beautiful People (feat. Khalid) [Jack Wins Remix]    </td> <td>2019-07-11              </td> <td>Pop Remix    </td> <td>37i9dQZF1DXcZDD7cfEKhW</td> <td>pop           </td> <td>dance pop        </td> <td>0.675       </td> <td>0.919 </td> <td>8   </td> <td>-5.385  </td> <td>1   </td> <td>0.127      </td> <td>0.0799      </td> <td>0               </td> <td>0.143   </td> <td>0.585  </td> <td>124.982</td> <td>163049     </td>\n",
       "        </tr>\n",
       "        <tr>\n",
       "            <td>7         </td> <td>2OAylPUDDfwRGfe0lYqlCQ</td> <td>Never Really Over - R3HAB Remix                      </td> <td>Katy Perry      </td> <td>62              </td> <td>7INHYSeusaFlyrHSNxm8qH</td> <td>Never Really Over (R3HAB Remix)                      </td> <td>2019-07-26              </td> <td>Pop Remix    </td> <td>37i9dQZF1DXcZDD7cfEKhW</td> <td>pop           </td> <td>dance pop        </td> <td>0.449       </td> <td>0.856 </td> <td>5   </td> <td>-4.788  </td> <td>0   </td> <td>0.0623     </td> <td>0.187       </td> <td>0               </td> <td>0.176   </td> <td>0.152  </td> <td>112.648</td> <td>187675     </td>\n",
       "        </tr>\n",
       "        <tr>\n",
       "            <td>8         </td> <td>6b1RNvAcJjQH73eZO4BLAB</td> <td>Post Malone (feat. RANI) - GATTÜSO Remix             </td> <td>Sam Feldt       </td> <td>69              </td> <td>6703SRPsLkS4bPtMFFJes1</td> <td>Post Malone (feat. RANI) [GATTÜSO Remix]             </td> <td>2019-08-29              </td> <td>Pop Remix    </td> <td>37i9dQZF1DXcZDD7cfEKhW</td> <td>pop           </td> <td>dance pop        </td> <td>0.542       </td> <td>0.903 </td> <td>4   </td> <td>-2.419  </td> <td>0   </td> <td>0.0434     </td> <td>0.0335      </td> <td>4.83e-06        </td> <td>0.111   </td> <td>0.367  </td> <td>127.936</td> <td>207619     </td>\n",
       "        </tr>\n",
       "        <tr>\n",
       "            <td>9         </td> <td>7bF6tCO3gFb8INrEDcjNT5</td> <td>Tough Love - Tiësto Remix / Radio Edit               </td> <td>Avicii          </td> <td>68              </td> <td>7CvAfGvq4RlIwEbT9o8Iav</td> <td>Tough Love (Tiësto Remix)                            </td> <td>2019-06-14              </td> <td>Pop Remix    </td> <td>37i9dQZF1DXcZDD7cfEKhW</td> <td>pop           </td> <td>dance pop        </td> <td>0.594       </td> <td>0.935 </td> <td>8   </td> <td>-3.562  </td> <td>1   </td> <td>0.0565     </td> <td>0.0249      </td> <td>3.97e-06        </td> <td>0.637   </td> <td>0.366  </td> <td>127.015</td> <td>193187     </td>\n",
       "        </tr>\n",
       "        <tr>\n",
       "            <td>10        </td> <td>1IXGILkPm0tOCNeq00kCPa</td> <td>If I Can't Have You - Gryffin Remix                  </td> <td>Shawn Mendes    </td> <td>67              </td> <td>4QxzbfSsVryEQwvPFEV5Iu</td> <td>If I Can't Have You (Gryffin Remix)                  </td> <td>2019-06-20              </td> <td>Pop Remix    </td> <td>37i9dQZF1DXcZDD7cfEKhW</td> <td>pop           </td> <td>dance pop        </td> <td>0.642       </td> <td>0.818 </td> <td>2   </td> <td>-4.552  </td> <td>1   </td> <td>0.032      </td> <td>0.0567      </td> <td>0               </td> <td>0.0919  </td> <td>0.59   </td> <td>124.957</td> <td>253040     </td>\n",
       "        </tr>\n",
       "    </tbody>\n",
       "</table>\n",
       "<p>... (32823 rows omitted)</p>"
      ],
      "text/plain": [
       "Unnamed: 0 | track_id               | track_name                                            | track_artist     | track_popularity | track_album_id         | track_album_name                                      | track_album_release_date | playlist_name | playlist_id            | playlist_genre | playlist_subgenre | danceability | energy | key  | loudness | mode | speechiness | acousticness | instrumentalness | liveness | valence | tempo   | duration_ms\n",
       "1          | 6f807x0ima9a1j3VPbc7VN | I Don't Care (with Justin Bieber) - Loud Luxury Remix | Ed Sheeran       | 66               | 2oCs0DGTsRO98Gh5ZSl2Cx | I Don't Care (with Justin Bieber) [Loud Luxury Remix] | 2019-06-14               | Pop Remix     | 37i9dQZF1DXcZDD7cfEKhW | pop            | dance pop         | 0.748        | 0.916  | 6    | -2.634   | 1    | 0.0583      | 0.102        | 0                | 0.0653   | 0.518   | 122.036 | 194754\n",
       "2          | 0r7CVbZTWZgbTCYdfa2P31 | Memories - Dillon Francis Remix                       | Maroon 5         | 67               | 63rPSO264uRjW1X5E6cWv6 | Memories (Dillon Francis Remix)                       | 2019-12-13               | Pop Remix     | 37i9dQZF1DXcZDD7cfEKhW | pop            | dance pop         | 0.726        | 0.815  | 11   | -4.969   | 1    | 0.0373      | 0.0724       | 0.00421          | 0.357    | 0.693   | 99.972  | 162600\n",
       "3          | 1z1Hg7Vb0AhHDiEmnDE79l | All the Time - Don Diablo Remix                       | Zara Larsson     | 70               | 1HoSmj2eLcsrR0vE9gThr4 | All the Time (Don Diablo Remix)                       | 2019-07-05               | Pop Remix     | 37i9dQZF1DXcZDD7cfEKhW | pop            | dance pop         | 0.675        | 0.931  | 1    | -3.432   | 0    | 0.0742      | 0.0794       | 2.33e-05         | 0.11     | 0.613   | 124.008 | 176616\n",
       "4          | 75FpbthrwQmzHlBJLuGdC7 | Call You Mine - Keanu Silva Remix                     | The Chainsmokers | 60               | 1nqYsOef1yKKuGOVchbsk6 | Call You Mine - The Remixes                           | 2019-07-19               | Pop Remix     | 37i9dQZF1DXcZDD7cfEKhW | pop            | dance pop         | 0.718        | 0.93   | 7    | -3.778   | 1    | 0.102       | 0.0287       | 9.43e-06         | 0.204    | 0.277   | 121.956 | 169093\n",
       "5          | 1e8PAfcKUYoKkxPhrHqw4x | Someone You Loved - Future Humans Remix               | Lewis Capaldi    | 69               | 7m7vv9wlQ4i0LFuJiE2zsQ | Someone You Loved (Future Humans Remix)               | 2019-03-05               | Pop Remix     | 37i9dQZF1DXcZDD7cfEKhW | pop            | dance pop         | 0.65         | 0.833  | 1    | -4.672   | 1    | 0.0359      | 0.0803       | 0                | 0.0833   | 0.725   | 123.976 | 189052\n",
       "6          | 7fvUMiyapMsRRxr07cU8Ef | Beautiful People (feat. Khalid) - Jack Wins Remix     | Ed Sheeran       | 67               | 2yiy9cd2QktrNvWC2EUi0k | Beautiful People (feat. Khalid) [Jack Wins Remix]     | 2019-07-11               | Pop Remix     | 37i9dQZF1DXcZDD7cfEKhW | pop            | dance pop         | 0.675        | 0.919  | 8    | -5.385   | 1    | 0.127       | 0.0799       | 0                | 0.143    | 0.585   | 124.982 | 163049\n",
       "7          | 2OAylPUDDfwRGfe0lYqlCQ | Never Really Over - R3HAB Remix                       | Katy Perry       | 62               | 7INHYSeusaFlyrHSNxm8qH | Never Really Over (R3HAB Remix)                       | 2019-07-26               | Pop Remix     | 37i9dQZF1DXcZDD7cfEKhW | pop            | dance pop         | 0.449        | 0.856  | 5    | -4.788   | 0    | 0.0623      | 0.187        | 0                | 0.176    | 0.152   | 112.648 | 187675\n",
       "8          | 6b1RNvAcJjQH73eZO4BLAB | Post Malone (feat. RANI) - GATTÜSO Remix              | Sam Feldt        | 69               | 6703SRPsLkS4bPtMFFJes1 | Post Malone (feat. RANI) [GATTÜSO Remix]              | 2019-08-29               | Pop Remix     | 37i9dQZF1DXcZDD7cfEKhW | pop            | dance pop         | 0.542        | 0.903  | 4    | -2.419   | 0    | 0.0434      | 0.0335       | 4.83e-06         | 0.111    | 0.367   | 127.936 | 207619\n",
       "9          | 7bF6tCO3gFb8INrEDcjNT5 | Tough Love - Tiësto Remix / Radio Edit                | Avicii           | 68               | 7CvAfGvq4RlIwEbT9o8Iav | Tough Love (Tiësto Remix)                             | 2019-06-14               | Pop Remix     | 37i9dQZF1DXcZDD7cfEKhW | pop            | dance pop         | 0.594        | 0.935  | 8    | -3.562   | 1    | 0.0565      | 0.0249       | 3.97e-06         | 0.637    | 0.366   | 127.015 | 193187\n",
       "10         | 1IXGILkPm0tOCNeq00kCPa | If I Can't Have You - Gryffin Remix                   | Shawn Mendes     | 67               | 4QxzbfSsVryEQwvPFEV5Iu | If I Can't Have You (Gryffin Remix)                   | 2019-06-20               | Pop Remix     | 37i9dQZF1DXcZDD7cfEKhW | pop            | dance pop         | 0.642        | 0.818  | 2    | -4.552   | 1    | 0.032       | 0.0567       | 0                | 0.0919   | 0.59    | 124.957 | 253040\n",
       "... (32823 rows omitted)"
      ]
     },
     "execution_count": 22,
     "metadata": {},
     "output_type": "execute_result"
    }
   ],
   "source": [
    "spotify = Table.read_table(url)\n",
    "spotify"
   ]
  },
  {
   "cell_type": "markdown",
   "metadata": {
    "colab_type": "text",
    "id": "DDWDLBmG-tHY"
   },
   "source": [
    "### Accessing columns"
   ]
  },
  {
   "cell_type": "code",
   "execution_count": 23,
   "metadata": {
    "colab": {
     "base_uri": "https://localhost:8080/",
     "height": 34
    },
    "colab_type": "code",
    "id": "j0pQzS5x-gGy",
    "outputId": "a5be275d-7023-4156-a52b-fe5d8df70334"
   },
   "outputs": [
    {
     "data": {
      "text/plain": [
       "array([194754., 162600., 176616., ..., 210112., 367432., 337500.])"
      ]
     },
     "execution_count": 23,
     "metadata": {},
     "output_type": "execute_result"
    }
   ],
   "source": [
    "spotify.column(\"duration_ms\")"
   ]
  },
  {
   "cell_type": "code",
   "execution_count": 24,
   "metadata": {
    "colab": {},
    "colab_type": "code",
    "id": "U3zT4HuT-l91"
   },
   "outputs": [],
   "source": [
    "duration = spotify.column(\"duration_ms\")"
   ]
  },
  {
   "cell_type": "markdown",
   "metadata": {
    "colab_type": "text",
    "id": "F08az5dFAio_"
   },
   "source": [
    "### Functions Applied to Track Durations (in seconds)"
   ]
  },
  {
   "cell_type": "code",
   "execution_count": 25,
   "metadata": {
    "colab": {
     "base_uri": "https://localhost:8080/",
     "height": 52
    },
    "colab_type": "code",
    "id": "LApbeVmR-yPx",
    "outputId": "e032e6fd-fdea-442b-822d-ba92aea990e2"
   },
   "outputs": [
    {
     "data": {
      "text/plain": [
       "array([13.95542905, 12.7514705 , 13.28969526, ..., 14.4952406 ,\n",
       "       19.16851585, 18.37117307])"
      ]
     },
     "execution_count": 25,
     "metadata": {},
     "output_type": "execute_result"
    }
   ],
   "source": [
    "np.sqrt(duration / 1000)"
   ]
  },
  {
   "cell_type": "code",
   "execution_count": null,
   "metadata": {
    "colab": {},
    "colab_type": "code",
    "id": "OUvFa3RM-yi-"
   },
   "outputs": [],
   "source": []
  },
  {
   "cell_type": "markdown",
   "metadata": {
    "colab_type": "text",
    "id": "F-Cqvuv_AqJX"
   },
   "source": [
    "## Visualizing Categorical Distributions"
   ]
  },
  {
   "cell_type": "code",
   "execution_count": 26,
   "metadata": {
    "colab": {
     "base_uri": "https://localhost:8080/",
     "height": 376
    },
    "colab_type": "code",
    "id": "zxh9dohcAsCw",
    "outputId": "4c19ba96-c236-42bd-c142-521cfd9a9d7d"
   },
   "outputs": [
    {
     "data": {
      "text/html": [
       "<table border=\"1\" class=\"dataframe\">\n",
       "    <thead>\n",
       "        <tr>\n",
       "            <th>track_popularity</th> <th>playlist_name</th> <th>playlist_genre</th>\n",
       "        </tr>\n",
       "    </thead>\n",
       "    <tbody>\n",
       "        <tr>\n",
       "            <td>66              </td> <td>Pop Remix    </td> <td>pop           </td>\n",
       "        </tr>\n",
       "        <tr>\n",
       "            <td>67              </td> <td>Pop Remix    </td> <td>pop           </td>\n",
       "        </tr>\n",
       "        <tr>\n",
       "            <td>70              </td> <td>Pop Remix    </td> <td>pop           </td>\n",
       "        </tr>\n",
       "        <tr>\n",
       "            <td>60              </td> <td>Pop Remix    </td> <td>pop           </td>\n",
       "        </tr>\n",
       "        <tr>\n",
       "            <td>69              </td> <td>Pop Remix    </td> <td>pop           </td>\n",
       "        </tr>\n",
       "        <tr>\n",
       "            <td>67              </td> <td>Pop Remix    </td> <td>pop           </td>\n",
       "        </tr>\n",
       "        <tr>\n",
       "            <td>62              </td> <td>Pop Remix    </td> <td>pop           </td>\n",
       "        </tr>\n",
       "        <tr>\n",
       "            <td>69              </td> <td>Pop Remix    </td> <td>pop           </td>\n",
       "        </tr>\n",
       "        <tr>\n",
       "            <td>68              </td> <td>Pop Remix    </td> <td>pop           </td>\n",
       "        </tr>\n",
       "        <tr>\n",
       "            <td>67              </td> <td>Pop Remix    </td> <td>pop           </td>\n",
       "        </tr>\n",
       "    </tbody>\n",
       "</table>\n",
       "<p>... (32823 rows omitted)</p>"
      ],
      "text/plain": [
       "track_popularity | playlist_name | playlist_genre\n",
       "66               | Pop Remix     | pop\n",
       "67               | Pop Remix     | pop\n",
       "70               | Pop Remix     | pop\n",
       "60               | Pop Remix     | pop\n",
       "69               | Pop Remix     | pop\n",
       "67               | Pop Remix     | pop\n",
       "62               | Pop Remix     | pop\n",
       "69               | Pop Remix     | pop\n",
       "68               | Pop Remix     | pop\n",
       "67               | Pop Remix     | pop\n",
       "... (32823 rows omitted)"
      ]
     },
     "execution_count": 26,
     "metadata": {},
     "output_type": "execute_result"
    }
   ],
   "source": [
    "short_spotify = spotify.select('track_popularity', 'playlist_name', 'playlist_genre')\n",
    "short_spotify"
   ]
  },
  {
   "cell_type": "code",
   "execution_count": 27,
   "metadata": {
    "colab": {
     "base_uri": "https://localhost:8080/",
     "height": 227
    },
    "colab_type": "code",
    "id": "oaR4dlPzAuwy",
    "outputId": "71e6ad79-5d55-45a8-b164-37afafe29031"
   },
   "outputs": [
    {
     "data": {
      "text/html": [
       "<table border=\"1\" class=\"dataframe\">\n",
       "    <thead>\n",
       "        <tr>\n",
       "            <th>playlist_genre</th> <th>count</th>\n",
       "        </tr>\n",
       "    </thead>\n",
       "    <tbody>\n",
       "        <tr>\n",
       "            <td>edm           </td> <td>6043 </td>\n",
       "        </tr>\n",
       "        <tr>\n",
       "            <td>latin         </td> <td>5155 </td>\n",
       "        </tr>\n",
       "        <tr>\n",
       "            <td>pop           </td> <td>5507 </td>\n",
       "        </tr>\n",
       "        <tr>\n",
       "            <td>r&b           </td> <td>5431 </td>\n",
       "        </tr>\n",
       "        <tr>\n",
       "            <td>rap           </td> <td>5746 </td>\n",
       "        </tr>\n",
       "        <tr>\n",
       "            <td>rock          </td> <td>4951 </td>\n",
       "        </tr>\n",
       "    </tbody>\n",
       "</table>"
      ],
      "text/plain": [
       "playlist_genre | count\n",
       "edm            | 6043\n",
       "latin          | 5155\n",
       "pop            | 5507\n",
       "r&b            | 5431\n",
       "rap            | 5746\n",
       "rock           | 4951"
      ]
     },
     "execution_count": 27,
     "metadata": {},
     "output_type": "execute_result"
    }
   ],
   "source": [
    "grouped = short_spotify.group('playlist_genre')\n",
    "grouped"
   ]
  },
  {
   "cell_type": "code",
   "execution_count": 28,
   "metadata": {
    "colab": {},
    "colab_type": "code",
    "id": "lohZf8FBBOto"
   },
   "outputs": [
    {
     "data": {
      "image/png": "[encoded data removed]",
      "text/plain": [
       "<Figure size 432x288 with 1 Axes>"
      ]
     },
     "metadata": {
      "needs_background": "light"
     },
     "output_type": "display_data"
    }
   ],
   "source": [
    "grouped.barh('playlist_genre', 'count')"
   ]
  },
  {
   "cell_type": "code",
   "execution_count": 29,
   "metadata": {
    "colab": {
     "base_uri": "https://localhost:8080/",
     "height": 227
    },
    "colab_type": "code",
    "id": "KOhD9Ah5Yl3Q",
    "outputId": "717706aa-409b-4fc0-df5e-f004cc93345e"
   },
   "outputs": [
    {
     "data": {
      "text/html": [
       "<table border=\"1\" class=\"dataframe\">\n",
       "    <thead>\n",
       "        <tr>\n",
       "            <th>playlist_genre</th> <th>count</th>\n",
       "        </tr>\n",
       "    </thead>\n",
       "    <tbody>\n",
       "        <tr>\n",
       "            <td>edm           </td> <td>6043 </td>\n",
       "        </tr>\n",
       "        <tr>\n",
       "            <td>rap           </td> <td>5746 </td>\n",
       "        </tr>\n",
       "        <tr>\n",
       "            <td>pop           </td> <td>5507 </td>\n",
       "        </tr>\n",
       "        <tr>\n",
       "            <td>r&b           </td> <td>5431 </td>\n",
       "        </tr>\n",
       "        <tr>\n",
       "            <td>latin         </td> <td>5155 </td>\n",
       "        </tr>\n",
       "        <tr>\n",
       "            <td>rock          </td> <td>4951 </td>\n",
       "        </tr>\n",
       "    </tbody>\n",
       "</table>"
      ],
      "text/plain": [
       "playlist_genre | count\n",
       "edm            | 6043\n",
       "rap            | 5746\n",
       "pop            | 5507\n",
       "r&b            | 5431\n",
       "latin          | 5155\n",
       "rock           | 4951"
      ]
     },
     "execution_count": 29,
     "metadata": {},
     "output_type": "execute_result"
    }
   ],
   "source": [
    "grouped.sort('count', descending=True)"
   ]
  },
  {
   "cell_type": "code",
   "execution_count": 30,
   "metadata": {
    "colab": {},
    "colab_type": "code",
    "id": "CfT1D02_YwJZ"
   },
   "outputs": [
    {
     "data": {
      "image/png": "[encoded data removed]",
      "text/plain": [
       "<Figure size 432x288 with 1 Axes>"
      ]
     },
     "metadata": {
      "needs_background": "light"
     },
     "output_type": "display_data"
    }
   ],
   "source": [
    "grouped.sort('count', descending=True).barh('playlist_genre', 'count')"
   ]
  },
  {
   "cell_type": "code",
   "execution_count": null,
   "metadata": {
    "colab": {},
    "colab_type": "code",
    "id": "rqJtza4uYzaf"
   },
   "outputs": [],
   "source": []
  },
  {
   "cell_type": "markdown",
   "metadata": {
    "colab_type": "text",
    "id": "sAwh2wHzY53n"
   },
   "source": [
    "## Grouping Categorical Data"
   ]
  },
  {
   "cell_type": "code",
   "execution_count": 31,
   "metadata": {
    "colab": {
     "base_uri": "https://localhost:8080/",
     "height": 376
    },
    "colab_type": "code",
    "id": "WmecBPxcY6vM",
    "outputId": "48932b36-e7d5-469e-fcb4-3b7f409426a7"
   },
   "outputs": [
    {
     "data": {
      "text/html": [
       "<table border=\"1\" class=\"dataframe\">\n",
       "    <thead>\n",
       "        <tr>\n",
       "            <th>track_artist</th> <th>count</th>\n",
       "        </tr>\n",
       "    </thead>\n",
       "    <tbody>\n",
       "        <tr>\n",
       "            <td>Queen                    </td> <td>136  </td>\n",
       "        </tr>\n",
       "        <tr>\n",
       "            <td>The Chainsmokers         </td> <td>123  </td>\n",
       "        </tr>\n",
       "        <tr>\n",
       "            <td>David Guetta             </td> <td>110  </td>\n",
       "        </tr>\n",
       "        <tr>\n",
       "            <td>Don Omar                 </td> <td>102  </td>\n",
       "        </tr>\n",
       "        <tr>\n",
       "            <td>Drake                    </td> <td>100  </td>\n",
       "        </tr>\n",
       "        <tr>\n",
       "            <td>Dimitri Vegas & Like Mike</td> <td>93   </td>\n",
       "        </tr>\n",
       "        <tr>\n",
       "            <td>Calvin Harris            </td> <td>91   </td>\n",
       "        </tr>\n",
       "        <tr>\n",
       "            <td>Hardwell                 </td> <td>84   </td>\n",
       "        </tr>\n",
       "        <tr>\n",
       "            <td>Kygo                     </td> <td>83   </td>\n",
       "        </tr>\n",
       "        <tr>\n",
       "            <td>Guns N' Roses            </td> <td>79   </td>\n",
       "        </tr>\n",
       "    </tbody>\n",
       "</table>\n",
       "<p>... (15 rows omitted)</p>"
      ],
      "text/plain": [
       "track_artist              | count\n",
       "Queen                     | 136\n",
       "The Chainsmokers          | 123\n",
       "David Guetta              | 110\n",
       "Don Omar                  | 102\n",
       "Drake                     | 100\n",
       "Dimitri Vegas & Like Mike | 93\n",
       "Calvin Harris             | 91\n",
       "Hardwell                  | 84\n",
       "Kygo                      | 83\n",
       "Guns N' Roses             | 79\n",
       "... (15 rows omitted)"
      ]
     },
     "execution_count": 31,
     "metadata": {},
     "output_type": "execute_result"
    }
   ],
   "source": [
    "artists_grouped = spotify.group('track_artist').sort('count', descending=True).take(range(1, 26))\n",
    "artists_grouped"
   ]
  },
  {
   "cell_type": "code",
   "execution_count": 32,
   "metadata": {
    "colab": {},
    "colab_type": "code",
    "id": "H-I2D9W4Y8cr"
   },
   "outputs": [
    {
     "data": {
      "image/png": "[encoded data removed]",
      "text/plain": [
       "<Figure size 432x900 with 1 Axes>"
      ]
     },
     "metadata": {
      "needs_background": "light"
     },
     "output_type": "display_data"
    }
   ],
   "source": [
    "artists_grouped.barh('track_artist', 'count')"
   ]
  },
  {
   "cell_type": "code",
   "execution_count": 33,
   "metadata": {
    "colab": {},
    "colab_type": "code",
    "id": "FF_reXYOZsYe"
   },
   "outputs": [],
   "source": [
    "# Adding in playlist creation year through pandas --> must be done outside of notebook\n",
    "spotify['creation_year'] = [x.year for x in pd.Series(spotify.select('track_album_release_date')[0]).apply(pd.to_datetime)]"
   ]
  },
  {
   "cell_type": "code",
   "execution_count": 34,
   "metadata": {
    "colab": {
     "base_uri": "https://localhost:8080/",
     "height": 376
    },
    "colab_type": "code",
    "id": "4I64Pia2ZxXU",
    "outputId": "98ec0139-6118-43fa-ce26-9047ad4ff0cd"
   },
   "outputs": [
    {
     "data": {
      "text/html": [
       "<table border=\"1\" class=\"dataframe\">\n",
       "    <thead>\n",
       "        <tr>\n",
       "            <th>creation_year</th> <th>count</th>\n",
       "        </tr>\n",
       "    </thead>\n",
       "    <tbody>\n",
       "        <tr>\n",
       "            <td>2019         </td> <td>9081 </td>\n",
       "        </tr>\n",
       "        <tr>\n",
       "            <td>2018         </td> <td>3312 </td>\n",
       "        </tr>\n",
       "        <tr>\n",
       "            <td>2017         </td> <td>2430 </td>\n",
       "        </tr>\n",
       "        <tr>\n",
       "            <td>2016         </td> <td>2127 </td>\n",
       "        </tr>\n",
       "        <tr>\n",
       "            <td>2015         </td> <td>1779 </td>\n",
       "        </tr>\n",
       "        <tr>\n",
       "            <td>2014         </td> <td>1524 </td>\n",
       "        </tr>\n",
       "        <tr>\n",
       "            <td>2013         </td> <td>956  </td>\n",
       "        </tr>\n",
       "        <tr>\n",
       "            <td>2012         </td> <td>786  </td>\n",
       "        </tr>\n",
       "        <tr>\n",
       "            <td>2020         </td> <td>785  </td>\n",
       "        </tr>\n",
       "        <tr>\n",
       "            <td>2008         </td> <td>622  </td>\n",
       "        </tr>\n",
       "    </tbody>\n",
       "</table>\n",
       "<p>... (53 rows omitted)</p>"
      ],
      "text/plain": [
       "creation_year | count\n",
       "2019          | 9081\n",
       "2018          | 3312\n",
       "2017          | 2430\n",
       "2016          | 2127\n",
       "2015          | 1779\n",
       "2014          | 1524\n",
       "2013          | 956\n",
       "2012          | 786\n",
       "2020          | 785\n",
       "2008          | 622\n",
       "... (53 rows omitted)"
      ]
     },
     "execution_count": 34,
     "metadata": {},
     "output_type": "execute_result"
    }
   ],
   "source": [
    "grouped_years = spotify.select('track_artist', 'creation_year').group('creation_year').sort('count', descending=True)\n",
    "grouped_years"
   ]
  },
  {
   "cell_type": "code",
   "execution_count": null,
   "metadata": {
    "colab": {},
    "colab_type": "code",
    "id": "k2aNcf0sd3tW"
   },
   "outputs": [],
   "source": []
  },
  {
   "cell_type": "code",
   "execution_count": 35,
   "metadata": {
    "colab": {},
    "colab_type": "code",
    "id": "nVZ-LdKqbzF0"
   },
   "outputs": [
    {
     "data": {
      "image/png": "[encoded data removed]",
      "text/plain": [
       "<Figure size 432x2268 with 1 Axes>"
      ]
     },
     "metadata": {
      "needs_background": "light"
     },
     "output_type": "display_data"
    }
   ],
   "source": [
    "grouped_years.barh('creation_year', 'count')"
   ]
  },
  {
   "cell_type": "code",
   "execution_count": null,
   "metadata": {
    "colab": {},
    "colab_type": "code",
    "id": "UTS5QUarcxc3"
   },
   "outputs": [],
   "source": []
  },
  {
   "cell_type": "markdown",
   "metadata": {
    "colab_type": "text",
    "id": "kJ-L8iMSc3y6"
   },
   "source": [
    "## Towards Numerical Variables"
   ]
  },
  {
   "cell_type": "code",
   "execution_count": 36,
   "metadata": {
    "colab": {
     "base_uri": "https://localhost:8080/",
     "height": 863
    },
    "colab_type": "code",
    "id": "hLvobWWEgESi",
    "outputId": "10b7e4a6-fccc-4347-e2e5-2931bd99cedd"
   },
   "outputs": [
    {
     "data": {
      "text/html": [
       "<table border=\"1\" class=\"dataframe\">\n",
       "    <thead>\n",
       "        <tr>\n",
       "            <th>Unnamed: 0</th> <th>track_id</th> <th>track_name</th> <th>track_artist</th> <th>track_popularity</th> <th>track_album_id</th> <th>track_album_name</th> <th>track_album_release_date</th> <th>playlist_name</th> <th>playlist_id</th> <th>playlist_genre</th> <th>playlist_subgenre</th> <th>danceability</th> <th>energy</th> <th>key</th> <th>loudness</th> <th>mode</th> <th>speechiness</th> <th>acousticness</th> <th>instrumentalness</th> <th>liveness</th> <th>valence</th> <th>tempo</th> <th>duration_ms</th> <th>creation_year</th>\n",
       "        </tr>\n",
       "    </thead>\n",
       "    <tbody>\n",
       "        <tr>\n",
       "            <td>1         </td> <td>6f807x0ima9a1j3VPbc7VN</td> <td>I Don't Care (with Justin Bieber) - Loud Luxury Remix</td> <td>Ed Sheeran      </td> <td>66              </td> <td>2oCs0DGTsRO98Gh5ZSl2Cx</td> <td>I Don't Care (with Justin Bieber) [Loud Luxury Remix]</td> <td>2019-06-14              </td> <td>Pop Remix    </td> <td>37i9dQZF1DXcZDD7cfEKhW</td> <td>pop           </td> <td>dance pop        </td> <td>0.748       </td> <td>0.916 </td> <td>6   </td> <td>-2.634  </td> <td>1   </td> <td>0.0583     </td> <td>0.102       </td> <td>0               </td> <td>0.0653  </td> <td>0.518  </td> <td>122.036</td> <td>194754     </td> <td>2019         </td>\n",
       "        </tr>\n",
       "        <tr>\n",
       "            <td>2         </td> <td>0r7CVbZTWZgbTCYdfa2P31</td> <td>Memories - Dillon Francis Remix                      </td> <td>Maroon 5        </td> <td>67              </td> <td>63rPSO264uRjW1X5E6cWv6</td> <td>Memories (Dillon Francis Remix)                      </td> <td>2019-12-13              </td> <td>Pop Remix    </td> <td>37i9dQZF1DXcZDD7cfEKhW</td> <td>pop           </td> <td>dance pop        </td> <td>0.726       </td> <td>0.815 </td> <td>11  </td> <td>-4.969  </td> <td>1   </td> <td>0.0373     </td> <td>0.0724      </td> <td>0.00421         </td> <td>0.357   </td> <td>0.693  </td> <td>99.972 </td> <td>162600     </td> <td>2019         </td>\n",
       "        </tr>\n",
       "        <tr>\n",
       "            <td>3         </td> <td>1z1Hg7Vb0AhHDiEmnDE79l</td> <td>All the Time - Don Diablo Remix                      </td> <td>Zara Larsson    </td> <td>70              </td> <td>1HoSmj2eLcsrR0vE9gThr4</td> <td>All the Time (Don Diablo Remix)                      </td> <td>2019-07-05              </td> <td>Pop Remix    </td> <td>37i9dQZF1DXcZDD7cfEKhW</td> <td>pop           </td> <td>dance pop        </td> <td>0.675       </td> <td>0.931 </td> <td>1   </td> <td>-3.432  </td> <td>0   </td> <td>0.0742     </td> <td>0.0794      </td> <td>2.33e-05        </td> <td>0.11    </td> <td>0.613  </td> <td>124.008</td> <td>176616     </td> <td>2019         </td>\n",
       "        </tr>\n",
       "        <tr>\n",
       "            <td>4         </td> <td>75FpbthrwQmzHlBJLuGdC7</td> <td>Call You Mine - Keanu Silva Remix                    </td> <td>The Chainsmokers</td> <td>60              </td> <td>1nqYsOef1yKKuGOVchbsk6</td> <td>Call You Mine - The Remixes                          </td> <td>2019-07-19              </td> <td>Pop Remix    </td> <td>37i9dQZF1DXcZDD7cfEKhW</td> <td>pop           </td> <td>dance pop        </td> <td>0.718       </td> <td>0.93  </td> <td>7   </td> <td>-3.778  </td> <td>1   </td> <td>0.102      </td> <td>0.0287      </td> <td>9.43e-06        </td> <td>0.204   </td> <td>0.277  </td> <td>121.956</td> <td>169093     </td> <td>2019         </td>\n",
       "        </tr>\n",
       "        <tr>\n",
       "            <td>5         </td> <td>1e8PAfcKUYoKkxPhrHqw4x</td> <td>Someone You Loved - Future Humans Remix              </td> <td>Lewis Capaldi   </td> <td>69              </td> <td>7m7vv9wlQ4i0LFuJiE2zsQ</td> <td>Someone You Loved (Future Humans Remix)              </td> <td>2019-03-05              </td> <td>Pop Remix    </td> <td>37i9dQZF1DXcZDD7cfEKhW</td> <td>pop           </td> <td>dance pop        </td> <td>0.65        </td> <td>0.833 </td> <td>1   </td> <td>-4.672  </td> <td>1   </td> <td>0.0359     </td> <td>0.0803      </td> <td>0               </td> <td>0.0833  </td> <td>0.725  </td> <td>123.976</td> <td>189052     </td> <td>2019         </td>\n",
       "        </tr>\n",
       "        <tr>\n",
       "            <td>6         </td> <td>7fvUMiyapMsRRxr07cU8Ef</td> <td>Beautiful People (feat. Khalid) - Jack Wins Remix    </td> <td>Ed Sheeran      </td> <td>67              </td> <td>2yiy9cd2QktrNvWC2EUi0k</td> <td>Beautiful People (feat. Khalid) [Jack Wins Remix]    </td> <td>2019-07-11              </td> <td>Pop Remix    </td> <td>37i9dQZF1DXcZDD7cfEKhW</td> <td>pop           </td> <td>dance pop        </td> <td>0.675       </td> <td>0.919 </td> <td>8   </td> <td>-5.385  </td> <td>1   </td> <td>0.127      </td> <td>0.0799      </td> <td>0               </td> <td>0.143   </td> <td>0.585  </td> <td>124.982</td> <td>163049     </td> <td>2019         </td>\n",
       "        </tr>\n",
       "        <tr>\n",
       "            <td>7         </td> <td>2OAylPUDDfwRGfe0lYqlCQ</td> <td>Never Really Over - R3HAB Remix                      </td> <td>Katy Perry      </td> <td>62              </td> <td>7INHYSeusaFlyrHSNxm8qH</td> <td>Never Really Over (R3HAB Remix)                      </td> <td>2019-07-26              </td> <td>Pop Remix    </td> <td>37i9dQZF1DXcZDD7cfEKhW</td> <td>pop           </td> <td>dance pop        </td> <td>0.449       </td> <td>0.856 </td> <td>5   </td> <td>-4.788  </td> <td>0   </td> <td>0.0623     </td> <td>0.187       </td> <td>0               </td> <td>0.176   </td> <td>0.152  </td> <td>112.648</td> <td>187675     </td> <td>2019         </td>\n",
       "        </tr>\n",
       "        <tr>\n",
       "            <td>8         </td> <td>6b1RNvAcJjQH73eZO4BLAB</td> <td>Post Malone (feat. RANI) - GATTÜSO Remix             </td> <td>Sam Feldt       </td> <td>69              </td> <td>6703SRPsLkS4bPtMFFJes1</td> <td>Post Malone (feat. RANI) [GATTÜSO Remix]             </td> <td>2019-08-29              </td> <td>Pop Remix    </td> <td>37i9dQZF1DXcZDD7cfEKhW</td> <td>pop           </td> <td>dance pop        </td> <td>0.542       </td> <td>0.903 </td> <td>4   </td> <td>-2.419  </td> <td>0   </td> <td>0.0434     </td> <td>0.0335      </td> <td>4.83e-06        </td> <td>0.111   </td> <td>0.367  </td> <td>127.936</td> <td>207619     </td> <td>2019         </td>\n",
       "        </tr>\n",
       "        <tr>\n",
       "            <td>9         </td> <td>7bF6tCO3gFb8INrEDcjNT5</td> <td>Tough Love - Tiësto Remix / Radio Edit               </td> <td>Avicii          </td> <td>68              </td> <td>7CvAfGvq4RlIwEbT9o8Iav</td> <td>Tough Love (Tiësto Remix)                            </td> <td>2019-06-14              </td> <td>Pop Remix    </td> <td>37i9dQZF1DXcZDD7cfEKhW</td> <td>pop           </td> <td>dance pop        </td> <td>0.594       </td> <td>0.935 </td> <td>8   </td> <td>-3.562  </td> <td>1   </td> <td>0.0565     </td> <td>0.0249      </td> <td>3.97e-06        </td> <td>0.637   </td> <td>0.366  </td> <td>127.015</td> <td>193187     </td> <td>2019         </td>\n",
       "        </tr>\n",
       "        <tr>\n",
       "            <td>10        </td> <td>1IXGILkPm0tOCNeq00kCPa</td> <td>If I Can't Have You - Gryffin Remix                  </td> <td>Shawn Mendes    </td> <td>67              </td> <td>4QxzbfSsVryEQwvPFEV5Iu</td> <td>If I Can't Have You (Gryffin Remix)                  </td> <td>2019-06-20              </td> <td>Pop Remix    </td> <td>37i9dQZF1DXcZDD7cfEKhW</td> <td>pop           </td> <td>dance pop        </td> <td>0.642       </td> <td>0.818 </td> <td>2   </td> <td>-4.552  </td> <td>1   </td> <td>0.032      </td> <td>0.0567      </td> <td>0               </td> <td>0.0919  </td> <td>0.59   </td> <td>124.957</td> <td>253040     </td> <td>2019         </td>\n",
       "        </tr>\n",
       "    </tbody>\n",
       "</table>\n",
       "<p>... (32823 rows omitted)</p>"
      ],
      "text/plain": [
       "Unnamed: 0 | track_id               | track_name                                            | track_artist     | track_popularity | track_album_id         | track_album_name                                      | track_album_release_date | playlist_name | playlist_id            | playlist_genre | playlist_subgenre | danceability | energy | key  | loudness | mode | speechiness | acousticness | instrumentalness | liveness | valence | tempo   | duration_ms | creation_year\n",
       "1          | 6f807x0ima9a1j3VPbc7VN | I Don't Care (with Justin Bieber) - Loud Luxury Remix | Ed Sheeran       | 66               | 2oCs0DGTsRO98Gh5ZSl2Cx | I Don't Care (with Justin Bieber) [Loud Luxury Remix] | 2019-06-14               | Pop Remix     | 37i9dQZF1DXcZDD7cfEKhW | pop            | dance pop         | 0.748        | 0.916  | 6    | -2.634   | 1    | 0.0583      | 0.102        | 0                | 0.0653   | 0.518   | 122.036 | 194754      | 2019\n",
       "2          | 0r7CVbZTWZgbTCYdfa2P31 | Memories - Dillon Francis Remix                       | Maroon 5         | 67               | 63rPSO264uRjW1X5E6cWv6 | Memories (Dillon Francis Remix)                       | 2019-12-13               | Pop Remix     | 37i9dQZF1DXcZDD7cfEKhW | pop            | dance pop         | 0.726        | 0.815  | 11   | -4.969   | 1    | 0.0373      | 0.0724       | 0.00421          | 0.357    | 0.693   | 99.972  | 162600      | 2019\n",
       "3          | 1z1Hg7Vb0AhHDiEmnDE79l | All the Time - Don Diablo Remix                       | Zara Larsson     | 70               | 1HoSmj2eLcsrR0vE9gThr4 | All the Time (Don Diablo Remix)                       | 2019-07-05               | Pop Remix     | 37i9dQZF1DXcZDD7cfEKhW | pop            | dance pop         | 0.675        | 0.931  | 1    | -3.432   | 0    | 0.0742      | 0.0794       | 2.33e-05         | 0.11     | 0.613   | 124.008 | 176616      | 2019\n",
       "4          | 75FpbthrwQmzHlBJLuGdC7 | Call You Mine - Keanu Silva Remix                     | The Chainsmokers | 60               | 1nqYsOef1yKKuGOVchbsk6 | Call You Mine - The Remixes                           | 2019-07-19               | Pop Remix     | 37i9dQZF1DXcZDD7cfEKhW | pop            | dance pop         | 0.718        | 0.93   | 7    | -3.778   | 1    | 0.102       | 0.0287       | 9.43e-06         | 0.204    | 0.277   | 121.956 | 169093      | 2019\n",
       "5          | 1e8PAfcKUYoKkxPhrHqw4x | Someone You Loved - Future Humans Remix               | Lewis Capaldi    | 69               | 7m7vv9wlQ4i0LFuJiE2zsQ | Someone You Loved (Future Humans Remix)               | 2019-03-05               | Pop Remix     | 37i9dQZF1DXcZDD7cfEKhW | pop            | dance pop         | 0.65         | 0.833  | 1    | -4.672   | 1    | 0.0359      | 0.0803       | 0                | 0.0833   | 0.725   | 123.976 | 189052      | 2019\n",
       "6          | 7fvUMiyapMsRRxr07cU8Ef | Beautiful People (feat. Khalid) - Jack Wins Remix     | Ed Sheeran       | 67               | 2yiy9cd2QktrNvWC2EUi0k | Beautiful People (feat. Khalid) [Jack Wins Remix]     | 2019-07-11               | Pop Remix     | 37i9dQZF1DXcZDD7cfEKhW | pop            | dance pop         | 0.675        | 0.919  | 8    | -5.385   | 1    | 0.127       | 0.0799       | 0                | 0.143    | 0.585   | 124.982 | 163049      | 2019\n",
       "7          | 2OAylPUDDfwRGfe0lYqlCQ | Never Really Over - R3HAB Remix                       | Katy Perry       | 62               | 7INHYSeusaFlyrHSNxm8qH | Never Really Over (R3HAB Remix)                       | 2019-07-26               | Pop Remix     | 37i9dQZF1DXcZDD7cfEKhW | pop            | dance pop         | 0.449        | 0.856  | 5    | -4.788   | 0    | 0.0623      | 0.187        | 0                | 0.176    | 0.152   | 112.648 | 187675      | 2019\n",
       "8          | 6b1RNvAcJjQH73eZO4BLAB | Post Malone (feat. RANI) - GATTÜSO Remix              | Sam Feldt        | 69               | 6703SRPsLkS4bPtMFFJes1 | Post Malone (feat. RANI) [GATTÜSO Remix]              | 2019-08-29               | Pop Remix     | 37i9dQZF1DXcZDD7cfEKhW | pop            | dance pop         | 0.542        | 0.903  | 4    | -2.419   | 0    | 0.0434      | 0.0335       | 4.83e-06         | 0.111    | 0.367   | 127.936 | 207619      | 2019\n",
       "9          | 7bF6tCO3gFb8INrEDcjNT5 | Tough Love - Tiësto Remix / Radio Edit                | Avicii           | 68               | 7CvAfGvq4RlIwEbT9o8Iav | Tough Love (Tiësto Remix)                             | 2019-06-14               | Pop Remix     | 37i9dQZF1DXcZDD7cfEKhW | pop            | dance pop         | 0.594        | 0.935  | 8    | -3.562   | 1    | 0.0565      | 0.0249       | 3.97e-06         | 0.637    | 0.366   | 127.015 | 193187      | 2019\n",
       "10         | 1IXGILkPm0tOCNeq00kCPa | If I Can't Have You - Gryffin Remix                   | Shawn Mendes     | 67               | 4QxzbfSsVryEQwvPFEV5Iu | If I Can't Have You (Gryffin Remix)                   | 2019-06-20               | Pop Remix     | 37i9dQZF1DXcZDD7cfEKhW | pop            | dance pop         | 0.642        | 0.818  | 2    | -4.552   | 1    | 0.032       | 0.0567       | 0                | 0.0919   | 0.59    | 124.957 | 253040      | 2019\n",
       "... (32823 rows omitted)"
      ]
     },
     "execution_count": 36,
     "metadata": {},
     "output_type": "execute_result"
    }
   ],
   "source": [
    "spotify"
   ]
  },
  {
   "cell_type": "code",
   "execution_count": 37,
   "metadata": {
    "colab": {
     "base_uri": "https://localhost:8080/",
     "height": 1000
    },
    "colab_type": "code",
    "id": "GvgX9envc46-",
    "outputId": "cfc78f81-946b-43b9-a79f-4ab6068f834c"
   },
   "outputs": [
    {
     "data": {
      "text/plain": [
       "array(['\"Permanent Wave\"', '10er Playlist', '1987-1997 OLD SKOOL JAMZ',\n",
       "       \"2000's hard rock\",\n",
       "       '2010 - 2011 - 2012 - 2013 - 2014 - 2015 - 2016 - 2017 - 2018 - 2019 - 2020 TOP HITS',\n",
       "       '2011-2014 House', '2015 songs', '2019 in Indie Poptimism',\n",
       "       '2020 Hits & 2019  Hits – Top Global Tracks 🔥🔥🔥',\n",
       "       '3rd Coast Classics', \"70's Classic Rock\", '70s Hard Rock',\n",
       "       '70s Pop & Rock Hits and Deep Tracks',\n",
       "       \"80's Freestyle/Disco Dance Party (Set Crossfade to 4-Seconds)\",\n",
       "       \"80's Songs | Top 💯 80s Music Hits\", '80s / Classic Rock',\n",
       "       '80s Pop & Rock Hits and Album Tracks',\n",
       "       '80s-90s R&B / New Jack Swing / Funk / Dance / Soul',\n",
       "       \"90's Gangster Rap\", \"90's Hip Hop Ultimate Collection\",\n",
       "       \"90's NEW JACK SWING\", \"90's Southern Hip Hop\", '90s Dance Hits',\n",
       "       '90s Gangsta Rap / Top Hip-hop Classics',\n",
       "       '90s Hiphop / Gangsta Rap',\n",
       "       '90s R&B - The BET Planet Groove/Midnight Love Mix',\n",
       "       '90s-2000s Southern Hip Hop / Crunk', '90s/00s Hip Hop & RnB',\n",
       "       '< DARK TRAP >', '@deniceemoberg EDM - POP REMIXES',\n",
       "       'A Loose Definition of Indie Poptimism', 'A1 Hip-Hop',\n",
       "       'ALPAS Music Festival', 'Academia Reggaetón', 'Afro Psychedelica',\n",
       "       'Alex Workout', 'Alternative Hip Hop', 'Arabic Trap',\n",
       "       'Arena Hip-Hop', 'BALLARE - رقص', 'BIG-ROOM NEVER DIES !',\n",
       "       'Back in the day - R&B, New Jack Swing, Swingbeat, RNB..etc.',\n",
       "       'Badass Rock', 'Baila Reggaeton', 'Best of 2019 Dance Pop: Japan',\n",
       "       'Best of New Jack Swing', 'Big Room 2019', 'Big Room Beast',\n",
       "       'Big Room EDM', \"Big Room EDM - by Spinnin' Records\",\n",
       "       'Big Room House', 'Big Room House / Bigroom',\n",
       "       'Big Room House | Festival Bangers', 'Big White Room-Jessie-J',\n",
       "       'Bluegrass Covers', 'Blues Rock', 'Bounce United', 'Brand New EDM',\n",
       "       'Brisa Pop', 'CHRISTIAN ELECTRO / DANCE / EDM',\n",
       "       'CSR 103:9 (GTA: SA)', 'Caifanes La Historia', 'Cardio',\n",
       "       'Charts 2020 🔥Top 2020🔥Hits 2020🔥Summer 2020🔥Pop 2020🔥Popular Music🔥Clean Pop 2020🔥Sing Alongs',\n",
       "       'Chicano Rap', 'Chillout & Remixes 💜', 'Chixtape 5 - Tory Lanez',\n",
       "       'Christian Dance Party', 'Christmas Soul', 'City Pop 1985 シティーポップ',\n",
       "       'Classic Hard Rock', 'Classic Rock',\n",
       "       'Classic Rock 70s 80s 90s, Rock Classics - 70s Rock, 80s Rock, 90s Rock Rock  Classicos',\n",
       "       'Classic Rock Drive', 'Classic Rock Greatest Hits',\n",
       "       'Classic Rock Legends', 'Classic Rock Now',\n",
       "       'Classic Rock Playlist.', 'Classic Rock Radio',\n",
       "       'Classic Rock Retrogamer', 'Classic Rock Workout',\n",
       "       'Club Mix 2020 🍹', 'Coldplay – Ghost Stories (Deluxe Edition)',\n",
       "       'Contemporary Hip Hop', 'Contemporary Urban',\n",
       "       'Crossfit\\u200f\\u200f\\u200b\\u200b   \\u200d', 'Cuban vibes only',\n",
       "       'DK rap', 'Dance Pop', 'Dance Pop Hits', 'Dance Pop Tunes',\n",
       "       'Dance Pop: Japan', 'Dance Room', 'Dancefloor Beats', 'De Fiesta',\n",
       "       'Deep Electronic Music 2020 & Progressive House',\n",
       "       'Deep-deep Bubble Pop', 'Dirty South Rap Classics by DJ HOTSAUCE',\n",
       "       'Dose Trap', \"Dr. Q's Prescription Playlist💊\", 'EDM - pop remixes',\n",
       "       'EDM 2019', 'EDM 2020 House & Dance', 'EDM House & Dance',\n",
       "       'EDM Pop', 'EDM TROPICAL', 'EDM Trap', 'EDM/POP',\n",
       "       'ELECTRO HOUSE 2020', 'ELECTROPOP', 'ELECTROPOP EN ESPAÑOL',\n",
       "       'ELECTROPOP🐹', 'ELETRIC POP & DANCE', 'El Ritmo', 'Electro House',\n",
       "       \"Electro House - by Spinnin' Records\", 'Electro House 2020',\n",
       "       'Electro House Top Tracks', 'Electro Pop | Electropop',\n",
       "       'Electro Posé - Discoveries', 'Electro Swing',\n",
       "       'Electro Swing Top 100', 'Electro Vibes',\n",
       "       'Electro/Progressive/Club House', 'ElectroPop', 'ElectroPop 2020',\n",
       "       'Electropop', 'Electropop - Pop', 'Electropop 2019',\n",
       "       'Electropop 80/90s', 'Electropop And Play',\n",
       "       'Electropop Hits  2017-2020',\n",
       "       'Electrónica, Progressive House, Electro House y más 🎧',\n",
       "       'Epic Bass Drops', 'Epic Bass Drops | Best House Mixes',\n",
       "       'Exitos 2020 - Latin Billboard', 'F**KIN PERFECT',\n",
       "       'Feeling Accomplished', 'Female Vocal EDM',\n",
       "       'Festival Music 2019 - Warm Up Music (EDM, Big Room & Progressive House)',\n",
       "       'Fiesta Latina Mix 🎈🎉💃🏻🕺🏻☀️🏖',\n",
       "       'Fitness Workout Electro | House | Dance | Progressive House',\n",
       "       'Flow Selecto',\n",
       "       'Fresh EDM | Progressive House | Electro House | Trap | Deep House | Electronic | Future House/Bass',\n",
       "       'Fresh Essentials', 'GANGSTA RAP', 'GANGSTA Rap',\n",
       "       'GTA San Andreas Radio Los Santos', 'GTA V - Radio Mirror Park',\n",
       "       'Gangsta Rap 💎 Rap Party', \"Gangsta Rap/90's Hip-Hop\",\n",
       "       'Gangster Rap', 'Gangster Rap Deutsch', 'Gangster Rap Workout',\n",
       "       'Gangster Rap | 100 % Gangster', 'Generacja Hip Hop',\n",
       "       'Girl On Fire', 'Global Top 50 | 2020 Hits', 'Global X', 'Gospel',\n",
       "       'Gospel Neo Soul',\n",
       "       'Gothic / Industrial / Mittelalter / EBM / Futurepop / Gothik / Electropop',\n",
       "       'Great Pops', 'Groovy // Funky // Neo-Soul',\n",
       "       'Gym (Melbourne Bounce/Progressive House)', 'HARD ROCK CAFE',\n",
       "       'HARD ROCK Vibes', 'HIP&HOP', \"HIP-HOP: Latin Rap ['89-present]\",\n",
       "       'Hands Up\\u200f\\u200f\\u200b\\u200b   \\u200d', 'Happy EDM',\n",
       "       'Hard Rock', 'Hard Rock Cafe Classics',\n",
       "       'Hard Rock Classics 1967-1991 (Party Edition)',\n",
       "       'Hard Rock Workout', 'Hard Rock Workout!', 'Hip Hop Controller',\n",
       "       'Hip Pop 2019', 'Hip Te Hop', 'Hip pop', \"Hip-Hop 'n RnB\",\n",
       "       'Hip-Hop Central', 'Hip-Hop Drive', 'Hip-Hop Favourites',\n",
       "       'Hip-Hop Mixtape',\n",
       "       'Hot Latino Mix (Latin, Hip Hop, Rap, RnB, Dancehall, Reggeaton, Afro)',\n",
       "       'House Electro 2019', 'House Of The Rising Sun',\n",
       "       'House/Electro/Progressive/Disco/Lofi/Synthwave',\n",
       "       'I Love My Neo-Soul',\n",
       "       'I didn’t know perm stood for permanent (wave)',\n",
       "       'INDIE POP! TUNES', 'Indie Poptimism',\n",
       "       'Indie Poptimism (PUBLIC, The Band CAMINO, lovelytheband)',\n",
       "       'Indie Poptimism!', 'Indie/Jazz Poptimism',\n",
       "       'Intro to Indie Poptimism', 'Intro to Permanent Wave',\n",
       "       'Intro to Post-Teen Pop', 'Japanese Funk/Soul/NEO/Jazz/Acid',\n",
       "       'Jazz Vibes', 'Jeff Seid Electro House', 'K-Crazy Michioso Tunes',\n",
       "       'K-Party Dance Mix', \"Kenny B's Ultimate New Jack Swing Mix\",\n",
       "       \"L' ALBUM ROCK\", 'LATIN FLOW MIX - Música Cristiana🎵',\n",
       "       'LATIN POP 2020 🔥 Pop latino actual', 'LATIN POP- DJ GIAN',\n",
       "       'Latest Hits 2020 - Pop, Hip Hop & RnB',\n",
       "       'Latest Latin American Hits 2020',\n",
       "       'Latin Hip Hop & Rap Playlist 2019', 'Latin Hip Hop/Freestyle',\n",
       "       'Latin Pop 2019', 'Latin Pop Classics', 'Latin Pop Rising',\n",
       "       'Latin Pop Songs', 'Latin Pop VIP', 'Latin Pop antiguo',\n",
       "       'Latin Village 2019', 'Latin/Hip Hop/Dancehall/Soca',\n",
       "       'Lo-Fi Beats', 'Locker Room', 'Lofi Hip-Hop', 'Los Cangri',\n",
       "       'Lush Lofi', 'MIX LATIN POP°', 'Mansión Reggaetón',\n",
       "       'Maxi Pop  GOLD (New Wave, Electropop, Synth Pop...)',\n",
       "       'Mega Rock Ballads: The Best Slow Rock Compilation Ever !',\n",
       "       'Mexican Gangsta Rap', 'Michael Learns To Rock album',\n",
       "       'Minitruckin Playlist',\n",
       "       'Mix ElectroPop//ElectroHouse// DeepHouse 2020',\n",
       "       'Modern Indie Rock // Alternative Rock / Garage Rock / Pop Punk / Grunge / Britpop / Pop Rock',\n",
       "       'Modus Mio', 'Most Popular 2020 TOP 50',\n",
       "       'Muse Radio - (Uprising, Starlight, Supermassive Black Hole, Madness)',\n",
       "       'Music&Other Drugs',\n",
       "       'Musica Italiana 2020 - Playlist Pop & Hip-Hop (Canzoni Italiane 2020)',\n",
       "       'NEO FUNK AND SOUL', 'NEO SOUL GUITAR', 'NEO-soul', 'Nasty Bits',\n",
       "       'Neo Soul', 'Neo Soul / Modern Jazz / Smooth Hiphop',\n",
       "       'Neo Soul 2019', 'Neo Soul Music', 'Neo-Jazz Soul RnB & Afro',\n",
       "       'Neo-Soul', 'Neo-Soul / Soulful R&B', 'Neo-Soul Essentials',\n",
       "       'Neo-Soul Guitar', 'New Hard Rock',\n",
       "       'New Hip Hop\\u200f\\u200f\\u200b\\u200b   \\u200d',\n",
       "       'New House   \\u200d', 'New Jack City', 'New Jack Swing',\n",
       "       'New Jack Swing - 90s R&B fused w Hip Hop',\n",
       "       \"New Jack Swing -late 80's & early 90's Hip Hop and R&B\",\n",
       "       'New Jack Swing | The Best 👌',\n",
       "       'New Jack Swing/ R&B Hits: 1987 - 2002',\n",
       "       'New R&B\\u200f\\u200f\\u200b\\u200b   \\u200d',\n",
       "       'Nidza Bleja - English HIP HOP/POP Songs', \"Nikki Sixx's Top Pixx\",\n",
       "       'ONE OK ROCK with Orchestra Japan Tour 2018 Setlist',\n",
       "       'Oldschool Gangsta Rap 👑', 'Orgulho Tropical',\n",
       "       'PAROOKAVILLE - Big Room', 'POPTIMISM', 'PROJECT: Contemporary',\n",
       "       'Paraiso Tropical', 'Paraíso Tropical', 'Permanent Wave',\n",
       "       'Permanent Wave CHDB', 'Permanent Wave Cafe', 'Permanent wave',\n",
       "       'Permanent wave 🌊', 'Perreo City', 'Pinoy Classic Rock',\n",
       "       'Pop - Pop UK - 2019 - Canadian Pop - 2019 - Pop', 'Pop / Dance',\n",
       "       'Pop / Hip-Hop: Gas ⛽️', 'Pop 2009-2011', 'Pop Dance Hits',\n",
       "       'Pop EDM', 'Pop EDM Remixes', 'Pop Hits 2000-2019',\n",
       "       'Pop Hits 2020',\n",
       "       'Pop Inglés (2020 - 2010s)💙 Música En Inglés 2010s',\n",
       "       'Pop Latino 2019 - Mix Canciones Reggaeton & Pop Latino - Pop En Español 2019 Musica Para Bailar',\n",
       "       'Pop Punk | Post-Hardcore', 'Pop Remix', 'Pop Warmup 130 BPM',\n",
       "       'Post Teen Pop', 'Post pop teen', 'Post teen pop', 'Post-Teen Pop',\n",
       "       'Post-teen pop',\n",
       "       'Progressive Rock / Metal - Rock /Metal  Progresivo',\n",
       "       'Punto Tropical', \"R&B 80's/90's/00's\", 'RADIO POP CHARTS',\n",
       "       'RAP 91', 'RAP Gangsta', 'REGGAETON ANTIGUO 🔥', 'REGGAETON VIEJO',\n",
       "       'RUSSIAN Gangster Rap', 'Rap Party 24/7 Radio / Gangsta Rap',\n",
       "       'Rap Workout', 'RapCaviar', 'Reggaeton 2020 ☀',\n",
       "       'Reggaeton 2020 😍 🔥', 'Reggaeton Classics', 'Reggaeton De Ayer',\n",
       "       'Reggaeton Rewind', 'Reggaeton viejito🔥',\n",
       "       \"Rock Ballads 80s 90s | Best Rock Love Songs 80's 90's Music Hits\",\n",
       "       'Rock Classics', 'Rock Hard', 'Rock Hubspot', 'Rock and Rios',\n",
       "       'Russian Gangster Rap', 'SINULOG Festival 2020',\n",
       "       'SNZB PERMANENT WAVE', 'Sad Trap',\n",
       "       'Saxophone in Hip Hop - R&B Lounge - Jazz Rap',\n",
       "       'School Dance 2019 (Squeaky Clean)', 'Selected House',\n",
       "       'Sexy Soul 2020', 'Sick Big Room House Drops | EZUMI',\n",
       "       'Smooth Hip Hop', 'Soda Stereo – El Ultimo Concierto',\n",
       "       'Soft Rock Drive',\n",
       "       'Someone You Loved Lewis Capaldi (Pop Music Mix)',\n",
       "       'Soul Coffee (The Best Neo-Soul Mixtape ever)',\n",
       "       'Southern California Hip Hop Primer', 'Southern Hip Hop',\n",
       "       'Southern Rock/Classic Rock', 'Southern Soul BBQ Mix',\n",
       "       'Southern soul & hip hop', 'Sunny Beats',\n",
       "       'Supernatural Classic Rock',\n",
       "       'Swingbeat (old skool), New Jack Swing, R&B, Hip Hop, Urban',\n",
       "       'TOP 50 GLOBAL 2020 UPDATED WEEKLY 🌍🎶 WORLDWIDE', 'TROPICAL🌴',\n",
       "       'TUNES DANCE AND POP', 'Tastemakers Ball  -  EDM - POP and FUN',\n",
       "       'Techno House 2020 👽 Best Collection 👻 Top DJ’s Electronic Music - Deep House - Trance - Tech House - Dance - Electro Pop',\n",
       "       'The 1950s/1960s/1970s/1980s/1990s/2000s/2010s with pop/r&b/soul/boogie/dance/jazz/hip hop/hop/rap.',\n",
       "       'The Black Album', 'The Cranberries Best Of',\n",
       "       'The Edge of Indie Poptimism', 'The New (Jack Swing) Testament',\n",
       "       'The Pulse of Indie Poptimism',\n",
       "       'The Queen - La Discografia Completa', 'The Sound of Album Rock',\n",
       "       'The Sound of Indie Poptimism', 'The Sound of New Jack Swing',\n",
       "       'The Sound of Permanent Wave', 'The Sound of Post-Teen Pop',\n",
       "       'The Sound of Southern Hip Hop', 'The Sound of Urban Contemporary',\n",
       "       'This Is Gloria Estefan', \"This Is Guns N' Roses\",\n",
       "       'This Is Janelle Monáe', 'This Is Logic', 'This Is Scorpions',\n",
       "       'This Is: Don Omar', 'This Is: Javiera Mena',\n",
       "       \"Today's Hits (Clean)\", \"Today's Hits 2000-Present\",\n",
       "       'Todo Reggaeton', 'Todo Éxitos', 'Top Urban Underground',\n",
       "       'Trance Party 2019 by FUTURE TRANCE', 'Trap 2020 🔥',\n",
       "       'Trap Americana', 'Trap Argentino - Trap Argentina', 'Trap Funk',\n",
       "       'Trap Land', 'Trap Luv', 'Trap Mojito', 'Trap Nation',\n",
       "       'Trap Nation 🔊', 'Trap Ouro', 'Trap Rewind', 'Trap strefa',\n",
       "       'Trapperz', 'Trapperz Argentina', 'Trapperz Brasil',\n",
       "       'Trending EDM by Nik Cooper', 'Tropical Beats', 'Tropical House',\n",
       "       'Tropical House 2020',\n",
       "       'Tropical House Remixes 🍍 Tropical Remixes & Tropical Covers',\n",
       "       'Tropical House Run 190 BPM', 'Tropical House 🌴',\n",
       "       'Tropical House 🏝 2020 Hits', 'Tropical Morning',\n",
       "       'Tropical Nights', 'Tropical Rising', 'Tropical Vibes',\n",
       "       'Tusa - Karol G | China - Anuel AA | Estrenos Reggaeton y Música Urbana 2019',\n",
       "       'URBAN NATION',\n",
       "       'Ultimate Indie Presents... Best Indie Tracks of the 2010s',\n",
       "       'Ultimate Indie Presents... Best Tracks of 2019',\n",
       "       'Ultimate Throwbacks Collection',\n",
       "       'Underground Party | Hypnotic | Minimal | Acid | Big Room | Tech | Liquid',\n",
       "       'Unplugged Hits 📣', 'Urban Contemporary', 'Urban contemporary',\n",
       "       'Urban/Trap - Contemporary RAP', 'Urbano: Latino Vibes',\n",
       "       'Vault: Def Leppard Greatest Hits', 'Verano Forever',\n",
       "       'Verão 2020 | Pop | Funk | Sertanejo | EDM | Top Hits 2019 - As Mais Tocadas',\n",
       "       'Vibra Tropical', 'VidaLoca - Latin / Raggaeton / Hip Hop ©',\n",
       "       'Viral Southern Hip Hop', 'Vocal House', 'Waves Pop and EDM',\n",
       "       'Workday: Rock Classics', 'Workout Hard Rock', 'Zona Trap',\n",
       "       '[EAS]: Festival Big Room', 'a taste of the mainstream',\n",
       "       'big boom room — TOMORROWLAND EDC EDM BIG ROOM AMF ADE DANCE TRANCE HARDWELL TIESTO',\n",
       "       'indie poptimism', 'indie poptimism🕺🏻', 'keg party jukebox',\n",
       "       'latin hip hop', 'permanent wave', 'post teen pop',\n",
       "       'post-teen alternative, indie, pop (large variety)',\n",
       "       'post-teen pop',\n",
       "       \"random playlist that can't decide its genre so go ahead jam along with these catchy tunes\",\n",
       "       'urban CONTEMPORARY', 'urban contemporary', '¡Viva Latino!',\n",
       "       '’80s Hard Rock', '②⓪①⑨ mixed',\n",
       "       '◤ Hip Hop Dance Music – Urban – Trap – Breaking Locking Popping Bopping – WOD – World of Dance',\n",
       "       '♥ EDM LOVE 2020', '💊ELECTRO-HOUSE-TECH💊',\n",
       "       '🔊BASSBOOSTED🔊⚡ELECTRO HOUSE⚡🔥EDM CAR MUSIC2018/2019🔥',\n",
       "       \"🔥💵 Hip Hop, Rap, Heavy 808's - New School\",\n",
       "       '🔥🦁 GOOD VIBES ONLY 🦁🔥 // BROEDERLIEFDE || FRENNA || BROEDERS || HENKIE T  || BIZZEY || POKE \\\\\\\\',\n",
       "       '🤩🤪Post Teen Pop🤪🤩'], dtype='<U122')"
      ]
     },
     "execution_count": 37,
     "metadata": {},
     "output_type": "execute_result"
    }
   ],
   "source": [
    "np.unique(spotify.select('playlist_name')[0])"
   ]
  },
  {
   "cell_type": "code",
   "execution_count": null,
   "metadata": {
    "colab": {},
    "colab_type": "code",
    "id": "6fTJALarfdYD"
   },
   "outputs": [],
   "source": []
  }
 ],
 "metadata": {
  "colab": {
   "collapsed_sections": [],
   "name": "spotify.ipynb",
   "provenance": []
  },
  "kernelspec": {
   "display_name": "Python 3",
   "language": "python",
   "name": "python3"
  },
  "language_info": {
   "codemirror_mode": {
    "name": "ipython",
    "version": 3
   },
   "file_extension": ".py",
   "mimetype": "text/x-python",
   "name": "python",
   "nbconvert_exporter": "python",
   "pygments_lexer": "ipython3",
   "version": "3.7.4"
  }
 },
 "nbformat": 4,
 "nbformat_minor": 1
}
