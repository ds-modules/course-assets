{
 "cells": [
  {
   "cell_type": "markdown",
   "metadata": {},
   "source": [
    "[start of section 5.1](#tables)\n",
    "\n",
    "[5.2](#5.2)"
   ]
  },
  {
   "cell_type": "code",
   "execution_count": 1,
   "metadata": {
    "colab": {},
    "colab_type": "code",
    "id": "7WatuQ0n7Uvw"
   },
   "outputs": [],
   "source": [
    "import pandas as pd\n",
    "import numpy as np \n",
    "import seaborn as sns\n",
    "import matplotlib.pyplot as plt"
   ]
  },
  {
   "cell_type": "code",
   "execution_count": 2,
   "metadata": {
    "colab": {},
    "colab_type": "code",
    "id": "w_uKS9hw7Uv1"
   },
   "outputs": [],
   "source": [
    "url = 'https://raw.githubusercontent.com/ds-modules/course-assets/gh-pages/materials/su20/Spotify/spotify.csv'\n",
    "spotify = pd.read_csv(url)\n",
    "\n",
    "# Dropping unnecessary columns\n",
    "spotify = spotify.drop(['Unnamed: 0', 'track_album_id', 'playlist_id'], axis=1)\n",
    "\n",
    "# Converting date to datetime to visualize datetime\n",
    "spotify['track_album_release_date'] = pd.to_datetime(spotify['track_album_release_date']) \n",
    "\n",
    "# Creating columns \n",
    "spotify['duration_sec'] = spotify['duration_ms']/1000"
   ]
  },
  {
   "cell_type": "code",
   "execution_count": 3,
   "metadata": {
    "colab": {},
    "colab_type": "code",
    "id": "kekjwyZf7Uv4",
    "outputId": "aaff228b-f5f4-49af-ac09-c68b595f50f3"
   },
   "outputs": [
    {
     "data": {
      "text/html": [
       "<div>\n",
       "<style scoped>\n",
       "    .dataframe tbody tr th:only-of-type {\n",
       "        vertical-align: middle;\n",
       "    }\n",
       "\n",
       "    .dataframe tbody tr th {\n",
       "        vertical-align: top;\n",
       "    }\n",
       "\n",
       "    .dataframe thead th {\n",
       "        text-align: right;\n",
       "    }\n",
       "</style>\n",
       "<table border=\"1\" class=\"dataframe\">\n",
       "  <thead>\n",
       "    <tr style=\"text-align: right;\">\n",
       "      <th></th>\n",
       "      <th>track_id</th>\n",
       "      <th>track_name</th>\n",
       "      <th>track_artist</th>\n",
       "      <th>track_popularity</th>\n",
       "      <th>track_album_name</th>\n",
       "      <th>track_album_release_date</th>\n",
       "      <th>playlist_name</th>\n",
       "      <th>playlist_genre</th>\n",
       "      <th>playlist_subgenre</th>\n",
       "      <th>danceability</th>\n",
       "      <th>...</th>\n",
       "      <th>loudness</th>\n",
       "      <th>mode</th>\n",
       "      <th>speechiness</th>\n",
       "      <th>acousticness</th>\n",
       "      <th>instrumentalness</th>\n",
       "      <th>liveness</th>\n",
       "      <th>valence</th>\n",
       "      <th>tempo</th>\n",
       "      <th>duration_ms</th>\n",
       "      <th>duration_sec</th>\n",
       "    </tr>\n",
       "  </thead>\n",
       "  <tbody>\n",
       "    <tr>\n",
       "      <td>0</td>\n",
       "      <td>6f807x0ima9a1j3VPbc7VN</td>\n",
       "      <td>I Don't Care (with Justin Bieber) - Loud Luxur...</td>\n",
       "      <td>Ed Sheeran</td>\n",
       "      <td>66</td>\n",
       "      <td>I Don't Care (with Justin Bieber) [Loud Luxury...</td>\n",
       "      <td>2019-06-14</td>\n",
       "      <td>Pop Remix</td>\n",
       "      <td>pop</td>\n",
       "      <td>dance pop</td>\n",
       "      <td>0.748</td>\n",
       "      <td>...</td>\n",
       "      <td>-2.634</td>\n",
       "      <td>1</td>\n",
       "      <td>0.0583</td>\n",
       "      <td>0.1020</td>\n",
       "      <td>0.000000</td>\n",
       "      <td>0.0653</td>\n",
       "      <td>0.518</td>\n",
       "      <td>122.036</td>\n",
       "      <td>194754.0</td>\n",
       "      <td>194.754</td>\n",
       "    </tr>\n",
       "    <tr>\n",
       "      <td>1</td>\n",
       "      <td>0r7CVbZTWZgbTCYdfa2P31</td>\n",
       "      <td>Memories - Dillon Francis Remix</td>\n",
       "      <td>Maroon 5</td>\n",
       "      <td>67</td>\n",
       "      <td>Memories (Dillon Francis Remix)</td>\n",
       "      <td>2019-12-13</td>\n",
       "      <td>Pop Remix</td>\n",
       "      <td>pop</td>\n",
       "      <td>dance pop</td>\n",
       "      <td>0.726</td>\n",
       "      <td>...</td>\n",
       "      <td>-4.969</td>\n",
       "      <td>1</td>\n",
       "      <td>0.0373</td>\n",
       "      <td>0.0724</td>\n",
       "      <td>0.004210</td>\n",
       "      <td>0.3570</td>\n",
       "      <td>0.693</td>\n",
       "      <td>99.972</td>\n",
       "      <td>162600.0</td>\n",
       "      <td>162.600</td>\n",
       "    </tr>\n",
       "    <tr>\n",
       "      <td>2</td>\n",
       "      <td>1z1Hg7Vb0AhHDiEmnDE79l</td>\n",
       "      <td>All the Time - Don Diablo Remix</td>\n",
       "      <td>Zara Larsson</td>\n",
       "      <td>70</td>\n",
       "      <td>All the Time (Don Diablo Remix)</td>\n",
       "      <td>2019-07-05</td>\n",
       "      <td>Pop Remix</td>\n",
       "      <td>pop</td>\n",
       "      <td>dance pop</td>\n",
       "      <td>0.675</td>\n",
       "      <td>...</td>\n",
       "      <td>-3.432</td>\n",
       "      <td>0</td>\n",
       "      <td>0.0742</td>\n",
       "      <td>0.0794</td>\n",
       "      <td>0.000023</td>\n",
       "      <td>0.1100</td>\n",
       "      <td>0.613</td>\n",
       "      <td>124.008</td>\n",
       "      <td>176616.0</td>\n",
       "      <td>176.616</td>\n",
       "    </tr>\n",
       "    <tr>\n",
       "      <td>3</td>\n",
       "      <td>75FpbthrwQmzHlBJLuGdC7</td>\n",
       "      <td>Call You Mine - Keanu Silva Remix</td>\n",
       "      <td>The Chainsmokers</td>\n",
       "      <td>60</td>\n",
       "      <td>Call You Mine - The Remixes</td>\n",
       "      <td>2019-07-19</td>\n",
       "      <td>Pop Remix</td>\n",
       "      <td>pop</td>\n",
       "      <td>dance pop</td>\n",
       "      <td>0.718</td>\n",
       "      <td>...</td>\n",
       "      <td>-3.778</td>\n",
       "      <td>1</td>\n",
       "      <td>0.1020</td>\n",
       "      <td>0.0287</td>\n",
       "      <td>0.000009</td>\n",
       "      <td>0.2040</td>\n",
       "      <td>0.277</td>\n",
       "      <td>121.956</td>\n",
       "      <td>169093.0</td>\n",
       "      <td>169.093</td>\n",
       "    </tr>\n",
       "    <tr>\n",
       "      <td>4</td>\n",
       "      <td>1e8PAfcKUYoKkxPhrHqw4x</td>\n",
       "      <td>Someone You Loved - Future Humans Remix</td>\n",
       "      <td>Lewis Capaldi</td>\n",
       "      <td>69</td>\n",
       "      <td>Someone You Loved (Future Humans Remix)</td>\n",
       "      <td>2019-03-05</td>\n",
       "      <td>Pop Remix</td>\n",
       "      <td>pop</td>\n",
       "      <td>dance pop</td>\n",
       "      <td>0.650</td>\n",
       "      <td>...</td>\n",
       "      <td>-4.672</td>\n",
       "      <td>1</td>\n",
       "      <td>0.0359</td>\n",
       "      <td>0.0803</td>\n",
       "      <td>0.000000</td>\n",
       "      <td>0.0833</td>\n",
       "      <td>0.725</td>\n",
       "      <td>123.976</td>\n",
       "      <td>189052.0</td>\n",
       "      <td>189.052</td>\n",
       "    </tr>\n",
       "  </tbody>\n",
       "</table>\n",
       "<p>5 rows × 22 columns</p>\n",
       "</div>"
      ],
      "text/plain": [
       "                 track_id                                         track_name  \\\n",
       "0  6f807x0ima9a1j3VPbc7VN  I Don't Care (with Justin Bieber) - Loud Luxur...   \n",
       "1  0r7CVbZTWZgbTCYdfa2P31                    Memories - Dillon Francis Remix   \n",
       "2  1z1Hg7Vb0AhHDiEmnDE79l                    All the Time - Don Diablo Remix   \n",
       "3  75FpbthrwQmzHlBJLuGdC7                  Call You Mine - Keanu Silva Remix   \n",
       "4  1e8PAfcKUYoKkxPhrHqw4x            Someone You Loved - Future Humans Remix   \n",
       "\n",
       "       track_artist  track_popularity  \\\n",
       "0        Ed Sheeran                66   \n",
       "1          Maroon 5                67   \n",
       "2      Zara Larsson                70   \n",
       "3  The Chainsmokers                60   \n",
       "4     Lewis Capaldi                69   \n",
       "\n",
       "                                    track_album_name track_album_release_date  \\\n",
       "0  I Don't Care (with Justin Bieber) [Loud Luxury...               2019-06-14   \n",
       "1                    Memories (Dillon Francis Remix)               2019-12-13   \n",
       "2                    All the Time (Don Diablo Remix)               2019-07-05   \n",
       "3                        Call You Mine - The Remixes               2019-07-19   \n",
       "4            Someone You Loved (Future Humans Remix)               2019-03-05   \n",
       "\n",
       "  playlist_name playlist_genre playlist_subgenre  danceability  ...  loudness  \\\n",
       "0     Pop Remix            pop         dance pop         0.748  ...    -2.634   \n",
       "1     Pop Remix            pop         dance pop         0.726  ...    -4.969   \n",
       "2     Pop Remix            pop         dance pop         0.675  ...    -3.432   \n",
       "3     Pop Remix            pop         dance pop         0.718  ...    -3.778   \n",
       "4     Pop Remix            pop         dance pop         0.650  ...    -4.672   \n",
       "\n",
       "   mode  speechiness  acousticness  instrumentalness  liveness  valence  \\\n",
       "0     1       0.0583        0.1020          0.000000    0.0653    0.518   \n",
       "1     1       0.0373        0.0724          0.004210    0.3570    0.693   \n",
       "2     0       0.0742        0.0794          0.000023    0.1100    0.613   \n",
       "3     1       0.1020        0.0287          0.000009    0.2040    0.277   \n",
       "4     1       0.0359        0.0803          0.000000    0.0833    0.725   \n",
       "\n",
       "     tempo  duration_ms  duration_sec  \n",
       "0  122.036     194754.0       194.754  \n",
       "1   99.972     162600.0       162.600  \n",
       "2  124.008     176616.0       176.616  \n",
       "3  121.956     169093.0       169.093  \n",
       "4  123.976     189052.0       189.052  \n",
       "\n",
       "[5 rows x 22 columns]"
      ]
     },
     "execution_count": 3,
     "metadata": {},
     "output_type": "execute_result"
    }
   ],
   "source": [
    "spotify.head()"
   ]
  },
  {
   "cell_type": "code",
   "execution_count": 4,
   "metadata": {
    "colab": {},
    "colab_type": "code",
    "id": "SAuy6gfH7Uv8",
    "outputId": "ff95beac-3f37-45b6-bd4b-cb936d640586"
   },
   "outputs": [
    {
     "data": {
      "text/plain": [
       "Index(['track_id', 'track_name', 'track_artist', 'track_popularity',\n",
       "       'track_album_name', 'track_album_release_date', 'playlist_name',\n",
       "       'playlist_genre', 'playlist_subgenre', 'danceability', 'energy', 'key',\n",
       "       'loudness', 'mode', 'speechiness', 'acousticness', 'instrumentalness',\n",
       "       'liveness', 'valence', 'tempo', 'duration_ms', 'duration_sec'],\n",
       "      dtype='object')"
      ]
     },
     "execution_count": 4,
     "metadata": {},
     "output_type": "execute_result"
    }
   ],
   "source": [
    "spotify.columns"
   ]
  },
  {
   "cell_type": "code",
   "execution_count": 5,
   "metadata": {
    "colab": {},
    "colab_type": "code",
    "id": "G58AIlcK7Uv-",
    "outputId": "1d1eb15c-cbf8-4297-ba62-e6e9f296fe45"
   },
   "outputs": [
    {
     "data": {
      "text/plain": [
       "count    32833.000000\n",
       "mean        -6.719499\n",
       "std          2.988436\n",
       "min        -46.448000\n",
       "25%         -8.171000\n",
       "50%         -6.166000\n",
       "75%         -4.645000\n",
       "max          1.275000\n",
       "Name: loudness, dtype: float64"
      ]
     },
     "execution_count": 5,
     "metadata": {},
     "output_type": "execute_result"
    }
   ],
   "source": [
    "spotify['loudness'].describe()"
   ]
  },
  {
   "cell_type": "code",
   "execution_count": 6,
   "metadata": {
    "colab": {},
    "colab_type": "code",
    "id": "NgTkJkJh7UwC",
    "outputId": "133896cc-6016-4e1a-c8b3-f79c74ee0b95"
   },
   "outputs": [
    {
     "data": {
      "text/plain": [
       "array(['Ed Sheeran', 'Maroon 5', 'Zara Larsson', ...,\n",
       "       'Ferry Corsten feat. Jenny Wahlstrom', 'Tegan and Sara', 'Mat Zo'],\n",
       "      dtype=object)"
      ]
     },
     "execution_count": 6,
     "metadata": {},
     "output_type": "execute_result"
    }
   ],
   "source": [
    "spotify['track_artist'].unique()"
   ]
  },
  {
   "cell_type": "markdown",
   "metadata": {
    "colab_type": "text",
    "id": "nCO51Qn47UwI"
   },
   "source": [
    "## Functions and Visualization"
   ]
  },
  {
   "cell_type": "code",
   "execution_count": 7,
   "metadata": {
    "colab": {},
    "colab_type": "code",
    "id": "tj6UxCiC7UwI"
   },
   "outputs": [],
   "source": [
    "def distplots(column, artist1, artist2):\n",
    "\n",
    "    '''\n",
    "    Display overlapping histograms of some attribute of music of two different artists.\n",
    "    \n",
    "    Parameters:\n",
    "    column - the attribute to be compared.\n",
    "    artist1, artist2 - two artists from the spotify table.\n",
    "    '''\n",
    "    \n",
    "    if artist1 not in spotify['track_artist'].unique() or artist2 not in spotify['track_artist'].unique():\n",
    "        return (\"Unable to plot graphs: artist(s) not found.\")\n",
    "    \n",
    "    plt.figure(figsize=(10, 5))\n",
    "    \n",
    "    artist1_df = spotify[spotify['track_artist'] == artist1]\n",
    "    artist2_df = spotify[spotify['track_artist'] == artist2]\n",
    "   \n",
    "    sns.distplot(artist1_df[column], label = artist1)\n",
    "    sns.distplot(artist2_df[column], label = artist2)\n",
    "    \n",
    "    plt.legend()"
   ]
  },
  {
   "cell_type": "code",
   "execution_count": 8,
   "metadata": {
    "colab": {},
    "colab_type": "code",
    "id": "opy7rbZK7UwM"
   },
   "outputs": [],
   "source": [
    "# distplots('loudness', 'Katy')"
   ]
  },
  {
   "cell_type": "code",
   "execution_count": 9,
   "metadata": {
    "colab": {},
    "colab_type": "code",
    "id": "8ITQh6DK7UwP",
    "outputId": "13b0cbe0-edf6-4ee7-9564-12bf490b71df"
   },
   "outputs": [
    {
     "data": {
      "image/png": "[encoded data removed]",
      "text/plain": [
       "<Figure size 720x360 with 1 Axes>"
      ]
     },
     "metadata": {
      "needs_background": "light"
     },
     "output_type": "display_data"
    }
   ],
   "source": [
    "distplots('tempo', 'Maroon 5', 'Nicki Minaj')"
   ]
  },
  {
   "cell_type": "code",
   "execution_count": 10,
   "metadata": {
    "colab": {},
    "colab_type": "code",
    "id": "8ygTa-KM7UwT",
    "outputId": "3518ecac-ad85-4b35-8004-8cdb1e93b498"
   },
   "outputs": [
    {
     "data": {
      "image/png": "[encoded data removed]",
      "text/plain": [
       "<Figure size 720x360 with 1 Axes>"
      ]
     },
     "metadata": {
      "needs_background": "light"
     },
     "output_type": "display_data"
    }
   ],
   "source": [
    "distplots('danceability', 'Sam Smith', 'Avicii')"
   ]
  },
  {
   "cell_type": "code",
   "execution_count": 11,
   "metadata": {
    "colab": {},
    "colab_type": "code",
    "id": "Iek13St-7UwX",
    "outputId": "cb39cb03-5ef3-45a8-e6cc-29e9ce2179d2"
   },
   "outputs": [
    {
     "data": {
      "image/png": "[encoded data removed]",
      "text/plain": [
       "<Figure size 720x360 with 1 Axes>"
      ]
     },
     "metadata": {
      "needs_background": "light"
     },
     "output_type": "display_data"
    }
   ],
   "source": [
    "distplots('energy', 'Frank Ocean', 'Steve Aoki')"
   ]
  },
  {
   "cell_type": "code",
   "execution_count": 12,
   "metadata": {
    "colab": {},
    "colab_type": "code",
    "id": "-53nIILj7UwZ",
    "outputId": "977c584a-c2f9-47cb-d300-25db14bc0606"
   },
   "outputs": [
    {
     "data": {
      "image/png": "[encoded data removed]",
      "text/plain": [
       "<Figure size 720x360 with 1 Axes>"
      ]
     },
     "metadata": {
      "needs_background": "light"
     },
     "output_type": "display_data"
    }
   ],
   "source": [
    "distplots('duration_sec', 'The Chainsmokers', 'Steve Aoki')"
   ]
  },
  {
   "cell_type": "code",
   "execution_count": null,
   "metadata": {
    "colab": {},
    "colab_type": "code",
    "id": "TiTXKUXc7Uwc"
   },
   "outputs": [],
   "source": []
  },
  {
   "cell_type": "markdown",
   "metadata": {
    "colab_type": "text",
    "id": "3dkI--AG7Uwe"
   },
   "source": [
    "# Analyzing Playlist Popularity by Track"
   ]
  },
  {
   "cell_type": "code",
   "execution_count": 13,
   "metadata": {
    "colab": {},
    "colab_type": "code",
    "id": "2wkmEQjX7Uwf"
   },
   "outputs": [],
   "source": [
    "names = spotify['playlist_name'].unique()\n",
    "popularities = []\n",
    "count = []\n",
    "\n",
    "for playlist in names:\n",
    "    subset = spotify[spotify['playlist_name'] == playlist]\n",
    "    popularities.append(subset['track_popularity'].sum())\n",
    "    count.append(len(subset))\n",
    "    "
   ]
  },
  {
   "cell_type": "code",
   "execution_count": 14,
   "metadata": {
    "colab": {},
    "colab_type": "code",
    "id": "MbtAritn7Uwi",
    "outputId": "d5c764fb-ee5a-458a-ab6b-aba429533d3b"
   },
   "outputs": [
    {
     "data": {
      "text/html": [
       "<div>\n",
       "<style scoped>\n",
       "    .dataframe tbody tr th:only-of-type {\n",
       "        vertical-align: middle;\n",
       "    }\n",
       "\n",
       "    .dataframe tbody tr th {\n",
       "        vertical-align: top;\n",
       "    }\n",
       "\n",
       "    .dataframe thead th {\n",
       "        text-align: right;\n",
       "    }\n",
       "</style>\n",
       "<table border=\"1\" class=\"dataframe\">\n",
       "  <thead>\n",
       "    <tr style=\"text-align: right;\">\n",
       "      <th></th>\n",
       "      <th>Playlist Name</th>\n",
       "      <th>Aggregate Popularity</th>\n",
       "      <th>Number of Tracks</th>\n",
       "    </tr>\n",
       "  </thead>\n",
       "  <tbody>\n",
       "    <tr>\n",
       "      <td>0</td>\n",
       "      <td>Pop Remix</td>\n",
       "      <td>4174</td>\n",
       "      <td>70</td>\n",
       "    </tr>\n",
       "    <tr>\n",
       "      <td>1</td>\n",
       "      <td>Dance Pop</td>\n",
       "      <td>8380</td>\n",
       "      <td>138</td>\n",
       "    </tr>\n",
       "    <tr>\n",
       "      <td>2</td>\n",
       "      <td>Dance Room</td>\n",
       "      <td>3355</td>\n",
       "      <td>56</td>\n",
       "    </tr>\n",
       "    <tr>\n",
       "      <td>3</td>\n",
       "      <td>Cardio</td>\n",
       "      <td>2641</td>\n",
       "      <td>49</td>\n",
       "    </tr>\n",
       "    <tr>\n",
       "      <td>4</td>\n",
       "      <td>Dance Pop Hits</td>\n",
       "      <td>4051</td>\n",
       "      <td>63</td>\n",
       "    </tr>\n",
       "  </tbody>\n",
       "</table>\n",
       "</div>"
      ],
      "text/plain": [
       "    Playlist Name  Aggregate Popularity  Number of Tracks\n",
       "0       Pop Remix                  4174                70\n",
       "1       Dance Pop                  8380               138\n",
       "2      Dance Room                  3355                56\n",
       "3          Cardio                  2641                49\n",
       "4  Dance Pop Hits                  4051                63"
      ]
     },
     "execution_count": 14,
     "metadata": {},
     "output_type": "execute_result"
    }
   ],
   "source": [
    "playlist_pop = pd.DataFrame({'Playlist Name': names, \n",
    "              'Aggregate Popularity': popularities,\n",
    "              'Number of Tracks': count})\n",
    "playlist_pop.head()"
   ]
  },
  {
   "cell_type": "code",
   "execution_count": 15,
   "metadata": {
    "colab": {},
    "colab_type": "code",
    "id": "ZZOLxuik7Uwk",
    "outputId": "d1c84300-bf48-4fe4-8840-4c0104e51e04"
   },
   "outputs": [
    {
     "data": {
      "text/html": [
       "<div>\n",
       "<style scoped>\n",
       "    .dataframe tbody tr th:only-of-type {\n",
       "        vertical-align: middle;\n",
       "    }\n",
       "\n",
       "    .dataframe tbody tr th {\n",
       "        vertical-align: top;\n",
       "    }\n",
       "\n",
       "    .dataframe thead th {\n",
       "        text-align: right;\n",
       "    }\n",
       "</style>\n",
       "<table border=\"1\" class=\"dataframe\">\n",
       "  <thead>\n",
       "    <tr style=\"text-align: right;\">\n",
       "      <th></th>\n",
       "      <th>Playlist Name</th>\n",
       "      <th>Aggregate Popularity</th>\n",
       "      <th>Number of Tracks</th>\n",
       "    </tr>\n",
       "  </thead>\n",
       "  <tbody>\n",
       "    <tr>\n",
       "      <td>253</td>\n",
       "      <td>2020 Hits &amp; 2019  Hits – Top Global Tracks 🔥🔥🔥</td>\n",
       "      <td>20547</td>\n",
       "      <td>247</td>\n",
       "    </tr>\n",
       "    <tr>\n",
       "      <td>193</td>\n",
       "      <td>Permanent Wave</td>\n",
       "      <td>13261</td>\n",
       "      <td>244</td>\n",
       "    </tr>\n",
       "    <tr>\n",
       "      <td>63</td>\n",
       "      <td>Indie Poptimism</td>\n",
       "      <td>13107</td>\n",
       "      <td>308</td>\n",
       "    </tr>\n",
       "    <tr>\n",
       "      <td>321</td>\n",
       "      <td>Charts 2020 🔥Top 2020🔥Hits 2020🔥Summer 2020🔥Po...</td>\n",
       "      <td>12670</td>\n",
       "      <td>189</td>\n",
       "    </tr>\n",
       "    <tr>\n",
       "      <td>15</td>\n",
       "      <td>Ultimate Indie Presents... Best Indie Tracks o...</td>\n",
       "      <td>11840</td>\n",
       "      <td>198</td>\n",
       "    </tr>\n",
       "  </tbody>\n",
       "</table>\n",
       "</div>"
      ],
      "text/plain": [
       "                                         Playlist Name  Aggregate Popularity  \\\n",
       "253     2020 Hits & 2019  Hits – Top Global Tracks 🔥🔥🔥                 20547   \n",
       "193                                     Permanent Wave                 13261   \n",
       "63                                     Indie Poptimism                 13107   \n",
       "321  Charts 2020 🔥Top 2020🔥Hits 2020🔥Summer 2020🔥Po...                 12670   \n",
       "15   Ultimate Indie Presents... Best Indie Tracks o...                 11840   \n",
       "\n",
       "     Number of Tracks  \n",
       "253               247  \n",
       "193               244  \n",
       "63                308  \n",
       "321               189  \n",
       "15                198  "
      ]
     },
     "execution_count": 15,
     "metadata": {},
     "output_type": "execute_result"
    }
   ],
   "source": [
    "playlist_pop.sort_values(by='Aggregate Popularity', ascending=False).head()"
   ]
  },
  {
   "cell_type": "code",
   "execution_count": 16,
   "metadata": {
    "colab": {},
    "colab_type": "code",
    "id": "wbcvczaP7Uwn",
    "outputId": "39c635d3-30dc-4cf4-89b2-07a26a144de0"
   },
   "outputs": [
    {
     "data": {
      "text/html": [
       "<div>\n",
       "<style scoped>\n",
       "    .dataframe tbody tr th:only-of-type {\n",
       "        vertical-align: middle;\n",
       "    }\n",
       "\n",
       "    .dataframe tbody tr th {\n",
       "        vertical-align: top;\n",
       "    }\n",
       "\n",
       "    .dataframe thead th {\n",
       "        text-align: right;\n",
       "    }\n",
       "</style>\n",
       "<table border=\"1\" class=\"dataframe\">\n",
       "  <thead>\n",
       "    <tr style=\"text-align: right;\">\n",
       "      <th></th>\n",
       "      <th>Playlist Name</th>\n",
       "      <th>Aggregate Popularity</th>\n",
       "      <th>Number of Tracks</th>\n",
       "    </tr>\n",
       "  </thead>\n",
       "  <tbody>\n",
       "    <tr>\n",
       "      <td>63</td>\n",
       "      <td>Indie Poptimism</td>\n",
       "      <td>13107</td>\n",
       "      <td>308</td>\n",
       "    </tr>\n",
       "    <tr>\n",
       "      <td>253</td>\n",
       "      <td>2020 Hits &amp; 2019  Hits – Top Global Tracks 🔥🔥🔥</td>\n",
       "      <td>20547</td>\n",
       "      <td>247</td>\n",
       "    </tr>\n",
       "    <tr>\n",
       "      <td>193</td>\n",
       "      <td>Permanent Wave</td>\n",
       "      <td>13261</td>\n",
       "      <td>244</td>\n",
       "    </tr>\n",
       "    <tr>\n",
       "      <td>208</td>\n",
       "      <td>Hard Rock Workout</td>\n",
       "      <td>8713</td>\n",
       "      <td>219</td>\n",
       "    </tr>\n",
       "    <tr>\n",
       "      <td>15</td>\n",
       "      <td>Ultimate Indie Presents... Best Indie Tracks o...</td>\n",
       "      <td>11840</td>\n",
       "      <td>198</td>\n",
       "    </tr>\n",
       "  </tbody>\n",
       "</table>\n",
       "</div>"
      ],
      "text/plain": [
       "                                         Playlist Name  Aggregate Popularity  \\\n",
       "63                                     Indie Poptimism                 13107   \n",
       "253     2020 Hits & 2019  Hits – Top Global Tracks 🔥🔥🔥                 20547   \n",
       "193                                     Permanent Wave                 13261   \n",
       "208                                  Hard Rock Workout                  8713   \n",
       "15   Ultimate Indie Presents... Best Indie Tracks o...                 11840   \n",
       "\n",
       "     Number of Tracks  \n",
       "63                308  \n",
       "253               247  \n",
       "193               244  \n",
       "208               219  \n",
       "15                198  "
      ]
     },
     "execution_count": 16,
     "metadata": {},
     "output_type": "execute_result"
    }
   ],
   "source": [
    "playlist_pop.sort_values(by='Number of Tracks', ascending=False).head()"
   ]
  },
  {
   "cell_type": "code",
   "execution_count": 17,
   "metadata": {
    "colab": {},
    "colab_type": "code",
    "id": "ITPniu4B7Uwr"
   },
   "outputs": [],
   "source": [
    "playlist_pop['Proportion'] = playlist_pop['Aggregate Popularity']/playlist_pop['Number of Tracks']"
   ]
  },
  {
   "cell_type": "code",
   "execution_count": 18,
   "metadata": {
    "colab": {},
    "colab_type": "code",
    "id": "cXeYYphF7Uwt",
    "outputId": "d4cadd3a-0b5d-422f-8d15-fce267f31094"
   },
   "outputs": [
    {
     "data": {
      "text/html": [
       "<div>\n",
       "<style scoped>\n",
       "    .dataframe tbody tr th:only-of-type {\n",
       "        vertical-align: middle;\n",
       "    }\n",
       "\n",
       "    .dataframe tbody tr th {\n",
       "        vertical-align: top;\n",
       "    }\n",
       "\n",
       "    .dataframe thead th {\n",
       "        text-align: right;\n",
       "    }\n",
       "</style>\n",
       "<table border=\"1\" class=\"dataframe\">\n",
       "  <thead>\n",
       "    <tr style=\"text-align: right;\">\n",
       "      <th></th>\n",
       "      <th>Playlist Name</th>\n",
       "      <th>Aggregate Popularity</th>\n",
       "      <th>Number of Tracks</th>\n",
       "      <th>Proportion</th>\n",
       "    </tr>\n",
       "  </thead>\n",
       "  <tbody>\n",
       "    <tr>\n",
       "      <td>253</td>\n",
       "      <td>2020 Hits &amp; 2019  Hits – Top Global Tracks 🔥🔥🔥</td>\n",
       "      <td>20547</td>\n",
       "      <td>247</td>\n",
       "      <td>83.186235</td>\n",
       "    </tr>\n",
       "    <tr>\n",
       "      <td>73</td>\n",
       "      <td>RapCaviar</td>\n",
       "      <td>3985</td>\n",
       "      <td>50</td>\n",
       "      <td>79.700000</td>\n",
       "    </tr>\n",
       "    <tr>\n",
       "      <td>302</td>\n",
       "      <td>Most Popular 2020 TOP 50</td>\n",
       "      <td>3808</td>\n",
       "      <td>48</td>\n",
       "      <td>79.333333</td>\n",
       "    </tr>\n",
       "    <tr>\n",
       "      <td>19</td>\n",
       "      <td>Pop - Pop UK - 2019 - Canadian Pop - 2019 - Pop</td>\n",
       "      <td>7913</td>\n",
       "      <td>100</td>\n",
       "      <td>79.130000</td>\n",
       "    </tr>\n",
       "    <tr>\n",
       "      <td>261</td>\n",
       "      <td>Baila Reggaeton</td>\n",
       "      <td>3885</td>\n",
       "      <td>50</td>\n",
       "      <td>77.700000</td>\n",
       "    </tr>\n",
       "  </tbody>\n",
       "</table>\n",
       "</div>"
      ],
      "text/plain": [
       "                                       Playlist Name  Aggregate Popularity  \\\n",
       "253   2020 Hits & 2019  Hits – Top Global Tracks 🔥🔥🔥                 20547   \n",
       "73                                         RapCaviar                  3985   \n",
       "302                         Most Popular 2020 TOP 50                  3808   \n",
       "19   Pop - Pop UK - 2019 - Canadian Pop - 2019 - Pop                  7913   \n",
       "261                                  Baila Reggaeton                  3885   \n",
       "\n",
       "     Number of Tracks  Proportion  \n",
       "253               247   83.186235  \n",
       "73                 50   79.700000  \n",
       "302                48   79.333333  \n",
       "19                100   79.130000  \n",
       "261                50   77.700000  "
      ]
     },
     "execution_count": 18,
     "metadata": {},
     "output_type": "execute_result"
    }
   ],
   "source": [
    "playlist_pop.sort_values(by='Proportion', ascending=False).head()\n",
    "# Can do this with groupby"
   ]
  },
  {
   "cell_type": "code",
   "execution_count": 19,
   "metadata": {
    "colab": {},
    "colab_type": "code",
    "id": "KtqYVkEv7Uwv",
    "outputId": "a442b387-359b-4aa3-a8d9-2943010941f4"
   },
   "outputs": [
    {
     "data": {
      "text/html": [
       "<div>\n",
       "<style scoped>\n",
       "    .dataframe tbody tr th:only-of-type {\n",
       "        vertical-align: middle;\n",
       "    }\n",
       "\n",
       "    .dataframe tbody tr th {\n",
       "        vertical-align: top;\n",
       "    }\n",
       "\n",
       "    .dataframe thead th {\n",
       "        text-align: right;\n",
       "    }\n",
       "</style>\n",
       "<table border=\"1\" class=\"dataframe\">\n",
       "  <thead>\n",
       "    <tr style=\"text-align: right;\">\n",
       "      <th></th>\n",
       "      <th>Artist</th>\n",
       "      <th>Number of Tracks</th>\n",
       "    </tr>\n",
       "  </thead>\n",
       "  <tbody>\n",
       "    <tr>\n",
       "      <td>0</td>\n",
       "      <td>Ed Sheeran</td>\n",
       "      <td>69</td>\n",
       "    </tr>\n",
       "    <tr>\n",
       "      <td>1</td>\n",
       "      <td>Maroon 5</td>\n",
       "      <td>71</td>\n",
       "    </tr>\n",
       "    <tr>\n",
       "      <td>2</td>\n",
       "      <td>Zara Larsson</td>\n",
       "      <td>28</td>\n",
       "    </tr>\n",
       "    <tr>\n",
       "      <td>3</td>\n",
       "      <td>The Chainsmokers</td>\n",
       "      <td>123</td>\n",
       "    </tr>\n",
       "    <tr>\n",
       "      <td>4</td>\n",
       "      <td>Lewis Capaldi</td>\n",
       "      <td>21</td>\n",
       "    </tr>\n",
       "    <tr>\n",
       "      <td>...</td>\n",
       "      <td>...</td>\n",
       "      <td>...</td>\n",
       "    </tr>\n",
       "    <tr>\n",
       "      <td>10688</td>\n",
       "      <td>The Cataracs</td>\n",
       "      <td>1</td>\n",
       "    </tr>\n",
       "    <tr>\n",
       "      <td>10689</td>\n",
       "      <td>Qubicon</td>\n",
       "      <td>1</td>\n",
       "    </tr>\n",
       "    <tr>\n",
       "      <td>10690</td>\n",
       "      <td>Ferry Corsten feat. Jenny Wahlstrom</td>\n",
       "      <td>1</td>\n",
       "    </tr>\n",
       "    <tr>\n",
       "      <td>10691</td>\n",
       "      <td>Tegan and Sara</td>\n",
       "      <td>1</td>\n",
       "    </tr>\n",
       "    <tr>\n",
       "      <td>10692</td>\n",
       "      <td>Mat Zo</td>\n",
       "      <td>1</td>\n",
       "    </tr>\n",
       "  </tbody>\n",
       "</table>\n",
       "<p>10693 rows × 2 columns</p>\n",
       "</div>"
      ],
      "text/plain": [
       "                                    Artist  Number of Tracks\n",
       "0                               Ed Sheeran                69\n",
       "1                                 Maroon 5                71\n",
       "2                             Zara Larsson                28\n",
       "3                         The Chainsmokers               123\n",
       "4                            Lewis Capaldi                21\n",
       "...                                    ...               ...\n",
       "10688                         The Cataracs                 1\n",
       "10689                              Qubicon                 1\n",
       "10690  Ferry Corsten feat. Jenny Wahlstrom                 1\n",
       "10691                       Tegan and Sara                 1\n",
       "10692                               Mat Zo                 1\n",
       "\n",
       "[10693 rows x 2 columns]"
      ]
     },
     "execution_count": 19,
     "metadata": {},
     "output_type": "execute_result"
    }
   ],
   "source": [
    "# Further visualization\n",
    "\n",
    "artists = spotify['track_artist'].unique()\n",
    "popular_artists = []\n",
    "count_artists = []\n",
    "\n",
    "for artist in artists:\n",
    "    subset = spotify[spotify['track_artist'] == artist]\n",
    "    count_artists.append(len(subset))\n",
    "    \n",
    "    \n",
    "popular_artists = pd.DataFrame({'Artist': artists, \n",
    "              'Number of Tracks': count_artists})\n",
    "\n",
    "popular_artists"
   ]
  },
  {
   "cell_type": "code",
   "execution_count": 20,
   "metadata": {
    "colab": {},
    "colab_type": "code",
    "id": "Ir1VQhxs7Uwy",
    "outputId": "b5ed4a7b-a8bd-4716-a907-bd5c0210f753"
   },
   "outputs": [
    {
     "data": {
      "text/html": [
       "<div>\n",
       "<style scoped>\n",
       "    .dataframe tbody tr th:only-of-type {\n",
       "        vertical-align: middle;\n",
       "    }\n",
       "\n",
       "    .dataframe tbody tr th {\n",
       "        vertical-align: top;\n",
       "    }\n",
       "\n",
       "    .dataframe thead th {\n",
       "        text-align: right;\n",
       "    }\n",
       "</style>\n",
       "<table border=\"1\" class=\"dataframe\">\n",
       "  <thead>\n",
       "    <tr style=\"text-align: right;\">\n",
       "      <th></th>\n",
       "      <th>Artist</th>\n",
       "      <th>Number of Tracks</th>\n",
       "    </tr>\n",
       "  </thead>\n",
       "  <tbody>\n",
       "    <tr>\n",
       "      <td>11</td>\n",
       "      <td>Martin Garrix</td>\n",
       "      <td>161</td>\n",
       "    </tr>\n",
       "    <tr>\n",
       "      <td>1053</td>\n",
       "      <td>Queen</td>\n",
       "      <td>136</td>\n",
       "    </tr>\n",
       "    <tr>\n",
       "      <td>3</td>\n",
       "      <td>The Chainsmokers</td>\n",
       "      <td>123</td>\n",
       "    </tr>\n",
       "    <tr>\n",
       "      <td>13</td>\n",
       "      <td>David Guetta</td>\n",
       "      <td>110</td>\n",
       "    </tr>\n",
       "    <tr>\n",
       "      <td>1215</td>\n",
       "      <td>Don Omar</td>\n",
       "      <td>102</td>\n",
       "    </tr>\n",
       "    <tr>\n",
       "      <td>1161</td>\n",
       "      <td>Drake</td>\n",
       "      <td>100</td>\n",
       "    </tr>\n",
       "    <tr>\n",
       "      <td>93</td>\n",
       "      <td>Dimitri Vegas &amp; Like Mike</td>\n",
       "      <td>93</td>\n",
       "    </tr>\n",
       "    <tr>\n",
       "      <td>36</td>\n",
       "      <td>Calvin Harris</td>\n",
       "      <td>91</td>\n",
       "    </tr>\n",
       "    <tr>\n",
       "      <td>132</td>\n",
       "      <td>Hardwell</td>\n",
       "      <td>84</td>\n",
       "    </tr>\n",
       "    <tr>\n",
       "      <td>27</td>\n",
       "      <td>Kygo</td>\n",
       "      <td>83</td>\n",
       "    </tr>\n",
       "  </tbody>\n",
       "</table>\n",
       "</div>"
      ],
      "text/plain": [
       "                         Artist  Number of Tracks\n",
       "11                Martin Garrix               161\n",
       "1053                      Queen               136\n",
       "3              The Chainsmokers               123\n",
       "13                 David Guetta               110\n",
       "1215                   Don Omar               102\n",
       "1161                      Drake               100\n",
       "93    Dimitri Vegas & Like Mike                93\n",
       "36                Calvin Harris                91\n",
       "132                    Hardwell                84\n",
       "27                         Kygo                83"
      ]
     },
     "execution_count": 20,
     "metadata": {},
     "output_type": "execute_result"
    }
   ],
   "source": [
    "# top 10 artists\n",
    "popular_artists.sort_values('Number of Tracks', ascending=False).head(10)"
   ]
  },
  {
   "cell_type": "code",
   "execution_count": null,
   "metadata": {
    "colab": {},
    "colab_type": "code",
    "id": "Q7zbhsmp7Uw1"
   },
   "outputs": [],
   "source": []
  },
  {
   "cell_type": "markdown",
   "metadata": {
    "colab_type": "text",
    "id": "UrShQaSA7XlW"
   },
   "source": [
    "## Converting to `datascience` style"
   ]
  },
  {
   "cell_type": "code",
   "execution_count": 21,
   "metadata": {
    "colab": {},
    "colab_type": "code",
    "id": "4MXSZycJ7ar2"
   },
   "outputs": [],
   "source": [
    "from datascience import *"
   ]
  },
  {
   "cell_type": "markdown",
   "metadata": {
    "colab_type": "text",
    "id": "CmPuQAQD-rSP"
   },
   "source": [
    "# Ch. 5.1 Interlude: Tables <a id='tables'></a>\n",
    "### Loading datasets\n",
    "Tables are often created from files that contain comma separated values, called CSV files. Sometimes these files are stored locally on our computers, and sometimes they are stored remotely, such as on Github. Below, we use the method `Table.read_table` to read the csv file from the given url, and we store the resulting table with the name `Spotify`."
   ]
  },
  {
   "cell_type": "code",
   "execution_count": 74,
   "metadata": {
    "colab": {
     "base_uri": "https://localhost:8080/",
     "height": 863
    },
    "colab_type": "code",
    "id": "Ce2ncREZ8Ogd",
    "outputId": "222c5caf-d993-480a-938e-5af6420b99d7"
   },
   "outputs": [
    {
     "data": {
      "text/html": [
       "<table border=\"1\" class=\"dataframe\">\n",
       "    <thead>\n",
       "        <tr>\n",
       "            <th>Unnamed: 0</th> <th>track_id</th> <th>track_name</th> <th>track_artist</th> <th>track_popularity</th> <th>track_album_id</th> <th>track_album_name</th> <th>track_album_release_date</th> <th>playlist_name</th> <th>playlist_id</th> <th>playlist_genre</th> <th>playlist_subgenre</th> <th>danceability</th> <th>energy</th> <th>key</th> <th>loudness</th> <th>mode</th> <th>speechiness</th> <th>acousticness</th> <th>instrumentalness</th> <th>liveness</th> <th>valence</th> <th>tempo</th> <th>duration_ms</th>\n",
       "        </tr>\n",
       "    </thead>\n",
       "    <tbody>\n",
       "        <tr>\n",
       "            <td>1         </td> <td>6f807x0ima9a1j3VPbc7VN</td> <td>I Don't Care (with Justin Bieber) - Loud Luxury Remix</td> <td>Ed Sheeran      </td> <td>66              </td> <td>2oCs0DGTsRO98Gh5ZSl2Cx</td> <td>I Don't Care (with Justin Bieber) [Loud Luxury Remix]</td> <td>2019-06-14              </td> <td>Pop Remix    </td> <td>37i9dQZF1DXcZDD7cfEKhW</td> <td>pop           </td> <td>dance pop        </td> <td>0.748       </td> <td>0.916 </td> <td>6   </td> <td>-2.634  </td> <td>1   </td> <td>0.0583     </td> <td>0.102       </td> <td>0               </td> <td>0.0653  </td> <td>0.518  </td> <td>122.036</td> <td>194754     </td>\n",
       "        </tr>\n",
       "        <tr>\n",
       "            <td>2         </td> <td>0r7CVbZTWZgbTCYdfa2P31</td> <td>Memories - Dillon Francis Remix                      </td> <td>Maroon 5        </td> <td>67              </td> <td>63rPSO264uRjW1X5E6cWv6</td> <td>Memories (Dillon Francis Remix)                      </td> <td>2019-12-13              </td> <td>Pop Remix    </td> <td>37i9dQZF1DXcZDD7cfEKhW</td> <td>pop           </td> <td>dance pop        </td> <td>0.726       </td> <td>0.815 </td> <td>11  </td> <td>-4.969  </td> <td>1   </td> <td>0.0373     </td> <td>0.0724      </td> <td>0.00421         </td> <td>0.357   </td> <td>0.693  </td> <td>99.972 </td> <td>162600     </td>\n",
       "        </tr>\n",
       "        <tr>\n",
       "            <td>3         </td> <td>1z1Hg7Vb0AhHDiEmnDE79l</td> <td>All the Time - Don Diablo Remix                      </td> <td>Zara Larsson    </td> <td>70              </td> <td>1HoSmj2eLcsrR0vE9gThr4</td> <td>All the Time (Don Diablo Remix)                      </td> <td>2019-07-05              </td> <td>Pop Remix    </td> <td>37i9dQZF1DXcZDD7cfEKhW</td> <td>pop           </td> <td>dance pop        </td> <td>0.675       </td> <td>0.931 </td> <td>1   </td> <td>-3.432  </td> <td>0   </td> <td>0.0742     </td> <td>0.0794      </td> <td>2.33e-05        </td> <td>0.11    </td> <td>0.613  </td> <td>124.008</td> <td>176616     </td>\n",
       "        </tr>\n",
       "        <tr>\n",
       "            <td>4         </td> <td>75FpbthrwQmzHlBJLuGdC7</td> <td>Call You Mine - Keanu Silva Remix                    </td> <td>The Chainsmokers</td> <td>60              </td> <td>1nqYsOef1yKKuGOVchbsk6</td> <td>Call You Mine - The Remixes                          </td> <td>2019-07-19              </td> <td>Pop Remix    </td> <td>37i9dQZF1DXcZDD7cfEKhW</td> <td>pop           </td> <td>dance pop        </td> <td>0.718       </td> <td>0.93  </td> <td>7   </td> <td>-3.778  </td> <td>1   </td> <td>0.102      </td> <td>0.0287      </td> <td>9.43e-06        </td> <td>0.204   </td> <td>0.277  </td> <td>121.956</td> <td>169093     </td>\n",
       "        </tr>\n",
       "        <tr>\n",
       "            <td>5         </td> <td>1e8PAfcKUYoKkxPhrHqw4x</td> <td>Someone You Loved - Future Humans Remix              </td> <td>Lewis Capaldi   </td> <td>69              </td> <td>7m7vv9wlQ4i0LFuJiE2zsQ</td> <td>Someone You Loved (Future Humans Remix)              </td> <td>2019-03-05              </td> <td>Pop Remix    </td> <td>37i9dQZF1DXcZDD7cfEKhW</td> <td>pop           </td> <td>dance pop        </td> <td>0.65        </td> <td>0.833 </td> <td>1   </td> <td>-4.672  </td> <td>1   </td> <td>0.0359     </td> <td>0.0803      </td> <td>0               </td> <td>0.0833  </td> <td>0.725  </td> <td>123.976</td> <td>189052     </td>\n",
       "        </tr>\n",
       "        <tr>\n",
       "            <td>6         </td> <td>7fvUMiyapMsRRxr07cU8Ef</td> <td>Beautiful People (feat. Khalid) - Jack Wins Remix    </td> <td>Ed Sheeran      </td> <td>67              </td> <td>2yiy9cd2QktrNvWC2EUi0k</td> <td>Beautiful People (feat. Khalid) [Jack Wins Remix]    </td> <td>2019-07-11              </td> <td>Pop Remix    </td> <td>37i9dQZF1DXcZDD7cfEKhW</td> <td>pop           </td> <td>dance pop        </td> <td>0.675       </td> <td>0.919 </td> <td>8   </td> <td>-5.385  </td> <td>1   </td> <td>0.127      </td> <td>0.0799      </td> <td>0               </td> <td>0.143   </td> <td>0.585  </td> <td>124.982</td> <td>163049     </td>\n",
       "        </tr>\n",
       "        <tr>\n",
       "            <td>7         </td> <td>2OAylPUDDfwRGfe0lYqlCQ</td> <td>Never Really Over - R3HAB Remix                      </td> <td>Katy Perry      </td> <td>62              </td> <td>7INHYSeusaFlyrHSNxm8qH</td> <td>Never Really Over (R3HAB Remix)                      </td> <td>2019-07-26              </td> <td>Pop Remix    </td> <td>37i9dQZF1DXcZDD7cfEKhW</td> <td>pop           </td> <td>dance pop        </td> <td>0.449       </td> <td>0.856 </td> <td>5   </td> <td>-4.788  </td> <td>0   </td> <td>0.0623     </td> <td>0.187       </td> <td>0               </td> <td>0.176   </td> <td>0.152  </td> <td>112.648</td> <td>187675     </td>\n",
       "        </tr>\n",
       "        <tr>\n",
       "            <td>8         </td> <td>6b1RNvAcJjQH73eZO4BLAB</td> <td>Post Malone (feat. RANI) - GATTÜSO Remix             </td> <td>Sam Feldt       </td> <td>69              </td> <td>6703SRPsLkS4bPtMFFJes1</td> <td>Post Malone (feat. RANI) [GATTÜSO Remix]             </td> <td>2019-08-29              </td> <td>Pop Remix    </td> <td>37i9dQZF1DXcZDD7cfEKhW</td> <td>pop           </td> <td>dance pop        </td> <td>0.542       </td> <td>0.903 </td> <td>4   </td> <td>-2.419  </td> <td>0   </td> <td>0.0434     </td> <td>0.0335      </td> <td>4.83e-06        </td> <td>0.111   </td> <td>0.367  </td> <td>127.936</td> <td>207619     </td>\n",
       "        </tr>\n",
       "        <tr>\n",
       "            <td>9         </td> <td>7bF6tCO3gFb8INrEDcjNT5</td> <td>Tough Love - Tiësto Remix / Radio Edit               </td> <td>Avicii          </td> <td>68              </td> <td>7CvAfGvq4RlIwEbT9o8Iav</td> <td>Tough Love (Tiësto Remix)                            </td> <td>2019-06-14              </td> <td>Pop Remix    </td> <td>37i9dQZF1DXcZDD7cfEKhW</td> <td>pop           </td> <td>dance pop        </td> <td>0.594       </td> <td>0.935 </td> <td>8   </td> <td>-3.562  </td> <td>1   </td> <td>0.0565     </td> <td>0.0249      </td> <td>3.97e-06        </td> <td>0.637   </td> <td>0.366  </td> <td>127.015</td> <td>193187     </td>\n",
       "        </tr>\n",
       "        <tr>\n",
       "            <td>10        </td> <td>1IXGILkPm0tOCNeq00kCPa</td> <td>If I Can't Have You - Gryffin Remix                  </td> <td>Shawn Mendes    </td> <td>67              </td> <td>4QxzbfSsVryEQwvPFEV5Iu</td> <td>If I Can't Have You (Gryffin Remix)                  </td> <td>2019-06-20              </td> <td>Pop Remix    </td> <td>37i9dQZF1DXcZDD7cfEKhW</td> <td>pop           </td> <td>dance pop        </td> <td>0.642       </td> <td>0.818 </td> <td>2   </td> <td>-4.552  </td> <td>1   </td> <td>0.032      </td> <td>0.0567      </td> <td>0               </td> <td>0.0919  </td> <td>0.59   </td> <td>124.957</td> <td>253040     </td>\n",
       "        </tr>\n",
       "    </tbody>\n",
       "</table>\n",
       "<p>... (32823 rows omitted)</p>"
      ],
      "text/plain": [
       "Unnamed: 0 | track_id               | track_name                                            | track_artist     | track_popularity | track_album_id         | track_album_name                                      | track_album_release_date | playlist_name | playlist_id            | playlist_genre | playlist_subgenre | danceability | energy | key  | loudness | mode | speechiness | acousticness | instrumentalness | liveness | valence | tempo   | duration_ms\n",
       "1          | 6f807x0ima9a1j3VPbc7VN | I Don't Care (with Justin Bieber) - Loud Luxury Remix | Ed Sheeran       | 66               | 2oCs0DGTsRO98Gh5ZSl2Cx | I Don't Care (with Justin Bieber) [Loud Luxury Remix] | 2019-06-14               | Pop Remix     | 37i9dQZF1DXcZDD7cfEKhW | pop            | dance pop         | 0.748        | 0.916  | 6    | -2.634   | 1    | 0.0583      | 0.102        | 0                | 0.0653   | 0.518   | 122.036 | 194754\n",
       "2          | 0r7CVbZTWZgbTCYdfa2P31 | Memories - Dillon Francis Remix                       | Maroon 5         | 67               | 63rPSO264uRjW1X5E6cWv6 | Memories (Dillon Francis Remix)                       | 2019-12-13               | Pop Remix     | 37i9dQZF1DXcZDD7cfEKhW | pop            | dance pop         | 0.726        | 0.815  | 11   | -4.969   | 1    | 0.0373      | 0.0724       | 0.00421          | 0.357    | 0.693   | 99.972  | 162600\n",
       "3          | 1z1Hg7Vb0AhHDiEmnDE79l | All the Time - Don Diablo Remix                       | Zara Larsson     | 70               | 1HoSmj2eLcsrR0vE9gThr4 | All the Time (Don Diablo Remix)                       | 2019-07-05               | Pop Remix     | 37i9dQZF1DXcZDD7cfEKhW | pop            | dance pop         | 0.675        | 0.931  | 1    | -3.432   | 0    | 0.0742      | 0.0794       | 2.33e-05         | 0.11     | 0.613   | 124.008 | 176616\n",
       "4          | 75FpbthrwQmzHlBJLuGdC7 | Call You Mine - Keanu Silva Remix                     | The Chainsmokers | 60               | 1nqYsOef1yKKuGOVchbsk6 | Call You Mine - The Remixes                           | 2019-07-19               | Pop Remix     | 37i9dQZF1DXcZDD7cfEKhW | pop            | dance pop         | 0.718        | 0.93   | 7    | -3.778   | 1    | 0.102       | 0.0287       | 9.43e-06         | 0.204    | 0.277   | 121.956 | 169093\n",
       "5          | 1e8PAfcKUYoKkxPhrHqw4x | Someone You Loved - Future Humans Remix               | Lewis Capaldi    | 69               | 7m7vv9wlQ4i0LFuJiE2zsQ | Someone You Loved (Future Humans Remix)               | 2019-03-05               | Pop Remix     | 37i9dQZF1DXcZDD7cfEKhW | pop            | dance pop         | 0.65         | 0.833  | 1    | -4.672   | 1    | 0.0359      | 0.0803       | 0                | 0.0833   | 0.725   | 123.976 | 189052\n",
       "6          | 7fvUMiyapMsRRxr07cU8Ef | Beautiful People (feat. Khalid) - Jack Wins Remix     | Ed Sheeran       | 67               | 2yiy9cd2QktrNvWC2EUi0k | Beautiful People (feat. Khalid) [Jack Wins Remix]     | 2019-07-11               | Pop Remix     | 37i9dQZF1DXcZDD7cfEKhW | pop            | dance pop         | 0.675        | 0.919  | 8    | -5.385   | 1    | 0.127       | 0.0799       | 0                | 0.143    | 0.585   | 124.982 | 163049\n",
       "7          | 2OAylPUDDfwRGfe0lYqlCQ | Never Really Over - R3HAB Remix                       | Katy Perry       | 62               | 7INHYSeusaFlyrHSNxm8qH | Never Really Over (R3HAB Remix)                       | 2019-07-26               | Pop Remix     | 37i9dQZF1DXcZDD7cfEKhW | pop            | dance pop         | 0.449        | 0.856  | 5    | -4.788   | 0    | 0.0623      | 0.187        | 0                | 0.176    | 0.152   | 112.648 | 187675\n",
       "8          | 6b1RNvAcJjQH73eZO4BLAB | Post Malone (feat. RANI) - GATTÜSO Remix              | Sam Feldt        | 69               | 6703SRPsLkS4bPtMFFJes1 | Post Malone (feat. RANI) [GATTÜSO Remix]              | 2019-08-29               | Pop Remix     | 37i9dQZF1DXcZDD7cfEKhW | pop            | dance pop         | 0.542        | 0.903  | 4    | -2.419   | 0    | 0.0434      | 0.0335       | 4.83e-06         | 0.111    | 0.367   | 127.936 | 207619\n",
       "9          | 7bF6tCO3gFb8INrEDcjNT5 | Tough Love - Tiësto Remix / Radio Edit                | Avicii           | 68               | 7CvAfGvq4RlIwEbT9o8Iav | Tough Love (Tiësto Remix)                             | 2019-06-14               | Pop Remix     | 37i9dQZF1DXcZDD7cfEKhW | pop            | dance pop         | 0.594        | 0.935  | 8    | -3.562   | 1    | 0.0565      | 0.0249       | 3.97e-06         | 0.637    | 0.366   | 127.015 | 193187\n",
       "10         | 1IXGILkPm0tOCNeq00kCPa | If I Can't Have You - Gryffin Remix                   | Shawn Mendes     | 67               | 4QxzbfSsVryEQwvPFEV5Iu | If I Can't Have You (Gryffin Remix)                   | 2019-06-20               | Pop Remix     | 37i9dQZF1DXcZDD7cfEKhW | pop            | dance pop         | 0.642        | 0.818  | 2    | -4.552   | 1    | 0.032       | 0.0567       | 0                | 0.0919   | 0.59    | 124.957 | 253040\n",
       "... (32823 rows omitted)"
      ]
     },
     "execution_count": 74,
     "metadata": {},
     "output_type": "execute_result"
    }
   ],
   "source": [
    "url = 'https://raw.githubusercontent.com/ds-modules/course-assets/gh-pages/materials/su20/Spotify/spotify.csv'\n",
    "spotify = Table.read_table(url)\n",
    "spotify"
   ]
  },
  {
   "cell_type": "markdown",
   "metadata": {
    "colab_type": "text",
    "id": "DDWDLBmG-tHY"
   },
   "source": [
    "### Accessing columns\n",
    "The simplest way to access data in a table is the `column` method, which takes in the name of the column as its only argument. It returns the contents of the column as an array. Imagine that we want to know the duration of all the songs in our dataset. We can access the `duration_ms` column using the column method."
   ]
  },
  {
   "cell_type": "code",
   "execution_count": 76,
   "metadata": {
    "colab": {
     "base_uri": "https://localhost:8080/",
     "height": 34
    },
    "colab_type": "code",
    "id": "j0pQzS5x-gGy",
    "outputId": "a5be275d-7023-4156-a52b-fe5d8df70334"
   },
   "outputs": [
    {
     "data": {
      "text/plain": [
       "array([194754., 162600., 176616., ..., 210112., 367432., 337500.])"
      ]
     },
     "execution_count": 76,
     "metadata": {},
     "output_type": "execute_result"
    }
   ],
   "source": [
    "spotify.column(\"duration_ms\")"
   ]
  },
  {
   "cell_type": "markdown",
   "metadata": {},
   "source": [
    "We can give this array a name in order to more easily work with the values in it! The name can be whatever we want, but for clarity we'll simply name it `duration`."
   ]
  },
  {
   "cell_type": "code",
   "execution_count": 77,
   "metadata": {
    "colab": {},
    "colab_type": "code",
    "id": "U3zT4HuT-l91"
   },
   "outputs": [
    {
     "data": {
      "text/plain": [
       "array([194754., 162600., 176616., ..., 210112., 367432., 337500.])"
      ]
     },
     "execution_count": 77,
     "metadata": {},
     "output_type": "execute_result"
    }
   ],
   "source": [
    "duration = spotify.column(\"duration_ms\")\n",
    "duration"
   ]
  },
  {
   "cell_type": "markdown",
   "metadata": {},
   "source": [
    "Since `duration` is just an array, we can perform array operations on it."
   ]
  },
  {
   "cell_type": "markdown",
   "metadata": {
    "colab_type": "text",
    "id": "F08az5dFAio_"
   },
   "source": [
    "### Functions Applied to Track Durations\n",
    "Right now, the `duration` array contains the length of each song in milliseconds. However, that's not a common measurement when describint the length of a song - often, we use minutes and seconds. Using array arithmetic, we can find the length of each song in seconds and in minutes. There are 1000 milliseconds in a second, and 60 seconds in a minute. First, we will convert milliseconds to seconds."
   ]
  },
  {
   "cell_type": "code",
   "execution_count": 78,
   "metadata": {
    "colab": {
     "base_uri": "https://localhost:8080/",
     "height": 52
    },
    "colab_type": "code",
    "id": "LApbeVmR-yPx",
    "outputId": "e032e6fd-fdea-442b-822d-ba92aea990e2"
   },
   "outputs": [
    {
     "data": {
      "text/plain": [
       "array([194.754, 162.6  , 176.616, ..., 210.112, 367.432, 337.5  ])"
      ]
     },
     "execution_count": 78,
     "metadata": {},
     "output_type": "execute_result"
    }
   ],
   "source": [
    "duration_seconds = duration / 1000\n",
    "duration_seconds"
   ]
  },
  {
   "cell_type": "markdown",
   "metadata": {},
   "source": [
    "Now that we have a new array of the duration of songs in seconds, we can use that to convert to duration in minutes using similar array math."
   ]
  },
  {
   "cell_type": "code",
   "execution_count": 79,
   "metadata": {
    "colab": {},
    "colab_type": "code",
    "id": "OUvFa3RM-yi-"
   },
   "outputs": [
    {
     "data": {
      "text/plain": [
       "array([3.2459    , 2.71      , 2.9436    , ..., 3.50186667, 6.12386667,\n",
       "       5.625     ])"
      ]
     },
     "execution_count": 79,
     "metadata": {},
     "output_type": "execute_result"
    }
   ],
   "source": [
    "duration_minutes = duration_seconds / 60\n",
    "duration_minutes "
   ]
  },
  {
   "cell_type": "markdown",
   "metadata": {},
   "source": [
    "If you are interested in the average length of a song, you can find the mean of the array with built in methods."
   ]
  },
  {
   "cell_type": "code",
   "execution_count": 80,
   "metadata": {},
   "outputs": [
    {
     "data": {
      "text/plain": [
       "3.7633301937075503"
      ]
     },
     "execution_count": 80,
     "metadata": {},
     "output_type": "execute_result"
    }
   ],
   "source": [
    "duration_minutes.mean()"
   ]
  },
  {
   "cell_type": "markdown",
   "metadata": {
    "colab_type": "text",
    "id": "F-Cqvuv_AqJX"
   },
   "source": [
    "## 5.2 Visualizing Categorical Distributions <a id = '5.2'></a>"
   ]
  },
  {
   "cell_type": "code",
   "execution_count": 84,
   "metadata": {},
   "outputs": [
    {
     "data": {
      "text/plain": [
       "32833"
      ]
     },
     "execution_count": 84,
     "metadata": {},
     "output_type": "execute_result"
    }
   ],
   "source": [
    "spotify.num_rows"
   ]
  },
  {
   "cell_type": "markdown",
   "metadata": {},
   "source": [
    "## Example: Spotify\n",
    "Our Spotify data contains a lot of numerical information about different aspects of the songs, such as danceability, liveliness, tempo, energy, etc. In this section, we are interested in the categorical information in our dataset, such as the playlist each song comes from or the genre. There are almost 33,000 songs in our dataset, so let's do some investigating. What are the most popular genres? We can figure this out by grouping by the playlist genre."
   ]
  },
  {
   "cell_type": "code",
   "execution_count": 85,
   "metadata": {},
   "outputs": [
    {
     "data": {
      "text/html": [
       "<table border=\"1\" class=\"dataframe\">\n",
       "    <thead>\n",
       "        <tr>\n",
       "            <th>playlist_genre</th> <th>count</th>\n",
       "        </tr>\n",
       "    </thead>\n",
       "    <tbody>\n",
       "        <tr>\n",
       "            <td>edm           </td> <td>6043 </td>\n",
       "        </tr>\n",
       "        <tr>\n",
       "            <td>latin         </td> <td>5155 </td>\n",
       "        </tr>\n",
       "        <tr>\n",
       "            <td>pop           </td> <td>5507 </td>\n",
       "        </tr>\n",
       "        <tr>\n",
       "            <td>r&b           </td> <td>5431 </td>\n",
       "        </tr>\n",
       "        <tr>\n",
       "            <td>rap           </td> <td>5746 </td>\n",
       "        </tr>\n",
       "        <tr>\n",
       "            <td>rock          </td> <td>4951 </td>\n",
       "        </tr>\n",
       "    </tbody>\n",
       "</table>"
      ],
      "text/plain": [
       "playlist_genre | count\n",
       "edm            | 6043\n",
       "latin          | 5155\n",
       "pop            | 5507\n",
       "r&b            | 5431\n",
       "rap            | 5746\n",
       "rock           | 4951"
      ]
     },
     "execution_count": 85,
     "metadata": {},
     "output_type": "execute_result"
    }
   ],
   "source": [
    "spotify.group('playlist_genre')"
   ]
  },
  {
   "cell_type": "markdown",
   "metadata": {},
   "source": [
    "In our dataset, it looks like the most popular genre is EDM. We can create a barchart to show how the other genres compare."
   ]
  },
  {
   "cell_type": "code",
   "execution_count": 86,
   "metadata": {
    "colab": {
     "base_uri": "https://localhost:8080/",
     "height": 227
    },
    "colab_type": "code",
    "id": "oaR4dlPzAuwy",
    "outputId": "71e6ad79-5d55-45a8-b164-37afafe29031"
   },
   "outputs": [
    {
     "data": {
      "image/png": "[encoded data removed]",
      "text/plain": [
       "<Figure size 432x288 with 1 Axes>"
      ]
     },
     "metadata": {
      "needs_background": "light"
     },
     "output_type": "display_data"
    }
   ],
   "source": [
    "genre_counts = spotify.group('playlist_genre')\n",
    "genre_counts.barh('playlist_genre', 'count')"
   ]
  },
  {
   "cell_type": "markdown",
   "metadata": {},
   "source": [
    "The bars aren't ordered by length, so it's a little difficult to compare. We can use a more complicated method of sorting to make our bar chart more readable."
   ]
  },
  {
   "cell_type": "code",
   "execution_count": 87,
   "metadata": {
    "colab": {
     "base_uri": "https://localhost:8080/",
     "height": 227
    },
    "colab_type": "code",
    "id": "KOhD9Ah5Yl3Q",
    "outputId": "717706aa-409b-4fc0-df5e-f004cc93345e"
   },
   "outputs": [
    {
     "data": {
      "text/html": [
       "<table border=\"1\" class=\"dataframe\">\n",
       "    <thead>\n",
       "        <tr>\n",
       "            <th>playlist_genre</th> <th>count</th>\n",
       "        </tr>\n",
       "    </thead>\n",
       "    <tbody>\n",
       "        <tr>\n",
       "            <td>edm           </td> <td>6043 </td>\n",
       "        </tr>\n",
       "        <tr>\n",
       "            <td>rap           </td> <td>5746 </td>\n",
       "        </tr>\n",
       "        <tr>\n",
       "            <td>pop           </td> <td>5507 </td>\n",
       "        </tr>\n",
       "        <tr>\n",
       "            <td>r&b           </td> <td>5431 </td>\n",
       "        </tr>\n",
       "        <tr>\n",
       "            <td>latin         </td> <td>5155 </td>\n",
       "        </tr>\n",
       "        <tr>\n",
       "            <td>rock          </td> <td>4951 </td>\n",
       "        </tr>\n",
       "    </tbody>\n",
       "</table>"
      ],
      "text/plain": [
       "playlist_genre | count\n",
       "edm            | 6043\n",
       "rap            | 5746\n",
       "pop            | 5507\n",
       "r&b            | 5431\n",
       "latin          | 5155\n",
       "rock           | 4951"
      ]
     },
     "execution_count": 87,
     "metadata": {},
     "output_type": "execute_result"
    }
   ],
   "source": [
    "genre_counts_sorted = genre_counts.sort('count', descending=True)\n",
    "genre_counts_sorted"
   ]
  },
  {
   "cell_type": "code",
   "execution_count": 88,
   "metadata": {
    "colab": {},
    "colab_type": "code",
    "id": "CfT1D02_YwJZ"
   },
   "outputs": [
    {
     "data": {
      "image/png": "[encoded data removed]",
      "text/plain": [
       "<Figure size 432x288 with 1 Axes>"
      ]
     },
     "metadata": {
      "needs_background": "light"
     },
     "output_type": "display_data"
    }
   ],
   "source": [
    "genre_counts_sorted.barh('playlist_genre', 'count')"
   ]
  },
  {
   "cell_type": "markdown",
   "metadata": {
    "colab": {},
    "colab_type": "code",
    "id": "rqJtza4uYzaf"
   },
   "source": [
    "This makes it much easier to see the ranking of most popular genres."
   ]
  },
  {
   "cell_type": "markdown",
   "metadata": {},
   "source": [
    "Let's take a look at all the artists in the dataset. We can take a look at the top 25 artists based on the number of songs they have in our dataset. We'll follow a similar method as we did when grouping by genre above. First, we will group our data by artist and sort by count."
   ]
  },
  {
   "cell_type": "code",
   "execution_count": 89,
   "metadata": {
    "colab": {
     "base_uri": "https://localhost:8080/",
     "height": 376
    },
    "colab_type": "code",
    "id": "WmecBPxcY6vM",
    "outputId": "48932b36-e7d5-469e-fcb4-3b7f409426a7"
   },
   "outputs": [
    {
     "data": {
      "text/html": [
       "<table border=\"1\" class=\"dataframe\">\n",
       "    <thead>\n",
       "        <tr>\n",
       "            <th>track_artist</th> <th>count</th>\n",
       "        </tr>\n",
       "    </thead>\n",
       "    <tbody>\n",
       "        <tr>\n",
       "            <td>Martin Garrix            </td> <td>161  </td>\n",
       "        </tr>\n",
       "        <tr>\n",
       "            <td>Queen                    </td> <td>136  </td>\n",
       "        </tr>\n",
       "        <tr>\n",
       "            <td>The Chainsmokers         </td> <td>123  </td>\n",
       "        </tr>\n",
       "        <tr>\n",
       "            <td>David Guetta             </td> <td>110  </td>\n",
       "        </tr>\n",
       "        <tr>\n",
       "            <td>Don Omar                 </td> <td>102  </td>\n",
       "        </tr>\n",
       "        <tr>\n",
       "            <td>Drake                    </td> <td>100  </td>\n",
       "        </tr>\n",
       "        <tr>\n",
       "            <td>Dimitri Vegas & Like Mike</td> <td>93   </td>\n",
       "        </tr>\n",
       "        <tr>\n",
       "            <td>Calvin Harris            </td> <td>91   </td>\n",
       "        </tr>\n",
       "        <tr>\n",
       "            <td>Hardwell                 </td> <td>84   </td>\n",
       "        </tr>\n",
       "        <tr>\n",
       "            <td>Kygo                     </td> <td>83   </td>\n",
       "        </tr>\n",
       "    </tbody>\n",
       "</table>\n",
       "<p>... (10683 rows omitted)</p>"
      ],
      "text/plain": [
       "track_artist              | count\n",
       "Martin Garrix             | 161\n",
       "Queen                     | 136\n",
       "The Chainsmokers          | 123\n",
       "David Guetta              | 110\n",
       "Don Omar                  | 102\n",
       "Drake                     | 100\n",
       "Dimitri Vegas & Like Mike | 93\n",
       "Calvin Harris             | 91\n",
       "Hardwell                  | 84\n",
       "Kygo                      | 83\n",
       "... (10683 rows omitted)"
      ]
     },
     "execution_count": 89,
     "metadata": {},
     "output_type": "execute_result"
    }
   ],
   "source": [
    "artists_grouped = spotify.group('track_artist').sort('count', descending=True)\n",
    "artists_grouped"
   ]
  },
  {
   "cell_type": "markdown",
   "metadata": {},
   "source": [
    "The output displays the top 10 artists, but there are over 10,000 artists in our dataset. A visualization with every artist would be very hard to read, so we will focus on the top 25 artists."
   ]
  },
  {
   "cell_type": "code",
   "execution_count": 93,
   "metadata": {},
   "outputs": [
    {
     "data": {
      "text/html": [
       "<table border=\"1\" class=\"dataframe\">\n",
       "    <thead>\n",
       "        <tr>\n",
       "            <th>track_artist</th> <th>count</th>\n",
       "        </tr>\n",
       "    </thead>\n",
       "    <tbody>\n",
       "        <tr>\n",
       "            <td>Martin Garrix            </td> <td>161  </td>\n",
       "        </tr>\n",
       "        <tr>\n",
       "            <td>Queen                    </td> <td>136  </td>\n",
       "        </tr>\n",
       "        <tr>\n",
       "            <td>The Chainsmokers         </td> <td>123  </td>\n",
       "        </tr>\n",
       "        <tr>\n",
       "            <td>David Guetta             </td> <td>110  </td>\n",
       "        </tr>\n",
       "        <tr>\n",
       "            <td>Don Omar                 </td> <td>102  </td>\n",
       "        </tr>\n",
       "        <tr>\n",
       "            <td>Drake                    </td> <td>100  </td>\n",
       "        </tr>\n",
       "        <tr>\n",
       "            <td>Dimitri Vegas & Like Mike</td> <td>93   </td>\n",
       "        </tr>\n",
       "        <tr>\n",
       "            <td>Calvin Harris            </td> <td>91   </td>\n",
       "        </tr>\n",
       "        <tr>\n",
       "            <td>Hardwell                 </td> <td>84   </td>\n",
       "        </tr>\n",
       "        <tr>\n",
       "            <td>Kygo                     </td> <td>83   </td>\n",
       "        </tr>\n",
       "    </tbody>\n",
       "</table>\n",
       "<p>... (15 rows omitted)</p>"
      ],
      "text/plain": [
       "track_artist              | count\n",
       "Martin Garrix             | 161\n",
       "Queen                     | 136\n",
       "The Chainsmokers          | 123\n",
       "David Guetta              | 110\n",
       "Don Omar                  | 102\n",
       "Drake                     | 100\n",
       "Dimitri Vegas & Like Mike | 93\n",
       "Calvin Harris             | 91\n",
       "Hardwell                  | 84\n",
       "Kygo                      | 83\n",
       "... (15 rows omitted)"
      ]
     },
     "execution_count": 93,
     "metadata": {},
     "output_type": "execute_result"
    }
   ],
   "source": [
    "top_artists = artists_grouped.take[:25]\n",
    "top_artists"
   ]
  },
  {
   "cell_type": "markdown",
   "metadata": {},
   "source": [
    "Creating a bar chart of the number of songs for each artists lets us easily compare the differences between artists."
   ]
  },
  {
   "cell_type": "code",
   "execution_count": 97,
   "metadata": {
    "colab": {},
    "colab_type": "code",
    "id": "H-I2D9W4Y8cr",
    "scrolled": false
   },
   "outputs": [
    {
     "data": {
      "image/png": "[encoded data removed]",
      "text/plain": [
       "<Figure size 432x900 with 1 Axes>"
      ]
     },
     "metadata": {
      "needs_background": "light"
     },
     "output_type": "display_data"
    }
   ],
   "source": [
    "top_artists.barh('track_artist', 'count')"
   ]
  },
  {
   "cell_type": "markdown",
   "metadata": {},
   "source": [
    "A quick look through the top 25 shows us that all of the top artists are males."
   ]
  },
  {
   "cell_type": "markdown",
   "metadata": {},
   "source": [
    "### Proportions\n",
    "The above bar chart shows the number of songs each artist had in the dataset. But what it doesn't tell us is the proportion of songs in the dataset by each artist. Remember that the columns of our table are arrays, so we can use array arithmetic to compute these proportions."
   ]
  },
  {
   "cell_type": "code",
   "execution_count": 107,
   "metadata": {},
   "outputs": [
    {
     "data": {
      "text/plain": [
       "array([0.0049036 , 0.00414217, 0.00374623, 0.00335029, 0.00310663,\n",
       "       0.00304572, 0.00283252, 0.0027716 , 0.0025584 , 0.00252794,\n",
       "       0.00240612, 0.00231474, 0.00225383, 0.00219292, 0.00216246,\n",
       "       0.00210154, 0.00204063, 0.00201017, 0.00201017, 0.00201017,\n",
       "       0.00197972, 0.00188834, 0.00185789, 0.00185789, 0.00179697])"
      ]
     },
     "execution_count": 107,
     "metadata": {},
     "output_type": "execute_result"
    }
   ],
   "source": [
    "total_songs_dataset = spotify.num_rows\n",
    "artists_proportions = top_artists.column('count') / total_songs_dataset\n",
    "artists_proportions"
   ]
  },
  {
   "cell_type": "markdown",
   "metadata": {},
   "source": [
    "We can add the array of proportions as a new column in our `top_artists` table."
   ]
  },
  {
   "cell_type": "code",
   "execution_count": 109,
   "metadata": {},
   "outputs": [
    {
     "data": {
      "text/html": [
       "<table border=\"1\" class=\"dataframe\">\n",
       "    <thead>\n",
       "        <tr>\n",
       "            <th>track_artist</th> <th>count</th> <th>proportion</th>\n",
       "        </tr>\n",
       "    </thead>\n",
       "    <tbody>\n",
       "        <tr>\n",
       "            <td>Martin Garrix            </td> <td>161  </td> <td>0.0049036 </td>\n",
       "        </tr>\n",
       "        <tr>\n",
       "            <td>Queen                    </td> <td>136  </td> <td>0.00414217</td>\n",
       "        </tr>\n",
       "        <tr>\n",
       "            <td>The Chainsmokers         </td> <td>123  </td> <td>0.00374623</td>\n",
       "        </tr>\n",
       "        <tr>\n",
       "            <td>David Guetta             </td> <td>110  </td> <td>0.00335029</td>\n",
       "        </tr>\n",
       "        <tr>\n",
       "            <td>Don Omar                 </td> <td>102  </td> <td>0.00310663</td>\n",
       "        </tr>\n",
       "        <tr>\n",
       "            <td>Drake                    </td> <td>100  </td> <td>0.00304572</td>\n",
       "        </tr>\n",
       "        <tr>\n",
       "            <td>Dimitri Vegas & Like Mike</td> <td>93   </td> <td>0.00283252</td>\n",
       "        </tr>\n",
       "        <tr>\n",
       "            <td>Calvin Harris            </td> <td>91   </td> <td>0.0027716 </td>\n",
       "        </tr>\n",
       "        <tr>\n",
       "            <td>Hardwell                 </td> <td>84   </td> <td>0.0025584 </td>\n",
       "        </tr>\n",
       "        <tr>\n",
       "            <td>Kygo                     </td> <td>83   </td> <td>0.00252794</td>\n",
       "        </tr>\n",
       "    </tbody>\n",
       "</table>\n",
       "<p>... (15 rows omitted)</p>"
      ],
      "text/plain": [
       "track_artist              | count | proportion\n",
       "Martin Garrix             | 161   | 0.0049036\n",
       "Queen                     | 136   | 0.00414217\n",
       "The Chainsmokers          | 123   | 0.00374623\n",
       "David Guetta              | 110   | 0.00335029\n",
       "Don Omar                  | 102   | 0.00310663\n",
       "Drake                     | 100   | 0.00304572\n",
       "Dimitri Vegas & Like Mike | 93    | 0.00283252\n",
       "Calvin Harris             | 91    | 0.0027716\n",
       "Hardwell                  | 84    | 0.0025584\n",
       "Kygo                      | 83    | 0.00252794\n",
       "... (15 rows omitted)"
      ]
     },
     "execution_count": 109,
     "metadata": {},
     "output_type": "execute_result"
    }
   ],
   "source": [
    "top_artists_proportions = top_artists.with_columns('proportion', artists_proportions)\n",
    "top_artists_proportions"
   ]
  },
  {
   "cell_type": "code",
   "execution_count": 110,
   "metadata": {},
   "outputs": [
    {
     "data": {
      "image/png": "[encoded data removed]",
      "text/plain": [
       "<Figure size 432x900 with 1 Axes>"
      ]
     },
     "metadata": {
      "needs_background": "light"
     },
     "output_type": "display_data"
    }
   ],
   "source": [
    "top_artists_proportions.barh('track_artist', 'proportion')"
   ]
  },
  {
   "cell_type": "markdown",
   "metadata": {},
   "source": [
    "The proportions tell us that songs by Martin Garrix make up about 0.5% of the data. That's pretty small - not even an entire percent. Now that we know the proportions for each artist, we can compute the proportion of songs in the entire data set that are by the top 25 artists."
   ]
  },
  {
   "cell_type": "code",
   "execution_count": 111,
   "metadata": {},
   "outputs": [
    {
     "data": {
      "text/plain": [
       "0.06386866871744891"
      ]
     },
     "execution_count": 111,
     "metadata": {},
     "output_type": "execute_result"
    }
   ],
   "source": [
    "sum(top_artists_proportions.column('proportion'))"
   ]
  },
  {
   "cell_type": "markdown",
   "metadata": {},
   "source": [
    "About 6% of the songs in the dataset are produced by the top 25 artists."
   ]
  },
  {
   "cell_type": "markdown",
   "metadata": {},
   "source": [
    "## Towards numerical variables\n",
    "Most of the time, we are not solely interested in categorical variables. Our spotify data also contains information on the release date of the track, so we can see how many songs were released each year."
   ]
  },
  {
   "cell_type": "code",
   "execution_count": 43,
   "metadata": {
    "colab": {},
    "colab_type": "code",
    "id": "FF_reXYOZsYe"
   },
   "outputs": [],
   "source": [
    "# Adding in playlist creation year through pandas --> must be done outside of notebook\n",
    "spotify['creation_year'] = [x.year for x in pd.Series(spotify.select('track_album_release_date')[0]).apply(pd.to_datetime)]"
   ]
  },
  {
   "cell_type": "code",
   "execution_count": 44,
   "metadata": {
    "colab": {
     "base_uri": "https://localhost:8080/",
     "height": 376
    },
    "colab_type": "code",
    "id": "4I64Pia2ZxXU",
    "outputId": "98ec0139-6118-43fa-ce26-9047ad4ff0cd"
   },
   "outputs": [
    {
     "data": {
      "text/html": [
       "<table border=\"1\" class=\"dataframe\">\n",
       "    <thead>\n",
       "        <tr>\n",
       "            <th>creation_year</th> <th>count</th>\n",
       "        </tr>\n",
       "    </thead>\n",
       "    <tbody>\n",
       "        <tr>\n",
       "            <td>2019         </td> <td>9081 </td>\n",
       "        </tr>\n",
       "        <tr>\n",
       "            <td>2018         </td> <td>3312 </td>\n",
       "        </tr>\n",
       "        <tr>\n",
       "            <td>2017         </td> <td>2430 </td>\n",
       "        </tr>\n",
       "        <tr>\n",
       "            <td>2016         </td> <td>2127 </td>\n",
       "        </tr>\n",
       "        <tr>\n",
       "            <td>2015         </td> <td>1779 </td>\n",
       "        </tr>\n",
       "        <tr>\n",
       "            <td>2014         </td> <td>1524 </td>\n",
       "        </tr>\n",
       "        <tr>\n",
       "            <td>2013         </td> <td>956  </td>\n",
       "        </tr>\n",
       "        <tr>\n",
       "            <td>2012         </td> <td>786  </td>\n",
       "        </tr>\n",
       "        <tr>\n",
       "            <td>2020         </td> <td>785  </td>\n",
       "        </tr>\n",
       "        <tr>\n",
       "            <td>2008         </td> <td>622  </td>\n",
       "        </tr>\n",
       "    </tbody>\n",
       "</table>\n",
       "<p>... (53 rows omitted)</p>"
      ],
      "text/plain": [
       "creation_year | count\n",
       "2019          | 9081\n",
       "2018          | 3312\n",
       "2017          | 2430\n",
       "2016          | 2127\n",
       "2015          | 1779\n",
       "2014          | 1524\n",
       "2013          | 956\n",
       "2012          | 786\n",
       "2020          | 785\n",
       "2008          | 622\n",
       "... (53 rows omitted)"
      ]
     },
     "execution_count": 44,
     "metadata": {},
     "output_type": "execute_result"
    }
   ],
   "source": [
    "grouped_years = spotify.select('track_artist', 'creation_year').group('creation_year').sort('count', descending=True)\n",
    "grouped_years"
   ]
  },
  {
   "cell_type": "markdown",
   "metadata": {},
   "source": [
    "Sorting by the descending count lets us see which years had the most songs."
   ]
  },
  {
   "cell_type": "code",
   "execution_count": 45,
   "metadata": {
    "colab": {},
    "colab_type": "code",
    "id": "nVZ-LdKqbzF0"
   },
   "outputs": [
    {
     "data": {
      "image/png": "[encoded data removed]",
      "text/plain": [
       "<Figure size 432x2268 with 1 Axes>"
      ]
     },
     "metadata": {
      "needs_background": "light"
     },
     "output_type": "display_data"
    }
   ],
   "source": [
    "grouped_years.barh('creation_year', 'count')"
   ]
  },
  {
   "cell_type": "markdown",
   "metadata": {
    "colab": {},
    "colab_type": "code",
    "id": "UTS5QUarcxc3"
   },
   "source": [
    "The longest bars correspond to most recent years, but if you look closely, the years are not listed in chronological order. Years are a fixed chronological unit that have a specified order, but the bar chart is treating year as a categorical variable. We can sort by year instead of by count in order to get a chronological bar chart."
   ]
  },
  {
   "cell_type": "code",
   "execution_count": 113,
   "metadata": {},
   "outputs": [
    {
     "data": {
      "image/png": "[encoded data removed]",
      "text/plain": [
       "<Figure size 432x2268 with 1 Axes>"
      ]
     },
     "metadata": {
      "needs_background": "light"
     },
     "output_type": "display_data"
    }
   ],
   "source": [
    "grouped_years.sort('creation_year', descending=True).barh('creation_year', 'count')"
   ]
  },
  {
   "cell_type": "markdown",
   "metadata": {},
   "source": [
    "Now we can see that more songs have been released in more recent years. The bar for 202 is much shorter than the bar for 2019, because 2020 was only a few months along when the data was downloaded."
   ]
  },
  {
   "cell_type": "markdown",
   "metadata": {
    "colab_type": "text",
    "id": "kJ-L8iMSc3y6"
   },
   "source": [
    "## Towards Numerical Variables - more exploration"
   ]
  },
  {
   "cell_type": "code",
   "execution_count": 36,
   "metadata": {
    "colab": {
     "base_uri": "https://localhost:8080/",
     "height": 863
    },
    "colab_type": "code",
    "id": "hLvobWWEgESi",
    "outputId": "10b7e4a6-fccc-4347-e2e5-2931bd99cedd"
   },
   "outputs": [
    {
     "data": {
      "text/html": [
       "<table border=\"1\" class=\"dataframe\">\n",
       "    <thead>\n",
       "        <tr>\n",
       "            <th>Unnamed: 0</th> <th>track_id</th> <th>track_name</th> <th>track_artist</th> <th>track_popularity</th> <th>track_album_id</th> <th>track_album_name</th> <th>track_album_release_date</th> <th>playlist_name</th> <th>playlist_id</th> <th>playlist_genre</th> <th>playlist_subgenre</th> <th>danceability</th> <th>energy</th> <th>key</th> <th>loudness</th> <th>mode</th> <th>speechiness</th> <th>acousticness</th> <th>instrumentalness</th> <th>liveness</th> <th>valence</th> <th>tempo</th> <th>duration_ms</th> <th>creation_year</th>\n",
       "        </tr>\n",
       "    </thead>\n",
       "    <tbody>\n",
       "        <tr>\n",
       "            <td>1         </td> <td>6f807x0ima9a1j3VPbc7VN</td> <td>I Don't Care (with Justin Bieber) - Loud Luxury Remix</td> <td>Ed Sheeran      </td> <td>66              </td> <td>2oCs0DGTsRO98Gh5ZSl2Cx</td> <td>I Don't Care (with Justin Bieber) [Loud Luxury Remix]</td> <td>2019-06-14              </td> <td>Pop Remix    </td> <td>37i9dQZF1DXcZDD7cfEKhW</td> <td>pop           </td> <td>dance pop        </td> <td>0.748       </td> <td>0.916 </td> <td>6   </td> <td>-2.634  </td> <td>1   </td> <td>0.0583     </td> <td>0.102       </td> <td>0               </td> <td>0.0653  </td> <td>0.518  </td> <td>122.036</td> <td>194754     </td> <td>2019         </td>\n",
       "        </tr>\n",
       "        <tr>\n",
       "            <td>2         </td> <td>0r7CVbZTWZgbTCYdfa2P31</td> <td>Memories - Dillon Francis Remix                      </td> <td>Maroon 5        </td> <td>67              </td> <td>63rPSO264uRjW1X5E6cWv6</td> <td>Memories (Dillon Francis Remix)                      </td> <td>2019-12-13              </td> <td>Pop Remix    </td> <td>37i9dQZF1DXcZDD7cfEKhW</td> <td>pop           </td> <td>dance pop        </td> <td>0.726       </td> <td>0.815 </td> <td>11  </td> <td>-4.969  </td> <td>1   </td> <td>0.0373     </td> <td>0.0724      </td> <td>0.00421         </td> <td>0.357   </td> <td>0.693  </td> <td>99.972 </td> <td>162600     </td> <td>2019         </td>\n",
       "        </tr>\n",
       "        <tr>\n",
       "            <td>3         </td> <td>1z1Hg7Vb0AhHDiEmnDE79l</td> <td>All the Time - Don Diablo Remix                      </td> <td>Zara Larsson    </td> <td>70              </td> <td>1HoSmj2eLcsrR0vE9gThr4</td> <td>All the Time (Don Diablo Remix)                      </td> <td>2019-07-05              </td> <td>Pop Remix    </td> <td>37i9dQZF1DXcZDD7cfEKhW</td> <td>pop           </td> <td>dance pop        </td> <td>0.675       </td> <td>0.931 </td> <td>1   </td> <td>-3.432  </td> <td>0   </td> <td>0.0742     </td> <td>0.0794      </td> <td>2.33e-05        </td> <td>0.11    </td> <td>0.613  </td> <td>124.008</td> <td>176616     </td> <td>2019         </td>\n",
       "        </tr>\n",
       "        <tr>\n",
       "            <td>4         </td> <td>75FpbthrwQmzHlBJLuGdC7</td> <td>Call You Mine - Keanu Silva Remix                    </td> <td>The Chainsmokers</td> <td>60              </td> <td>1nqYsOef1yKKuGOVchbsk6</td> <td>Call You Mine - The Remixes                          </td> <td>2019-07-19              </td> <td>Pop Remix    </td> <td>37i9dQZF1DXcZDD7cfEKhW</td> <td>pop           </td> <td>dance pop        </td> <td>0.718       </td> <td>0.93  </td> <td>7   </td> <td>-3.778  </td> <td>1   </td> <td>0.102      </td> <td>0.0287      </td> <td>9.43e-06        </td> <td>0.204   </td> <td>0.277  </td> <td>121.956</td> <td>169093     </td> <td>2019         </td>\n",
       "        </tr>\n",
       "        <tr>\n",
       "            <td>5         </td> <td>1e8PAfcKUYoKkxPhrHqw4x</td> <td>Someone You Loved - Future Humans Remix              </td> <td>Lewis Capaldi   </td> <td>69              </td> <td>7m7vv9wlQ4i0LFuJiE2zsQ</td> <td>Someone You Loved (Future Humans Remix)              </td> <td>2019-03-05              </td> <td>Pop Remix    </td> <td>37i9dQZF1DXcZDD7cfEKhW</td> <td>pop           </td> <td>dance pop        </td> <td>0.65        </td> <td>0.833 </td> <td>1   </td> <td>-4.672  </td> <td>1   </td> <td>0.0359     </td> <td>0.0803      </td> <td>0               </td> <td>0.0833  </td> <td>0.725  </td> <td>123.976</td> <td>189052     </td> <td>2019         </td>\n",
       "        </tr>\n",
       "        <tr>\n",
       "            <td>6         </td> <td>7fvUMiyapMsRRxr07cU8Ef</td> <td>Beautiful People (feat. Khalid) - Jack Wins Remix    </td> <td>Ed Sheeran      </td> <td>67              </td> <td>2yiy9cd2QktrNvWC2EUi0k</td> <td>Beautiful People (feat. Khalid) [Jack Wins Remix]    </td> <td>2019-07-11              </td> <td>Pop Remix    </td> <td>37i9dQZF1DXcZDD7cfEKhW</td> <td>pop           </td> <td>dance pop        </td> <td>0.675       </td> <td>0.919 </td> <td>8   </td> <td>-5.385  </td> <td>1   </td> <td>0.127      </td> <td>0.0799      </td> <td>0               </td> <td>0.143   </td> <td>0.585  </td> <td>124.982</td> <td>163049     </td> <td>2019         </td>\n",
       "        </tr>\n",
       "        <tr>\n",
       "            <td>7         </td> <td>2OAylPUDDfwRGfe0lYqlCQ</td> <td>Never Really Over - R3HAB Remix                      </td> <td>Katy Perry      </td> <td>62              </td> <td>7INHYSeusaFlyrHSNxm8qH</td> <td>Never Really Over (R3HAB Remix)                      </td> <td>2019-07-26              </td> <td>Pop Remix    </td> <td>37i9dQZF1DXcZDD7cfEKhW</td> <td>pop           </td> <td>dance pop        </td> <td>0.449       </td> <td>0.856 </td> <td>5   </td> <td>-4.788  </td> <td>0   </td> <td>0.0623     </td> <td>0.187       </td> <td>0               </td> <td>0.176   </td> <td>0.152  </td> <td>112.648</td> <td>187675     </td> <td>2019         </td>\n",
       "        </tr>\n",
       "        <tr>\n",
       "            <td>8         </td> <td>6b1RNvAcJjQH73eZO4BLAB</td> <td>Post Malone (feat. RANI) - GATTÜSO Remix             </td> <td>Sam Feldt       </td> <td>69              </td> <td>6703SRPsLkS4bPtMFFJes1</td> <td>Post Malone (feat. RANI) [GATTÜSO Remix]             </td> <td>2019-08-29              </td> <td>Pop Remix    </td> <td>37i9dQZF1DXcZDD7cfEKhW</td> <td>pop           </td> <td>dance pop        </td> <td>0.542       </td> <td>0.903 </td> <td>4   </td> <td>-2.419  </td> <td>0   </td> <td>0.0434     </td> <td>0.0335      </td> <td>4.83e-06        </td> <td>0.111   </td> <td>0.367  </td> <td>127.936</td> <td>207619     </td> <td>2019         </td>\n",
       "        </tr>\n",
       "        <tr>\n",
       "            <td>9         </td> <td>7bF6tCO3gFb8INrEDcjNT5</td> <td>Tough Love - Tiësto Remix / Radio Edit               </td> <td>Avicii          </td> <td>68              </td> <td>7CvAfGvq4RlIwEbT9o8Iav</td> <td>Tough Love (Tiësto Remix)                            </td> <td>2019-06-14              </td> <td>Pop Remix    </td> <td>37i9dQZF1DXcZDD7cfEKhW</td> <td>pop           </td> <td>dance pop        </td> <td>0.594       </td> <td>0.935 </td> <td>8   </td> <td>-3.562  </td> <td>1   </td> <td>0.0565     </td> <td>0.0249      </td> <td>3.97e-06        </td> <td>0.637   </td> <td>0.366  </td> <td>127.015</td> <td>193187     </td> <td>2019         </td>\n",
       "        </tr>\n",
       "        <tr>\n",
       "            <td>10        </td> <td>1IXGILkPm0tOCNeq00kCPa</td> <td>If I Can't Have You - Gryffin Remix                  </td> <td>Shawn Mendes    </td> <td>67              </td> <td>4QxzbfSsVryEQwvPFEV5Iu</td> <td>If I Can't Have You (Gryffin Remix)                  </td> <td>2019-06-20              </td> <td>Pop Remix    </td> <td>37i9dQZF1DXcZDD7cfEKhW</td> <td>pop           </td> <td>dance pop        </td> <td>0.642       </td> <td>0.818 </td> <td>2   </td> <td>-4.552  </td> <td>1   </td> <td>0.032      </td> <td>0.0567      </td> <td>0               </td> <td>0.0919  </td> <td>0.59   </td> <td>124.957</td> <td>253040     </td> <td>2019         </td>\n",
       "        </tr>\n",
       "    </tbody>\n",
       "</table>\n",
       "<p>... (32823 rows omitted)</p>"
      ],
      "text/plain": [
       "Unnamed: 0 | track_id               | track_name                                            | track_artist     | track_popularity | track_album_id         | track_album_name                                      | track_album_release_date | playlist_name | playlist_id            | playlist_genre | playlist_subgenre | danceability | energy | key  | loudness | mode | speechiness | acousticness | instrumentalness | liveness | valence | tempo   | duration_ms | creation_year\n",
       "1          | 6f807x0ima9a1j3VPbc7VN | I Don't Care (with Justin Bieber) - Loud Luxury Remix | Ed Sheeran       | 66               | 2oCs0DGTsRO98Gh5ZSl2Cx | I Don't Care (with Justin Bieber) [Loud Luxury Remix] | 2019-06-14               | Pop Remix     | 37i9dQZF1DXcZDD7cfEKhW | pop            | dance pop         | 0.748        | 0.916  | 6    | -2.634   | 1    | 0.0583      | 0.102        | 0                | 0.0653   | 0.518   | 122.036 | 194754      | 2019\n",
       "2          | 0r7CVbZTWZgbTCYdfa2P31 | Memories - Dillon Francis Remix                       | Maroon 5         | 67               | 63rPSO264uRjW1X5E6cWv6 | Memories (Dillon Francis Remix)                       | 2019-12-13               | Pop Remix     | 37i9dQZF1DXcZDD7cfEKhW | pop            | dance pop         | 0.726        | 0.815  | 11   | -4.969   | 1    | 0.0373      | 0.0724       | 0.00421          | 0.357    | 0.693   | 99.972  | 162600      | 2019\n",
       "3          | 1z1Hg7Vb0AhHDiEmnDE79l | All the Time - Don Diablo Remix                       | Zara Larsson     | 70               | 1HoSmj2eLcsrR0vE9gThr4 | All the Time (Don Diablo Remix)                       | 2019-07-05               | Pop Remix     | 37i9dQZF1DXcZDD7cfEKhW | pop            | dance pop         | 0.675        | 0.931  | 1    | -3.432   | 0    | 0.0742      | 0.0794       | 2.33e-05         | 0.11     | 0.613   | 124.008 | 176616      | 2019\n",
       "4          | 75FpbthrwQmzHlBJLuGdC7 | Call You Mine - Keanu Silva Remix                     | The Chainsmokers | 60               | 1nqYsOef1yKKuGOVchbsk6 | Call You Mine - The Remixes                           | 2019-07-19               | Pop Remix     | 37i9dQZF1DXcZDD7cfEKhW | pop            | dance pop         | 0.718        | 0.93   | 7    | -3.778   | 1    | 0.102       | 0.0287       | 9.43e-06         | 0.204    | 0.277   | 121.956 | 169093      | 2019\n",
       "5          | 1e8PAfcKUYoKkxPhrHqw4x | Someone You Loved - Future Humans Remix               | Lewis Capaldi    | 69               | 7m7vv9wlQ4i0LFuJiE2zsQ | Someone You Loved (Future Humans Remix)               | 2019-03-05               | Pop Remix     | 37i9dQZF1DXcZDD7cfEKhW | pop            | dance pop         | 0.65         | 0.833  | 1    | -4.672   | 1    | 0.0359      | 0.0803       | 0                | 0.0833   | 0.725   | 123.976 | 189052      | 2019\n",
       "6          | 7fvUMiyapMsRRxr07cU8Ef | Beautiful People (feat. Khalid) - Jack Wins Remix     | Ed Sheeran       | 67               | 2yiy9cd2QktrNvWC2EUi0k | Beautiful People (feat. Khalid) [Jack Wins Remix]     | 2019-07-11               | Pop Remix     | 37i9dQZF1DXcZDD7cfEKhW | pop            | dance pop         | 0.675        | 0.919  | 8    | -5.385   | 1    | 0.127       | 0.0799       | 0                | 0.143    | 0.585   | 124.982 | 163049      | 2019\n",
       "7          | 2OAylPUDDfwRGfe0lYqlCQ | Never Really Over - R3HAB Remix                       | Katy Perry       | 62               | 7INHYSeusaFlyrHSNxm8qH | Never Really Over (R3HAB Remix)                       | 2019-07-26               | Pop Remix     | 37i9dQZF1DXcZDD7cfEKhW | pop            | dance pop         | 0.449        | 0.856  | 5    | -4.788   | 0    | 0.0623      | 0.187        | 0                | 0.176    | 0.152   | 112.648 | 187675      | 2019\n",
       "8          | 6b1RNvAcJjQH73eZO4BLAB | Post Malone (feat. RANI) - GATTÜSO Remix              | Sam Feldt        | 69               | 6703SRPsLkS4bPtMFFJes1 | Post Malone (feat. RANI) [GATTÜSO Remix]              | 2019-08-29               | Pop Remix     | 37i9dQZF1DXcZDD7cfEKhW | pop            | dance pop         | 0.542        | 0.903  | 4    | -2.419   | 0    | 0.0434      | 0.0335       | 4.83e-06         | 0.111    | 0.367   | 127.936 | 207619      | 2019\n",
       "9          | 7bF6tCO3gFb8INrEDcjNT5 | Tough Love - Tiësto Remix / Radio Edit                | Avicii           | 68               | 7CvAfGvq4RlIwEbT9o8Iav | Tough Love (Tiësto Remix)                             | 2019-06-14               | Pop Remix     | 37i9dQZF1DXcZDD7cfEKhW | pop            | dance pop         | 0.594        | 0.935  | 8    | -3.562   | 1    | 0.0565      | 0.0249       | 3.97e-06         | 0.637    | 0.366   | 127.015 | 193187      | 2019\n",
       "10         | 1IXGILkPm0tOCNeq00kCPa | If I Can't Have You - Gryffin Remix                   | Shawn Mendes     | 67               | 4QxzbfSsVryEQwvPFEV5Iu | If I Can't Have You (Gryffin Remix)                   | 2019-06-20               | Pop Remix     | 37i9dQZF1DXcZDD7cfEKhW | pop            | dance pop         | 0.642        | 0.818  | 2    | -4.552   | 1    | 0.032       | 0.0567       | 0                | 0.0919   | 0.59    | 124.957 | 253040      | 2019\n",
       "... (32823 rows omitted)"
      ]
     },
     "execution_count": 36,
     "metadata": {},
     "output_type": "execute_result"
    }
   ],
   "source": [
    "spotify"
   ]
  },
  {
   "cell_type": "code",
   "execution_count": 51,
   "metadata": {
    "colab": {
     "base_uri": "https://localhost:8080/",
     "height": 1000
    },
    "colab_type": "code",
    "id": "GvgX9envc46-",
    "outputId": "cfc78f81-946b-43b9-a79f-4ab6068f834c"
   },
   "outputs": [
    {
     "data": {
      "text/plain": [
       "array(['\"Permanent Wave\"', '10er Playlist', '1987-1997 OLD SKOOL JAMZ',\n",
       "       \"2000's hard rock\",\n",
       "       '2010 - 2011 - 2012 - 2013 - 2014 - 2015 - 2016 - 2017 - 2018 - 2019 - 2020 TOP HITS',\n",
       "       '2011-2014 House', '2015 songs', '2019 in Indie Poptimism',\n",
       "       '2020 Hits & 2019  Hits – Top Global Tracks 🔥🔥🔥',\n",
       "       '3rd Coast Classics', \"70's Classic Rock\", '70s Hard Rock',\n",
       "       '70s Pop & Rock Hits and Deep Tracks',\n",
       "       \"80's Freestyle/Disco Dance Party (Set Crossfade to 4-Seconds)\",\n",
       "       \"80's Songs | Top 💯 80s Music Hits\", '80s / Classic Rock',\n",
       "       '80s Pop & Rock Hits and Album Tracks',\n",
       "       '80s-90s R&B / New Jack Swing / Funk / Dance / Soul',\n",
       "       \"90's Gangster Rap\", \"90's Hip Hop Ultimate Collection\",\n",
       "       \"90's NEW JACK SWING\", \"90's Southern Hip Hop\", '90s Dance Hits',\n",
       "       '90s Gangsta Rap / Top Hip-hop Classics',\n",
       "       '90s Hiphop / Gangsta Rap',\n",
       "       '90s R&B - The BET Planet Groove/Midnight Love Mix',\n",
       "       '90s-2000s Southern Hip Hop / Crunk', '90s/00s Hip Hop & RnB',\n",
       "       '< DARK TRAP >', '@deniceemoberg EDM - POP REMIXES',\n",
       "       'A Loose Definition of Indie Poptimism', 'A1 Hip-Hop',\n",
       "       'ALPAS Music Festival', 'Academia Reggaetón', 'Afro Psychedelica',\n",
       "       'Alex Workout', 'Alternative Hip Hop', 'Arabic Trap',\n",
       "       'Arena Hip-Hop', 'BALLARE - رقص', 'BIG-ROOM NEVER DIES !',\n",
       "       'Back in the day - R&B, New Jack Swing, Swingbeat, RNB..etc.',\n",
       "       'Badass Rock', 'Baila Reggaeton', 'Best of 2019 Dance Pop: Japan',\n",
       "       'Best of New Jack Swing', 'Big Room 2019', 'Big Room Beast',\n",
       "       'Big Room EDM', \"Big Room EDM - by Spinnin' Records\",\n",
       "       'Big Room House', 'Big Room House / Bigroom',\n",
       "       'Big Room House | Festival Bangers', 'Big White Room-Jessie-J',\n",
       "       'Bluegrass Covers', 'Blues Rock', 'Bounce United', 'Brand New EDM',\n",
       "       'Brisa Pop', 'CHRISTIAN ELECTRO / DANCE / EDM',\n",
       "       'CSR 103:9 (GTA: SA)', 'Caifanes La Historia', 'Cardio',\n",
       "       'Charts 2020 🔥Top 2020🔥Hits 2020🔥Summer 2020🔥Pop 2020🔥Popular Music🔥Clean Pop 2020🔥Sing Alongs',\n",
       "       'Chicano Rap', 'Chillout & Remixes 💜', 'Chixtape 5 - Tory Lanez',\n",
       "       'Christian Dance Party', 'Christmas Soul', 'City Pop 1985 シティーポップ',\n",
       "       'Classic Hard Rock', 'Classic Rock',\n",
       "       'Classic Rock 70s 80s 90s, Rock Classics - 70s Rock, 80s Rock, 90s Rock Rock  Classicos',\n",
       "       'Classic Rock Drive', 'Classic Rock Greatest Hits',\n",
       "       'Classic Rock Legends', 'Classic Rock Now',\n",
       "       'Classic Rock Playlist.', 'Classic Rock Radio',\n",
       "       'Classic Rock Retrogamer', 'Classic Rock Workout',\n",
       "       'Club Mix 2020 🍹', 'Coldplay – Ghost Stories (Deluxe Edition)',\n",
       "       'Contemporary Hip Hop', 'Contemporary Urban',\n",
       "       'Crossfit\\u200f\\u200f\\u200b\\u200b   \\u200d', 'Cuban vibes only',\n",
       "       'DK rap', 'Dance Pop', 'Dance Pop Hits', 'Dance Pop Tunes',\n",
       "       'Dance Pop: Japan', 'Dance Room', 'Dancefloor Beats', 'De Fiesta',\n",
       "       'Deep Electronic Music 2020 & Progressive House',\n",
       "       'Deep-deep Bubble Pop', 'Dirty South Rap Classics by DJ HOTSAUCE',\n",
       "       'Dose Trap', \"Dr. Q's Prescription Playlist💊\", 'EDM - pop remixes',\n",
       "       'EDM 2019', 'EDM 2020 House & Dance', 'EDM House & Dance',\n",
       "       'EDM Pop', 'EDM TROPICAL', 'EDM Trap', 'EDM/POP',\n",
       "       'ELECTRO HOUSE 2020', 'ELECTROPOP', 'ELECTROPOP EN ESPAÑOL',\n",
       "       'ELECTROPOP🐹', 'ELETRIC POP & DANCE', 'El Ritmo', 'Electro House',\n",
       "       \"Electro House - by Spinnin' Records\", 'Electro House 2020',\n",
       "       'Electro House Top Tracks', 'Electro Pop | Electropop',\n",
       "       'Electro Posé - Discoveries', 'Electro Swing',\n",
       "       'Electro Swing Top 100', 'Electro Vibes',\n",
       "       'Electro/Progressive/Club House', 'ElectroPop', 'ElectroPop 2020',\n",
       "       'Electropop', 'Electropop - Pop', 'Electropop 2019',\n",
       "       'Electropop 80/90s', 'Electropop And Play',\n",
       "       'Electropop Hits  2017-2020',\n",
       "       'Electrónica, Progressive House, Electro House y más 🎧',\n",
       "       'Epic Bass Drops', 'Epic Bass Drops | Best House Mixes',\n",
       "       'Exitos 2020 - Latin Billboard', 'F**KIN PERFECT',\n",
       "       'Feeling Accomplished', 'Female Vocal EDM',\n",
       "       'Festival Music 2019 - Warm Up Music (EDM, Big Room & Progressive House)',\n",
       "       'Fiesta Latina Mix 🎈🎉💃🏻🕺🏻☀️🏖',\n",
       "       'Fitness Workout Electro | House | Dance | Progressive House',\n",
       "       'Flow Selecto',\n",
       "       'Fresh EDM | Progressive House | Electro House | Trap | Deep House | Electronic | Future House/Bass',\n",
       "       'Fresh Essentials', 'GANGSTA RAP', 'GANGSTA Rap',\n",
       "       'GTA San Andreas Radio Los Santos', 'GTA V - Radio Mirror Park',\n",
       "       'Gangsta Rap 💎 Rap Party', \"Gangsta Rap/90's Hip-Hop\",\n",
       "       'Gangster Rap', 'Gangster Rap Deutsch', 'Gangster Rap Workout',\n",
       "       'Gangster Rap | 100 % Gangster', 'Generacja Hip Hop',\n",
       "       'Girl On Fire', 'Global Top 50 | 2020 Hits', 'Global X', 'Gospel',\n",
       "       'Gospel Neo Soul',\n",
       "       'Gothic / Industrial / Mittelalter / EBM / Futurepop / Gothik / Electropop',\n",
       "       'Great Pops', 'Groovy // Funky // Neo-Soul',\n",
       "       'Gym (Melbourne Bounce/Progressive House)', 'HARD ROCK CAFE',\n",
       "       'HARD ROCK Vibes', 'HIP&HOP', \"HIP-HOP: Latin Rap ['89-present]\",\n",
       "       'Hands Up\\u200f\\u200f\\u200b\\u200b   \\u200d', 'Happy EDM',\n",
       "       'Hard Rock', 'Hard Rock Cafe Classics',\n",
       "       'Hard Rock Classics 1967-1991 (Party Edition)',\n",
       "       'Hard Rock Workout', 'Hard Rock Workout!', 'Hip Hop Controller',\n",
       "       'Hip Pop 2019', 'Hip Te Hop', 'Hip pop', \"Hip-Hop 'n RnB\",\n",
       "       'Hip-Hop Central', 'Hip-Hop Drive', 'Hip-Hop Favourites',\n",
       "       'Hip-Hop Mixtape',\n",
       "       'Hot Latino Mix (Latin, Hip Hop, Rap, RnB, Dancehall, Reggeaton, Afro)',\n",
       "       'House Electro 2019', 'House Of The Rising Sun',\n",
       "       'House/Electro/Progressive/Disco/Lofi/Synthwave',\n",
       "       'I Love My Neo-Soul',\n",
       "       'I didn’t know perm stood for permanent (wave)',\n",
       "       'INDIE POP! TUNES', 'Indie Poptimism',\n",
       "       'Indie Poptimism (PUBLIC, The Band CAMINO, lovelytheband)',\n",
       "       'Indie Poptimism!', 'Indie/Jazz Poptimism',\n",
       "       'Intro to Indie Poptimism', 'Intro to Permanent Wave',\n",
       "       'Intro to Post-Teen Pop', 'Japanese Funk/Soul/NEO/Jazz/Acid',\n",
       "       'Jazz Vibes', 'Jeff Seid Electro House', 'K-Crazy Michioso Tunes',\n",
       "       'K-Party Dance Mix', \"Kenny B's Ultimate New Jack Swing Mix\",\n",
       "       \"L' ALBUM ROCK\", 'LATIN FLOW MIX - Música Cristiana🎵',\n",
       "       'LATIN POP 2020 🔥 Pop latino actual', 'LATIN POP- DJ GIAN',\n",
       "       'Latest Hits 2020 - Pop, Hip Hop & RnB',\n",
       "       'Latest Latin American Hits 2020',\n",
       "       'Latin Hip Hop & Rap Playlist 2019', 'Latin Hip Hop/Freestyle',\n",
       "       'Latin Pop 2019', 'Latin Pop Classics', 'Latin Pop Rising',\n",
       "       'Latin Pop Songs', 'Latin Pop VIP', 'Latin Pop antiguo',\n",
       "       'Latin Village 2019', 'Latin/Hip Hop/Dancehall/Soca',\n",
       "       'Lo-Fi Beats', 'Locker Room', 'Lofi Hip-Hop', 'Los Cangri',\n",
       "       'Lush Lofi', 'MIX LATIN POP°', 'Mansión Reggaetón',\n",
       "       'Maxi Pop  GOLD (New Wave, Electropop, Synth Pop...)',\n",
       "       'Mega Rock Ballads: The Best Slow Rock Compilation Ever !',\n",
       "       'Mexican Gangsta Rap', 'Michael Learns To Rock album',\n",
       "       'Minitruckin Playlist',\n",
       "       'Mix ElectroPop//ElectroHouse// DeepHouse 2020',\n",
       "       'Modern Indie Rock // Alternative Rock / Garage Rock / Pop Punk / Grunge / Britpop / Pop Rock',\n",
       "       'Modus Mio', 'Most Popular 2020 TOP 50',\n",
       "       'Muse Radio - (Uprising, Starlight, Supermassive Black Hole, Madness)',\n",
       "       'Music&Other Drugs',\n",
       "       'Musica Italiana 2020 - Playlist Pop & Hip-Hop (Canzoni Italiane 2020)',\n",
       "       'NEO FUNK AND SOUL', 'NEO SOUL GUITAR', 'NEO-soul', 'Nasty Bits',\n",
       "       'Neo Soul', 'Neo Soul / Modern Jazz / Smooth Hiphop',\n",
       "       'Neo Soul 2019', 'Neo Soul Music', 'Neo-Jazz Soul RnB & Afro',\n",
       "       'Neo-Soul', 'Neo-Soul / Soulful R&B', 'Neo-Soul Essentials',\n",
       "       'Neo-Soul Guitar', 'New Hard Rock',\n",
       "       'New Hip Hop\\u200f\\u200f\\u200b\\u200b   \\u200d',\n",
       "       'New House   \\u200d', 'New Jack City', 'New Jack Swing',\n",
       "       'New Jack Swing - 90s R&B fused w Hip Hop',\n",
       "       \"New Jack Swing -late 80's & early 90's Hip Hop and R&B\",\n",
       "       'New Jack Swing | The Best 👌',\n",
       "       'New Jack Swing/ R&B Hits: 1987 - 2002',\n",
       "       'New R&B\\u200f\\u200f\\u200b\\u200b   \\u200d',\n",
       "       'Nidza Bleja - English HIP HOP/POP Songs', \"Nikki Sixx's Top Pixx\",\n",
       "       'ONE OK ROCK with Orchestra Japan Tour 2018 Setlist',\n",
       "       'Oldschool Gangsta Rap 👑', 'Orgulho Tropical',\n",
       "       'PAROOKAVILLE - Big Room', 'POPTIMISM', 'PROJECT: Contemporary',\n",
       "       'Paraiso Tropical', 'Paraíso Tropical', 'Permanent Wave',\n",
       "       'Permanent Wave CHDB', 'Permanent Wave Cafe', 'Permanent wave',\n",
       "       'Permanent wave 🌊', 'Perreo City', 'Pinoy Classic Rock',\n",
       "       'Pop - Pop UK - 2019 - Canadian Pop - 2019 - Pop', 'Pop / Dance',\n",
       "       'Pop / Hip-Hop: Gas ⛽️', 'Pop 2009-2011', 'Pop Dance Hits',\n",
       "       'Pop EDM', 'Pop EDM Remixes', 'Pop Hits 2000-2019',\n",
       "       'Pop Hits 2020',\n",
       "       'Pop Inglés (2020 - 2010s)💙 Música En Inglés 2010s',\n",
       "       'Pop Latino 2019 - Mix Canciones Reggaeton & Pop Latino - Pop En Español 2019 Musica Para Bailar',\n",
       "       'Pop Punk | Post-Hardcore', 'Pop Remix', 'Pop Warmup 130 BPM',\n",
       "       'Post Teen Pop', 'Post pop teen', 'Post teen pop', 'Post-Teen Pop',\n",
       "       'Post-teen pop',\n",
       "       'Progressive Rock / Metal - Rock /Metal  Progresivo',\n",
       "       'Punto Tropical', \"R&B 80's/90's/00's\", 'RADIO POP CHARTS',\n",
       "       'RAP 91', 'RAP Gangsta', 'REGGAETON ANTIGUO 🔥', 'REGGAETON VIEJO',\n",
       "       'RUSSIAN Gangster Rap', 'Rap Party 24/7 Radio / Gangsta Rap',\n",
       "       'Rap Workout', 'RapCaviar', 'Reggaeton 2020 ☀',\n",
       "       'Reggaeton 2020 😍 🔥', 'Reggaeton Classics', 'Reggaeton De Ayer',\n",
       "       'Reggaeton Rewind', 'Reggaeton viejito🔥',\n",
       "       \"Rock Ballads 80s 90s | Best Rock Love Songs 80's 90's Music Hits\",\n",
       "       'Rock Classics', 'Rock Hard', 'Rock Hubspot', 'Rock and Rios',\n",
       "       'Russian Gangster Rap', 'SINULOG Festival 2020',\n",
       "       'SNZB PERMANENT WAVE', 'Sad Trap',\n",
       "       'Saxophone in Hip Hop - R&B Lounge - Jazz Rap',\n",
       "       'School Dance 2019 (Squeaky Clean)', 'Selected House',\n",
       "       'Sexy Soul 2020', 'Sick Big Room House Drops | EZUMI',\n",
       "       'Smooth Hip Hop', 'Soda Stereo – El Ultimo Concierto',\n",
       "       'Soft Rock Drive',\n",
       "       'Someone You Loved Lewis Capaldi (Pop Music Mix)',\n",
       "       'Soul Coffee (The Best Neo-Soul Mixtape ever)',\n",
       "       'Southern California Hip Hop Primer', 'Southern Hip Hop',\n",
       "       'Southern Rock/Classic Rock', 'Southern Soul BBQ Mix',\n",
       "       'Southern soul & hip hop', 'Sunny Beats',\n",
       "       'Supernatural Classic Rock',\n",
       "       'Swingbeat (old skool), New Jack Swing, R&B, Hip Hop, Urban',\n",
       "       'TOP 50 GLOBAL 2020 UPDATED WEEKLY 🌍🎶 WORLDWIDE', 'TROPICAL🌴',\n",
       "       'TUNES DANCE AND POP', 'Tastemakers Ball  -  EDM - POP and FUN',\n",
       "       'Techno House 2020 👽 Best Collection 👻 Top DJ’s Electronic Music - Deep House - Trance - Tech House - Dance - Electro Pop',\n",
       "       'The 1950s/1960s/1970s/1980s/1990s/2000s/2010s with pop/r&b/soul/boogie/dance/jazz/hip hop/hop/rap.',\n",
       "       'The Black Album', 'The Cranberries Best Of',\n",
       "       'The Edge of Indie Poptimism', 'The New (Jack Swing) Testament',\n",
       "       'The Pulse of Indie Poptimism',\n",
       "       'The Queen - La Discografia Completa', 'The Sound of Album Rock',\n",
       "       'The Sound of Indie Poptimism', 'The Sound of New Jack Swing',\n",
       "       'The Sound of Permanent Wave', 'The Sound of Post-Teen Pop',\n",
       "       'The Sound of Southern Hip Hop', 'The Sound of Urban Contemporary',\n",
       "       'This Is Gloria Estefan', \"This Is Guns N' Roses\",\n",
       "       'This Is Janelle Monáe', 'This Is Logic', 'This Is Scorpions',\n",
       "       'This Is: Don Omar', 'This Is: Javiera Mena',\n",
       "       \"Today's Hits (Clean)\", \"Today's Hits 2000-Present\",\n",
       "       'Todo Reggaeton', 'Todo Éxitos', 'Top Urban Underground',\n",
       "       'Trance Party 2019 by FUTURE TRANCE', 'Trap 2020 🔥',\n",
       "       'Trap Americana', 'Trap Argentino - Trap Argentina', 'Trap Funk',\n",
       "       'Trap Land', 'Trap Luv', 'Trap Mojito', 'Trap Nation',\n",
       "       'Trap Nation 🔊', 'Trap Ouro', 'Trap Rewind', 'Trap strefa',\n",
       "       'Trapperz', 'Trapperz Argentina', 'Trapperz Brasil',\n",
       "       'Trending EDM by Nik Cooper', 'Tropical Beats', 'Tropical House',\n",
       "       'Tropical House 2020',\n",
       "       'Tropical House Remixes 🍍 Tropical Remixes & Tropical Covers',\n",
       "       'Tropical House Run 190 BPM', 'Tropical House 🌴',\n",
       "       'Tropical House 🏝 2020 Hits', 'Tropical Morning',\n",
       "       'Tropical Nights', 'Tropical Rising', 'Tropical Vibes',\n",
       "       'Tusa - Karol G | China - Anuel AA | Estrenos Reggaeton y Música Urbana 2019',\n",
       "       'URBAN NATION',\n",
       "       'Ultimate Indie Presents... Best Indie Tracks of the 2010s',\n",
       "       'Ultimate Indie Presents... Best Tracks of 2019',\n",
       "       'Ultimate Throwbacks Collection',\n",
       "       'Underground Party | Hypnotic | Minimal | Acid | Big Room | Tech | Liquid',\n",
       "       'Unplugged Hits 📣', 'Urban Contemporary', 'Urban contemporary',\n",
       "       'Urban/Trap - Contemporary RAP', 'Urbano: Latino Vibes',\n",
       "       'Vault: Def Leppard Greatest Hits', 'Verano Forever',\n",
       "       'Verão 2020 | Pop | Funk | Sertanejo | EDM | Top Hits 2019 - As Mais Tocadas',\n",
       "       'Vibra Tropical', 'VidaLoca - Latin / Raggaeton / Hip Hop ©',\n",
       "       'Viral Southern Hip Hop', 'Vocal House', 'Waves Pop and EDM',\n",
       "       'Workday: Rock Classics', 'Workout Hard Rock', 'Zona Trap',\n",
       "       '[EAS]: Festival Big Room', 'a taste of the mainstream',\n",
       "       'big boom room — TOMORROWLAND EDC EDM BIG ROOM AMF ADE DANCE TRANCE HARDWELL TIESTO',\n",
       "       'indie poptimism', 'indie poptimism🕺🏻', 'keg party jukebox',\n",
       "       'latin hip hop', 'permanent wave', 'post teen pop',\n",
       "       'post-teen alternative, indie, pop (large variety)',\n",
       "       'post-teen pop',\n",
       "       \"random playlist that can't decide its genre so go ahead jam along with these catchy tunes\",\n",
       "       'urban CONTEMPORARY', 'urban contemporary', '¡Viva Latino!',\n",
       "       '’80s Hard Rock', '②⓪①⑨ mixed',\n",
       "       '◤ Hip Hop Dance Music – Urban – Trap – Breaking Locking Popping Bopping – WOD – World of Dance',\n",
       "       '♥ EDM LOVE 2020', '💊ELECTRO-HOUSE-TECH💊',\n",
       "       '🔊BASSBOOSTED🔊⚡ELECTRO HOUSE⚡🔥EDM CAR MUSIC2018/2019🔥',\n",
       "       \"🔥💵 Hip Hop, Rap, Heavy 808's - New School\",\n",
       "       '🔥🦁 GOOD VIBES ONLY 🦁🔥 // BROEDERLIEFDE || FRENNA || BROEDERS || HENKIE T  || BIZZEY || POKE \\\\\\\\',\n",
       "       '🤩🤪Post Teen Pop🤪🤩'], dtype='<U122')"
      ]
     },
     "execution_count": 51,
     "metadata": {},
     "output_type": "execute_result"
    }
   ],
   "source": [
    "# playlists\n",
    "playlist_names = np.unique(spotify.select('playlist_name')[0])\n",
    "playlist_names"
   ]
  },
  {
   "cell_type": "markdown",
   "metadata": {},
   "source": [
    "the pollen playlist doesn't seem to be in this dataset"
   ]
  },
  {
   "cell_type": "code",
   "execution_count": 96,
   "metadata": {
    "colab": {},
    "colab_type": "code",
    "id": "6fTJALarfdYD"
   },
   "outputs": [
    {
     "data": {
      "text/html": [
       "<table border=\"1\" class=\"dataframe\">\n",
       "    <thead>\n",
       "        <tr>\n",
       "            <th>Unnamed: 0</th> <th>track_id</th> <th>track_name</th> <th>track_artist</th> <th>track_popularity</th> <th>track_album_id</th> <th>track_album_name</th> <th>track_album_release_date</th> <th>playlist_name</th> <th>playlist_id</th> <th>playlist_genre</th> <th>playlist_subgenre</th> <th>danceability</th> <th>energy</th> <th>key</th> <th>loudness</th> <th>mode</th> <th>speechiness</th> <th>acousticness</th> <th>instrumentalness</th> <th>liveness</th> <th>valence</th> <th>tempo</th> <th>duration_ms</th>\n",
       "        </tr>\n",
       "    </thead>\n",
       "    <tbody>\n",
       "    </tbody>\n",
       "</table>"
      ],
      "text/plain": [
       "Unnamed: 0 | track_id | track_name | track_artist | track_popularity | track_album_id | track_album_name | track_album_release_date | playlist_name | playlist_id | playlist_genre | playlist_subgenre | danceability | energy | key  | loudness | mode | speechiness | acousticness | instrumentalness | liveness | valence | tempo | duration_ms"
      ]
     },
     "execution_count": 96,
     "metadata": {},
     "output_type": "execute_result"
    }
   ],
   "source": [
    "spotify.where('playlist_name', are.equal_to('POLLEN'))"
   ]
  },
  {
   "cell_type": "code",
   "execution_count": 56,
   "metadata": {},
   "outputs": [
    {
     "data": {
      "text/html": [
       "<table border=\"1\" class=\"dataframe\">\n",
       "    <thead>\n",
       "        <tr>\n",
       "            <th>Unnamed: 0</th> <th>track_id</th> <th>track_name</th> <th>track_artist</th> <th>track_popularity</th> <th>track_album_id</th> <th>track_album_name</th> <th>track_album_release_date</th> <th>playlist_name</th> <th>playlist_id</th> <th>playlist_genre</th> <th>playlist_subgenre</th> <th>danceability</th> <th>energy</th> <th>key</th> <th>loudness</th> <th>mode</th> <th>speechiness</th> <th>acousticness</th> <th>instrumentalness</th> <th>liveness</th> <th>valence</th> <th>tempo</th> <th>duration_ms</th> <th>creation_year</th>\n",
       "        </tr>\n",
       "    </thead>\n",
       "    <tbody>\n",
       "        <tr>\n",
       "            <td>26791     </td> <td>366S9c0rQtvrkclcCSRNmB</td> <td>Disease - KATFYR \"Tokyo Bound\" Remix</td> <td>Naeleck         </td> <td>43              </td> <td>4s3VdQXA9G1RA2a4RrCCKN</td> <td>Disease                </td> <td>2013-09-16              </td> <td>Electro House 2020</td> <td>317O0e8iWJLClLGDKtieRe</td> <td>edm           </td> <td>electro house    </td> <td>0.677       </td> <td>0.926 </td> <td>0   </td> <td>-3.307  </td> <td>1   </td> <td>0.0456     </td> <td>0.00298     </td> <td>0.507           </td> <td>0.337   </td> <td>0.108  </td> <td>128.014</td> <td>288867     </td> <td>2013         </td>\n",
       "        </tr>\n",
       "        <tr>\n",
       "            <td>26792     </td> <td>0nEeyKLtk5vTlbcdvgrCOH</td> <td>Infinite Ammo                       </td> <td>Le Castle Vania </td> <td>46              </td> <td>3AdNvHp7wzEBY0DYz8Oiq6</td> <td>Payday                 </td> <td>2015-10-23              </td> <td>Electro House 2020</td> <td>317O0e8iWJLClLGDKtieRe</td> <td>edm           </td> <td>electro house    </td> <td>0.597       </td> <td>0.96  </td> <td>7   </td> <td>-1.94   </td> <td>0   </td> <td>0.0627     </td> <td>9.38e-05    </td> <td>0.89            </td> <td>0.325   </td> <td>0.144  </td> <td>127.016</td> <td>232637     </td> <td>2015         </td>\n",
       "        </tr>\n",
       "        <tr>\n",
       "            <td>26793     </td> <td>4gxukDJiwApNEgVIh4pHgT</td> <td>WOW                                 </td> <td>Tiësto          </td> <td>10              </td> <td>4I2qcrUxk37AoJOMjiOCvu</td> <td>WOW                    </td> <td>2018-08-24              </td> <td>Electro House 2020</td> <td>317O0e8iWJLClLGDKtieRe</td> <td>edm           </td> <td>electro house    </td> <td>0.601       </td> <td>0.99  </td> <td>6   </td> <td>-3.016  </td> <td>1   </td> <td>0.337      </td> <td>0.00116     </td> <td>0.52            </td> <td>0.124   </td> <td>0.192  </td> <td>127.958</td> <td>148125     </td> <td>2018         </td>\n",
       "        </tr>\n",
       "        <tr>\n",
       "            <td>26794     </td> <td>3mLLlN1ZdHmlJHkvNON7ou</td> <td>Threnody - Bombs Away Remix         </td> <td>Naeleck         </td> <td>50              </td> <td>2CUUZuC9EhMcnU7zdNWWrI</td> <td>Threnody               </td> <td>2016-12-26              </td> <td>Electro House 2020</td> <td>317O0e8iWJLClLGDKtieRe</td> <td>edm           </td> <td>electro house    </td> <td>0.836       </td> <td>0.926 </td> <td>2   </td> <td>-3.728  </td> <td>1   </td> <td>0.0495     </td> <td>0.000389    </td> <td>0.32            </td> <td>0.203   </td> <td>0.148  </td> <td>127.977</td> <td>247309     </td> <td>2016         </td>\n",
       "        </tr>\n",
       "        <tr>\n",
       "            <td>26795     </td> <td>17NCISfYJl0GITXs8G75Ae</td> <td>Loudness War                        </td> <td>Fukkk Offf      </td> <td>33              </td> <td>0vXDfJsurQa6rZayRwvgtQ</td> <td>Loudness War           </td> <td>2019-07-12              </td> <td>Electro House 2020</td> <td>317O0e8iWJLClLGDKtieRe</td> <td>edm           </td> <td>electro house    </td> <td>0.843       </td> <td>0.844 </td> <td>2   </td> <td>-4.779  </td> <td>1   </td> <td>0.0749     </td> <td>0.000609    </td> <td>0.166           </td> <td>0.0458  </td> <td>0.727  </td> <td>127.98 </td> <td>285000     </td> <td>2019         </td>\n",
       "        </tr>\n",
       "        <tr>\n",
       "            <td>26796     </td> <td>0qqgd6DGBRaI8oI0opqW0S</td> <td>Deja Vu                             </td> <td>Wolfgang Gartner</td> <td>36              </td> <td>61q8dE6rffx7yRsYaoyobu</td> <td>Medicine               </td> <td>2018-11-02              </td> <td>Electro House 2020</td> <td>317O0e8iWJLClLGDKtieRe</td> <td>edm           </td> <td>electro house    </td> <td>0.662       </td> <td>0.665 </td> <td>3   </td> <td>-5.689  </td> <td>0   </td> <td>0.18       </td> <td>0.000519    </td> <td>0.0515          </td> <td>0.118   </td> <td>0.332  </td> <td>127.936</td> <td>210234     </td> <td>2018         </td>\n",
       "        </tr>\n",
       "        <tr>\n",
       "            <td>26797     </td> <td>229MM2St7SnW43nT8ADlG8</td> <td>Game Time (feat. Ninja)             </td> <td>3LAU            </td> <td>51              </td> <td>1ZTTtYiivr4tUgHLt1f0Nh</td> <td>Game Time (feat. Ninja)</td> <td>2018-11-30              </td> <td>Electro House 2020</td> <td>317O0e8iWJLClLGDKtieRe</td> <td>edm           </td> <td>electro house    </td> <td>0.534       </td> <td>0.957 </td> <td>1   </td> <td>-4.025  </td> <td>1   </td> <td>0.0455     </td> <td>8.05e-05    </td> <td>0.758           </td> <td>0.266   </td> <td>0.52   </td> <td>95.046 </td> <td>156632     </td> <td>2018         </td>\n",
       "        </tr>\n",
       "        <tr>\n",
       "            <td>26798     </td> <td>72qHiPkoZdxpkhyBPvehRB</td> <td>Rave                                </td> <td>SOVTH           </td> <td>25              </td> <td>2VeB0Us6Pu42rgmtzdv4hI</td> <td>Rave                   </td> <td>2019-12-13              </td> <td>Electro House 2020</td> <td>317O0e8iWJLClLGDKtieRe</td> <td>edm           </td> <td>electro house    </td> <td>0.786       </td> <td>0.955 </td> <td>5   </td> <td>-6.369  </td> <td>0   </td> <td>0.0606     </td> <td>0.000906    </td> <td>0.849           </td> <td>0.396   </td> <td>0.745  </td> <td>125.996</td> <td>200015     </td> <td>2019         </td>\n",
       "        </tr>\n",
       "        <tr>\n",
       "            <td>26799     </td> <td>1ctoZDhYkpKa0o9B9Wjen3</td> <td>Outlaw                              </td> <td>Bassjackers     </td> <td>38              </td> <td>6MnnkXC0DBgjc9mFxJ585V</td> <td>The Biggest            </td> <td>2019-11-22              </td> <td>Electro House 2020</td> <td>317O0e8iWJLClLGDKtieRe</td> <td>edm           </td> <td>electro house    </td> <td>0.674       </td> <td>0.881 </td> <td>1   </td> <td>-4.15   </td> <td>0   </td> <td>0.0573     </td> <td>0.00792     </td> <td>0.576           </td> <td>0.127   </td> <td>0.0475 </td> <td>104.962</td> <td>184716     </td> <td>2019         </td>\n",
       "        </tr>\n",
       "        <tr>\n",
       "            <td>26800     </td> <td>4WlBtGJRZgJjWikusfISrj</td> <td>Bang                                </td> <td>RICCI           </td> <td>59              </td> <td>2llnqXScb5cQhBNw4dhd7h</td> <td>Bang                   </td> <td>2019-12-27              </td> <td>Electro House 2020</td> <td>317O0e8iWJLClLGDKtieRe</td> <td>edm           </td> <td>electro house    </td> <td>0.876       </td> <td>0.824 </td> <td>1   </td> <td>-6.292  </td> <td>1   </td> <td>0.101      </td> <td>0.11        </td> <td>0.739           </td> <td>0.0828  </td> <td>0.725  </td> <td>123.007</td> <td>176000     </td> <td>2019         </td>\n",
       "        </tr>\n",
       "    </tbody>\n",
       "</table>\n",
       "<p>... (6033 rows omitted)</p>"
      ],
      "text/plain": [
       "Unnamed: 0 | track_id               | track_name                           | track_artist     | track_popularity | track_album_id         | track_album_name        | track_album_release_date | playlist_name      | playlist_id            | playlist_genre | playlist_subgenre | danceability | energy | key  | loudness | mode | speechiness | acousticness | instrumentalness | liveness | valence | tempo   | duration_ms | creation_year\n",
       "26791      | 366S9c0rQtvrkclcCSRNmB | Disease - KATFYR \"Tokyo Bound\" Remix | Naeleck          | 43               | 4s3VdQXA9G1RA2a4RrCCKN | Disease                 | 2013-09-16               | Electro House 2020 | 317O0e8iWJLClLGDKtieRe | edm            | electro house     | 0.677        | 0.926  | 0    | -3.307   | 1    | 0.0456      | 0.00298      | 0.507            | 0.337    | 0.108   | 128.014 | 288867      | 2013\n",
       "26792      | 0nEeyKLtk5vTlbcdvgrCOH | Infinite Ammo                        | Le Castle Vania  | 46               | 3AdNvHp7wzEBY0DYz8Oiq6 | Payday                  | 2015-10-23               | Electro House 2020 | 317O0e8iWJLClLGDKtieRe | edm            | electro house     | 0.597        | 0.96   | 7    | -1.94    | 0    | 0.0627      | 9.38e-05     | 0.89             | 0.325    | 0.144   | 127.016 | 232637      | 2015\n",
       "26793      | 4gxukDJiwApNEgVIh4pHgT | WOW                                  | Tiësto           | 10               | 4I2qcrUxk37AoJOMjiOCvu | WOW                     | 2018-08-24               | Electro House 2020 | 317O0e8iWJLClLGDKtieRe | edm            | electro house     | 0.601        | 0.99   | 6    | -3.016   | 1    | 0.337       | 0.00116      | 0.52             | 0.124    | 0.192   | 127.958 | 148125      | 2018\n",
       "26794      | 3mLLlN1ZdHmlJHkvNON7ou | Threnody - Bombs Away Remix          | Naeleck          | 50               | 2CUUZuC9EhMcnU7zdNWWrI | Threnody                | 2016-12-26               | Electro House 2020 | 317O0e8iWJLClLGDKtieRe | edm            | electro house     | 0.836        | 0.926  | 2    | -3.728   | 1    | 0.0495      | 0.000389     | 0.32             | 0.203    | 0.148   | 127.977 | 247309      | 2016\n",
       "26795      | 17NCISfYJl0GITXs8G75Ae | Loudness War                         | Fukkk Offf       | 33               | 0vXDfJsurQa6rZayRwvgtQ | Loudness War            | 2019-07-12               | Electro House 2020 | 317O0e8iWJLClLGDKtieRe | edm            | electro house     | 0.843        | 0.844  | 2    | -4.779   | 1    | 0.0749      | 0.000609     | 0.166            | 0.0458   | 0.727   | 127.98  | 285000      | 2019\n",
       "26796      | 0qqgd6DGBRaI8oI0opqW0S | Deja Vu                              | Wolfgang Gartner | 36               | 61q8dE6rffx7yRsYaoyobu | Medicine                | 2018-11-02               | Electro House 2020 | 317O0e8iWJLClLGDKtieRe | edm            | electro house     | 0.662        | 0.665  | 3    | -5.689   | 0    | 0.18        | 0.000519     | 0.0515           | 0.118    | 0.332   | 127.936 | 210234      | 2018\n",
       "26797      | 229MM2St7SnW43nT8ADlG8 | Game Time (feat. Ninja)              | 3LAU             | 51               | 1ZTTtYiivr4tUgHLt1f0Nh | Game Time (feat. Ninja) | 2018-11-30               | Electro House 2020 | 317O0e8iWJLClLGDKtieRe | edm            | electro house     | 0.534        | 0.957  | 1    | -4.025   | 1    | 0.0455      | 8.05e-05     | 0.758            | 0.266    | 0.52    | 95.046  | 156632      | 2018\n",
       "26798      | 72qHiPkoZdxpkhyBPvehRB | Rave                                 | SOVTH            | 25               | 2VeB0Us6Pu42rgmtzdv4hI | Rave                    | 2019-12-13               | Electro House 2020 | 317O0e8iWJLClLGDKtieRe | edm            | electro house     | 0.786        | 0.955  | 5    | -6.369   | 0    | 0.0606      | 0.000906     | 0.849            | 0.396    | 0.745   | 125.996 | 200015      | 2019\n",
       "26799      | 1ctoZDhYkpKa0o9B9Wjen3 | Outlaw                               | Bassjackers      | 38               | 6MnnkXC0DBgjc9mFxJ585V | The Biggest             | 2019-11-22               | Electro House 2020 | 317O0e8iWJLClLGDKtieRe | edm            | electro house     | 0.674        | 0.881  | 1    | -4.15    | 0    | 0.0573      | 0.00792      | 0.576            | 0.127    | 0.0475  | 104.962 | 184716      | 2019\n",
       "26800      | 4WlBtGJRZgJjWikusfISrj | Bang                                 | RICCI            | 59               | 2llnqXScb5cQhBNw4dhd7h | Bang                    | 2019-12-27               | Electro House 2020 | 317O0e8iWJLClLGDKtieRe | edm            | electro house     | 0.876        | 0.824  | 1    | -6.292   | 1    | 0.101       | 0.11         | 0.739            | 0.0828   | 0.725   | 123.007 | 176000      | 2019\n",
       "... (6033 rows omitted)"
      ]
     },
     "execution_count": 56,
     "metadata": {},
     "output_type": "execute_result"
    }
   ],
   "source": [
    "edm = spotify.where('playlist_genre', are.equal_to('edm'))\n",
    "edm"
   ]
  },
  {
   "cell_type": "code",
   "execution_count": 59,
   "metadata": {},
   "outputs": [
    {
     "data": {
      "text/html": [
       "<table border=\"1\" class=\"dataframe\">\n",
       "    <thead>\n",
       "        <tr>\n",
       "            <th>track_artist</th> <th>count</th>\n",
       "        </tr>\n",
       "    </thead>\n",
       "    <tbody>\n",
       "        <tr>\n",
       "            <td>Martin Garrix            </td> <td>125  </td>\n",
       "        </tr>\n",
       "        <tr>\n",
       "            <td>Dimitri Vegas & Like Mike</td> <td>79   </td>\n",
       "        </tr>\n",
       "        <tr>\n",
       "            <td>Hardwell                 </td> <td>76   </td>\n",
       "        </tr>\n",
       "        <tr>\n",
       "            <td>David Guetta             </td> <td>60   </td>\n",
       "        </tr>\n",
       "        <tr>\n",
       "            <td>Tiësto                   </td> <td>49   </td>\n",
       "        </tr>\n",
       "        <tr>\n",
       "            <td>The Chainsmokers         </td> <td>49   </td>\n",
       "        </tr>\n",
       "        <tr>\n",
       "            <td>Calvin Harris            </td> <td>40   </td>\n",
       "        </tr>\n",
       "        <tr>\n",
       "            <td>R3HAB                    </td> <td>38   </td>\n",
       "        </tr>\n",
       "        <tr>\n",
       "            <td>Blasterjaxx              </td> <td>38   </td>\n",
       "        </tr>\n",
       "        <tr>\n",
       "            <td>Bassjackers              </td> <td>38   </td>\n",
       "        </tr>\n",
       "    </tbody>\n",
       "</table>\n",
       "<p>... (2506 rows omitted)</p>"
      ],
      "text/plain": [
       "track_artist              | count\n",
       "Martin Garrix             | 125\n",
       "Dimitri Vegas & Like Mike | 79\n",
       "Hardwell                  | 76\n",
       "David Guetta              | 60\n",
       "Tiësto                    | 49\n",
       "The Chainsmokers          | 49\n",
       "Calvin Harris             | 40\n",
       "R3HAB                     | 38\n",
       "Blasterjaxx               | 38\n",
       "Bassjackers               | 38\n",
       "... (2506 rows omitted)"
      ]
     },
     "execution_count": 59,
     "metadata": {},
     "output_type": "execute_result"
    }
   ],
   "source": [
    "edm.group('track_artist').sort('count', descending=True)"
   ]
  },
  {
   "cell_type": "code",
   "execution_count": 66,
   "metadata": {},
   "outputs": [
    {
     "data": {
      "text/html": [
       "<table border=\"1\" class=\"dataframe\">\n",
       "    <thead>\n",
       "        <tr>\n",
       "            <th>Unnamed: 0</th> <th>track_id</th> <th>track_name</th> <th>track_artist</th> <th>track_popularity</th> <th>track_album_id</th> <th>track_album_name</th> <th>track_album_release_date</th> <th>playlist_name</th> <th>playlist_id</th> <th>playlist_genre</th> <th>playlist_subgenre</th> <th>danceability</th> <th>energy</th> <th>key</th> <th>loudness</th> <th>mode</th> <th>speechiness</th> <th>acousticness</th> <th>instrumentalness</th> <th>liveness</th> <th>valence</th> <th>tempo</th> <th>duration_ms</th> <th>creation_year</th>\n",
       "        </tr>\n",
       "    </thead>\n",
       "    <tbody>\n",
       "        <tr>\n",
       "            <td>31320     </td> <td>2wQ411UQL2MRsdAgPRUstT</td> <td>Walk Thru Fire                         </td> <td>Vicetone       </td> <td>63              </td> <td>19cloFhfD0cKbMEzUAxugB</td> <td>Walk Thru Fire                         </td> <td>2018-08-03              </td> <td>Female Vocal EDM</td> <td>5QaPRbVgbEcCc9jC1UxgD1</td> <td>edm           </td> <td>progressive electro house</td> <td>0.639       </td> <td>0.664 </td> <td>5   </td> <td>-4.926  </td> <td>1   </td> <td>0.0357     </td> <td>0.329       </td> <td>1.53e-06        </td> <td>0.382   </td> <td>0.351  </td> <td>116.028</td> <td>194483     </td> <td>2018         </td>\n",
       "        </tr>\n",
       "        <tr>\n",
       "            <td>31321     </td> <td>2lYTJK94hb0fd1LQtb6Dhk</td> <td>Don't Leave Me Alone (feat. Anne-Marie)</td> <td>David Guetta   </td> <td>68              </td> <td>4sqrDaJcbCIo6aeqO26maj</td> <td>Don't Leave Me Alone (feat. Anne-Marie)</td> <td>2018-07-26              </td> <td>Female Vocal EDM</td> <td>5QaPRbVgbEcCc9jC1UxgD1</td> <td>edm           </td> <td>progressive electro house</td> <td>0.659       </td> <td>0.738 </td> <td>4   </td> <td>-5.072  </td> <td>0   </td> <td>0.0477     </td> <td>0.118       </td> <td>0               </td> <td>0.115   </td> <td>0.481  </td> <td>127.95 </td> <td>183750     </td> <td>2018         </td>\n",
       "        </tr>\n",
       "        <tr>\n",
       "            <td>31322     </td> <td>6ZgNHo2VF3Nv3gBqn131xJ</td> <td>U Make Me - Diviners Remix             </td> <td>Disco Fries    </td> <td>13              </td> <td>0SWBleELAZCZQodgWYUvOk</td> <td>U Make Me (Remixes)                    </td> <td>2018-06-13              </td> <td>Female Vocal EDM</td> <td>5QaPRbVgbEcCc9jC1UxgD1</td> <td>edm           </td> <td>progressive electro house</td> <td>0.689       </td> <td>0.826 </td> <td>7   </td> <td>-4.496  </td> <td>0   </td> <td>0.0377     </td> <td>0.254       </td> <td>2.41e-06        </td> <td>0.339   </td> <td>0.389  </td> <td>109.029</td> <td>171972     </td> <td>2018         </td>\n",
       "        </tr>\n",
       "        <tr>\n",
       "            <td>31323     </td> <td>55DWZ04d9zY2N7Nr9xyzt0</td> <td>Light Me Up                            </td> <td>Matisse & Sadko</td> <td>0               </td> <td>4W8lIWDfuhnFPCa1iI1FvH</td> <td>Light Me Up                            </td> <td>2018-08-03              </td> <td>Female Vocal EDM</td> <td>5QaPRbVgbEcCc9jC1UxgD1</td> <td>edm           </td> <td>progressive electro house</td> <td>0.441       </td> <td>0.738 </td> <td>7   </td> <td>-5.128  </td> <td>1   </td> <td>0.0432     </td> <td>0.0386      </td> <td>0               </td> <td>0.112   </td> <td>0.299  </td> <td>126.107</td> <td>208333     </td> <td>2018         </td>\n",
       "        </tr>\n",
       "        <tr>\n",
       "            <td>31324     </td> <td>41lGFu6MDXGoLWSfEWwEEW</td> <td>Chasing Shadows                        </td> <td>Justin Mylo    </td> <td>50              </td> <td>3KfVTNWfcY93XFIo7JNSHM</td> <td>Chasing Shadows                        </td> <td>2018-04-06              </td> <td>Female Vocal EDM</td> <td>5QaPRbVgbEcCc9jC1UxgD1</td> <td>edm           </td> <td>progressive electro house</td> <td>0.585       </td> <td>0.856 </td> <td>0   </td> <td>-5.647  </td> <td>0   </td> <td>0.0584     </td> <td>0.0107      </td> <td>1.34e-05        </td> <td>0.0629  </td> <td>0.165  </td> <td>128.054</td> <td>194992     </td> <td>2018         </td>\n",
       "        </tr>\n",
       "        <tr>\n",
       "            <td>31325     </td> <td>3IsCTVfdFpZyKNkH6mFGlf</td> <td>Supernatural                           </td> <td>APEK           </td> <td>22              </td> <td>12hf47tzNlecKS0RUfaysc</td> <td>Supernatural                           </td> <td>2017-06-09              </td> <td>Female Vocal EDM</td> <td>5QaPRbVgbEcCc9jC1UxgD1</td> <td>edm           </td> <td>progressive electro house</td> <td>0.48        </td> <td>0.705 </td> <td>10  </td> <td>-6.601  </td> <td>1   </td> <td>0.0567     </td> <td>0.0733      </td> <td>0               </td> <td>0.317   </td> <td>0.325  </td> <td>95.952 </td> <td>200000     </td> <td>2017         </td>\n",
       "        </tr>\n",
       "        <tr>\n",
       "            <td>31326     </td> <td>72VWeN4sOkXy6ctgm1pSKV</td> <td>Smoke & Fire                           </td> <td>Cuebrick       </td> <td>36              </td> <td>3xkqPTfAB1bX6o9p1f9oUC</td> <td>Smoke & Fire                           </td> <td>2017-04-21              </td> <td>Female Vocal EDM</td> <td>5QaPRbVgbEcCc9jC1UxgD1</td> <td>edm           </td> <td>progressive electro house</td> <td>0.46        </td> <td>0.786 </td> <td>6   </td> <td>-4.961  </td> <td>1   </td> <td>0.0425     </td> <td>0.0264      </td> <td>1e-05           </td> <td>0.245   </td> <td>0.407  </td> <td>159.946</td> <td>196872     </td> <td>2017         </td>\n",
       "        </tr>\n",
       "        <tr>\n",
       "            <td>31327     </td> <td>34lSXdfXd2Xt75hi3mrfnN</td> <td>Fly                                    </td> <td>Cuebrick       </td> <td>0               </td> <td>5jXSWuUo0TrLU2ZoYBdA55</td> <td>Fly                                    </td> <td>2018-05-25              </td> <td>Female Vocal EDM</td> <td>5QaPRbVgbEcCc9jC1UxgD1</td> <td>edm           </td> <td>progressive electro house</td> <td>0.506       </td> <td>0.688 </td> <td>3   </td> <td>-6.687  </td> <td>1   </td> <td>0.0448     </td> <td>0.00873     </td> <td>3.33e-05        </td> <td>0.291   </td> <td>0.371  </td> <td>149.951</td> <td>183197     </td> <td>2018         </td>\n",
       "        </tr>\n",
       "        <tr>\n",
       "            <td>31328     </td> <td>4DHRbvvQyC3mBa3Y0JNl4n</td> <td>Make Me Move                           </td> <td>Culture Code   </td> <td>58              </td> <td>3nsCHzeqOE9XBotr5UxD7M</td> <td>Make Me Move                           </td> <td>2016-12-13              </td> <td>Female Vocal EDM</td> <td>5QaPRbVgbEcCc9jC1UxgD1</td> <td>edm           </td> <td>progressive electro house</td> <td>0.541       </td> <td>0.65  </td> <td>8   </td> <td>-4.665  </td> <td>0   </td> <td>0.0414     </td> <td>0.211       </td> <td>0.000128        </td> <td>0.1     </td> <td>0.356  </td> <td>95.019 </td> <td>197053     </td> <td>2016         </td>\n",
       "        </tr>\n",
       "        <tr>\n",
       "            <td>31329     </td> <td>07F7zczrjCccG67nrFl3ai</td> <td>Million Years                          </td> <td>Gareth Emery   </td> <td>0               </td> <td>3Zm13AWIMBpJbwFzenqy9V</td> <td>Drive                                  </td> <td>2014-04-01              </td> <td>Female Vocal EDM</td> <td>5QaPRbVgbEcCc9jC1UxgD1</td> <td>edm           </td> <td>progressive electro house</td> <td>0.245       </td> <td>0.705 </td> <td>1   </td> <td>-6.932  </td> <td>1   </td> <td>0.0628     </td> <td>0.0252      </td> <td>0.00132         </td> <td>0.043   </td> <td>0.07   </td> <td>127.916</td> <td>243278     </td> <td>2014         </td>\n",
       "        </tr>\n",
       "    </tbody>\n",
       "</table>\n",
       "<p>... (89 rows omitted)</p>"
      ],
      "text/plain": [
       "Unnamed: 0 | track_id               | track_name                              | track_artist    | track_popularity | track_album_id         | track_album_name                        | track_album_release_date | playlist_name    | playlist_id            | playlist_genre | playlist_subgenre         | danceability | energy | key  | loudness | mode | speechiness | acousticness | instrumentalness | liveness | valence | tempo   | duration_ms | creation_year\n",
       "31320      | 2wQ411UQL2MRsdAgPRUstT | Walk Thru Fire                          | Vicetone        | 63               | 19cloFhfD0cKbMEzUAxugB | Walk Thru Fire                          | 2018-08-03               | Female Vocal EDM | 5QaPRbVgbEcCc9jC1UxgD1 | edm            | progressive electro house | 0.639        | 0.664  | 5    | -4.926   | 1    | 0.0357      | 0.329        | 1.53e-06         | 0.382    | 0.351   | 116.028 | 194483      | 2018\n",
       "31321      | 2lYTJK94hb0fd1LQtb6Dhk | Don't Leave Me Alone (feat. Anne-Marie) | David Guetta    | 68               | 4sqrDaJcbCIo6aeqO26maj | Don't Leave Me Alone (feat. Anne-Marie) | 2018-07-26               | Female Vocal EDM | 5QaPRbVgbEcCc9jC1UxgD1 | edm            | progressive electro house | 0.659        | 0.738  | 4    | -5.072   | 0    | 0.0477      | 0.118        | 0                | 0.115    | 0.481   | 127.95  | 183750      | 2018\n",
       "31322      | 6ZgNHo2VF3Nv3gBqn131xJ | U Make Me - Diviners Remix              | Disco Fries     | 13               | 0SWBleELAZCZQodgWYUvOk | U Make Me (Remixes)                     | 2018-06-13               | Female Vocal EDM | 5QaPRbVgbEcCc9jC1UxgD1 | edm            | progressive electro house | 0.689        | 0.826  | 7    | -4.496   | 0    | 0.0377      | 0.254        | 2.41e-06         | 0.339    | 0.389   | 109.029 | 171972      | 2018\n",
       "31323      | 55DWZ04d9zY2N7Nr9xyzt0 | Light Me Up                             | Matisse & Sadko | 0                | 4W8lIWDfuhnFPCa1iI1FvH | Light Me Up                             | 2018-08-03               | Female Vocal EDM | 5QaPRbVgbEcCc9jC1UxgD1 | edm            | progressive electro house | 0.441        | 0.738  | 7    | -5.128   | 1    | 0.0432      | 0.0386       | 0                | 0.112    | 0.299   | 126.107 | 208333      | 2018\n",
       "31324      | 41lGFu6MDXGoLWSfEWwEEW | Chasing Shadows                         | Justin Mylo     | 50               | 3KfVTNWfcY93XFIo7JNSHM | Chasing Shadows                         | 2018-04-06               | Female Vocal EDM | 5QaPRbVgbEcCc9jC1UxgD1 | edm            | progressive electro house | 0.585        | 0.856  | 0    | -5.647   | 0    | 0.0584      | 0.0107       | 1.34e-05         | 0.0629   | 0.165   | 128.054 | 194992      | 2018\n",
       "31325      | 3IsCTVfdFpZyKNkH6mFGlf | Supernatural                            | APEK            | 22               | 12hf47tzNlecKS0RUfaysc | Supernatural                            | 2017-06-09               | Female Vocal EDM | 5QaPRbVgbEcCc9jC1UxgD1 | edm            | progressive electro house | 0.48         | 0.705  | 10   | -6.601   | 1    | 0.0567      | 0.0733       | 0                | 0.317    | 0.325   | 95.952  | 200000      | 2017\n",
       "31326      | 72VWeN4sOkXy6ctgm1pSKV | Smoke & Fire                            | Cuebrick        | 36               | 3xkqPTfAB1bX6o9p1f9oUC | Smoke & Fire                            | 2017-04-21               | Female Vocal EDM | 5QaPRbVgbEcCc9jC1UxgD1 | edm            | progressive electro house | 0.46         | 0.786  | 6    | -4.961   | 1    | 0.0425      | 0.0264       | 1e-05            | 0.245    | 0.407   | 159.946 | 196872      | 2017\n",
       "31327      | 34lSXdfXd2Xt75hi3mrfnN | Fly                                     | Cuebrick        | 0                | 5jXSWuUo0TrLU2ZoYBdA55 | Fly                                     | 2018-05-25               | Female Vocal EDM | 5QaPRbVgbEcCc9jC1UxgD1 | edm            | progressive electro house | 0.506        | 0.688  | 3    | -6.687   | 1    | 0.0448      | 0.00873      | 3.33e-05         | 0.291    | 0.371   | 149.951 | 183197      | 2018\n",
       "31328      | 4DHRbvvQyC3mBa3Y0JNl4n | Make Me Move                            | Culture Code    | 58               | 3nsCHzeqOE9XBotr5UxD7M | Make Me Move                            | 2016-12-13               | Female Vocal EDM | 5QaPRbVgbEcCc9jC1UxgD1 | edm            | progressive electro house | 0.541        | 0.65   | 8    | -4.665   | 0    | 0.0414      | 0.211        | 0.000128         | 0.1      | 0.356   | 95.019  | 197053      | 2016\n",
       "31329      | 07F7zczrjCccG67nrFl3ai | Million Years                           | Gareth Emery    | 0                | 3Zm13AWIMBpJbwFzenqy9V | Drive                                   | 2014-04-01               | Female Vocal EDM | 5QaPRbVgbEcCc9jC1UxgD1 | edm            | progressive electro house | 0.245        | 0.705  | 1    | -6.932   | 1    | 0.0628      | 0.0252       | 0.00132          | 0.043    | 0.07    | 127.916 | 243278      | 2014\n",
       "... (89 rows omitted)"
      ]
     },
     "execution_count": 66,
     "metadata": {},
     "output_type": "execute_result"
    }
   ],
   "source": [
    "female_edm = spotify.where('playlist_name', are.equal_to('Female Vocal EDM'))\n",
    "female_edm"
   ]
  },
  {
   "cell_type": "code",
   "execution_count": 68,
   "metadata": {},
   "outputs": [
    {
     "data": {
      "text/html": [
       "<table border=\"1\" class=\"dataframe\">\n",
       "    <thead>\n",
       "        <tr>\n",
       "            <th>track_artist</th> <th>count</th>\n",
       "        </tr>\n",
       "    </thead>\n",
       "    <tbody>\n",
       "        <tr>\n",
       "            <td>Zedd        </td> <td>6    </td>\n",
       "        </tr>\n",
       "        <tr>\n",
       "            <td>Vicetone    </td> <td>5    </td>\n",
       "        </tr>\n",
       "        <tr>\n",
       "            <td>DEAMN       </td> <td>5    </td>\n",
       "        </tr>\n",
       "        <tr>\n",
       "            <td>Mike Perry  </td> <td>4    </td>\n",
       "        </tr>\n",
       "        <tr>\n",
       "            <td>Cash Cash   </td> <td>4    </td>\n",
       "        </tr>\n",
       "        <tr>\n",
       "            <td>Syn Cole    </td> <td>3    </td>\n",
       "        </tr>\n",
       "        <tr>\n",
       "            <td>Gareth Emery</td> <td>3    </td>\n",
       "        </tr>\n",
       "        <tr>\n",
       "            <td>David Guetta</td> <td>3    </td>\n",
       "        </tr>\n",
       "        <tr>\n",
       "            <td>Lost Kings  </td> <td>2    </td>\n",
       "        </tr>\n",
       "        <tr>\n",
       "            <td>Kosling     </td> <td>2    </td>\n",
       "        </tr>\n",
       "    </tbody>\n",
       "</table>\n",
       "<p>... (53 rows omitted)</p>"
      ],
      "text/plain": [
       "track_artist | count\n",
       "Zedd         | 6\n",
       "Vicetone     | 5\n",
       "DEAMN        | 5\n",
       "Mike Perry   | 4\n",
       "Cash Cash    | 4\n",
       "Syn Cole     | 3\n",
       "Gareth Emery | 3\n",
       "David Guetta | 3\n",
       "Lost Kings   | 2\n",
       "Kosling      | 2\n",
       "... (53 rows omitted)"
      ]
     },
     "execution_count": 68,
     "metadata": {},
     "output_type": "execute_result"
    }
   ],
   "source": [
    "female_edm.group('track_artist').sort('count', descending=True)"
   ]
  },
  {
   "cell_type": "markdown",
   "metadata": {},
   "source": [
    "The top artists in the playlist 'Female Vocal EDM' are all male artists."
   ]
  },
  {
   "cell_type": "code",
   "execution_count": 62,
   "metadata": {},
   "outputs": [
    {
     "data": {
      "text/html": [
       "<table border=\"1\" class=\"dataframe\">\n",
       "    <thead>\n",
       "        <tr>\n",
       "            <th>Unnamed: 0</th> <th>track_id</th> <th>track_name</th> <th>track_artist</th> <th>track_popularity</th> <th>track_album_id</th> <th>track_album_name</th> <th>track_album_release_date</th> <th>playlist_name</th> <th>playlist_id</th> <th>playlist_genre</th> <th>playlist_subgenre</th> <th>danceability</th> <th>energy</th> <th>key</th> <th>loudness</th> <th>mode</th> <th>speechiness</th> <th>acousticness</th> <th>instrumentalness</th> <th>liveness</th> <th>valence</th> <th>tempo</th> <th>duration_ms</th> <th>creation_year</th>\n",
       "        </tr>\n",
       "    </thead>\n",
       "    <tbody>\n",
       "        <tr>\n",
       "            <td>2428      </td> <td>6GyFP1nfCDB8lbD2bG0Hq9</td> <td>Midnight City</td> <td>M83          </td> <td>74              </td> <td>6EB14IXV5oyOiItGBv7mtG</td> <td>Hurry up, We're Dreaming    </td> <td>2011-10-17              </td> <td>Electro Pop | Electropop</td> <td>2a5i2ZtEXGKwVGL16J8N0p</td> <td>pop           </td> <td>electropop       </td> <td>0.507       </td> <td>0.729 </td> <td>11  </td> <td>-5.399  </td> <td>0   </td> <td>0.0393     </td> <td>0.0182      </td> <td>1.4e-06         </td> <td>0.0658  </td> <td>0.272  </td> <td>105.013</td> <td>243960     </td> <td>2011         </td>\n",
       "        </tr>\n",
       "        <tr>\n",
       "            <td>2429      </td> <td>5O6pHvBKgAKX8FyhE6vwon</td> <td>Hold Tight   </td> <td>Josha Daniel </td> <td>32              </td> <td>0KmyVq8kx8HK2Vbl9cOI1g</td> <td>Hold Tight                  </td> <td>2020-01-10              </td> <td>Electro Pop | Electropop</td> <td>2a5i2ZtEXGKwVGL16J8N0p</td> <td>pop           </td> <td>electropop       </td> <td>0.543       </td> <td>0.662 </td> <td>0   </td> <td>-10.177 </td> <td>1   </td> <td>0.0301     </td> <td>0.09        </td> <td>0.527           </td> <td>0.149   </td> <td>0.22   </td> <td>126.983</td> <td>249449     </td> <td>2020         </td>\n",
       "        </tr>\n",
       "        <tr>\n",
       "            <td>2430      </td> <td>3m71siVDw8qXKAdpO9zLiT</td> <td>Someone New  </td> <td>Quentyn      </td> <td>45              </td> <td>6yTaSm8NY1fUrKhusuVYz0</td> <td>Someone New                 </td> <td>2019-11-22              </td> <td>Electro Pop | Electropop</td> <td>2a5i2ZtEXGKwVGL16J8N0p</td> <td>pop           </td> <td>electropop       </td> <td>0.588       </td> <td>0.627 </td> <td>5   </td> <td>-7.249  </td> <td>0   </td> <td>0.0453     </td> <td>0.0149      </td> <td>0.105           </td> <td>0.375   </td> <td>0.39   </td> <td>112.018</td> <td>182143     </td> <td>2019         </td>\n",
       "        </tr>\n",
       "        <tr>\n",
       "            <td>2431      </td> <td>3FtYbEfBqAlGO46NUDQSAt</td> <td>Electric Feel</td> <td>MGMT         </td> <td>77              </td> <td>6mm1Skz3JE6AXneya9Nyiv</td> <td>Oracular Spectacular        </td> <td>2007-12-14              </td> <td>Electro Pop | Electropop</td> <td>2a5i2ZtEXGKwVGL16J8N0p</td> <td>pop           </td> <td>electropop       </td> <td>0.763       </td> <td>0.807 </td> <td>1   </td> <td>-3.714  </td> <td>1   </td> <td>0.035      </td> <td>0.0714      </td> <td>0.28            </td> <td>0.348   </td> <td>0.559  </td> <td>103.038</td> <td>229640     </td> <td>2007         </td>\n",
       "        </tr>\n",
       "        <tr>\n",
       "            <td>2432      </td> <td>7D8FSBD6E2KT2DvRgMbycS</td> <td>Dream Of You </td> <td>Josha Daniel </td> <td>41              </td> <td>07gs963f0YlDELZpE0dNv3</td> <td>Dream Of You                </td> <td>2019-09-13              </td> <td>Electro Pop | Electropop</td> <td>2a5i2ZtEXGKwVGL16J8N0p</td> <td>pop           </td> <td>electropop       </td> <td>0.578       </td> <td>0.788 </td> <td>4   </td> <td>-5.752  </td> <td>0   </td> <td>0.0351     </td> <td>0.00339     </td> <td>7.3e-05         </td> <td>0.225   </td> <td>0.346  </td> <td>105.023</td> <td>246857     </td> <td>2019         </td>\n",
       "        </tr>\n",
       "        <tr>\n",
       "            <td>2433      </td> <td>6h9pD79iUxNJxce6BBuuQK</td> <td>Rush         </td> <td>Quentyn      </td> <td>38              </td> <td>1CGuk0F7Pm7VnjDuZgHA2t</td> <td>Rush (feat. Pikes)          </td> <td>2019-05-17              </td> <td>Electro Pop | Electropop</td> <td>2a5i2ZtEXGKwVGL16J8N0p</td> <td>pop           </td> <td>electropop       </td> <td>0.513       </td> <td>0.681 </td> <td>0   </td> <td>-6.677  </td> <td>1   </td> <td>0.0419     </td> <td>0.0265      </td> <td>0.000168        </td> <td>0.0811  </td> <td>0.101  </td> <td>100.003</td> <td>247200     </td> <td>2019         </td>\n",
       "        </tr>\n",
       "        <tr>\n",
       "            <td>2434      </td> <td>0R2HfrviMaDTkM0u9GUXYV</td> <td>Home         </td> <td>New Spell    </td> <td>26              </td> <td>2gPL6gShEyraQ0BDA89FaL</td> <td>Home                        </td> <td>2019-12-06              </td> <td>Electro Pop | Electropop</td> <td>2a5i2ZtEXGKwVGL16J8N0p</td> <td>pop           </td> <td>electropop       </td> <td>0.536       </td> <td>0.564 </td> <td>8   </td> <td>-11.09  </td> <td>0   </td> <td>0.0345     </td> <td>0.0745      </td> <td>0.00106         </td> <td>0.11    </td> <td>0.471  </td> <td>79.974 </td> <td>237875     </td> <td>2019         </td>\n",
       "        </tr>\n",
       "        <tr>\n",
       "            <td>2435      </td> <td>0u7jABgfx6EHQHxpFOeyNS</td> <td>Open Up      </td> <td>Josha Daniel </td> <td>39              </td> <td>7LktlUIPJnyz5IKvvsIHNy</td> <td>Open Up                     </td> <td>2019-10-25              </td> <td>Electro Pop | Electropop</td> <td>2a5i2ZtEXGKwVGL16J8N0p</td> <td>pop           </td> <td>electropop       </td> <td>0.512       </td> <td>0.757 </td> <td>9   </td> <td>-7.98   </td> <td>0   </td> <td>0.0274     </td> <td>0.00507     </td> <td>0.948           </td> <td>0.298   </td> <td>0.329  </td> <td>116.016</td> <td>231207     </td> <td>2019         </td>\n",
       "        </tr>\n",
       "        <tr>\n",
       "            <td>2436      </td> <td>6BwR8E925bOoGHFPS5tEOE</td> <td>Megaton Mile </td> <td>Local Natives</td> <td>56              </td> <td>0ORZb7kyr8aaP2LpL3mhuY</td> <td>Violet Street               </td> <td>2019-04-26              </td> <td>Electro Pop | Electropop</td> <td>2a5i2ZtEXGKwVGL16J8N0p</td> <td>pop           </td> <td>electropop       </td> <td>0.542       </td> <td>0.811 </td> <td>0   </td> <td>-5.07   </td> <td>0   </td> <td>0.0759     </td> <td>0.0476      </td> <td>0.000168        </td> <td>0.813   </td> <td>0.58   </td> <td>120.477</td> <td>266533     </td> <td>2019         </td>\n",
       "        </tr>\n",
       "        <tr>\n",
       "            <td>2437      </td> <td>0RNZpZIzKcR0UOpxlXznNj</td> <td>Moving On    </td> <td>Quentyn      </td> <td>32              </td> <td>2g0Qzfs226IvZ11oh87Qr7</td> <td>Moving On (feat. Robin Vane)</td> <td>2017-06-30              </td> <td>Electro Pop | Electropop</td> <td>2a5i2ZtEXGKwVGL16J8N0p</td> <td>pop           </td> <td>electropop       </td> <td>0.562       </td> <td>0.799 </td> <td>1   </td> <td>-5.263  </td> <td>1   </td> <td>0.0421     </td> <td>0.0444      </td> <td>0.00257         </td> <td>0.334   </td> <td>0.225  </td> <td>116.978</td> <td>221538     </td> <td>2017         </td>\n",
       "        </tr>\n",
       "    </tbody>\n",
       "</table>\n",
       "<p>... (1398 rows omitted)</p>"
      ],
      "text/plain": [
       "Unnamed: 0 | track_id               | track_name    | track_artist  | track_popularity | track_album_id         | track_album_name             | track_album_release_date | playlist_name            | playlist_id            | playlist_genre | playlist_subgenre | danceability | energy | key  | loudness | mode | speechiness | acousticness | instrumentalness | liveness | valence | tempo   | duration_ms | creation_year\n",
       "2428       | 6GyFP1nfCDB8lbD2bG0Hq9 | Midnight City | M83           | 74               | 6EB14IXV5oyOiItGBv7mtG | Hurry up, We're Dreaming     | 2011-10-17               | Electro Pop | Electropop | 2a5i2ZtEXGKwVGL16J8N0p | pop            | electropop        | 0.507        | 0.729  | 11   | -5.399   | 0    | 0.0393      | 0.0182       | 1.4e-06          | 0.0658   | 0.272   | 105.013 | 243960      | 2011\n",
       "2429       | 5O6pHvBKgAKX8FyhE6vwon | Hold Tight    | Josha Daniel  | 32               | 0KmyVq8kx8HK2Vbl9cOI1g | Hold Tight                   | 2020-01-10               | Electro Pop | Electropop | 2a5i2ZtEXGKwVGL16J8N0p | pop            | electropop        | 0.543        | 0.662  | 0    | -10.177  | 1    | 0.0301      | 0.09         | 0.527            | 0.149    | 0.22    | 126.983 | 249449      | 2020\n",
       "2430       | 3m71siVDw8qXKAdpO9zLiT | Someone New   | Quentyn       | 45               | 6yTaSm8NY1fUrKhusuVYz0 | Someone New                  | 2019-11-22               | Electro Pop | Electropop | 2a5i2ZtEXGKwVGL16J8N0p | pop            | electropop        | 0.588        | 0.627  | 5    | -7.249   | 0    | 0.0453      | 0.0149       | 0.105            | 0.375    | 0.39    | 112.018 | 182143      | 2019\n",
       "2431       | 3FtYbEfBqAlGO46NUDQSAt | Electric Feel | MGMT          | 77               | 6mm1Skz3JE6AXneya9Nyiv | Oracular Spectacular         | 2007-12-14               | Electro Pop | Electropop | 2a5i2ZtEXGKwVGL16J8N0p | pop            | electropop        | 0.763        | 0.807  | 1    | -3.714   | 1    | 0.035       | 0.0714       | 0.28             | 0.348    | 0.559   | 103.038 | 229640      | 2007\n",
       "2432       | 7D8FSBD6E2KT2DvRgMbycS | Dream Of You  | Josha Daniel  | 41               | 07gs963f0YlDELZpE0dNv3 | Dream Of You                 | 2019-09-13               | Electro Pop | Electropop | 2a5i2ZtEXGKwVGL16J8N0p | pop            | electropop        | 0.578        | 0.788  | 4    | -5.752   | 0    | 0.0351      | 0.00339      | 7.3e-05          | 0.225    | 0.346   | 105.023 | 246857      | 2019\n",
       "2433       | 6h9pD79iUxNJxce6BBuuQK | Rush          | Quentyn       | 38               | 1CGuk0F7Pm7VnjDuZgHA2t | Rush (feat. Pikes)           | 2019-05-17               | Electro Pop | Electropop | 2a5i2ZtEXGKwVGL16J8N0p | pop            | electropop        | 0.513        | 0.681  | 0    | -6.677   | 1    | 0.0419      | 0.0265       | 0.000168         | 0.0811   | 0.101   | 100.003 | 247200      | 2019\n",
       "2434       | 0R2HfrviMaDTkM0u9GUXYV | Home          | New Spell     | 26               | 2gPL6gShEyraQ0BDA89FaL | Home                         | 2019-12-06               | Electro Pop | Electropop | 2a5i2ZtEXGKwVGL16J8N0p | pop            | electropop        | 0.536        | 0.564  | 8    | -11.09   | 0    | 0.0345      | 0.0745       | 0.00106          | 0.11     | 0.471   | 79.974  | 237875      | 2019\n",
       "2435       | 0u7jABgfx6EHQHxpFOeyNS | Open Up       | Josha Daniel  | 39               | 7LktlUIPJnyz5IKvvsIHNy | Open Up                      | 2019-10-25               | Electro Pop | Electropop | 2a5i2ZtEXGKwVGL16J8N0p | pop            | electropop        | 0.512        | 0.757  | 9    | -7.98    | 0    | 0.0274      | 0.00507      | 0.948            | 0.298    | 0.329   | 116.016 | 231207      | 2019\n",
       "2436       | 6BwR8E925bOoGHFPS5tEOE | Megaton Mile  | Local Natives | 56               | 0ORZb7kyr8aaP2LpL3mhuY | Violet Street                | 2019-04-26               | Electro Pop | Electropop | 2a5i2ZtEXGKwVGL16J8N0p | pop            | electropop        | 0.542        | 0.811  | 0    | -5.07    | 0    | 0.0759      | 0.0476       | 0.000168         | 0.813    | 0.58    | 120.477 | 266533      | 2019\n",
       "2437       | 0RNZpZIzKcR0UOpxlXznNj | Moving On     | Quentyn       | 32               | 2g0Qzfs226IvZ11oh87Qr7 | Moving On (feat. Robin Vane) | 2017-06-30               | Electro Pop | Electropop | 2a5i2ZtEXGKwVGL16J8N0p | pop            | electropop        | 0.562        | 0.799  | 1    | -5.263   | 1    | 0.0421      | 0.0444       | 0.00257          | 0.334    | 0.225   | 116.978 | 221538      | 2017\n",
       "... (1398 rows omitted)"
      ]
     },
     "execution_count": 62,
     "metadata": {},
     "output_type": "execute_result"
    }
   ],
   "source": [
    "electropop = spotify.where('playlist_subgenre', are.equal_to('electropop'))\n",
    "electropop"
   ]
  },
  {
   "cell_type": "code",
   "execution_count": 70,
   "metadata": {},
   "outputs": [
    {
     "data": {
      "text/html": [
       "<table border=\"1\" class=\"dataframe\">\n",
       "    <thead>\n",
       "        <tr>\n",
       "            <th>Unnamed: 0</th> <th>track_id</th> <th>track_name</th> <th>track_artist</th> <th>track_popularity</th> <th>track_album_id</th> <th>track_album_name</th> <th>track_album_release_date</th> <th>playlist_name</th> <th>playlist_id</th> <th>playlist_genre</th> <th>playlist_subgenre</th> <th>danceability</th> <th>energy</th> <th>key</th> <th>loudness</th> <th>mode</th> <th>speechiness</th> <th>acousticness</th> <th>instrumentalness</th> <th>liveness</th> <th>valence</th> <th>tempo</th> <th>duration_ms</th> <th>creation_year</th>\n",
       "        </tr>\n",
       "    </thead>\n",
       "    <tbody>\n",
       "        <tr>\n",
       "            <td>4801      </td> <td>3vv9phIu6Y1vX3jcqaGz5Z</td> <td>Roses                     </td> <td>The Chainsmokers   </td> <td>73              </td> <td>2GFflENKz28RcMoSuulPZC</td> <td>Roses                    </td> <td>2015-06-16              </td> <td>random playlist that can't decide its genre so go ahead  ...</td> <td>49qyKvg6UAQAvIMUIGMnP3</td> <td>pop           </td> <td>indie poptimism  </td> <td>0.713       </td> <td>0.802 </td> <td>4   </td> <td>-7.055  </td> <td>1   </td> <td>0.0561     </td> <td>0.0435      </td> <td>0.00377         </td> <td>0.309   </td> <td>0.343  </td> <td>100.001</td> <td>226739     </td> <td>2015         </td>\n",
       "        </tr>\n",
       "        <tr>\n",
       "            <td>4802      </td> <td>6ZANrVuAMp2rpjhfbOuJly</td> <td>Same Old Love             </td> <td>Selena Gomez       </td> <td>68              </td> <td>3Kbuu2tHsIbplFUkB7a5oE</td> <td>Revival (Deluxe)         </td> <td>2015-10-09              </td> <td>random playlist that can't decide its genre so go ahead  ...</td> <td>49qyKvg6UAQAvIMUIGMnP3</td> <td>pop           </td> <td>indie poptimism  </td> <td>0.672       </td> <td>0.593 </td> <td>11  </td> <td>-4.01   </td> <td>0   </td> <td>0.0304     </td> <td>0.0223      </td> <td>0               </td> <td>0.214   </td> <td>0.438  </td> <td>98.02  </td> <td>229080     </td> <td>2015         </td>\n",
       "        </tr>\n",
       "        <tr>\n",
       "            <td>4803      </td> <td>51gJTJ1l7OCWHjGvfiZ177</td> <td>Crystals                  </td> <td>Of Monsters and Men</td> <td>5               </td> <td>1XoZXbaY5k41bIxBekZG5b</td> <td>Beneath The Skin (Deluxe)</td> <td>2015-06-05              </td> <td>random playlist that can't decide its genre so go ahead  ...</td> <td>49qyKvg6UAQAvIMUIGMnP3</td> <td>pop           </td> <td>indie poptimism  </td> <td>0.582       </td> <td>0.763 </td> <td>0   </td> <td>-7.288  </td> <td>1   </td> <td>0.0308     </td> <td>0.00228     </td> <td>0.000332        </td> <td>0.101   </td> <td>0.327  </td> <td>132.178</td> <td>243520     </td> <td>2015         </td>\n",
       "        </tr>\n",
       "        <tr>\n",
       "            <td>4804      </td> <td>2WIa4d4waVX3hxArj0jLQg</td> <td>Wolves Without Teeth      </td> <td>Of Monsters and Men</td> <td>4               </td> <td>1XoZXbaY5k41bIxBekZG5b</td> <td>Beneath The Skin (Deluxe)</td> <td>2015-06-05              </td> <td>random playlist that can't decide its genre so go ahead  ...</td> <td>49qyKvg6UAQAvIMUIGMnP3</td> <td>pop           </td> <td>indie poptimism  </td> <td>0.355       </td> <td>0.711 </td> <td>11  </td> <td>-6.13   </td> <td>0   </td> <td>0.0313     </td> <td>0.00117     </td> <td>0.000865        </td> <td>0.334   </td> <td>0.432  </td> <td>102.189</td> <td>232973     </td> <td>2015         </td>\n",
       "        </tr>\n",
       "        <tr>\n",
       "            <td>4805      </td> <td>3VHJN9R1HaJAp6SbeMT0V5</td> <td>Empire                    </td> <td>Of Monsters and Men</td> <td>4               </td> <td>1XoZXbaY5k41bIxBekZG5b</td> <td>Beneath The Skin (Deluxe)</td> <td>2015-06-05              </td> <td>random playlist that can't decide its genre so go ahead  ...</td> <td>49qyKvg6UAQAvIMUIGMnP3</td> <td>pop           </td> <td>indie poptimism  </td> <td>0.53        </td> <td>0.684 </td> <td>0   </td> <td>-6.264  </td> <td>0   </td> <td>0.0331     </td> <td>0.000517    </td> <td>0.000719        </td> <td>0.0946  </td> <td>0.519  </td> <td>118.782</td> <td>260413     </td> <td>2015         </td>\n",
       "        </tr>\n",
       "        <tr>\n",
       "            <td>4806      </td> <td>7uLgpb9VlCbfNYjFmGyr6t</td> <td>Black Water               </td> <td>Of Monsters and Men</td> <td>3               </td> <td>1XoZXbaY5k41bIxBekZG5b</td> <td>Beneath The Skin (Deluxe)</td> <td>2015-06-05              </td> <td>random playlist that can't decide its genre so go ahead  ...</td> <td>49qyKvg6UAQAvIMUIGMnP3</td> <td>pop           </td> <td>indie poptimism  </td> <td>0.474       </td> <td>0.593 </td> <td>0   </td> <td>-7.742  </td> <td>1   </td> <td>0.0282     </td> <td>0.00199     </td> <td>0.291           </td> <td>0.0688  </td> <td>0.203  </td> <td>114.958</td> <td>253293     </td> <td>2015         </td>\n",
       "        </tr>\n",
       "        <tr>\n",
       "            <td>4807      </td> <td>0bbw6Es6hgs9ybUisecefK</td> <td>We Sink                   </td> <td>Of Monsters and Men</td> <td>4               </td> <td>1XoZXbaY5k41bIxBekZG5b</td> <td>Beneath The Skin (Deluxe)</td> <td>2015-06-05              </td> <td>random playlist that can't decide its genre so go ahead  ...</td> <td>49qyKvg6UAQAvIMUIGMnP3</td> <td>pop           </td> <td>indie poptimism  </td> <td>0.46        </td> <td>0.774 </td> <td>11  </td> <td>-5.996  </td> <td>0   </td> <td>0.0281     </td> <td>0.00311     </td> <td>0.00241         </td> <td>0.13    </td> <td>0.359  </td> <td>111.042</td> <td>261880     </td> <td>2015         </td>\n",
       "        </tr>\n",
       "        <tr>\n",
       "            <td>4808      </td> <td>1oUpRnKn36YRqAyCAxHOqT</td> <td>Winter Sound - Bonus Track</td> <td>Of Monsters and Men</td> <td>0               </td> <td>1XoZXbaY5k41bIxBekZG5b</td> <td>Beneath The Skin (Deluxe)</td> <td>2015-06-05              </td> <td>random playlist that can't decide its genre so go ahead  ...</td> <td>49qyKvg6UAQAvIMUIGMnP3</td> <td>pop           </td> <td>indie poptimism  </td> <td>0.569       </td> <td>0.737 </td> <td>7   </td> <td>-4.7    </td> <td>1   </td> <td>0.032      </td> <td>0.000644    </td> <td>0.000194        </td> <td>0.0663  </td> <td>0.437  </td> <td>127.145</td> <td>220840     </td> <td>2015         </td>\n",
       "        </tr>\n",
       "        <tr>\n",
       "            <td>4809      </td> <td>310d8Vawp5kYDYrGrrTAzl</td> <td>King And Lionheart        </td> <td>Of Monsters and Men</td> <td>61              </td> <td>4p9dVvZDaZliSjTCbFRhJy</td> <td>My Head Is An Animal     </td> <td>2012-01-01              </td> <td>random playlist that can't decide its genre so go ahead  ...</td> <td>49qyKvg6UAQAvIMUIGMnP3</td> <td>pop           </td> <td>indie poptimism  </td> <td>0.52        </td> <td>0.655 </td> <td>3   </td> <td>-6.516  </td> <td>1   </td> <td>0.0393     </td> <td>0.104       </td> <td>0.00347         </td> <td>0.124   </td> <td>0.289  </td> <td>126.593</td> <td>273853     </td> <td>2012         </td>\n",
       "        </tr>\n",
       "        <tr>\n",
       "            <td>4810      </td> <td>2ihCaVdNZmnHZWt0fvAM7B</td> <td>Little Talks              </td> <td>Of Monsters and Men</td> <td>75              </td> <td>4p9dVvZDaZliSjTCbFRhJy</td> <td>My Head Is An Animal     </td> <td>2012-01-01              </td> <td>random playlist that can't decide its genre so go ahead  ...</td> <td>49qyKvg6UAQAvIMUIGMnP3</td> <td>pop           </td> <td>indie poptimism  </td> <td>0.446       </td> <td>0.757 </td> <td>1   </td> <td>-5.177  </td> <td>1   </td> <td>0.0322     </td> <td>0.0206      </td> <td>0               </td> <td>0.146   </td> <td>0.421  </td> <td>102.88 </td> <td>266600     </td> <td>2012         </td>\n",
       "        </tr>\n",
       "    </tbody>\n",
       "</table>\n",
       "<p>... (85 rows omitted)</p>"
      ],
      "text/plain": [
       "Unnamed: 0 | track_id               | track_name                 | track_artist        | track_popularity | track_album_id         | track_album_name          | track_album_release_date | playlist_name                                                | playlist_id            | playlist_genre | playlist_subgenre | danceability | energy | key  | loudness | mode | speechiness | acousticness | instrumentalness | liveness | valence | tempo   | duration_ms | creation_year\n",
       "4801       | 3vv9phIu6Y1vX3jcqaGz5Z | Roses                      | The Chainsmokers    | 73               | 2GFflENKz28RcMoSuulPZC | Roses                     | 2015-06-16               | random playlist that can't decide its genre so go ahead  ... | 49qyKvg6UAQAvIMUIGMnP3 | pop            | indie poptimism   | 0.713        | 0.802  | 4    | -7.055   | 1    | 0.0561      | 0.0435       | 0.00377          | 0.309    | 0.343   | 100.001 | 226739      | 2015\n",
       "4802       | 6ZANrVuAMp2rpjhfbOuJly | Same Old Love              | Selena Gomez        | 68               | 3Kbuu2tHsIbplFUkB7a5oE | Revival (Deluxe)          | 2015-10-09               | random playlist that can't decide its genre so go ahead  ... | 49qyKvg6UAQAvIMUIGMnP3 | pop            | indie poptimism   | 0.672        | 0.593  | 11   | -4.01    | 0    | 0.0304      | 0.0223       | 0                | 0.214    | 0.438   | 98.02   | 229080      | 2015\n",
       "4803       | 51gJTJ1l7OCWHjGvfiZ177 | Crystals                   | Of Monsters and Men | 5                | 1XoZXbaY5k41bIxBekZG5b | Beneath The Skin (Deluxe) | 2015-06-05               | random playlist that can't decide its genre so go ahead  ... | 49qyKvg6UAQAvIMUIGMnP3 | pop            | indie poptimism   | 0.582        | 0.763  | 0    | -7.288   | 1    | 0.0308      | 0.00228      | 0.000332         | 0.101    | 0.327   | 132.178 | 243520      | 2015\n",
       "4804       | 2WIa4d4waVX3hxArj0jLQg | Wolves Without Teeth       | Of Monsters and Men | 4                | 1XoZXbaY5k41bIxBekZG5b | Beneath The Skin (Deluxe) | 2015-06-05               | random playlist that can't decide its genre so go ahead  ... | 49qyKvg6UAQAvIMUIGMnP3 | pop            | indie poptimism   | 0.355        | 0.711  | 11   | -6.13    | 0    | 0.0313      | 0.00117      | 0.000865         | 0.334    | 0.432   | 102.189 | 232973      | 2015\n",
       "4805       | 3VHJN9R1HaJAp6SbeMT0V5 | Empire                     | Of Monsters and Men | 4                | 1XoZXbaY5k41bIxBekZG5b | Beneath The Skin (Deluxe) | 2015-06-05               | random playlist that can't decide its genre so go ahead  ... | 49qyKvg6UAQAvIMUIGMnP3 | pop            | indie poptimism   | 0.53         | 0.684  | 0    | -6.264   | 0    | 0.0331      | 0.000517     | 0.000719         | 0.0946   | 0.519   | 118.782 | 260413      | 2015\n",
       "4806       | 7uLgpb9VlCbfNYjFmGyr6t | Black Water                | Of Monsters and Men | 3                | 1XoZXbaY5k41bIxBekZG5b | Beneath The Skin (Deluxe) | 2015-06-05               | random playlist that can't decide its genre so go ahead  ... | 49qyKvg6UAQAvIMUIGMnP3 | pop            | indie poptimism   | 0.474        | 0.593  | 0    | -7.742   | 1    | 0.0282      | 0.00199      | 0.291            | 0.0688   | 0.203   | 114.958 | 253293      | 2015\n",
       "4807       | 0bbw6Es6hgs9ybUisecefK | We Sink                    | Of Monsters and Men | 4                | 1XoZXbaY5k41bIxBekZG5b | Beneath The Skin (Deluxe) | 2015-06-05               | random playlist that can't decide its genre so go ahead  ... | 49qyKvg6UAQAvIMUIGMnP3 | pop            | indie poptimism   | 0.46         | 0.774  | 11   | -5.996   | 0    | 0.0281      | 0.00311      | 0.00241          | 0.13     | 0.359   | 111.042 | 261880      | 2015\n",
       "4808       | 1oUpRnKn36YRqAyCAxHOqT | Winter Sound - Bonus Track | Of Monsters and Men | 0                | 1XoZXbaY5k41bIxBekZG5b | Beneath The Skin (Deluxe) | 2015-06-05               | random playlist that can't decide its genre so go ahead  ... | 49qyKvg6UAQAvIMUIGMnP3 | pop            | indie poptimism   | 0.569        | 0.737  | 7    | -4.7     | 1    | 0.032       | 0.000644     | 0.000194         | 0.0663   | 0.437   | 127.145 | 220840      | 2015\n",
       "4809       | 310d8Vawp5kYDYrGrrTAzl | King And Lionheart         | Of Monsters and Men | 61               | 4p9dVvZDaZliSjTCbFRhJy | My Head Is An Animal      | 2012-01-01               | random playlist that can't decide its genre so go ahead  ... | 49qyKvg6UAQAvIMUIGMnP3 | pop            | indie poptimism   | 0.52         | 0.655  | 3    | -6.516   | 1    | 0.0393      | 0.104        | 0.00347          | 0.124    | 0.289   | 126.593 | 273853      | 2012\n",
       "4810       | 2ihCaVdNZmnHZWt0fvAM7B | Little Talks               | Of Monsters and Men | 75               | 4p9dVvZDaZliSjTCbFRhJy | My Head Is An Animal      | 2012-01-01               | random playlist that can't decide its genre so go ahead  ... | 49qyKvg6UAQAvIMUIGMnP3 | pop            | indie poptimism   | 0.446        | 0.757  | 1    | -5.177   | 1    | 0.0322      | 0.0206       | 0                | 0.146    | 0.421   | 102.88  | 266600      | 2012\n",
       "... (85 rows omitted)"
      ]
     },
     "execution_count": 70,
     "metadata": {},
     "output_type": "execute_result"
    }
   ],
   "source": [
    "rand = spotify.where('playlist_name', are.equal_to(\"random playlist that can't decide its genre so go ahead jam along with these catchy tunes\"))\n",
    "rand"
   ]
  },
  {
   "cell_type": "code",
   "execution_count": 73,
   "metadata": {},
   "outputs": [
    {
     "data": {
      "text/html": [
       "<table border=\"1\" class=\"dataframe\">\n",
       "    <thead>\n",
       "        <tr>\n",
       "            <th>playlist_subgenre</th> <th>count</th>\n",
       "        </tr>\n",
       "    </thead>\n",
       "    <tbody>\n",
       "        <tr>\n",
       "            <td>indie poptimism  </td> <td>95   </td>\n",
       "        </tr>\n",
       "    </tbody>\n",
       "</table>"
      ],
      "text/plain": [
       "playlist_subgenre | count\n",
       "indie poptimism   | 95"
      ]
     },
     "execution_count": 73,
     "metadata": {},
     "output_type": "execute_result"
    }
   ],
   "source": [
    "rand.group('playlist_subgenre')"
   ]
  },
  {
   "cell_type": "markdown",
   "metadata": {},
   "source": [
    "the \"playlist that can't decide its genre\" consists entirely of indie poptism songs"
   ]
  },
  {
   "cell_type": "code",
   "execution_count": null,
   "metadata": {},
   "outputs": [],
   "source": []
  }
 ],
 "metadata": {
  "colab": {
   "collapsed_sections": [],
   "name": "spotify.ipynb",
   "provenance": []
  },
  "kernelspec": {
   "display_name": "Python 3",
   "language": "python",
   "name": "python3"
  },
  "language_info": {
   "codemirror_mode": {
    "name": "ipython",
    "version": 3
   },
   "file_extension": ".py",
   "mimetype": "text/x-python",
   "name": "python",
   "nbconvert_exporter": "python",
   "pygments_lexer": "ipython3",
   "version": "3.7.4"
  }
 },
 "nbformat": 4,
 "nbformat_minor": 1
}
