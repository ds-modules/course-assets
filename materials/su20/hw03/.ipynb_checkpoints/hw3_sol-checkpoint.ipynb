{
 "cells": [
  {
   "cell_type": "markdown",
   "metadata": {},
   "source": [
    "# Homework 3: Distributions and Tables"
   ]
  },
  {
   "cell_type": "markdown",
   "metadata": {},
   "source": [
    "Please complete this notebook by filling in the cells provided. Before you begin, execute the following provided tests."
   ]
  },
  {
   "cell_type": "code",
   "execution_count": 1,
   "metadata": {},
   "outputs": [],
   "source": [
    "# Don't change this cell; just run it.\n",
    "\n",
    "from datascience import *\n",
    "import numpy as np\n",
    "import pandas as pd\n",
    "\n",
    "%matplotlib inline\n",
    "import matplotlib.pyplot as plt\n",
    "plt.style.use('fivethirtyeight')\n",
    "\n",
    "from client.api.notebook import Notebook\n",
    "#ok = Notebook('hw03.ok')\n",
    "#_ = ok.auth(inline=True)"
   ]
  },
  {
   "cell_type": "markdown",
   "metadata": {},
   "source": [
    "**Reading:** \n",
    "- Textbook chapter 5 [LINK IT HERE]"
   ]
  },
  {
   "cell_type": "markdown",
   "metadata": {},
   "source": [
    "**Deadline**: <br>\n",
    "\n",
    "This assignment is due **CHANGE** at 1PM. You will receive an early submission bonus point if you turn in your final submission by **CHANGE**. Late work will not be accepted unless you have made special arrangements with your TA or the instructor.\n",
    "\n",
    "\n",
    "Directly sharing answers is not okay, but discussing problems with the course staff or with other students is encouraged.\n",
    "\n",
    "\n",
    "You should start early so that you have time to get help if you're stuck. Drop-in office hours will be held at various times in the week; check the course calendar on the course webpage **[LINK]** for the latest schedule.\n",
    "\n",
    "\n",
    "Once you're finished, select \"Save and Checkpoint\" in the File menu and then execute the submit cell below. The result will contain a link that you can use to check that your assignment has been submitted successfully. If you submit more than once before the deadline, we will only grade your final submission."
   ]
  },
  {
   "cell_type": "code",
   "execution_count": null,
   "metadata": {},
   "outputs": [],
   "source": [
    "_ = ok.submit()"
   ]
  },
  {
   "cell_type": "markdown",
   "metadata": {},
   "source": [
    "## 1. Tables"
   ]
  },
  {
   "cell_type": "markdown",
   "metadata": {},
   "source": [
    "**Question 1.** In 2016, there were 5 presidential candidates:  Donald Trump with 4483810 votes, Hillary Clinton with 8753788 votes, Jill Stein with 278657, Gloria Estella La Riva with 66101 votes, and Gary Johnson with 478500 votes. Create a table that contains this information. It should have two columns: \"candidate\" and \"votes\" with the name `presidents`.\n",
    "\n",
    "**Note:** Use lower-case for the name for each candidate, like \"hillary clinton.\""
   ]
  },
  {
   "cell_type": "code",
   "execution_count": 2,
   "metadata": {},
   "outputs": [
    {
     "data": {
      "text/html": [
       "<table border=\"1\" class=\"dataframe\">\n",
       "    <thead>\n",
       "        <tr>\n",
       "            <th>candidate</th> <th>votes</th>\n",
       "        </tr>\n",
       "    </thead>\n",
       "    <tbody>\n",
       "        <tr>\n",
       "            <td>donald trump          </td> <td>4483810</td>\n",
       "        </tr>\n",
       "        <tr>\n",
       "            <td>hillary clinton       </td> <td>8753788</td>\n",
       "        </tr>\n",
       "        <tr>\n",
       "            <td>jill stein            </td> <td>278657 </td>\n",
       "        </tr>\n",
       "        <tr>\n",
       "            <td>gloria estella la riva</td> <td>66101  </td>\n",
       "        </tr>\n",
       "        <tr>\n",
       "            <td>gary johnson          </td> <td>478500 </td>\n",
       "        </tr>\n",
       "    </tbody>\n",
       "</table>"
      ],
      "text/plain": [
       "candidate              | votes\n",
       "donald trump           | 4483810\n",
       "hillary clinton        | 8753788\n",
       "jill stein             | 278657\n",
       "gloria estella la riva | 66101\n",
       "gary johnson           | 478500"
      ]
     },
     "execution_count": 2,
     "metadata": {},
     "output_type": "execute_result"
    }
   ],
   "source": [
    "presidents = Table().with_columns(\n",
    "                \"candidate\", make_array(\"donald trump\", \"hillary clinton\", \"jill stein\", \"gloria estella la riva\", \"gary johnson\"),\n",
    "                \"votes\", make_array(4483810, 8753788, 278657, 66101, 478500))\n",
    "presidents"
   ]
  },
  {
   "cell_type": "code",
   "execution_count": null,
   "metadata": {},
   "outputs": [],
   "source": [
    "_ = ok.grade('q1_1')"
   ]
  },
  {
   "cell_type": "markdown",
   "metadata": {},
   "source": [
    "**Question 2.** The file `1976-2016-president.csv` contains information about the presidential candidates from 1976 to 2016. Each row represents a candidate who stood for presidency that year. Load it as a table named `president`. "
   ]
  },
  {
   "cell_type": "code",
   "execution_count": 3,
   "metadata": {},
   "outputs": [
    {
     "data": {
      "text/html": [
       "<table border=\"1\" class=\"dataframe\">\n",
       "    <thead>\n",
       "        <tr>\n",
       "            <th>year</th> <th>state</th> <th>state_po</th> <th>state_fips</th> <th>state_cen</th> <th>state_ic</th> <th>office</th> <th>candidate</th> <th>party</th> <th>writein</th> <th>candidatevotes</th> <th>totalvotes</th> <th>version</th> <th>notes</th>\n",
       "        </tr>\n",
       "    </thead>\n",
       "    <tbody>\n",
       "        <tr>\n",
       "            <td>1976</td> <td>Alabama</td> <td>AL      </td> <td>1         </td> <td>63       </td> <td>41      </td> <td>US President</td> <td>Carter, Jimmy          </td> <td>democrat                  </td> <td>False  </td> <td>659170        </td> <td>1182850   </td> <td>20171015</td> <td>nan  </td>\n",
       "        </tr>\n",
       "        <tr>\n",
       "            <td>1976</td> <td>Alabama</td> <td>AL      </td> <td>1         </td> <td>63       </td> <td>41      </td> <td>US President</td> <td>Ford, Gerald           </td> <td>republican                </td> <td>False  </td> <td>504070        </td> <td>1182850   </td> <td>20171015</td> <td>nan  </td>\n",
       "        </tr>\n",
       "        <tr>\n",
       "            <td>1976</td> <td>Alabama</td> <td>AL      </td> <td>1         </td> <td>63       </td> <td>41      </td> <td>US President</td> <td>Maddox, Lester         </td> <td>american independent party</td> <td>False  </td> <td>9198          </td> <td>1182850   </td> <td>20171015</td> <td>nan  </td>\n",
       "        </tr>\n",
       "        <tr>\n",
       "            <td>1976</td> <td>Alabama</td> <td>AL      </td> <td>1         </td> <td>63       </td> <td>41      </td> <td>US President</td> <td>Bubar, Benjamin \"\"Ben\"\"</td> <td>prohibition               </td> <td>False  </td> <td>6669          </td> <td>1182850   </td> <td>20171015</td> <td>nan  </td>\n",
       "        </tr>\n",
       "        <tr>\n",
       "            <td>1976</td> <td>Alabama</td> <td>AL      </td> <td>1         </td> <td>63       </td> <td>41      </td> <td>US President</td> <td>Hall, Gus              </td> <td>communist party use       </td> <td>False  </td> <td>1954          </td> <td>1182850   </td> <td>20171015</td> <td>nan  </td>\n",
       "        </tr>\n",
       "        <tr>\n",
       "            <td>1976</td> <td>Alabama</td> <td>AL      </td> <td>1         </td> <td>63       </td> <td>41      </td> <td>US President</td> <td>Macbride, Roger        </td> <td>libertarian               </td> <td>False  </td> <td>1481          </td> <td>1182850   </td> <td>20171015</td> <td>nan  </td>\n",
       "        </tr>\n",
       "        <tr>\n",
       "            <td>1976</td> <td>Alabama</td> <td>AL      </td> <td>1         </td> <td>63       </td> <td>41      </td> <td>US President</td> <td>nan                    </td> <td>nan                       </td> <td>True   </td> <td>308           </td> <td>1182850   </td> <td>20171015</td> <td>nan  </td>\n",
       "        </tr>\n",
       "        <tr>\n",
       "            <td>1976</td> <td>Alaska </td> <td>AK      </td> <td>2         </td> <td>94       </td> <td>81      </td> <td>US President</td> <td>Ford, Gerald           </td> <td>republican                </td> <td>False  </td> <td>71555         </td> <td>123574    </td> <td>20171015</td> <td>nan  </td>\n",
       "        </tr>\n",
       "        <tr>\n",
       "            <td>1976</td> <td>Alaska </td> <td>AK      </td> <td>2         </td> <td>94       </td> <td>81      </td> <td>US President</td> <td>Carter, Jimmy          </td> <td>democrat                  </td> <td>False  </td> <td>44058         </td> <td>123574    </td> <td>20171015</td> <td>nan  </td>\n",
       "        </tr>\n",
       "        <tr>\n",
       "            <td>1976</td> <td>Alaska </td> <td>AK      </td> <td>2         </td> <td>94       </td> <td>81      </td> <td>US President</td> <td>Macbride, Roger        </td> <td>libertarian               </td> <td>False  </td> <td>6785          </td> <td>123574    </td> <td>20171015</td> <td>nan  </td>\n",
       "        </tr>\n",
       "    </tbody>\n",
       "</table>\n",
       "<p>... (3730 rows omitted)</p>"
      ],
      "text/plain": [
       "year | state   | state_po | state_fips | state_cen | state_ic | office       | candidate               | party                      | writein | candidatevotes | totalvotes | version  | notes\n",
       "1976 | Alabama | AL       | 1          | 63        | 41       | US President | Carter, Jimmy           | democrat                   | False   | 659170         | 1182850    | 20171015 | nan\n",
       "1976 | Alabama | AL       | 1          | 63        | 41       | US President | Ford, Gerald            | republican                 | False   | 504070         | 1182850    | 20171015 | nan\n",
       "1976 | Alabama | AL       | 1          | 63        | 41       | US President | Maddox, Lester          | american independent party | False   | 9198           | 1182850    | 20171015 | nan\n",
       "1976 | Alabama | AL       | 1          | 63        | 41       | US President | Bubar, Benjamin \"\"Ben\"\" | prohibition                | False   | 6669           | 1182850    | 20171015 | nan\n",
       "1976 | Alabama | AL       | 1          | 63        | 41       | US President | Hall, Gus               | communist party use        | False   | 1954           | 1182850    | 20171015 | nan\n",
       "1976 | Alabama | AL       | 1          | 63        | 41       | US President | Macbride, Roger         | libertarian                | False   | 1481           | 1182850    | 20171015 | nan\n",
       "1976 | Alabama | AL       | 1          | 63        | 41       | US President | nan                     | nan                        | True    | 308            | 1182850    | 20171015 | nan\n",
       "1976 | Alaska  | AK       | 2          | 94        | 81       | US President | Ford, Gerald            | republican                 | False   | 71555          | 123574     | 20171015 | nan\n",
       "1976 | Alaska  | AK       | 2          | 94        | 81       | US President | Carter, Jimmy           | democrat                   | False   | 44058          | 123574     | 20171015 | nan\n",
       "1976 | Alaska  | AK       | 2          | 94        | 81       | US President | Macbride, Roger         | libertarian                | False   | 6785           | 123574     | 20171015 | nan\n",
       "... (3730 rows omitted)"
      ]
     },
     "execution_count": 3,
     "metadata": {},
     "output_type": "execute_result"
    }
   ],
   "source": [
    "president = Table.read_table(\"1976-2016-president.csv\")\n",
    "president"
   ]
  },
  {
   "cell_type": "code",
   "execution_count": null,
   "metadata": {},
   "outputs": [],
   "source": [
    "_ = ok.grade('q1_2')"
   ]
  },
  {
   "cell_type": "markdown",
   "metadata": {},
   "source": [
    "**Question 3.** Does each row contain a different candidate?"
   ]
  },
  {
   "cell_type": "code",
   "execution_count": 4,
   "metadata": {},
   "outputs": [
    {
     "data": {
      "text/plain": [
       "'No'"
      ]
     },
     "execution_count": 4,
     "metadata": {},
     "output_type": "execute_result"
    }
   ],
   "source": [
    "# Set all_different to \"Yes\" if each row contains a \n",
    "# different candidate or to \"No\" if multiple rows\n",
    "# contain the same candidate\n",
    "\n",
    "all_different = \"No\"\n",
    "all_different"
   ]
  },
  {
   "cell_type": "code",
   "execution_count": null,
   "metadata": {},
   "outputs": [],
   "source": [
    "_ = ok.grade('q1_3')"
   ]
  },
  {
   "cell_type": "markdown",
   "metadata": {},
   "source": [
    "**Question 4.** Make a new table `hillary votes` where you select the candidate \"Clinton, Hillary\" from the president table that you created earlier. "
   ]
  },
  {
   "cell_type": "code",
   "execution_count": 4,
   "metadata": {
    "scrolled": true
   },
   "outputs": [
    {
     "data": {
      "text/html": [
       "<table border=\"1\" class=\"dataframe\">\n",
       "    <thead>\n",
       "        <tr>\n",
       "            <th>year</th> <th>state</th> <th>state_po</th> <th>state_fips</th> <th>state_cen</th> <th>state_ic</th> <th>office</th> <th>candidate</th> <th>party</th> <th>writein</th> <th>candidatevotes</th> <th>totalvotes</th> <th>version</th> <th>notes</th>\n",
       "        </tr>\n",
       "    </thead>\n",
       "    <tbody>\n",
       "        <tr>\n",
       "            <td>2016</td> <td>Alabama             </td> <td>AL      </td> <td>1         </td> <td>63       </td> <td>41      </td> <td>US President</td> <td>Clinton, Hillary</td> <td>democrat</td> <td>False  </td> <td>729547        </td> <td>2123372   </td> <td>20171015</td> <td>nan  </td>\n",
       "        </tr>\n",
       "        <tr>\n",
       "            <td>2016</td> <td>Alaska              </td> <td>AK      </td> <td>2         </td> <td>94       </td> <td>81      </td> <td>US President</td> <td>Clinton, Hillary</td> <td>democrat</td> <td>False  </td> <td>116454        </td> <td>318608    </td> <td>20171015</td> <td>nan  </td>\n",
       "        </tr>\n",
       "        <tr>\n",
       "            <td>2016</td> <td>Arizona             </td> <td>AZ      </td> <td>4         </td> <td>86       </td> <td>61      </td> <td>US President</td> <td>Clinton, Hillary</td> <td>democrat</td> <td>False  </td> <td>1161167       </td> <td>2573165   </td> <td>20171015</td> <td>nan  </td>\n",
       "        </tr>\n",
       "        <tr>\n",
       "            <td>2016</td> <td>Arkansas            </td> <td>AR      </td> <td>5         </td> <td>71       </td> <td>42      </td> <td>US President</td> <td>Clinton, Hillary</td> <td>democrat</td> <td>False  </td> <td>380494        </td> <td>1130635   </td> <td>20171015</td> <td>nan  </td>\n",
       "        </tr>\n",
       "        <tr>\n",
       "            <td>2016</td> <td>California          </td> <td>CA      </td> <td>6         </td> <td>93       </td> <td>71      </td> <td>US President</td> <td>Clinton, Hillary</td> <td>democrat</td> <td>False  </td> <td>8753788       </td> <td>14181595  </td> <td>20171015</td> <td>nan  </td>\n",
       "        </tr>\n",
       "        <tr>\n",
       "            <td>2016</td> <td>Colorado            </td> <td>CO      </td> <td>8         </td> <td>84       </td> <td>62      </td> <td>US President</td> <td>Clinton, Hillary</td> <td>democrat</td> <td>False  </td> <td>1338870       </td> <td>2780220   </td> <td>20171015</td> <td>nan  </td>\n",
       "        </tr>\n",
       "        <tr>\n",
       "            <td>2016</td> <td>Connecticut         </td> <td>CT      </td> <td>9         </td> <td>16       </td> <td>1       </td> <td>US President</td> <td>Clinton, Hillary</td> <td>democrat</td> <td>False  </td> <td>897572        </td> <td>1644920   </td> <td>20171015</td> <td>nan  </td>\n",
       "        </tr>\n",
       "        <tr>\n",
       "            <td>2016</td> <td>Delaware            </td> <td>DE      </td> <td>10        </td> <td>51       </td> <td>11      </td> <td>US President</td> <td>Clinton, Hillary</td> <td>democrat</td> <td>False  </td> <td>235603        </td> <td>441590    </td> <td>20171015</td> <td>nan  </td>\n",
       "        </tr>\n",
       "        <tr>\n",
       "            <td>2016</td> <td>District of Columbia</td> <td>DC      </td> <td>11        </td> <td>53       </td> <td>55      </td> <td>US President</td> <td>Clinton, Hillary</td> <td>democrat</td> <td>False  </td> <td>282830        </td> <td>312575    </td> <td>20171015</td> <td>nan  </td>\n",
       "        </tr>\n",
       "        <tr>\n",
       "            <td>2016</td> <td>Florida             </td> <td>FL      </td> <td>12        </td> <td>59       </td> <td>43      </td> <td>US President</td> <td>Clinton, Hillary</td> <td>democrat</td> <td>False  </td> <td>4504975       </td> <td>9420039   </td> <td>20171015</td> <td>nan  </td>\n",
       "        </tr>\n",
       "    </tbody>\n",
       "</table>\n",
       "<p>... (44 rows omitted)</p>"
      ],
      "text/plain": [
       "year | state                | state_po | state_fips | state_cen | state_ic | office       | candidate        | party    | writein | candidatevotes | totalvotes | version  | notes\n",
       "2016 | Alabama              | AL       | 1          | 63        | 41       | US President | Clinton, Hillary | democrat | False   | 729547         | 2123372    | 20171015 | nan\n",
       "2016 | Alaska               | AK       | 2          | 94        | 81       | US President | Clinton, Hillary | democrat | False   | 116454         | 318608     | 20171015 | nan\n",
       "2016 | Arizona              | AZ       | 4          | 86        | 61       | US President | Clinton, Hillary | democrat | False   | 1161167        | 2573165    | 20171015 | nan\n",
       "2016 | Arkansas             | AR       | 5          | 71        | 42       | US President | Clinton, Hillary | democrat | False   | 380494         | 1130635    | 20171015 | nan\n",
       "2016 | California           | CA       | 6          | 93        | 71       | US President | Clinton, Hillary | democrat | False   | 8753788        | 14181595   | 20171015 | nan\n",
       "2016 | Colorado             | CO       | 8          | 84        | 62       | US President | Clinton, Hillary | democrat | False   | 1338870        | 2780220    | 20171015 | nan\n",
       "2016 | Connecticut          | CT       | 9          | 16        | 1        | US President | Clinton, Hillary | democrat | False   | 897572         | 1644920    | 20171015 | nan\n",
       "2016 | Delaware             | DE       | 10         | 51        | 11       | US President | Clinton, Hillary | democrat | False   | 235603         | 441590     | 20171015 | nan\n",
       "2016 | District of Columbia | DC       | 11         | 53        | 55       | US President | Clinton, Hillary | democrat | False   | 282830         | 312575     | 20171015 | nan\n",
       "2016 | Florida              | FL       | 12         | 59        | 43       | US President | Clinton, Hillary | democrat | False   | 4504975        | 9420039    | 20171015 | nan\n",
       "... (44 rows omitted)"
      ]
     },
     "execution_count": 4,
     "metadata": {},
     "output_type": "execute_result"
    }
   ],
   "source": [
    "hillary_votes = president.where(\"candidate\", are.equal_to(\"Clinton, Hillary\"))\n",
    "hillary_votes"
   ]
  },
  {
   "cell_type": "code",
   "execution_count": null,
   "metadata": {},
   "outputs": [],
   "source": [
    "_ = ok.grade('q1_4')"
   ]
  },
  {
   "cell_type": "markdown",
   "metadata": {},
   "source": [
    "**Question 5.** How many votes did Hillary Clinton receive in total?"
   ]
  },
  {
   "cell_type": "code",
   "execution_count": 5,
   "metadata": {},
   "outputs": [
    {
     "data": {
      "text/plain": [
       "65853581"
      ]
     },
     "execution_count": 5,
     "metadata": {},
     "output_type": "execute_result"
    }
   ],
   "source": [
    "total_votes = sum(hillary_votes.column(\"candidatevotes\"))\n",
    "total_votes"
   ]
  },
  {
   "cell_type": "code",
   "execution_count": null,
   "metadata": {},
   "outputs": [],
   "source": [
    "_ = ok.grade('q1_5')"
   ]
  },
  {
   "cell_type": "markdown",
   "metadata": {},
   "source": [
    "**Question 6.** What is the percentage of votes she received as candidate over the total number of votes in the state? The answer should be an array of percentages."
   ]
  },
  {
   "cell_type": "code",
   "execution_count": 6,
   "metadata": {
    "scrolled": true
   },
   "outputs": [
    {
     "data": {
      "text/plain": [
       "array([3.43579458e+01, 3.65508713e+01, 4.51260218e+01, 3.36531241e+01,\n",
       "       6.17263996e+01, 4.81569804e+01, 5.45663011e+01, 5.33533368e+01,\n",
       "       9.04838839e+01, 4.78233158e+01, 4.56399834e+01, 6.09807981e+01,\n",
       "       2.74920138e+01, 5.58253667e+01, 3.77748397e+01, 4.17525134e+01,\n",
       "       3.60523707e+01, 3.26821883e+01, 3.84495661e+01, 4.63452141e+01,\n",
       "       6.03257442e+01, 2.80429676e-03, 5.90500651e+01, 4.72745310e+01,\n",
       "       4.64450340e+01, 4.01147883e+01, 3.81352308e+01, 3.59352188e+01,\n",
       "       3.36987564e+01, 4.79178237e+01, 4.68262627e+01, 5.54530844e+01,\n",
       "       4.82556472e+01, 5.61361426e+01, 1.79491787e+00, 4.65183405e-01,\n",
       "       4.61728662e+01, 2.72267395e+01, 4.35580763e+01, 2.89316803e+01,\n",
       "       5.00718520e+01, 4.78536162e+01, 5.44066066e+01, 4.06734198e+01,\n",
       "       3.17374282e+01, 3.47163328e+01, 4.32352580e+01, 2.74612686e+01,\n",
       "       5.57227421e+01, 4.97513528e+01, 5.25386801e+01, 2.64769280e+01,\n",
       "       4.64538414e+01, 2.16289009e+01])"
      ]
     },
     "execution_count": 6,
     "metadata": {},
     "output_type": "execute_result"
    }
   ],
   "source": [
    "prop_votes = hillary_votes.column(\"candidatevotes\") / hillary_votes.column(\"totalvotes\") * 100\n",
    "prop_votes"
   ]
  },
  {
   "cell_type": "markdown",
   "metadata": {},
   "source": [
    "The proportions of votes has several numbers to the right side of the decimal so we will round the proportions to integer values. We go through each element of prop_votes array and call the numpy function round on it which rounds the value to the decimal values specified.\n",
    "\n",
    "Just run the cell below."
   ]
  },
  {
   "cell_type": "code",
   "execution_count": 7,
   "metadata": {},
   "outputs": [
    {
     "data": {
      "text/plain": [
       "array([34.4, 36.6, 45.1, 33.7, 61.7, 48.2, 54.6, 53.4, 90.5, 47.8, 45.6,\n",
       "       61. , 27.5, 55.8, 37.8, 41.8, 36.1, 32.7, 38.4, 46.3, 60.3,  0. ,\n",
       "       59.1, 47.3, 46.4, 40.1, 38.1, 35.9, 33.7, 47.9, 46.8, 55.5, 48.3,\n",
       "       56.1,  1.8,  0.5, 46.2, 27.2, 43.6, 28.9, 50.1, 47.9, 54.4, 40.7,\n",
       "       31.7, 34.7, 43.2, 27.5, 55.7, 49.8, 52.5, 26.5, 46.5, 21.6])"
      ]
     },
     "execution_count": 7,
     "metadata": {},
     "output_type": "execute_result"
    }
   ],
   "source": [
    "prop_votes = np.round(prop_votes, 1)\n",
    "prop_votes"
   ]
  },
  {
   "cell_type": "code",
   "execution_count": null,
   "metadata": {},
   "outputs": [],
   "source": [
    "_ = ok.grade('q1_6')"
   ]
  },
  {
   "cell_type": "markdown",
   "metadata": {},
   "source": [
    "## 2. A Few Basic Table Methods"
   ]
  },
  {
   "cell_type": "markdown",
   "metadata": {},
   "source": [
    "This is a quick primer on two Table methods: **take** and **relabeled**"
   ]
  },
  {
   "cell_type": "markdown",
   "metadata": {},
   "source": [
    "### `take`"
   ]
  },
  {
   "cell_type": "markdown",
   "metadata": {},
   "source": [
    "The Table method take allows us to create a copy of an existing table, but with only certain rows. It has a single argument, an array. The array should contain *indices for the rows you want*. Here is an example:"
   ]
  },
  {
   "cell_type": "code",
   "execution_count": 8,
   "metadata": {},
   "outputs": [
    {
     "data": {
      "text/html": [
       "<table border=\"1\" class=\"dataframe\">\n",
       "    <thead>\n",
       "        <tr>\n",
       "            <th>Person</th>\n",
       "        </tr>\n",
       "    </thead>\n",
       "    <tbody>\n",
       "        <tr>\n",
       "            <td>Angela  </td>\n",
       "        </tr>\n",
       "        <tr>\n",
       "            <td>Austen  </td>\n",
       "        </tr>\n",
       "        <tr>\n",
       "            <td>Henry   </td>\n",
       "        </tr>\n",
       "        <tr>\n",
       "            <td>Jonathan</td>\n",
       "        </tr>\n",
       "        <tr>\n",
       "            <td>Joseph  </td>\n",
       "        </tr>\n",
       "        <tr>\n",
       "            <td>Maya    </td>\n",
       "        </tr>\n",
       "    </tbody>\n",
       "</table>"
      ],
      "text/plain": [
       "Person\n",
       "Angela\n",
       "Austen\n",
       "Henry\n",
       "Jonathan\n",
       "Joseph\n",
       "Maya"
      ]
     },
     "execution_count": 8,
     "metadata": {},
     "output_type": "execute_result"
    }
   ],
   "source": [
    "staff_names = make_array(\"Angela\", \"Austen\", \"Henry\", \"Jonathan\", \"Joseph\", \"Maya\")\n",
    "staff = Table().with_columns(\"Person\", staff_names)\n",
    "staff"
   ]
  },
  {
   "cell_type": "code",
   "execution_count": 9,
   "metadata": {},
   "outputs": [
    {
     "data": {
      "text/html": [
       "<table border=\"1\" class=\"dataframe\">\n",
       "    <thead>\n",
       "        <tr>\n",
       "            <th>Person</th>\n",
       "        </tr>\n",
       "    </thead>\n",
       "    <tbody>\n",
       "        <tr>\n",
       "            <td>Austen  </td>\n",
       "        </tr>\n",
       "        <tr>\n",
       "            <td>Jonathan</td>\n",
       "        </tr>\n",
       "        <tr>\n",
       "            <td>Joseph  </td>\n",
       "        </tr>\n",
       "    </tbody>\n",
       "</table>"
      ],
      "text/plain": [
       "Person\n",
       "Austen\n",
       "Jonathan\n",
       "Joseph"
      ]
     },
     "execution_count": 9,
     "metadata": {},
     "output_type": "execute_result"
    }
   ],
   "source": [
    "staff.take(make_array(1, 3, 4))"
   ]
  },
  {
   "cell_type": "markdown",
   "metadata": {},
   "source": [
    "Often it is convenient to use np.arange to construct an array for take. For example, we can get the first 3 rows of staff:"
   ]
  },
  {
   "cell_type": "code",
   "execution_count": 10,
   "metadata": {
    "scrolled": true
   },
   "outputs": [
    {
     "data": {
      "text/html": [
       "<table border=\"1\" class=\"dataframe\">\n",
       "    <thead>\n",
       "        <tr>\n",
       "            <th>Person</th>\n",
       "        </tr>\n",
       "    </thead>\n",
       "    <tbody>\n",
       "        <tr>\n",
       "            <td>Angela</td>\n",
       "        </tr>\n",
       "        <tr>\n",
       "            <td>Austen</td>\n",
       "        </tr>\n",
       "        <tr>\n",
       "            <td>Henry </td>\n",
       "        </tr>\n",
       "    </tbody>\n",
       "</table>"
      ],
      "text/plain": [
       "Person\n",
       "Angela\n",
       "Austen\n",
       "Henry"
      ]
     },
     "execution_count": 10,
     "metadata": {},
     "output_type": "execute_result"
    }
   ],
   "source": [
    "staff.take(np.arange(3))"
   ]
  },
  {
   "cell_type": "markdown",
   "metadata": {},
   "source": [
    "**Question 1** Use take and np.arange, create a table containing the first rows of the presidents table constructed in part 1.1.\n"
   ]
  },
  {
   "cell_type": "code",
   "execution_count": 11,
   "metadata": {},
   "outputs": [
    {
     "data": {
      "text/html": [
       "<table border=\"1\" class=\"dataframe\">\n",
       "    <thead>\n",
       "        <tr>\n",
       "            <th>candidate</th> <th>votes</th>\n",
       "        </tr>\n",
       "    </thead>\n",
       "    <tbody>\n",
       "        <tr>\n",
       "            <td>donald trump   </td> <td>4483810</td>\n",
       "        </tr>\n",
       "        <tr>\n",
       "            <td>hillary clinton</td> <td>8753788</td>\n",
       "        </tr>\n",
       "        <tr>\n",
       "            <td>jill stein     </td> <td>278657 </td>\n",
       "        </tr>\n",
       "    </tbody>\n",
       "</table>"
      ],
      "text/plain": [
       "candidate       | votes\n",
       "donald trump    | 4483810\n",
       "hillary clinton | 8753788\n",
       "jill stein      | 278657"
      ]
     },
     "execution_count": 11,
     "metadata": {},
     "output_type": "execute_result"
    }
   ],
   "source": [
    "first_three_rows = presidents.take(np.arange(0, 3, 1))\n",
    "first_three_rows"
   ]
  },
  {
   "cell_type": "code",
   "execution_count": null,
   "metadata": {
    "scrolled": true
   },
   "outputs": [],
   "source": [
    "_ = ok.grade('q2_1')"
   ]
  },
  {
   "cell_type": "markdown",
   "metadata": {},
   "source": [
    "### `relabeled`"
   ]
  },
  {
   "cell_type": "markdown",
   "metadata": {},
   "source": [
    "The Table method relabeled allows us to create a copy of a table, with a column's name changed. It takes two arguments: the current name of the column, and the new desired name for that column.m"
   ]
  },
  {
   "cell_type": "code",
   "execution_count": 13,
   "metadata": {},
   "outputs": [
    {
     "data": {
      "text/html": [
       "<table border=\"1\" class=\"dataframe\">\n",
       "    <thead>\n",
       "        <tr>\n",
       "            <th>candidate</th> <th>Votes Received</th>\n",
       "        </tr>\n",
       "    </thead>\n",
       "    <tbody>\n",
       "        <tr>\n",
       "            <td>donald trump          </td> <td>4483810       </td>\n",
       "        </tr>\n",
       "        <tr>\n",
       "            <td>hillary clinton       </td> <td>8753788       </td>\n",
       "        </tr>\n",
       "        <tr>\n",
       "            <td>jill stein            </td> <td>278657        </td>\n",
       "        </tr>\n",
       "        <tr>\n",
       "            <td>gloria estella la riva</td> <td>66101         </td>\n",
       "        </tr>\n",
       "        <tr>\n",
       "            <td>gary johnson          </td> <td>478500        </td>\n",
       "        </tr>\n",
       "    </tbody>\n",
       "</table>"
      ],
      "text/plain": [
       "candidate              | Votes Received\n",
       "donald trump           | 4483810\n",
       "hillary clinton        | 8753788\n",
       "jill stein             | 278657\n",
       "gloria estella la riva | 66101\n",
       "gary johnson           | 478500"
      ]
     },
     "execution_count": 13,
     "metadata": {},
     "output_type": "execute_result"
    }
   ],
   "source": [
    "presidents.relabeled(\"votes\", \"Votes Received\")"
   ]
  },
  {
   "cell_type": "markdown",
   "metadata": {},
   "source": [
    "**Question 2.** Create a table named `cands` with the second and fifth rows of presidents and with the \"candidates\" column relabeled to \"Electoral Candidates.\""
   ]
  },
  {
   "cell_type": "code",
   "execution_count": 14,
   "metadata": {},
   "outputs": [
    {
     "data": {
      "text/html": [
       "<table border=\"1\" class=\"dataframe\">\n",
       "    <thead>\n",
       "        <tr>\n",
       "            <th>Electoral Candidates</th> <th>votes</th>\n",
       "        </tr>\n",
       "    </thead>\n",
       "    <tbody>\n",
       "        <tr>\n",
       "            <td>hillary clinton     </td> <td>8753788</td>\n",
       "        </tr>\n",
       "        <tr>\n",
       "            <td>gary johnson        </td> <td>478500 </td>\n",
       "        </tr>\n",
       "    </tbody>\n",
       "</table>"
      ],
      "text/plain": [
       "Electoral Candidates | votes\n",
       "hillary clinton      | 8753788\n",
       "gary johnson         | 478500"
      ]
     },
     "execution_count": 14,
     "metadata": {},
     "output_type": "execute_result"
    }
   ],
   "source": [
    "cands = presidents.take(make_array(1,4)).relabeled(\"candidate\", \"Electoral Candidates\")\n",
    "cands"
   ]
  },
  {
   "cell_type": "code",
   "execution_count": null,
   "metadata": {
    "scrolled": true
   },
   "outputs": [],
   "source": [
    "_ = ok.grade('q2_2')"
   ]
  },
  {
   "cell_type": "markdown",
   "metadata": {},
   "source": [
    "## 3. Presidential Candidates 1976 - 2016"
   ]
  },
  {
   "cell_type": "markdown",
   "metadata": {},
   "source": [
    "This datasets contains presidential candidates from each state between the years 1976 to 2016. Each candidate is associated with a political party, state, and the number of candidates votes and total votes they received. More information about the dataset can be found through this [link](https://electionlab.mit.edu/data). "
   ]
  },
  {
   "cell_type": "markdown",
   "metadata": {},
   "source": [
    "Run the next cell to reload the data. Each row represents one presidential candidate during a specified year in each of the 50 states. "
   ]
  },
  {
   "cell_type": "code",
   "execution_count": 17,
   "metadata": {
    "scrolled": false
   },
   "outputs": [
    {
     "data": {
      "text/html": [
       "<table border=\"1\" class=\"dataframe\">\n",
       "    <thead>\n",
       "        <tr>\n",
       "            <th>year</th> <th>state</th> <th>state_po</th> <th>state_fips</th> <th>state_cen</th> <th>state_ic</th> <th>office</th> <th>candidate</th> <th>party</th> <th>writein</th> <th>candidatevotes</th> <th>totalvotes</th>\n",
       "        </tr>\n",
       "    </thead>\n",
       "    <tbody>\n",
       "        <tr>\n",
       "            <td>1976</td> <td>Alabama</td> <td>AL      </td> <td>1         </td> <td>63       </td> <td>41      </td> <td>US President</td> <td>Carter, Jimmy          </td> <td>democrat                  </td> <td>False  </td> <td>659170        </td> <td>1182850   </td>\n",
       "        </tr>\n",
       "        <tr>\n",
       "            <td>1976</td> <td>Alabama</td> <td>AL      </td> <td>1         </td> <td>63       </td> <td>41      </td> <td>US President</td> <td>Ford, Gerald           </td> <td>republican                </td> <td>False  </td> <td>504070        </td> <td>1182850   </td>\n",
       "        </tr>\n",
       "        <tr>\n",
       "            <td>1976</td> <td>Alabama</td> <td>AL      </td> <td>1         </td> <td>63       </td> <td>41      </td> <td>US President</td> <td>Maddox, Lester         </td> <td>american independent party</td> <td>False  </td> <td>9198          </td> <td>1182850   </td>\n",
       "        </tr>\n",
       "        <tr>\n",
       "            <td>1976</td> <td>Alabama</td> <td>AL      </td> <td>1         </td> <td>63       </td> <td>41      </td> <td>US President</td> <td>Bubar, Benjamin \"\"Ben\"\"</td> <td>prohibition               </td> <td>False  </td> <td>6669          </td> <td>1182850   </td>\n",
       "        </tr>\n",
       "        <tr>\n",
       "            <td>1976</td> <td>Alabama</td> <td>AL      </td> <td>1         </td> <td>63       </td> <td>41      </td> <td>US President</td> <td>Hall, Gus              </td> <td>communist party use       </td> <td>False  </td> <td>1954          </td> <td>1182850   </td>\n",
       "        </tr>\n",
       "        <tr>\n",
       "            <td>1976</td> <td>Alabama</td> <td>AL      </td> <td>1         </td> <td>63       </td> <td>41      </td> <td>US President</td> <td>Macbride, Roger        </td> <td>libertarian               </td> <td>False  </td> <td>1481          </td> <td>1182850   </td>\n",
       "        </tr>\n",
       "        <tr>\n",
       "            <td>1976</td> <td>Alaska </td> <td>AK      </td> <td>2         </td> <td>94       </td> <td>81      </td> <td>US President</td> <td>Ford, Gerald           </td> <td>republican                </td> <td>False  </td> <td>71555         </td> <td>123574    </td>\n",
       "        </tr>\n",
       "        <tr>\n",
       "            <td>1976</td> <td>Alaska </td> <td>AK      </td> <td>2         </td> <td>94       </td> <td>81      </td> <td>US President</td> <td>Carter, Jimmy          </td> <td>democrat                  </td> <td>False  </td> <td>44058         </td> <td>123574    </td>\n",
       "        </tr>\n",
       "        <tr>\n",
       "            <td>1976</td> <td>Alaska </td> <td>AK      </td> <td>2         </td> <td>94       </td> <td>81      </td> <td>US President</td> <td>Macbride, Roger        </td> <td>libertarian               </td> <td>False  </td> <td>6785          </td> <td>123574    </td>\n",
       "        </tr>\n",
       "        <tr>\n",
       "            <td>1976</td> <td>Arizona</td> <td>AZ      </td> <td>4         </td> <td>86       </td> <td>61      </td> <td>US President</td> <td>Ford, Gerald           </td> <td>republican                </td> <td>False  </td> <td>418642        </td> <td>742719    </td>\n",
       "        </tr>\n",
       "    </tbody>\n",
       "</table>\n",
       "<p>... (3317 rows omitted)</p>"
      ],
      "text/plain": [
       "year | state   | state_po | state_fips | state_cen | state_ic | office       | candidate               | party                      | writein | candidatevotes | totalvotes\n",
       "1976 | Alabama | AL       | 1          | 63        | 41       | US President | Carter, Jimmy           | democrat                   | False   | 659170         | 1182850\n",
       "1976 | Alabama | AL       | 1          | 63        | 41       | US President | Ford, Gerald            | republican                 | False   | 504070         | 1182850\n",
       "1976 | Alabama | AL       | 1          | 63        | 41       | US President | Maddox, Lester          | american independent party | False   | 9198           | 1182850\n",
       "1976 | Alabama | AL       | 1          | 63        | 41       | US President | Bubar, Benjamin \"\"Ben\"\" | prohibition                | False   | 6669           | 1182850\n",
       "1976 | Alabama | AL       | 1          | 63        | 41       | US President | Hall, Gus               | communist party use        | False   | 1954           | 1182850\n",
       "1976 | Alabama | AL       | 1          | 63        | 41       | US President | Macbride, Roger         | libertarian                | False   | 1481           | 1182850\n",
       "1976 | Alaska  | AK       | 2          | 94        | 81       | US President | Ford, Gerald            | republican                 | False   | 71555          | 123574\n",
       "1976 | Alaska  | AK       | 2          | 94        | 81       | US President | Carter, Jimmy           | democrat                   | False   | 44058          | 123574\n",
       "1976 | Alaska  | AK       | 2          | 94        | 81       | US President | Macbride, Roger         | libertarian                | False   | 6785           | 123574\n",
       "1976 | Arizona | AZ       | 4          | 86        | 61       | US President | Ford, Gerald            | republican                 | False   | 418642         | 742719\n",
       "... (3317 rows omitted)"
      ]
     },
     "execution_count": 17,
     "metadata": {},
     "output_type": "execute_result"
    }
   ],
   "source": [
    "# Just run this cell.\n",
    "presidential_cand = Table.read_table('presidents.csv')\n",
    "presidential_cand"
   ]
  },
  {
   "cell_type": "markdown",
   "metadata": {},
   "source": [
    "**Question 1.** Each state varies in the number of candidates they vote for. How many candidates did each state vote for from 1976 to 2016? Make a table called `cand_per_state` with one row per state and 2 columns: \"state\" and \"number of candidates.\"\n",
    "\n",
    "*Note*: A candidate may be repeated several times across states because people may choose to vote for different candidates."
   ]
  },
  {
   "cell_type": "code",
   "execution_count": 95,
   "metadata": {
    "scrolled": true
   },
   "outputs": [
    {
     "data": {
      "text/html": [
       "<table border=\"1\" class=\"dataframe\">\n",
       "    <thead>\n",
       "        <tr>\n",
       "            <th>state</th> <th>number of candidates</th>\n",
       "        </tr>\n",
       "    </thead>\n",
       "    <tbody>\n",
       "        <tr>\n",
       "            <td>Alabama             </td> <td>34                  </td>\n",
       "        </tr>\n",
       "        <tr>\n",
       "            <td>Alaska              </td> <td>15                  </td>\n",
       "        </tr>\n",
       "        <tr>\n",
       "            <td>Arizona             </td> <td>6                   </td>\n",
       "        </tr>\n",
       "        <tr>\n",
       "            <td>Arkansas            </td> <td>11                  </td>\n",
       "        </tr>\n",
       "        <tr>\n",
       "            <td>California          </td> <td>8                   </td>\n",
       "        </tr>\n",
       "        <tr>\n",
       "            <td>Colorado            </td> <td>35                  </td>\n",
       "        </tr>\n",
       "        <tr>\n",
       "            <td>Delaware            </td> <td>2                   </td>\n",
       "        </tr>\n",
       "        <tr>\n",
       "            <td>District of Columbia</td> <td>4                   </td>\n",
       "        </tr>\n",
       "        <tr>\n",
       "            <td>Florida             </td> <td>2                   </td>\n",
       "        </tr>\n",
       "        <tr>\n",
       "            <td>Illinois            </td> <td>2                   </td>\n",
       "        </tr>\n",
       "    </tbody>\n",
       "</table>\n",
       "<p>... (23 rows omitted)</p>"
      ],
      "text/plain": [
       "state                | number of candidates\n",
       "Alabama              | 34\n",
       "Alaska               | 15\n",
       "Arizona              | 6\n",
       "Arkansas             | 11\n",
       "California           | 8\n",
       "Colorado             | 35\n",
       "Delaware             | 2\n",
       "District of Columbia | 4\n",
       "Florida              | 2\n",
       "Illinois             | 2\n",
       "... (23 rows omitted)"
      ]
     },
     "execution_count": 95,
     "metadata": {},
     "output_type": "execute_result"
    }
   ],
   "source": [
    "cand_per_state = presidential_cand.group(\"state\").relabeled(\"count\", \"number of candidates\")\n",
    "cand_per_state"
   ]
  },
  {
   "cell_type": "code",
   "execution_count": null,
   "metadata": {},
   "outputs": [],
   "source": [
    "_ = ok.grade('q3_1')"
   ]
  },
  {
   "cell_type": "markdown",
   "metadata": {},
   "source": [
    "**Question 2.** Make a bar chart showing the number of presidential candidates who received votes from each state. Sort the bars from shortest to longest."
   ]
  },
  {
   "cell_type": "code",
   "execution_count": 96,
   "metadata": {},
   "outputs": [
    {
     "data": {
      "image/png": "[encoded data removed]",
      "text/plain": [
       "<Figure size 432x1188 with 1 Axes>"
      ]
     },
     "metadata": {},
     "output_type": "display_data"
    }
   ],
   "source": [
    "cand_per_state.sort(1).barh(\"state\")"
   ]
  },
  {
   "cell_type": "markdown",
   "metadata": {},
   "source": [
    "**Question 3.** Make a table of all unique political parties that presidential candidates associate with. Call it `parties`. It should have one row per party and 2 columns: \"party\" and \"# of times\" (the number of times a a party is associated with a unique candidate)."
   ]
  },
  {
   "cell_type": "code",
   "execution_count": 18,
   "metadata": {},
   "outputs": [
    {
     "data": {
      "text/html": [
       "<table border=\"1\" class=\"dataframe\">\n",
       "    <thead>\n",
       "        <tr>\n",
       "            <th>party</th> <th># of times</th>\n",
       "        </tr>\n",
       "    </thead>\n",
       "    <tbody>\n",
       "        <tr>\n",
       "            <td>6 million jobs             </td> <td>1         </td>\n",
       "        </tr>\n",
       "        <tr>\n",
       "            <td>alaskan independence party </td> <td>2         </td>\n",
       "        </tr>\n",
       "        <tr>\n",
       "            <td>alliance                   </td> <td>33        </td>\n",
       "        </tr>\n",
       "        <tr>\n",
       "            <td>america first              </td> <td>4         </td>\n",
       "        </tr>\n",
       "        <tr>\n",
       "            <td>america first populist     </td> <td>1         </td>\n",
       "        </tr>\n",
       "        <tr>\n",
       "            <td>america's independent party</td> <td>2         </td>\n",
       "        </tr>\n",
       "        <tr>\n",
       "            <td>america's party            </td> <td>2         </td>\n",
       "        </tr>\n",
       "        <tr>\n",
       "            <td>american                   </td> <td>35        </td>\n",
       "        </tr>\n",
       "        <tr>\n",
       "            <td>american constitution party</td> <td>3         </td>\n",
       "        </tr>\n",
       "        <tr>\n",
       "            <td>american delta party       </td> <td>12        </td>\n",
       "        </tr>\n",
       "    </tbody>\n",
       "</table>\n",
       "<p>... (132 rows omitted)</p>"
      ],
      "text/plain": [
       "party                       | # of times\n",
       "6 million jobs              | 1\n",
       "alaskan independence party  | 2\n",
       "alliance                    | 33\n",
       "america first               | 4\n",
       "america first populist      | 1\n",
       "america's independent party | 2\n",
       "america's party             | 2\n",
       "american                    | 35\n",
       "american constitution party | 3\n",
       "american delta party        | 12\n",
       "... (132 rows omitted)"
      ]
     },
     "execution_count": 18,
     "metadata": {},
     "output_type": "execute_result"
    }
   ],
   "source": [
    "parties = presidential_cand.group(\"party\").relabeled(\"count\", \"# of times\")\n",
    "parties"
   ]
  },
  {
   "cell_type": "code",
   "execution_count": null,
   "metadata": {},
   "outputs": [],
   "source": [
    "_ = ok.grade('q3_3')"
   ]
  },
  {
   "cell_type": "markdown",
   "metadata": {},
   "source": [
    "**Question 4:** It wouldn't be a good idea to make a bar chart of that data. (Don't try it!) Why not? "
   ]
  },
  {
   "cell_type": "markdown",
   "metadata": {},
   "source": [
    "**SOLUTION:** There are numerous political parties throughout the years, most with only a few number of times. A bar chart with 1 bar per party would be hard to read and it would take Python a long time to generate."
   ]
  },
  {
   "cell_type": "markdown",
   "metadata": {},
   "source": [
    "**Question 5:** Make a bar chart of just 10 parties that were mentioned the most."
   ]
  },
  {
   "cell_type": "code",
   "execution_count": 19,
   "metadata": {},
   "outputs": [
    {
     "data": {
      "image/png": "[encoded data removed]",
      "text/plain": [
       "<Figure size 432x360 with 1 Axes>"
      ]
     },
     "metadata": {},
     "output_type": "display_data"
    }
   ],
   "source": [
    "parties.sort(\"# of times\", descending = True).take(np.arange(10)).barh(\"party\")"
   ]
  },
  {
   "cell_type": "markdown",
   "metadata": {},
   "source": [
    "**Question 6:** Make a bar chart like the one above, with one difference: The size of each party's bar should be the *proportion* (among *total number of times a party was _____* in parties) of times a party was associated with a candidate.\n",
    "\n",
    "**Note:** Graphs aren't very useful without accurate labels. Make sure that the text on the horizontal axis of the graph makes sense."
   ]
  },
  {
   "cell_type": "code",
   "execution_count": 20,
   "metadata": {},
   "outputs": [
    {
     "data": {
      "image/png": "[encoded data removed]",
      "text/plain": [
       "<Figure size 432x360 with 1 Axes>"
      ]
     },
     "metadata": {},
     "output_type": "display_data"
    }
   ],
   "source": [
    "parties.with_column(\"prop of times\"\n",
    "                       , parties.column(\"# of times\") / sum(parties.column('# of times'))\n",
    "                      ).sort(\"prop of times\", descending = True\n",
    "                      ).drop(\"# of times\").take(np.arange(10)\n",
    "                      ).barh(\"party\")"
   ]
  },
  {
   "cell_type": "markdown",
   "metadata": {},
   "source": [
    "## 4. Incomes in California"
   ]
  },
  {
   "cell_type": "code",
   "execution_count": 21,
   "metadata": {},
   "outputs": [
    {
     "data": {
      "text/html": [
       "<div>\n",
       "<style scoped>\n",
       "    .dataframe tbody tr th:only-of-type {\n",
       "        vertical-align: middle;\n",
       "    }\n",
       "\n",
       "    .dataframe tbody tr th {\n",
       "        vertical-align: top;\n",
       "    }\n",
       "\n",
       "    .dataframe thead th {\n",
       "        text-align: right;\n",
       "    }\n",
       "</style>\n",
       "<table border=\"1\" class=\"dataframe\">\n",
       "  <thead>\n",
       "    <tr style=\"text-align: right;\">\n",
       "      <th></th>\n",
       "      <th>Year</th>\n",
       "      <th>Age</th>\n",
       "      <th>Gender</th>\n",
       "      <th>Educational Attainment</th>\n",
       "      <th>Personal Income</th>\n",
       "      <th>Population Count</th>\n",
       "    </tr>\n",
       "  </thead>\n",
       "  <tbody>\n",
       "    <tr>\n",
       "      <th>0</th>\n",
       "      <td>01/01/2008 12:00:00 AM</td>\n",
       "      <td>00 to 17</td>\n",
       "      <td>Male</td>\n",
       "      <td>Children under 15</td>\n",
       "      <td>No Income</td>\n",
       "      <td>NaN</td>\n",
       "    </tr>\n",
       "    <tr>\n",
       "      <th>1</th>\n",
       "      <td>01/01/2008 12:00:00 AM</td>\n",
       "      <td>00 to 17</td>\n",
       "      <td>Male</td>\n",
       "      <td>No high school diploma</td>\n",
       "      <td>No Income</td>\n",
       "      <td>650889.0</td>\n",
       "    </tr>\n",
       "    <tr>\n",
       "      <th>2</th>\n",
       "      <td>01/01/2008 12:00:00 AM</td>\n",
       "      <td>00 to 17</td>\n",
       "      <td>Male</td>\n",
       "      <td>No high school diploma</td>\n",
       "      <td>$5,000 to $9,999</td>\n",
       "      <td>30152.0</td>\n",
       "    </tr>\n",
       "    <tr>\n",
       "      <th>3</th>\n",
       "      <td>01/01/2008 12:00:00 AM</td>\n",
       "      <td>00 to 17</td>\n",
       "      <td>Male</td>\n",
       "      <td>No high school diploma</td>\n",
       "      <td>$10,000 to $14,999</td>\n",
       "      <td>7092.0</td>\n",
       "    </tr>\n",
       "    <tr>\n",
       "      <th>4</th>\n",
       "      <td>01/01/2008 12:00:00 AM</td>\n",
       "      <td>00 to 17</td>\n",
       "      <td>Male</td>\n",
       "      <td>No high school diploma</td>\n",
       "      <td>$15,000 to $24,999</td>\n",
       "      <td>3974.0</td>\n",
       "    </tr>\n",
       "  </tbody>\n",
       "</table>\n",
       "</div>"
      ],
      "text/plain": [
       "                     Year       Age Gender  Educational Attainment  \\\n",
       "0  01/01/2008 12:00:00 AM  00 to 17   Male       Children under 15   \n",
       "1  01/01/2008 12:00:00 AM  00 to 17   Male  No high school diploma   \n",
       "2  01/01/2008 12:00:00 AM  00 to 17   Male  No high school diploma   \n",
       "3  01/01/2008 12:00:00 AM  00 to 17   Male  No high school diploma   \n",
       "4  01/01/2008 12:00:00 AM  00 to 17   Male  No high school diploma   \n",
       "\n",
       "      Personal Income  Population Count  \n",
       "0           No Income               NaN  \n",
       "1           No Income          650889.0  \n",
       "2    $5,000 to $9,999           30152.0  \n",
       "3  $10,000 to $14,999            7092.0  \n",
       "4  $15,000 to $24,999            3974.0  "
      ]
     },
     "execution_count": 21,
     "metadata": {},
     "output_type": "execute_result"
    }
   ],
   "source": [
    "incomes = pd.read_csv(\"income.csv\")\n",
    "incomes[0:5]"
   ]
  },
  {
   "cell_type": "code",
   "execution_count": 22,
   "metadata": {},
   "outputs": [
    {
     "data": {
      "text/plain": [
       "Personal Income\n",
       "$10,000 to $14,999    139\n",
       "$15,000 to $24,999    139\n",
       "$25,000 to $34,999    122\n",
       "$35,000 to $49,999    118\n",
       "$5,000 to $9,999      142\n",
       "$50,000 to $74,999    115\n",
       "$75,000 and over      112\n",
       "No Income             173\n",
       "dtype: int64"
      ]
     },
     "execution_count": 22,
     "metadata": {},
     "output_type": "execute_result"
    }
   ],
   "source": [
    "values = incomes.groupby(\"Personal Income\").size()\n",
    "values"
   ]
  },
  {
   "cell_type": "markdown",
   "metadata": {},
   "source": [
    "For those with no income, we will quantify the variable by replacing it with a value of 0 to be consistent with the other ranges. We will also rearrange the order to be chronological.\n",
    "\n",
    "Just run the cell below."
   ]
  },
  {
   "cell_type": "code",
   "execution_count": 23,
   "metadata": {
    "scrolled": false
   },
   "outputs": [
    {
     "data": {
      "text/html": [
       "<div>\n",
       "<style scoped>\n",
       "    .dataframe tbody tr th:only-of-type {\n",
       "        vertical-align: middle;\n",
       "    }\n",
       "\n",
       "    .dataframe tbody tr th {\n",
       "        vertical-align: top;\n",
       "    }\n",
       "\n",
       "    .dataframe thead th {\n",
       "        text-align: right;\n",
       "    }\n",
       "</style>\n",
       "<table border=\"1\" class=\"dataframe\">\n",
       "  <thead>\n",
       "    <tr style=\"text-align: right;\">\n",
       "      <th></th>\n",
       "      <th>Personal Income</th>\n",
       "      <th>Counts</th>\n",
       "    </tr>\n",
       "  </thead>\n",
       "  <tbody>\n",
       "    <tr>\n",
       "      <th>0</th>\n",
       "      <td>0</td>\n",
       "      <td>173</td>\n",
       "    </tr>\n",
       "    <tr>\n",
       "      <th>1</th>\n",
       "      <td>5,000 - 9,999</td>\n",
       "      <td>142</td>\n",
       "    </tr>\n",
       "    <tr>\n",
       "      <th>2</th>\n",
       "      <td>10,000 - 14,999</td>\n",
       "      <td>139</td>\n",
       "    </tr>\n",
       "    <tr>\n",
       "      <th>3</th>\n",
       "      <td>15,000 - 24,999</td>\n",
       "      <td>139</td>\n",
       "    </tr>\n",
       "    <tr>\n",
       "      <th>4</th>\n",
       "      <td>25,000 - 34,999</td>\n",
       "      <td>122</td>\n",
       "    </tr>\n",
       "    <tr>\n",
       "      <th>5</th>\n",
       "      <td>35,000 - 49,999</td>\n",
       "      <td>118</td>\n",
       "    </tr>\n",
       "    <tr>\n",
       "      <th>6</th>\n",
       "      <td>50,000 - 74,999</td>\n",
       "      <td>115</td>\n",
       "    </tr>\n",
       "    <tr>\n",
       "      <th>7</th>\n",
       "      <td>75,000+</td>\n",
       "      <td>112</td>\n",
       "    </tr>\n",
       "  </tbody>\n",
       "</table>\n",
       "</div>"
      ],
      "text/plain": [
       "   Personal Income  Counts\n",
       "0                0     173\n",
       "1    5,000 - 9,999     142\n",
       "2  10,000 - 14,999     139\n",
       "3  15,000 - 24,999     139\n",
       "4  25,000 - 34,999     122\n",
       "5  35,000 - 49,999     118\n",
       "6  50,000 - 74,999     115\n",
       "7          75,000+     112"
      ]
     },
     "execution_count": 23,
     "metadata": {},
     "output_type": "execute_result"
    }
   ],
   "source": [
    "income_range = ['0', '5,000 - 9,999','10,000 - 14,999', '15,000 - 24,999', '25,000 - 34,999',\n",
    "                '35,000 - 49,999','50,000 - 74,999', '75,000+']\n",
    "counts = [173, 142, 139, 139, 122, 118, 115, 112]\n",
    "table = {'Personal Income': income_range, 'Counts': counts}\n",
    "df = pd.DataFrame(data = table)\n",
    "df"
   ]
  },
  {
   "cell_type": "code",
   "execution_count": 24,
   "metadata": {
    "scrolled": false
   },
   "outputs": [
    {
     "data": {
      "image/png": "[encoded data removed]",
      "text/plain": [
       "<Figure size 432x288 with 1 Axes>"
      ]
     },
     "metadata": {},
     "output_type": "display_data"
    }
   ],
   "source": [
    "plt.bar(df['Personal Income'], width = 0.8, height = df['Counts'], data = df)\n",
    "plt.xticks(rotation = 90)\n",
    "plt.title(\"Personal Income in California\");"
   ]
  },
  {
   "cell_type": "markdown",
   "metadata": {},
   "source": [
    "This data measures the personal income of individuals in CA as captured in U.S. Census Current Population Survey. More information at this [link](https://data.ca.gov/dataset/ca-educational-attainment-personal-income/resource/26201f19-4469-4311-a819-bbbd3e557eda)."
   ]
  },
  {
   "cell_type": "markdown",
   "metadata": {},
   "source": [
    "**Question 1.** Is the chart a histogram? Why or why not?"
   ]
  },
  {
   "cell_type": "markdown",
   "metadata": {},
   "source": [
    "*Write your answer here, replacing this text.*"
   ]
  },
  {
   "cell_type": "markdown",
   "metadata": {},
   "source": [
    "**Question 2.** How many people had income between 25,000 and 49,999? Or, can we not tell from this chart?"
   ]
  },
  {
   "cell_type": "markdown",
   "metadata": {},
   "source": [
    "*Write your answer here, replacing this text.*"
   ]
  },
  {
   "cell_type": "markdown",
   "metadata": {},
   "source": [
    "**Question 3.** How many people had income between 0 and 14,999? Or, can we not tell from this chart?"
   ]
  },
  {
   "cell_type": "markdown",
   "metadata": {},
   "source": [
    "*Write your answer here, replacing this text.*"
   ]
  },
  {
   "cell_type": "markdown",
   "metadata": {},
   "source": [
    "## 5. Marginal Histograms"
   ]
  },
  {
   "cell_type": "markdown",
   "metadata": {},
   "source": [
    "Consider the following histogram: "
   ]
  },
  {
   "cell_type": "markdown",
   "metadata": {},
   "source": [
    "![alt text](https://raw.githubusercontent.com/ds-modules/course-assets/gh-pages/materials/su17/hw/hw03/scatter.png)"
   ]
  },
  {
   "cell_type": "markdown",
   "metadata": {},
   "source": [
    "The axes of the plot represent values of two variables: $x$ and $y$.\n",
    "\n",
    "Suppose we have a table called t that has two columns in it:\n",
    "- x: a column containing the x-values of the points in the scatter plot\n",
    "- y: a column containing the y-values of the points in the scatter plot"
   ]
  },
  {
   "cell_type": "markdown",
   "metadata": {},
   "source": [
    "**Question 1**: Match each of the following lines of code to the histograms they produce. Explain your reasoning.\n",
    "\n",
    "**Line 1:** `t.hist('x')` <br>\n",
    "\n",
    "**Line 2:** `t.hist('y')` <br>\n",
    "\n",
    "**Histogram A:**"
   ]
  },
  {
   "cell_type": "markdown",
   "metadata": {},
   "source": [
    "![](https://raw.githubusercontent.com/ds-modules/course-assets/gh-pages/materials/su17/hw/hw03/var1.png)"
   ]
  },
  {
   "cell_type": "markdown",
   "metadata": {},
   "source": [
    "**Histogram B:**"
   ]
  },
  {
   "cell_type": "markdown",
   "metadata": {},
   "source": [
    "![](https://raw.githubusercontent.com/ds-modules/course-assets/gh-pages/materials/su17/hw/hw03/var2.png)"
   ]
  },
  {
   "cell_type": "markdown",
   "metadata": {},
   "source": [
    "**Histogram for Line 1:** "
   ]
  },
  {
   "cell_type": "markdown",
   "metadata": {},
   "source": [
    "**Explanation:**"
   ]
  },
  {
   "cell_type": "markdown",
   "metadata": {},
   "source": [
    "**Histogram for Line 2:**"
   ]
  },
  {
   "cell_type": "markdown",
   "metadata": {},
   "source": [
    "**Explanation:**"
   ]
  }
 ],
 "metadata": {
  "kernelspec": {
   "display_name": "Python 3",
   "language": "python",
   "name": "python3"
  },
  "language_info": {
   "codemirror_mode": {
    "name": "ipython",
    "version": 3
   },
   "file_extension": ".py",
   "mimetype": "text/x-python",
   "name": "python",
   "nbconvert_exporter": "python",
   "pygments_lexer": "ipython3",
   "version": "3.6.9"
  }
 },
 "nbformat": 4,
 "nbformat_minor": 4
}
