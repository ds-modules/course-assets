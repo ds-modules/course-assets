{
 "cells": [
  {
   "cell_type": "markdown",
   "metadata": {},
   "source": [
    "# Chapter  5: Visualizing Distributions"
   ]
  },
  {
   "cell_type": "code",
   "execution_count": 1,
   "metadata": {},
   "outputs": [],
   "source": [
    "import datascience \n",
    "import pandas as pd \n",
    "import numpy as np\n",
    "from datascience import Table\n",
    "from datascience import *\n",
    "import matplotlib\n",
    "%matplotlib inline\n",
    "import matplotlib.pyplot as plt\n",
    "import numpy as np\n",
    "plt.style.use('fivethirtyeight')"
   ]
  },
  {
   "cell_type": "code",
   "execution_count": 2,
   "metadata": {},
   "outputs": [
    {
     "data": {
      "text/html": [
       "<table border=\"1\" class=\"dataframe\">\n",
       "    <thead>\n",
       "        <tr>\n",
       "            <th>census_tract</th> <th>hispanic</th> <th>white</th> <th>african_american</th> <th>native_american</th> <th>asian_american</th> <th>other</th> <th>unemployment</th> <th>poverty</th> <th>ces_pollution_score</th> <th>ozone</th> <th>pesticides</th> <th>tox_release</th> <th>asthma</th> <th>cardiovascular_disease</th> <th>low_birth_weight</th>\n",
       "        </tr>\n",
       "    </thead>\n",
       "    <tbody>\n",
       "        <tr>\n",
       "            <td>6.019e+09   </td> <td>65.3    </td> <td>4.2  </td> <td>24.6            </td> <td>0.5            </td> <td>3.5           </td> <td>1.8  </td> <td>17.6        </td> <td>76.3   </td> <td>94.09              </td> <td>0.065</td> <td>2.75      </td> <td>18552      </td> <td>131.64</td> <td>14.13                 </td> <td>7.44            </td>\n",
       "        </tr>\n",
       "        <tr>\n",
       "            <td>6.071e+09   </td> <td>91.1    </td> <td>5.8  </td> <td>0.7             </td> <td>0.3            </td> <td>1.4           </td> <td>0.7  </td> <td>12.3        </td> <td>72.5   </td> <td>90.68              </td> <td>0.062</td> <td>1.37      </td> <td>7494.24    </td> <td>60.66 </td> <td>12.94                 </td> <td>7.04            </td>\n",
       "        </tr>\n",
       "        <tr>\n",
       "            <td>6.019e+09   </td> <td>63.6    </td> <td>5.3  </td> <td>18.9            </td> <td>0.6            </td> <td>9.8           </td> <td>1.8  </td> <td>16.1        </td> <td>86.8   </td> <td>85.97              </td> <td>0.062</td> <td>3.03      </td> <td>12454.9    </td> <td>142.12</td> <td>14.96                 </td> <td>10.16           </td>\n",
       "        </tr>\n",
       "    </tbody>\n",
       "</table>\n",
       "<p>... (7554 rows omitted)</p>"
      ],
      "text/plain": [
       "<IPython.core.display.HTML object>"
      ]
     },
     "metadata": {},
     "output_type": "display_data"
    }
   ],
   "source": [
    "data = Table.read_table('cleaned_data_new.csv')\n",
    "data.show(3)"
   ]
  },
  {
   "cell_type": "markdown",
   "metadata": {},
   "source": [
    "The unemployment rate in California as of today is $ 3.9 \\% $. How does this value relate to local unemployment rates?"
   ]
  },
  {
   "cell_type": "code",
   "execution_count": 4,
   "metadata": {},
   "outputs": [],
   "source": [
    "ca_unemployment_rate = 3.9"
   ]
  },
  {
   "cell_type": "markdown",
   "metadata": {},
   "source": [
    "First, we could access the unemployment column from our dataset. "
   ]
  },
  {
   "cell_type": "code",
   "execution_count": 5,
   "metadata": {},
   "outputs": [
    {
     "data": {
      "text/plain": [
       "array([17.6, 12.3, 16.1, ...,  1.1,  2.6,  3.5])"
      ]
     },
     "execution_count": 5,
     "metadata": {},
     "output_type": "execute_result"
    }
   ],
   "source": [
    "unemployment = data.column('unemployment')\n",
    "unemployment"
   ]
  },
  {
   "cell_type": "markdown",
   "metadata": {},
   "source": [
    "Now, we can see how each unemployment rate relates to the California unemployment rate by subtracting. "
   ]
  },
  {
   "cell_type": "code",
   "execution_count": 6,
   "metadata": {},
   "outputs": [
    {
     "data": {
      "text/plain": [
       "array([13.7,  8.4, 12.2, ..., -2.8, -1.3, -0.4])"
      ]
     },
     "execution_count": 6,
     "metadata": {},
     "output_type": "execute_result"
    }
   ],
   "source": [
    "#subtracting UNEMPLOYMENT column from CA unemployment rate\n",
    "\n",
    "unemployment_difference = unemployment - ca_unemployment_rate\n",
    "unemployment_difference"
   ]
  },
  {
   "cell_type": "markdown",
   "metadata": {},
   "source": [
    "We can now add this new array into our data. For now, we will just visualize the first and the last columns."
   ]
  },
  {
   "cell_type": "code",
   "execution_count": 9,
   "metadata": {},
   "outputs": [
    {
     "data": {
      "text/html": [
       "<table border=\"1\" class=\"dataframe\">\n",
       "    <thead>\n",
       "        <tr>\n",
       "            <th>census_tract</th> <th>low_birth_weight</th>\n",
       "        </tr>\n",
       "    </thead>\n",
       "    <tbody>\n",
       "        <tr>\n",
       "            <td>6.019e+09   </td> <td>7.44            </td>\n",
       "        </tr>\n",
       "        <tr>\n",
       "            <td>6.071e+09   </td> <td>7.04            </td>\n",
       "        </tr>\n",
       "        <tr>\n",
       "            <td>6.019e+09   </td> <td>10.16           </td>\n",
       "        </tr>\n",
       "        <tr>\n",
       "            <td>6.077e+09   </td> <td>6.23            </td>\n",
       "        </tr>\n",
       "        <tr>\n",
       "            <td>6.019e+09   </td> <td>4.5             </td>\n",
       "        </tr>\n",
       "        <tr>\n",
       "            <td>6.0372e+09  </td> <td>7.35            </td>\n",
       "        </tr>\n",
       "        <tr>\n",
       "            <td>6.077e+09   </td> <td>8.36            </td>\n",
       "        </tr>\n",
       "        <tr>\n",
       "            <td>6.019e+09   </td> <td>7.83            </td>\n",
       "        </tr>\n",
       "        <tr>\n",
       "            <td>6.03721e+09 </td> <td>6.71            </td>\n",
       "        </tr>\n",
       "        <tr>\n",
       "            <td>6.019e+09   </td> <td>4.79            </td>\n",
       "        </tr>\n",
       "    </tbody>\n",
       "</table>\n",
       "<p>... (7547 rows omitted)</p>"
      ],
      "text/plain": [
       "census_tract | low_birth_weight\n",
       "6.019e+09    | 7.44\n",
       "6.071e+09    | 7.04\n",
       "6.019e+09    | 10.16\n",
       "6.077e+09    | 6.23\n",
       "6.019e+09    | 4.5\n",
       "6.0372e+09   | 7.35\n",
       "6.077e+09    | 8.36\n",
       "6.019e+09    | 7.83\n",
       "6.03721e+09  | 6.71\n",
       "6.019e+09    | 4.79\n",
       "... (7547 rows omitted)"
      ]
     },
     "execution_count": 9,
     "metadata": {},
     "output_type": "execute_result"
    }
   ],
   "source": [
    "data.with_column('unemployment_diff', unemployment_difference).select(0, len(data) - 1)"
   ]
  },
  {
   "cell_type": "code",
   "execution_count": null,
   "metadata": {},
   "outputs": [],
   "source": []
  }
 ],
 "metadata": {
  "kernelspec": {
   "display_name": "Python 3",
   "language": "python",
   "name": "python3"
  },
  "language_info": {
   "codemirror_mode": {
    "name": "ipython",
    "version": 3
   },
   "file_extension": ".py",
   "mimetype": "text/x-python",
   "name": "python",
   "nbconvert_exporter": "python",
   "pygments_lexer": "ipython3",
   "version": "3.7.4"
  }
 },
 "nbformat": 4,
 "nbformat_minor": 2
}
