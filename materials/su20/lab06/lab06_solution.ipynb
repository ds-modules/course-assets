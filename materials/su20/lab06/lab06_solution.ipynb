{
 "cells": [
  {
   "cell_type": "markdown",
   "metadata": {},
   "source": [
    "# Applying & Visualizing Arrays"
   ]
  },
  {
   "cell_type": "markdown",
   "metadata": {},
   "source": [
    "#### Welcome to lab 6! \n",
    "\n",
    "To recap, we've been learning about datasets and specifically arrays of data in Python. Today, we'll be applying our understanding of arrays to the real world in the form of housing prices."
   ]
  },
  {
   "cell_type": "markdown",
   "metadata": {},
   "source": [
    "#### Background:\n",
    "For many college students, apartment hunting is an obstacle that is essentially inevitable. In this lab, we'll be using a dataset from Zillow (a popular marketplace for real estate) that displays the monthly median listing prices of cities near each UC school. "
   ]
  },
  {
   "cell_type": "markdown",
   "metadata": {},
   "source": [
    "<img src=\"UCsystem.png\" width=\"300px\" height=\"500px\"/>"
   ]
  },
  {
   "cell_type": "markdown",
   "metadata": {},
   "source": [
    "For context, a map of all of the UC's can be found above. Because of the scope of the data, we will only investigate housing prices for Berkeley, Los Angeles, Merced, Riverside, Santa Barbara, San Diego and Santa Cruz. Also, please note that due to the constrained availability of data from Zillow, we are only able to analyze each UC campus based on its surrounding area. In other words, calculations may not be exact since the overall area of each UC is generalized. For example, UCLA is located in Westwood but our data generalizes UCLA's prices to include prices from LA/Long Beach/Anaheim. This discrepancy will have no bearing on the techniques of array manipulation and visualization learned in this lab, however it is something worth noting before proceding."
   ]
  },
  {
   "cell_type": "code",
   "execution_count": 70,
   "metadata": {},
   "outputs": [],
   "source": [
    "#Importing libraries\n",
    "import numpy as np\n",
    "from datascience import *\n",
    "from lab_funcs import *\n",
    "\n",
    "%matplotlib inline\n",
    "import matplotlib.pyplot as plt\n",
    "plt.style.use('fivethirtyeight')\n",
    "\n",
    "from client.api.notebook import Notebook\n",
    "ok = Notebook('LAB06.ok')\n",
    "_ = ok.auth(inline=True)"
   ]
  },
  {
   "cell_type": "markdown",
   "metadata": {},
   "source": [
    "**Submission**: Once you're finished, select \"Save and Checkpoint\" in the File menu and then execute the submit cell below (or at the end). The result will contain a link that you can use to check that your assignment has been submitted successfully. "
   ]
  },
  {
   "cell_type": "code",
   "execution_count": null,
   "metadata": {},
   "outputs": [],
   "source": [
    "_ = ok.submit()"
   ]
  },
  {
   "cell_type": "markdown",
   "metadata": {},
   "source": [
    "## 1. Elementwise Operations on Arrays"
   ]
  },
  {
   "cell_type": "markdown",
   "metadata": {},
   "source": [
    "### 1.1. Reviewing elementwise arithmetic\n",
    "\n",
    "As we have previously seen, arrays are especially useful when performing the same operation multiple times. Instead of using `.item` to work with single elements, we can apply a function on an array. Let's review!\n"
   ]
  },
  {
   "cell_type": "markdown",
   "metadata": {},
   "source": [
    "#### Question 1.1.1. \n",
    "Suppose you have some monthly CA housing prices in dollars and you'd like to compute the prices in thousands of dollars to reduce the scale. Given an array of prices below, return an array that computes the prices in thousands of dollars."
   ]
  },
  {
   "cell_type": "code",
   "execution_count": 2,
   "metadata": {},
   "outputs": [
    {
     "data": {
      "text/plain": [
       "array([102.91 , 821.048, 128.201, 530.728])"
      ]
     },
     "execution_count": 2,
     "metadata": {},
     "output_type": "execute_result"
    }
   ],
   "source": [
    "housing_prices = make_array(102910, 821048, 128201, 530728)\n",
    "prices_in_thousands = housing_prices/1000 #SOLUTION \n",
    "prices_in_thousands"
   ]
  },
  {
   "cell_type": "code",
   "execution_count": 26,
   "metadata": {},
   "outputs": [],
   "source": [
    "_ = ok.grade('q111')"
   ]
  },
  {
   "cell_type": "markdown",
   "metadata": {},
   "source": [
    "#### Question 1.1.2. \n",
    "Let's transition back into regular dollars instead of thousands of dollars. Compute the average monthly housing price using the function `np.average` on `housing_prices`.\n",
    "\n",
    "##### Reminder:\n",
    "The function `np.average` takes a single array of numbers as its argument and returns the average of all the numbers in that array (so it returns a number, not an array). Have we already been given an array of numbers?"
   ]
  },
  {
   "cell_type": "code",
   "execution_count": 27,
   "metadata": {},
   "outputs": [
    {
     "data": {
      "text/plain": [
       "395721.75"
      ]
     },
     "execution_count": 27,
     "metadata": {},
     "output_type": "execute_result"
    }
   ],
   "source": [
    "avg_housing_prices = np.average(housing_prices) #SOLUTION\n",
    "avg_housing_prices"
   ]
  },
  {
   "cell_type": "code",
   "execution_count": 28,
   "metadata": {},
   "outputs": [],
   "source": [
    "_ = ok.grade('q112')"
   ]
  },
  {
   "cell_type": "markdown",
   "metadata": {},
   "source": [
    "#### Question 1.1.3. \n",
    "Let's apply what we've practiced to Berkeley housing prices in 2019. `UCB_Prices.csv` has median housing prices for each month. Similar to Question 1.1.1, use the given array of Berkeley housing prices to return an array of the same prices expressed in thousands of dollars. How is your code different?"
   ]
  },
  {
   "cell_type": "code",
   "execution_count": 10,
   "metadata": {},
   "outputs": [
    {
     "data": {
      "text/plain": [
       "array([785.8, 790.4, 789.9, 785.4, 782.6, 780.2, 770.4, 759.5, 766.8,\n",
       "       782.4, 789. , 806. ])"
      ]
     },
     "execution_count": 10,
     "metadata": {},
     "output_type": "execute_result"
    }
   ],
   "source": [
    "berkeley_prices = Table.read_table(\"UCB_Prices.csv\").column(\"UCB 2019 Price\")\n",
    "berkeley_in_thousands = berkeley_prices/1000 #SOLUTION\n",
    "berkeley_in_thousands"
   ]
  },
  {
   "cell_type": "code",
   "execution_count": 30,
   "metadata": {},
   "outputs": [],
   "source": [
    "_ = ok.grade('q113')"
   ]
  },
  {
   "cell_type": "markdown",
   "metadata": {},
   "source": [
    "#### Question 1.1.4. \n",
    "What was the average price of Berkeley housing listings in 2019 expressed in thousands of dollars? \n",
    "\n",
    "##### Hint:\n",
    "How can we utilize a function on an array where we have already calculated prices in thousands of dollars?"
   ]
  },
  {
   "cell_type": "code",
   "execution_count": 13,
   "metadata": {},
   "outputs": [
    {
     "data": {
      "text/plain": [
       "782.3666666666668"
      ]
     },
     "execution_count": 13,
     "metadata": {},
     "output_type": "execute_result"
    }
   ],
   "source": [
    "berkeley_avg_in_thousands = np.average(berkeley_in_thousands) #SOLUTION\n",
    "berkeley_avg_in_thousands"
   ]
  },
  {
   "cell_type": "code",
   "execution_count": 32,
   "metadata": {},
   "outputs": [],
   "source": [
    "_ = ok.grade('q114')"
   ]
  },
  {
   "cell_type": "markdown",
   "metadata": {},
   "source": [
    "## 2. UC Housing Prices"
   ]
  },
  {
   "cell_type": "markdown",
   "metadata": {},
   "source": [
    "In this portion of the lab, we will extend our understanding to the housing prices of other UC's. The following cell creates arrays for the median housing prices of all UC's (excluding Irvine, SF, Davis) in both 2009 and 2019. "
   ]
  },
  {
   "cell_type": "code",
   "execution_count": 25,
   "metadata": {},
   "outputs": [],
   "source": [
    "berkeley_2009 = Table.read_table(\"UCB_Prices.csv\").column(\"UCB 2009 Price\")\n",
    "berkeley_2019 = Table.read_table(\"UCB_Prices.csv\").column(\"UCB 2019 Price\")\n",
    "\n",
    "ucla_2009 = Table.read_table(\"UCLA_Prices.csv\").column(\"UCLA 2009 Price\")\n",
    "ucla_2019 = Table.read_table(\"UCLA_Prices.csv\").column(\"UCLA 2019 Price\")\n",
    "\n",
    "ucm_2009 = Table.read_table(\"UCM_Prices.csv\").column(\"UCM 2009 Price\")\n",
    "ucm_2019 = Table.read_table(\"UCM_Prices.csv\").column(\"UCM 2019 Price\")\n",
    "\n",
    "ucr_2009 = Table.read_table(\"UCR_Prices.csv\").column(\"UCR 2009 Price\")\n",
    "ucr_2019 = Table.read_table(\"UCR_Prices.csv\").column(\"UCR 2019 Price\")\n",
    "\n",
    "ucsb_2009 = Table.read_table(\"UCSB_Prices.csv\").column(\"UCSB 2009 Price\")\n",
    "ucsb_2019 = Table.read_table(\"UCSB_Prices.csv\").column(\"UCSB 2019 Price\")\n",
    "\n",
    "ucsc_2009 = Table.read_table(\"UCSC_Prices.csv\").column(\"UCSC 2009 Price\")\n",
    "ucsc_2019 = Table.read_table(\"UCSC_Prices.csv\").column(\"UCSC 2019 Price\")\n",
    "\n",
    "ucsd_2009 = Table.read_table(\"UCSD_Prices.csv\").column(\"UCSD 2009 Price\")\n",
    "ucsd_2019 = Table.read_table(\"UCSD_Prices.csv\").column(\"UCSD 2019 Price\")"
   ]
  },
  {
   "cell_type": "markdown",
   "metadata": {},
   "source": [
    "### 2.1. Percent Change"
   ]
  },
  {
   "cell_type": "markdown",
   "metadata": {},
   "source": [
    "For the remainder of the question, let's focus our attention to addressing the following question:"
   ]
  },
  {
   "cell_type": "markdown",
   "metadata": {},
   "source": [
    "> `How have housing prices at each UC changed over the years?`"
   ]
  },
  {
   "cell_type": "markdown",
   "metadata": {},
   "source": [
    "In order the gain insight for the question above, let's introduce the idea of percent change over time. The formula is as follows:"
   ]
  },
  {
   "cell_type": "markdown",
   "metadata": {},
   "source": [
    "<img src=\"percentchange.png\" width=\"300px\" height=\"500px\"/>"
   ]
  },
  {
   "cell_type": "markdown",
   "metadata": {},
   "source": [
    "where the `amount of change` can be defined as the new value - old value and the `original amount` is the old value. Notice that this is multiplied by 100 in order to return a percent."
   ]
  },
  {
   "cell_type": "markdown",
   "metadata": {},
   "source": [
    "Echoing the same sentiment as before, we can calculate the difference of two arrays by subtracting one array from another. So long as the length of both arrays are the same, elementwise subtraction occurs. By elementwise subtraction, we mean that the first element of one array is subtracted from the first element of another and its difference becomes the first element in a new resulting array. This process is then repeated for the length of the array in which we are conducting subtraction with."
   ]
  },
  {
   "cell_type": "markdown",
   "metadata": {},
   "source": [
    "#### Question 2.1.1. \n",
    "\n",
    "Let's begin with Berkeley housing prices. Compute the average percent change in housing prices from 2009 to 2019 using the formula above where the original amount is the array of Berkeley housing prices in 2009 and the amount of change is equal to the  difference in housing prices from 2009 to 2019. \n",
    "\n",
    "##### Hint:\n",
    "Use the arrays above for housing price data in both 2009 and 2019."
   ]
  },
  {
   "cell_type": "code",
   "execution_count": 26,
   "metadata": {},
   "outputs": [
    {
     "data": {
      "text/plain": [
       "144.54175294681207"
      ]
     },
     "execution_count": 26,
     "metadata": {},
     "output_type": "execute_result"
    }
   ],
   "source": [
    "berkeley_amount_change = berkeley_2019 - berkeley_2009 #SOLUTION\n",
    "berkeley_original_amount = berkeley_2009 #SOLUTION\n",
    "avg_berkeley_percent_change = np.average((berkeley_amount_change/berkeley_original_amount)*100) #SOLUTION\n",
    "avg_berkeley_percent_change"
   ]
  },
  {
   "cell_type": "code",
   "execution_count": null,
   "metadata": {},
   "outputs": [],
   "source": [
    "_ = ok.grade('q211')"
   ]
  },
  {
   "cell_type": "markdown",
   "metadata": {},
   "source": [
    "You should get an average percent change  100. What does this tell you about Berkeley housing prices from 2009 to 2019?"
   ]
  },
  {
   "cell_type": "markdown",
   "metadata": {},
   "source": [
    "*** Write your answer here, replacing this text ***"
   ]
  },
  {
   "cell_type": "markdown",
   "metadata": {},
   "source": [
    "##### SOLUTION: \n",
    "A percentage above 100 demonstrates that from 2009 to 2019, the initial median housing prices of Berkeley (averaged over all 12 months) increased by more than 200% and therefore more than doubled. (Some students may get caught up in the fact that 100% is not doubling)."
   ]
  },
  {
   "cell_type": "markdown",
   "metadata": {},
   "source": [
    "#### Question 2.1.2.\n",
    "\n",
    "Compute the average percentage change for the remainder of the UCs. "
   ]
  },
  {
   "cell_type": "code",
   "execution_count": 32,
   "metadata": {},
   "outputs": [
    {
     "data": {
      "text/plain": [
       "89.11036602669397"
      ]
     },
     "execution_count": 32,
     "metadata": {},
     "output_type": "execute_result"
    }
   ],
   "source": [
    "avg_ucla_percent_change = np.average(((ucla_2019 - ucla_2009)/ucla_2009)*100) #SOLUTION\n",
    "avg_ucla_percent_change"
   ]
  },
  {
   "cell_type": "code",
   "execution_count": 37,
   "metadata": {},
   "outputs": [],
   "source": [
    "_ = ok.grade('q212a')"
   ]
  },
  {
   "cell_type": "code",
   "execution_count": 37,
   "metadata": {},
   "outputs": [
    {
     "data": {
      "text/plain": [
       "153.20579904481153"
      ]
     },
     "execution_count": 37,
     "metadata": {},
     "output_type": "execute_result"
    }
   ],
   "source": [
    "avg_merced_percent_change = np.average(((ucm_2019 - ucm_2009)/ucm_2009)*100) #SOLUTION\n",
    "avg_merced_percent_change"
   ]
  },
  {
   "cell_type": "code",
   "execution_count": 39,
   "metadata": {},
   "outputs": [],
   "source": [
    "_ = ok.grade('q212b')"
   ]
  },
  {
   "cell_type": "code",
   "execution_count": 52,
   "metadata": {},
   "outputs": [
    {
     "data": {
      "text/plain": [
       "121.30584560836861"
      ]
     },
     "execution_count": 52,
     "metadata": {},
     "output_type": "execute_result"
    }
   ],
   "source": [
    "avg_riverside_percent_change = np.average(((ucr_2019 - ucr_2009)/ucr_2009)*100) #SOLUTION\n",
    "avg_riverside_percent_change"
   ]
  },
  {
   "cell_type": "code",
   "execution_count": 41,
   "metadata": {},
   "outputs": [],
   "source": [
    "_ = ok.grade('q212c')"
   ]
  },
  {
   "cell_type": "code",
   "execution_count": 57,
   "metadata": {},
   "outputs": [
    {
     "data": {
      "text/plain": [
       "96.12183869099884"
      ]
     },
     "execution_count": 57,
     "metadata": {},
     "output_type": "execute_result"
    }
   ],
   "source": [
    "avg_ucsb_percent_change = np.average(((ucsb_2019 - ucsb_2009)/ucsb_2009)*100) #SOLUTION\n",
    "avg_ucsb_percent_change"
   ]
  },
  {
   "cell_type": "code",
   "execution_count": 43,
   "metadata": {},
   "outputs": [],
   "source": [
    "_ = ok.grade('q212d')"
   ]
  },
  {
   "cell_type": "code",
   "execution_count": 60,
   "metadata": {},
   "outputs": [
    {
     "data": {
      "text/plain": [
       "83.45581544187031"
      ]
     },
     "execution_count": 60,
     "metadata": {},
     "output_type": "execute_result"
    }
   ],
   "source": [
    "avg_ucsc_percent_change = np.average(((ucsc_2019 - ucsc_2009)/ucsc_2009)*100) #SOLUTION\n",
    "avg_ucsc_percent_change"
   ]
  },
  {
   "cell_type": "code",
   "execution_count": 45,
   "metadata": {},
   "outputs": [],
   "source": [
    "_ = ok.grade('q212e')"
   ]
  },
  {
   "cell_type": "code",
   "execution_count": 63,
   "metadata": {},
   "outputs": [
    {
     "data": {
      "text/plain": [
       "87.7637419846342"
      ]
     },
     "execution_count": 63,
     "metadata": {},
     "output_type": "execute_result"
    }
   ],
   "source": [
    "avg_ucsd_percent_change = np.average(((ucsd_2019 - ucsd_2009)/ucsd_2009)*100) #SOLUTION\n",
    "avg_ucsd_percent_change"
   ]
  },
  {
   "cell_type": "code",
   "execution_count": 47,
   "metadata": {},
   "outputs": [],
   "source": [
    "_ = ok.grade('q212f')"
   ]
  },
  {
   "cell_type": "markdown",
   "metadata": {},
   "source": [
    "From the calculations above, it is clear that some areas experienced a higher percent change than others. Does this make sense intuitively?"
   ]
  },
  {
   "cell_type": "markdown",
   "metadata": {},
   "source": [
    "#### Question 2.1.3. \n",
    "\n",
    "Given the average percent change calculations above, which UC campus experienced the largest average percent change in housing prices from 2009 to 2019? Does this result come as surprising?"
   ]
  },
  {
   "cell_type": "markdown",
   "metadata": {},
   "source": [
    "*** Write your answer here, replacing this text ***"
   ]
  },
  {
   "cell_type": "markdown",
   "metadata": {},
   "source": [
    "#### SOLUTION: Merced with an increase of 153%. This result may be surprising because we often believe larger cities have increased more significantly. Answers vary."
   ]
  },
  {
   "cell_type": "markdown",
   "metadata": {},
   "source": [
    "### 2.2. Visualizing housing prices"
   ]
  },
  {
   "cell_type": "markdown",
   "metadata": {},
   "source": [
    "In this section of the lab, we will begin to plot some of the calculations we made earlier. We will specifically cover line plots in order to develop a visual understanding of our objective question from earlier:\n",
    "> `How have housing prices at each UC changed over the years?`"
   ]
  },
  {
   "cell_type": "markdown",
   "metadata": {},
   "source": [
    "#### (a) Line Plots"
   ]
  },
  {
   "cell_type": "markdown",
   "metadata": {},
   "source": [
    "Let's first begin with line plots, a powerful visualization tool for analyzing trends over time. To begin, let's use Berkeley's 2019 housing data. Below, we have defined a function `draw_line_plot` which takes in four arguments:\n",
    "1. `x_label` the horizontal axis label (a string),\n",
    "2. `x_data` an array containing the horizontal (\"x\") values of the points to draw,\n",
    "3. `y_label` the vertical axis label (a string), and\n",
    "4. `y_data` an array containing the vertical (\"y\") values of the points to draw, having the same length as `x_data`."
   ]
  },
  {
   "cell_type": "code",
   "execution_count": 48,
   "metadata": {},
   "outputs": [],
   "source": [
    "def draw_line_plot(x_label, x_data, y_label, y_data):\n",
    "    \"\"\"Draws a line plot of the given data.\"\"\"\n",
    "    Table().with_columns(x_label, x_data, y_label, y_data).plot(x_label)"
   ]
  },
  {
   "cell_type": "markdown",
   "metadata": {},
   "source": [
    "Here's a motivating exercise: Construct a line plot of Berkeley's 2019 housing prices where the x-axis is the month expressed in numbers and the y-axis is the median housing price."
   ]
  },
  {
   "cell_type": "code",
   "execution_count": 49,
   "metadata": {},
   "outputs": [
    {
     "data": {
      "image/png": "[encoded data removed]",
      "text/plain": [
       "<Figure size 432x288 with 1 Axes>"
      ]
     },
     "metadata": {},
     "output_type": "display_data"
    }
   ],
   "source": [
    "draw_line_plot(\"Month\", np.arange(0, 12), \"Berkeley Median Housing Price\", berkeley_2019)"
   ]
  },
  {
   "cell_type": "markdown",
   "metadata": {},
   "source": [
    "Feel free to experiment with the plot above by switching the fourth argument, `y_data`, with a different array of UC housing prices. "
   ]
  },
  {
   "cell_type": "markdown",
   "metadata": {},
   "source": [
    "#### Question 2.2.1. \n",
    "\n",
    "Construct a line plot of UC Merced's 2019 housing prices with both axes labeled accordingly."
   ]
  },
  {
   "cell_type": "code",
   "execution_count": 56,
   "metadata": {},
   "outputs": [
    {
     "data": {
      "image/png": "[encoded data removed]",
      "text/plain": [
       "<Figure size 432x288 with 1 Axes>"
      ]
     },
     "metadata": {},
     "output_type": "display_data"
    }
   ],
   "source": [
    "draw_line_plot(\"Month\", np.arange(0, 12), \"Merced Median Housing Price\", ucm_2019) #SOLUTION"
   ]
  },
  {
   "cell_type": "markdown",
   "metadata": {},
   "source": [
    "#### Question 2.2.2. \n",
    "\n",
    "Is there anything unusual you notice about the graph above? What may cause the unsual trend you notice?"
   ]
  },
  {
   "cell_type": "markdown",
   "metadata": {},
   "source": [
    "***Write your answer here, replacing the text.***"
   ]
  },
  {
   "cell_type": "markdown",
   "metadata": {},
   "source": [
    "#### SOLUTION: \n",
    "There seems to be a sharp decrease in price during the summer months starting in May. Answers may vary. Sample answer: since subletting in the Summer involves the prices of leases to decrease, perhaps the decrease in housing prices could be partially correlated to the increase in subletting during the Summer months."
   ]
  },
  {
   "cell_type": "markdown",
   "metadata": {},
   "source": [
    "#### Question 2.2.3. \n",
    "\n",
    "Following a similar lead from above, create a line plot of the monthly percent change in UCLA housing prices from 2009 to 2019.\n",
    "\n",
    "##### Hint:\n",
    "Think about what the array of data needs to be. How can we use elementwise subtraction and the percent change formula from above to create an array of percent changes? "
   ]
  },
  {
   "cell_type": "code",
   "execution_count": 57,
   "metadata": {},
   "outputs": [
    {
     "data": {
      "image/png": "[encoded data removed]",
      "text/plain": [
       "<Figure size 432x288 with 1 Axes>"
      ]
     },
     "metadata": {},
     "output_type": "display_data"
    }
   ],
   "source": [
    "la_monthly_percent_change = ((ucla_2019 - ucla_2009)/ucla_2009)*100 #SOLUTION\n",
    "draw_line_plot(\"Month\", np.arange(0, 12), \"LA Monthly Percent Change 2009-2019\", la_monthly_percent_change) #SOLUTION"
   ]
  },
  {
   "cell_type": "markdown",
   "metadata": {},
   "source": [
    "#### (b) Scatter Plots"
   ]
  },
  {
   "cell_type": "markdown",
   "metadata": {},
   "source": [
    "For the remainder of the lab, let's transition to examining comic book characters from a marvel dataset. Run the next cell to load it. The cell creates 3 arrays: \n",
    "\n",
    "`names` contains the characters' names,\n",
    "\n",
    "`appearances` contains their appearance counts, \n",
    "\n",
    "`genders` contains their genders, and \n",
    "\n",
    "`first_appearance_years` contains the years when they first appeared. \n",
    "\n",
    "The arrays are displayed in a table."
   ]
  },
  {
   "cell_type": "code",
   "execution_count": 4,
   "metadata": {},
   "outputs": [
    {
     "data": {
      "text/html": [
       "<table border=\"1\" class=\"dataframe\">\n",
       "    <thead>\n",
       "        <tr>\n",
       "            <th>Publisher</th> <th>Name</th> <th>Gender</th> <th>Appearances</th> <th>Year</th> <th>Month</th>\n",
       "        </tr>\n",
       "    </thead>\n",
       "    <tbody>\n",
       "        <tr>\n",
       "            <td>Marvel   </td> <td>Spider-Man (Peter Parker)          </td> <td>Male  </td> <td>4043       </td> <td>1962</td> <td>8    </td>\n",
       "        </tr>\n",
       "        <tr>\n",
       "            <td>Marvel   </td> <td>Captain America (Steven Rogers)    </td> <td>Male  </td> <td>3360       </td> <td>1941</td> <td>3    </td>\n",
       "        </tr>\n",
       "        <tr>\n",
       "            <td>Marvel   </td> <td>Wolverine (James \\\"Logan\\\" Howlett)</td> <td>Male  </td> <td>3061       </td> <td>1974</td> <td>10   </td>\n",
       "        </tr>\n",
       "        <tr>\n",
       "            <td>Marvel   </td> <td>Iron Man (Anthony \\\"Tony\\\" Stark)  </td> <td>Male  </td> <td>2961       </td> <td>1963</td> <td>3    </td>\n",
       "        </tr>\n",
       "        <tr>\n",
       "            <td>Marvel   </td> <td>Thor (Thor Odinson)                </td> <td>Male  </td> <td>2258       </td> <td>1950</td> <td>11   </td>\n",
       "        </tr>\n",
       "        <tr>\n",
       "            <td>Marvel   </td> <td>Benjamin Grimm (Earth-616)         </td> <td>Male  </td> <td>2255       </td> <td>1961</td> <td>11   </td>\n",
       "        </tr>\n",
       "        <tr>\n",
       "            <td>Marvel   </td> <td>Reed Richards (Earth-616)          </td> <td>Male  </td> <td>2072       </td> <td>1961</td> <td>11   </td>\n",
       "        </tr>\n",
       "        <tr>\n",
       "            <td>Marvel   </td> <td>Hulk (Robert Bruce Banner)         </td> <td>Male  </td> <td>2017       </td> <td>1962</td> <td>5    </td>\n",
       "        </tr>\n",
       "        <tr>\n",
       "            <td>Marvel   </td> <td>Scott Summers (Earth-616)          </td> <td>Male  </td> <td>1955       </td> <td>1963</td> <td>9    </td>\n",
       "        </tr>\n",
       "        <tr>\n",
       "            <td>Marvel   </td> <td>Jonathan Storm (Earth-616)         </td> <td>Male  </td> <td>1934       </td> <td>1961</td> <td>11   </td>\n",
       "        </tr>\n",
       "    </tbody>\n",
       "</table>\n",
       "<p>... (15551 rows omitted)</p>"
      ],
      "text/plain": [
       "Publisher | Name                                | Gender | Appearances | Year | Month\n",
       "Marvel    | Spider-Man (Peter Parker)           | Male   | 4043        | 1962 | 8\n",
       "Marvel    | Captain America (Steven Rogers)     | Male   | 3360        | 1941 | 3\n",
       "Marvel    | Wolverine (James \\\"Logan\\\" Howlett) | Male   | 3061        | 1974 | 10\n",
       "Marvel    | Iron Man (Anthony \\\"Tony\\\" Stark)   | Male   | 2961        | 1963 | 3\n",
       "Marvel    | Thor (Thor Odinson)                 | Male   | 2258        | 1950 | 11\n",
       "Marvel    | Benjamin Grimm (Earth-616)          | Male   | 2255        | 1961 | 11\n",
       "Marvel    | Reed Richards (Earth-616)           | Male   | 2072        | 1961 | 11\n",
       "Marvel    | Hulk (Robert Bruce Banner)          | Male   | 2017        | 1962 | 5\n",
       "Marvel    | Scott Summers (Earth-616)           | Male   | 1955        | 1963 | 9\n",
       "Marvel    | Jonathan Storm (Earth-616)          | Male   | 1934        | 1961 | 11\n",
       "... (15551 rows omitted)"
      ]
     },
     "execution_count": 4,
     "metadata": {},
     "output_type": "execute_result"
    }
   ],
   "source": [
    "# This might take a minute or two. \n",
    "marvel_url = \"https://github.com/fivethirtyeight/data/raw/master/comic-characters/marvel-wikia-data.csv\"\n",
    "marvel = load_and_clean_table(marvel_url)\n",
    "names = marvel.column(\"Name\")\n",
    "appearances = marvel.column(\"Appearances\")\n",
    "genders = marvel.column(\"Gender\")\n",
    "first_appearance_years = marvel.column(\"Year\")\n",
    "marvel"
   ]
  },
  {
   "cell_type": "markdown",
   "metadata": {},
   "source": [
    "For this portion of the lab, we've provided a function called `draw_scatter_plot`.  It's very similar to `draw_line_plot`, except that it doesn't connect points with lines.  It takes four arguments:\n",
    "\n",
    "1. `x_label` the horizontal axis label (a string),\n",
    "2. `x_data` an array containing the horizontal (\"x\") values of the points to draw,\n",
    "3. `y_label` the vertical axis label (a string), and\n",
    "4. `y_data` an array containing the vertical (\"y\") values of the points to draw, having the same length as `x_data`."
   ]
  },
  {
   "cell_type": "code",
   "execution_count": null,
   "metadata": {},
   "outputs": [],
   "source": [
    "def draw_scatter_plot(x_label, x_data, y_label, y_data):\n",
    "    \"\"\"Draws a scatter plot of the given data. \"\"\"\n",
    "    Table().with_columns(x_label, x_data, y_label, y_data).scatter(x_label)"
   ]
  },
  {
   "cell_type": "markdown",
   "metadata": {},
   "source": [
    "From the table above, it looks like Spider-Man appeared in a lot of comics!  But does that mean that he appeared in *most* comics? Let's try to generalize this to all Marvel characters."
   ]
  },
  {
   "cell_type": "markdown",
   "metadata": {},
   "source": [
    "#### Question 2.3.1.\n",
    "Compute an array containing these appearance proportions for every character. \n",
    "\n",
    "***Hint***: We can find proportion by taking an array and dividing by the sum of that array."
   ]
  },
  {
   "cell_type": "code",
   "execution_count": 7,
   "metadata": {},
   "outputs": [
    {
     "data": {
      "text/plain": [
       "array([0.01588068, 0.0131979 , 0.01202344, ..., 0.        , 0.        ,\n",
       "       0.        ])"
      ]
     },
     "execution_count": 7,
     "metadata": {},
     "output_type": "execute_result"
    }
   ],
   "source": [
    "appearance_proportions = appearances / sum(appearances) #SOLUTION\n",
    "appearance_proportions"
   ]
  },
  {
   "cell_type": "code",
   "execution_count": null,
   "metadata": {},
   "outputs": [],
   "source": [
    "_ = ok.grade('q231')"
   ]
  },
  {
   "cell_type": "markdown",
   "metadata": {},
   "source": [
    "#### Question 2.3.2.\n",
    "Among the 4 arrays of data about comic book characters, it only makes sense to make a scatter plot of one array against one other array.  Identify those arrays and make a scatter plot."
   ]
  },
  {
   "cell_type": "code",
   "execution_count": 8,
   "metadata": {},
   "outputs": [
    {
     "data": {
      "image/png": "[encoded data removed]",
      "text/plain": [
       "<Figure size 360x360 with 1 Axes>"
      ]
     },
     "metadata": {},
     "output_type": "display_data"
    }
   ],
   "source": [
    "draw_scatter_plot(\"Year\", first_appearance_years, \"Appearances\", appearances) #SOLUTION"
   ]
  },
  {
   "cell_type": "markdown",
   "metadata": {},
   "source": [
    "#### Question 2.3.3.\n",
    "\n",
    "You should have had the number of appearances on the vertical axis in your plot. Make the same plot, but plot the proportion of appearances instead."
   ]
  },
  {
   "cell_type": "code",
   "execution_count": 9,
   "metadata": {},
   "outputs": [
    {
     "data": {
      "image/png": "[encoded data removed]",
      "text/plain": [
       "<Figure size 360x360 with 1 Axes>"
      ]
     },
     "metadata": {},
     "output_type": "display_data"
    }
   ],
   "source": [
    "draw_scatter_plot(\"Year\", first_appearance_years, \"Appearances\", appearance_proportions) #SOLUTION"
   ]
  },
  {
   "cell_type": "markdown",
   "metadata": {},
   "source": [
    "#### Question 2.3.4\n",
    "The plot shouldn't look very different from your previous one, even though the data are different. Why do you think that happened?"
   ]
  },
  {
   "cell_type": "markdown",
   "metadata": {},
   "source": [
    "***Write your answer here, replacing the text.***"
   ]
  },
  {
   "cell_type": "markdown",
   "metadata": {},
   "source": [
    "**SOLUTION:** Python chooses the scale of the axes so that the data fit into the plot and use the whole plot frame.  We have just divided all the vertical values by a fixed number (the total number of appearances), but Python compensates by shrinking the scale of the vertical axis."
   ]
  },
  {
   "cell_type": "markdown",
   "metadata": {},
   "source": [
    "#### (c) Bar Plots"
   ]
  },
  {
   "cell_type": "markdown",
   "metadata": {},
   "source": [
    "Let's transition to our last type of data visualization, bar plots. We've also created a function called `draw_bar_plot`. It's similar to the two functions used in the previous parts. It takes four arguments:\n",
    "\n",
    "1. `categories_label` the vertical (category) axis label (a string),\n",
    "2. `categories` an array containing the categories in the dataset (strings),\n",
    "3. `values_label` the horizontal (bar size) axis label (a string, for example \"count\" or \"proportion\"), and\n",
    "4. `values` an array of numbers containing the lengths of the bars for each category, having the same length as `categories`."
   ]
  },
  {
   "cell_type": "code",
   "execution_count": 10,
   "metadata": {},
   "outputs": [],
   "source": [
    "def draw_bar_plot(categories_label, categories, values_label, values):\n",
    "    Table().with_column(categories_label, categories)\\\n",
    "        .with_column(values_label, values).barh(categories_label)"
   ]
  },
  {
   "cell_type": "markdown",
   "metadata": {},
   "source": [
    "Consider our comic book data. In the following cell, we have computed the number of characters of each gender, using a method you will see later. "
   ]
  },
  {
   "cell_type": "code",
   "execution_count": 11,
   "metadata": {},
   "outputs": [
    {
     "data": {
      "text/html": [
       "<table border=\"1\" class=\"dataframe\">\n",
       "    <thead>\n",
       "        <tr>\n",
       "            <th>Gender</th> <th>count</th>\n",
       "        </tr>\n",
       "    </thead>\n",
       "    <tbody>\n",
       "        <tr>\n",
       "            <td>Agender    </td> <td>36   </td>\n",
       "        </tr>\n",
       "        <tr>\n",
       "            <td>Female     </td> <td>3628 </td>\n",
       "        </tr>\n",
       "        <tr>\n",
       "            <td>Genderfluid</td> <td>2    </td>\n",
       "        </tr>\n",
       "        <tr>\n",
       "            <td>Male       </td> <td>11100</td>\n",
       "        </tr>\n",
       "        <tr>\n",
       "            <td>Unknown    </td> <td>795  </td>\n",
       "        </tr>\n",
       "    </tbody>\n",
       "</table>"
      ],
      "text/plain": [
       "Gender      | count\n",
       "Agender     | 36\n",
       "Female      | 3628\n",
       "Genderfluid | 2\n",
       "Male        | 11100\n",
       "Unknown     | 795"
      ]
     },
     "execution_count": 11,
     "metadata": {},
     "output_type": "execute_result"
    }
   ],
   "source": [
    "marvel_by_gender = marvel.group(\"Gender\")\n",
    "gender_types = marvel_by_gender.column(\"Gender\")\n",
    "gender_type_counts = marvel_by_gender.column(\"count\")\n",
    "marvel_by_gender"
   ]
  },
  {
   "cell_type": "markdown",
   "metadata": {},
   "source": [
    "#### Question 2.4.1.\n",
    "Use the arrays gender and count defined above to create a barplot of character genders across all characters in the marvel database."
   ]
  },
  {
   "cell_type": "code",
   "execution_count": 12,
   "metadata": {},
   "outputs": [
    {
     "data": {
      "image/png": "[encoded data removed]",
      "text/plain": [
       "<Figure size 432x288 with 1 Axes>"
      ]
     },
     "metadata": {},
     "output_type": "display_data"
    }
   ],
   "source": [
    "draw_bar_plot(\"Gender\", gender_types, \"Count\", gender_type_counts) #SOLUTION"
   ]
  },
  {
   "cell_type": "markdown",
   "metadata": {},
   "source": [
    "The cell below computes the total number of appearances by characters of each gender. It creates an array named `appearances_by_gender` containing those numbers."
   ]
  },
  {
   "cell_type": "code",
   "execution_count": 13,
   "metadata": {},
   "outputs": [
    {
     "data": {
      "text/html": [
       "<table border=\"1\" class=\"dataframe\">\n",
       "    <thead>\n",
       "        <tr>\n",
       "            <th>Gender</th> <th>Appearances sum</th>\n",
       "        </tr>\n",
       "    </thead>\n",
       "    <tbody>\n",
       "        <tr>\n",
       "            <td>Agender    </td> <td>790            </td>\n",
       "        </tr>\n",
       "        <tr>\n",
       "            <td>Female     </td> <td>71129          </td>\n",
       "        </tr>\n",
       "        <tr>\n",
       "            <td>Genderfluid</td> <td>565            </td>\n",
       "        </tr>\n",
       "        <tr>\n",
       "            <td>Male       </td> <td>178881         </td>\n",
       "        </tr>\n",
       "        <tr>\n",
       "            <td>Unknown    </td> <td>3221           </td>\n",
       "        </tr>\n",
       "    </tbody>\n",
       "</table>"
      ],
      "text/plain": [
       "Gender      | Appearances sum\n",
       "Agender     | 790\n",
       "Female      | 71129\n",
       "Genderfluid | 565\n",
       "Male        | 178881\n",
       "Unknown     | 3221"
      ]
     },
     "execution_count": 13,
     "metadata": {},
     "output_type": "execute_result"
    }
   ],
   "source": [
    "grouped_by_gender = marvel.group(\"Gender\", sum).select(\"Gender\", \"Appearances sum\")\n",
    "appearances_by_gender = grouped_by_gender.column(\"Appearances sum\")\n",
    "grouped_by_gender"
   ]
  },
  {
   "cell_type": "markdown",
   "metadata": {},
   "source": [
    "#### Question 2.4.2. \n",
    "Create a bar chart of the number of appearances."
   ]
  },
  {
   "cell_type": "code",
   "execution_count": 15,
   "metadata": {},
   "outputs": [
    {
     "data": {
      "image/png": "[encoded data removed]",
      "text/plain": [
       "<Figure size 432x288 with 1 Axes>"
      ]
     },
     "metadata": {},
     "output_type": "display_data"
    }
   ],
   "source": [
    "draw_bar_plot(\"Gender\", gender_types, \"Appearances\", appearances_by_gender) #SOLUTION"
   ]
  },
  {
   "cell_type": "markdown",
   "metadata": {},
   "source": [
    "#### Question 2.4.3.\n",
    "What is the difference between the two plots? What does each represent?"
   ]
  },
  {
   "cell_type": "markdown",
   "metadata": {},
   "source": [
    "***Write your answer here, replacing this text.***"
   ]
  },
  {
   "cell_type": "markdown",
   "metadata": {},
   "source": [
    "**SOLUTION:** The first plot represents number of characters by gender, whereas the second represents number of character appearances by gender."
   ]
  },
  {
   "cell_type": "markdown",
   "metadata": {},
   "source": [
    "#### Question 2.4.4.\n",
    "Do male characters tend to have more appearances than female characters on average? It isn't clear from the two plots. Compute the proportion of characters having each gender (`gender_type_proportions`) and the proportion of character appearances by gender (`appearance_proportions_by_gender`).  Then create two bar charts to display those proportions."
   ]
  },
  {
   "cell_type": "code",
   "execution_count": 17,
   "metadata": {},
   "outputs": [
    {
     "data": {
      "image/png": "[encoded data removed]",
      "text/plain": [
       "<Figure size 432x288 with 1 Axes>"
      ]
     },
     "metadata": {},
     "output_type": "display_data"
    },
    {
     "data": {
      "image/png": "[encoded data removed]",
      "text/plain": [
       "<Figure size 432x288 with 1 Axes>"
      ]
     },
     "metadata": {},
     "output_type": "display_data"
    }
   ],
   "source": [
    "gender_type_proportions = gender_type_counts / sum(gender_type_counts) #SOLUTION\n",
    "appearance_proportions_by_gender = appearances_by_gender / sum(appearances_by_gender) #SOLUTION\n",
    "\n",
    "draw_bar_plot(\"Gender\", gender_types, \"Count\", gender_type_proportions) #SOLUTION\n",
    "draw_bar_plot(\"Gender\", gender_types, \"Appearances\", appearance_proportions_by_gender) #SOLUTION"
   ]
  },
  {
   "cell_type": "markdown",
   "metadata": {},
   "source": [
    "#### Question 2.4.5.\n",
    "Looking at the two plots, do male or female characters tend to have more appearances per character, on average? How can you tell?"
   ]
  },
  {
   "cell_type": "markdown",
   "metadata": {},
   "source": [
    "***Write your answer here, replacing this text.***"
   ]
  },
  {
   "cell_type": "markdown",
   "metadata": {},
   "source": [
    "**SOLUTION:** Female characters tend to have more appearances. They make up about 23% of characters but 28% of appearances, whereas male characters made up 71% of characters but only 70% of appearances."
   ]
  },
  {
   "cell_type": "markdown",
   "metadata": {},
   "source": [
    "#### Question 2.4.6\n",
    "Let's verify that conclusion with a computation. Using the names defined above, calculate the average number of appearances per character for each gender, and name it `appearances_per_character_by_gender`. Then draw a bar chart displaying those averages for each gender."
   ]
  },
  {
   "cell_type": "code",
   "execution_count": 18,
   "metadata": {},
   "outputs": [
    {
     "data": {
      "image/png": "[encoded data removed]",
      "text/plain": [
       "<Figure size 432x288 with 1 Axes>"
      ]
     },
     "metadata": {},
     "output_type": "display_data"
    }
   ],
   "source": [
    "appearances_per_character_by_gender = appearances_by_gender / gender_type_counts #SOLUTION\n",
    "draw_bar_plot(\"Gender\", gender_types, \"Average appearances per character\", appearances_per_character_by_gender) #SOLUTION"
   ]
  },
  {
   "cell_type": "code",
   "execution_count": 19,
   "metadata": {},
   "outputs": [
    {
     "data": {
      "text/plain": [
       "array([ 21.94444444,  19.60556781, 282.5       ,  16.11540541,\n",
       "         4.05157233])"
      ]
     },
     "execution_count": 19,
     "metadata": {},
     "output_type": "execute_result"
    }
   ],
   "source": [
    "appearances_per_character_by_gender"
   ]
  },
  {
   "cell_type": "code",
   "execution_count": 20,
   "metadata": {},
   "outputs": [],
   "source": [
    "_ = ok.grade('q246')"
   ]
  },
  {
   "cell_type": "markdown",
   "metadata": {},
   "source": [
    "#### Congratulations, you're done with lab 6!  Be sure to...\n",
    "- **Run all the tests** (the next cell has a shortcut for that), \n",
    "- **Save and Checkpoint** from the `File` menu,\n",
    "- **Run the last cell to submit your work**,\n",
    "- and ask one of the staff members to check you off."
   ]
  },
  {
   "cell_type": "code",
   "execution_count": null,
   "metadata": {},
   "outputs": [],
   "source": [
    "# For your convenience, you can run this cell to run all the tests at once.\n",
    "_ = ok.grade_all()"
   ]
  },
  {
   "cell_type": "code",
   "execution_count": null,
   "metadata": {},
   "outputs": [],
   "source": [
    "_ = ok.submit()"
   ]
  }
 ],
 "metadata": {
  "kernelspec": {
   "display_name": "Python 3",
   "language": "python",
   "name": "python3"
  },
  "language_info": {
   "codemirror_mode": {
    "name": "ipython",
    "version": 3
   },
   "file_extension": ".py",
   "mimetype": "text/x-python",
   "name": "python",
   "nbconvert_exporter": "python",
   "pygments_lexer": "ipython3",
   "version": "3.7.4"
  }
 },
 "nbformat": 4,
 "nbformat_minor": 4
}
