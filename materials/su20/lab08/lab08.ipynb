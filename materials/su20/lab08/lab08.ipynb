{
 "cells": [
  {
   "cell_type": "markdown",
   "metadata": {},
   "source": [
    "## Intro to Histograms\n",
    "\n",
    "Welcome to Lab 8! In this lab, we'll be reviewing usage of tables, and learning how to create and analyze histograms."
   ]
  },
  {
   "cell_type": "code",
   "execution_count": null,
   "metadata": {},
   "outputs": [],
   "source": [
    "# Run this cell, but please don't change it.\n",
    "\n",
    "# These lines import the Numpy and Datascience modules.\n",
    "import numpy as np\n",
    "from datascience import *\n",
    "\n",
    "# These lines do some fancy plotting magic\n",
    "import matplotlib\n",
    "%matplotlib inline\n",
    "import matplotlib.pyplot as plt\n",
    "plt.style.use('fivethirtyeight')\n",
    "import warnings\n",
    "warnings.simplefilter('ignore', FutureWarning)\n",
    "from matplotlib import patches\n",
    "from ipywidgets import interact, interactive, fixed\n",
    "import ipywidgets as widgets\n",
    "\n",
    "# These lines load the tests.\n",
    "import otter \n",
    "grader = otter.Notebook('lab08-tests')"
   ]
  },
  {
   "cell_type": "markdown",
   "metadata": {},
   "source": [
    "## Review of Tables\n",
    "\n",
    "To get started, let's review what we know about working with tables. The table `twins` has a row for each pair of twins, containing the height of the two twins in inches. Run the cell below to see the table."
   ]
  },
  {
   "cell_type": "code",
   "execution_count": null,
   "metadata": {},
   "outputs": [],
   "source": [
    "twins = Table().read_table('twins.csv')\n",
    "twins"
   ]
  },
  {
   "cell_type": "markdown",
   "metadata": {},
   "source": [
    "#### Question 1\n",
    "As a warmup, find the average height of all people in the `twins` table."
   ]
  },
  {
   "cell_type": "code",
   "execution_count": null,
   "metadata": {},
   "outputs": [],
   "source": [
    "avg_height = ...\n",
    "avg_height"
   ]
  },
  {
   "cell_type": "code",
   "execution_count": null,
   "metadata": {
    "scrolled": true
   },
   "outputs": [],
   "source": [
    "grader.check('q01')"
   ]
  },
  {
   "cell_type": "markdown",
   "metadata": {},
   "source": [
    "#### Question 2\n",
    "We want to figure out the average difference in heights among twins. Find that value for the people in our `twins` table."
   ]
  },
  {
   "cell_type": "code",
   "execution_count": null,
   "metadata": {},
   "outputs": [],
   "source": [
    "avg_diff = ...\n",
    "avg_diff"
   ]
  },
  {
   "cell_type": "code",
   "execution_count": null,
   "metadata": {},
   "outputs": [],
   "source": [
    "grader.check('q02')"
   ]
  },
  {
   "cell_type": "markdown",
   "metadata": {},
   "source": [
    "#### Question 3\n",
    "What was the height of the twin of the shortest person in the first column? What about the twin of the tallest person?"
   ]
  },
  {
   "cell_type": "code",
   "execution_count": null,
   "metadata": {},
   "outputs": [],
   "source": [
    "shortest_twin_height = ...\n",
    "tallest_twin_height = ...\n",
    "print(\"Height of the twin of the shortest person in column 1: {}\".format(shortest_twin_height))\n",
    "print(\"Height of the twin of the tallest person in column 1: {}\".format(tallest_twin_height))"
   ]
  },
  {
   "cell_type": "code",
   "execution_count": null,
   "metadata": {},
   "outputs": [],
   "source": [
    "grader.check('q03')"
   ]
  },
  {
   "cell_type": "markdown",
   "metadata": {},
   "source": [
    "#### Question 4\n",
    "We have noted the genders of every pair of twins. There are four possible gender pairs - twin 1 is male and so is twin 2, twin 1 is male and twin 2 is female, twin 1 is female and so is twin 2, or twin 2 is female and twin 1 is male. How many pairs of twins of each possible gender pair do we have? Create a bar chart that visualizes this data."
   ]
  },
  {
   "cell_type": "code",
   "execution_count": null,
   "metadata": {},
   "outputs": [],
   "source": [
    "..."
   ]
  },
  {
   "cell_type": "markdown",
   "metadata": {},
   "source": [
    "#### Question 5\n",
    "We have created new tables, with one corresponding to pairs of twins where both twins are male, both are female, or the two are of differing genders. Using this data, make a bar chart of average height difference for each of the three possible gender pairs (both male, both female, or mixed).\n",
    "\n",
    "*Hint: You will need to create a new table to do this. You may want to re-use code from question 2.*"
   ]
  },
  {
   "cell_type": "code",
   "execution_count": null,
   "metadata": {},
   "outputs": [],
   "source": [
    "both_male_table = twins.where(twins.column(\"Genders\")==\"Male & Male\")\n",
    "both_female_table = twins.where(twins.column(\"Genders\")==\"Female & Female\")\n",
    "mixed_gender_table = twins.where((twins.column(\"Genders\")==\"Male & Female\")\n",
    "                                      +(twins.column(\"Genders\")==\"Female & Male\"))\n",
    "\n",
    "both_male_diff = ...\n",
    "both_female_diff = ...\n",
    "mixed_gender_diff = ...\n",
    "\n",
    "avg_height_differences = ...\n",
    "\n",
    "# Now make the chart\n",
    "..."
   ]
  },
  {
   "cell_type": "markdown",
   "metadata": {},
   "source": [
    "## Interpreting Histograms\n",
    "\n",
    "In a further experiement, we measure the heights of the members of 200 families that each included 1 mother, 1 father, and some varying number of adult sons. We make the following histograms, with all bins being two inches wide.\n",
    "\n",
    "![](three_height_histograms.png)"
   ]
  },
  {
   "cell_type": "markdown",
   "metadata": {},
   "source": [
    "#### Question 6\n",
    "\n",
    "For each quantity listed below, either calculate its value using the histograms, or write *Unknown* if it is not possible to calculate the value numerically given the information we have.\n",
    "1. The **percentage** of mothers that are at least 60 inches but less than 64 inches tall.\n",
    "2. The **percentage** of fathers that are at least 64 inches but less than 67 inches tall.\n",
    "3. The **number** of mothers that are at least 60 inches tall.\n",
    "4. The **number** of sons that are at least 70 inches tall."
   ]
  },
  {
   "cell_type": "markdown",
   "metadata": {},
   "source": [
    "*Write your answer here, replacing this text.*"
   ]
  },
  {
   "cell_type": "markdown",
   "metadata": {},
   "source": [
    "#### Question 7\n",
    "If the fathers' histogram was redrawn, replacing the two bins from 72-74 and 74-76 with one bin from 72-76, what would be the height of that bar?"
   ]
  },
  {
   "cell_type": "markdown",
   "metadata": {},
   "source": [
    "*Write your answer here, replacing this text.*"
   ]
  },
  {
   "cell_type": "markdown",
   "metadata": {},
   "source": [
    "#### Question 8\n",
    "Some of the sons in the dataset are taller than all of the mothers - but, it isn't possible to tell exactly how many. We can calculate upper and lower bounds on the value using our histograms. What's the lowest possible value for the percentage of sons who are taller than all of the mothers? The highest possible value?"
   ]
  },
  {
   "cell_type": "markdown",
   "metadata": {},
   "source": [
    "*Write your answer here, replacing this text.*"
   ]
  },
  {
   "cell_type": "markdown",
   "metadata": {},
   "source": [
    "## Creating & Interpreting Histograms in Python"
   ]
  },
  {
   "cell_type": "markdown",
   "metadata": {},
   "source": [
    "### The Data\n",
    "\n",
    "For this section, we will be using data from the Ofice of Environmental Health Hazard Assessment. This dataset includes population and pollution data for several counties in California. First, we must import the dataset into our notebook and create a table. We will call this table `ces_data`."
   ]
  },
  {
   "cell_type": "code",
   "execution_count": null,
   "metadata": {},
   "outputs": [],
   "source": [
    "ces_data = Table.read_table('ces_data.csv')\n",
    "ces_data.take(np.arange(40, 50)).show(5)"
   ]
  },
  {
   "cell_type": "markdown",
   "metadata": {},
   "source": [
    "If we scroll to the right, we can see a column called `Pesticides`. Notice how a lot of the entries are 0s. When dealing with large datasets, we will often encounter **missing** values. These values are simply empty values that appear when we do not have a value available for a particular record. It is important to clean these meaningless values to carry out analysis of the dataset. Much of data science consists of **cleaning data** which includes **renaming columns**, **reducing the table size to include only the columns of interest**, and **removing missing values.**  \n",
    "\n",
    "There are various methods of dealing with missing values -- for our purposes, it is safe to simply remove these values from our table.\n",
    "\n",
    "This has been done for you: simply run the cell below to save a clean version of the data as `clean_ces_data`. From this point forward, we'll use this cleaned CES data to run our analysis."
   ]
  },
  {
   "cell_type": "code",
   "execution_count": null,
   "metadata": {},
   "outputs": [],
   "source": [
    "clean_ces_data = Table.read_table('cleaned_data.csv')\n",
    "clean_ces_data.show(5)"
   ]
  },
  {
   "cell_type": "markdown",
   "metadata": {},
   "source": [
    "To understand our data, it is important to understand what **each row** represents. Notice our first two columns: `California County` & `census_tract`. Each row represents a specific census tract (some specific geographic region) for a given county.  \n",
    "\n",
    "For instance, our first row represents some small region in the county of Fresno. "
   ]
  },
  {
   "cell_type": "markdown",
   "metadata": {},
   "source": [
    "#### Question 9\n",
    "\n",
    "We can see that the first census tract has a population that is 65.3% hispanic. For this question, we are interested in the **distribution** of hispanic & white populations in our dataset. We can visualize this distribution by using a **histogram**. \n",
    "\n",
    "Create a histogram of the heights of the `hispanic` column. Then, do the same for `white`."
   ]
  },
  {
   "cell_type": "code",
   "execution_count": null,
   "metadata": {},
   "outputs": [],
   "source": [
    "# Type your code here\n",
    "hispanic_population_hist = ..."
   ]
  },
  {
   "cell_type": "code",
   "execution_count": null,
   "metadata": {
    "scrolled": true
   },
   "outputs": [],
   "source": [
    "# Type your code here\n",
    "white_population_hist = ..."
   ]
  },
  {
   "cell_type": "code",
   "execution_count": null,
   "metadata": {},
   "outputs": [],
   "source": [
    "grader.check('q09')"
   ]
  },
  {
   "cell_type": "markdown",
   "metadata": {},
   "source": [
    "#### Question 10\n",
    "\n",
    "To practice our interpretation of these histograms, assign `avg_pop_hispanic` to the **average** amount of hispanic citizens living in each census tract. Do the same for white citizen, and assign that to `avg_pop_white`.\n",
    "\n",
    "*Hint: The average is given by the tallest bin in the histogram.*"
   ]
  },
  {
   "cell_type": "code",
   "execution_count": null,
   "metadata": {},
   "outputs": [],
   "source": [
    "avg_pop_hispanic = ...\n",
    "avg_pop_hispanic"
   ]
  },
  {
   "cell_type": "code",
   "execution_count": null,
   "metadata": {},
   "outputs": [],
   "source": [
    "avg_pop_white = ...\n",
    "avg_pop_white"
   ]
  },
  {
   "cell_type": "code",
   "execution_count": null,
   "metadata": {},
   "outputs": [],
   "source": [
    "grader.check('q10')"
   ]
  },
  {
   "cell_type": "markdown",
   "metadata": {},
   "source": [
    "#### Question 11\n",
    "Now, create two **overlapping** histograms representing the distributions of both hispanic and white in a single graph."
   ]
  },
  {
   "cell_type": "code",
   "execution_count": null,
   "metadata": {},
   "outputs": [],
   "source": [
    "..."
   ]
  },
  {
   "cell_type": "markdown",
   "metadata": {},
   "source": [
    "Now, create a single histogram of the distribution of hispanic and white in the sample.\n",
    "\n",
    "*Hint: For the second part, you will need to use the `hispanic_and_white` variable that has already been provided for you.*"
   ]
  },
  {
   "cell_type": "code",
   "execution_count": null,
   "metadata": {},
   "outputs": [],
   "source": [
    "white = clean_ces_data.select('white')[0]\n",
    "hispanic = clean_ces_data.select('hispanic')[0]\n",
    "\n",
    "hispanic_and_white = np.hstack([white, hispanic])"
   ]
  },
  {
   "cell_type": "code",
   "execution_count": null,
   "metadata": {},
   "outputs": [],
   "source": [
    "#Assign this to a new table\n",
    "\n",
    "hispanic_and_white_data = ...\n",
    "hispanic_and_white_data.show(2)"
   ]
  },
  {
   "cell_type": "code",
   "execution_count": null,
   "metadata": {},
   "outputs": [],
   "source": [
    "#Create a histogram here\n",
    "\n",
    "..."
   ]
  },
  {
   "cell_type": "code",
   "execution_count": null,
   "metadata": {},
   "outputs": [],
   "source": [
    "grader.check('q11')"
   ]
  },
  {
   "cell_type": "markdown",
   "metadata": {},
   "source": [
    "Nice work! You've finished lab 8. Remember to submit!"
   ]
  }
 ],
 "metadata": {
  "anaconda-cloud": {},
  "kernelspec": {
   "display_name": "Python 3",
   "language": "python",
   "name": "python3"
  },
  "language_info": {
   "codemirror_mode": {
    "name": "ipython",
    "version": 3
   },
   "file_extension": ".py",
   "mimetype": "text/x-python",
   "name": "python",
   "nbconvert_exporter": "python",
   "pygments_lexer": "ipython3",
   "version": "3.7.3"
  },
  "widgets": {
   "state": {
    "6c09ba2474d24e10bdd21db7b9699237": {
     "views": [
      {
       "cell_index": 9
      }
     ]
    },
    "ef0a0194fbdd498787d3894efa009a7e": {
     "views": [
      {
       "cell_index": 3
      }
     ]
    }
   },
   "version": "1.2.0"
  }
 },
 "nbformat": 4,
 "nbformat_minor": 1
}
