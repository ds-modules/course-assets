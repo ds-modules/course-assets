{
 "cells": [
  {
   "cell_type": "code",
   "execution_count": 5,
   "metadata": {},
   "outputs": [],
   "source": [
    "import datascience \n",
    "import pandas as pd \n",
    "import numpy as np\n",
    "from datascience import Table\n",
    "from datascience import *\n",
    "import matplotlib\n",
    "%matplotlib inline\n",
    "import matplotlib.pyplot as plt\n",
    "import numpy as np\n",
    "plt.style.use('fivethirtyeight')"
   ]
  },
  {
   "cell_type": "code",
   "execution_count": 6,
   "metadata": {},
   "outputs": [
    {
     "data": {
      "text/html": [
       "<table border=\"1\" class=\"dataframe\">\n",
       "    <thead>\n",
       "        <tr>\n",
       "            <th>census_tract</th> <th>hispanic</th> <th>white</th> <th>african_american</th> <th>native_american</th> <th>asian_american</th> <th>other</th> <th>unemployment</th> <th>poverty</th> <th>ces_pollution_score</th> <th>ozone</th> <th>pesticides</th> <th>tox_release</th> <th>asthma</th> <th>cardiovascular_disease</th> <th>low_birth_weight</th>\n",
       "        </tr>\n",
       "    </thead>\n",
       "    <tbody>\n",
       "        <tr>\n",
       "            <td>6.019e+09   </td> <td>65.3    </td> <td>4.2  </td> <td>24.6            </td> <td>0.5            </td> <td>3.5           </td> <td>1.8  </td> <td>17.6        </td> <td>76.3   </td> <td>94.09              </td> <td>0.065</td> <td>2.75      </td> <td>18552      </td> <td>131.64</td> <td>14.13                 </td> <td>7.44            </td>\n",
       "        </tr>\n",
       "        <tr>\n",
       "            <td>6.071e+09   </td> <td>91.1    </td> <td>5.8  </td> <td>0.7             </td> <td>0.3            </td> <td>1.4           </td> <td>0.7  </td> <td>12.3        </td> <td>72.5   </td> <td>90.68              </td> <td>0.062</td> <td>1.37      </td> <td>7494.24    </td> <td>60.66 </td> <td>12.94                 </td> <td>7.04            </td>\n",
       "        </tr>\n",
       "        <tr>\n",
       "            <td>6.019e+09   </td> <td>63.6    </td> <td>5.3  </td> <td>18.9            </td> <td>0.6            </td> <td>9.8           </td> <td>1.8  </td> <td>16.1        </td> <td>86.8   </td> <td>85.97              </td> <td>0.062</td> <td>3.03      </td> <td>12454.9    </td> <td>142.12</td> <td>14.96                 </td> <td>10.16           </td>\n",
       "        </tr>\n",
       "    </tbody>\n",
       "</table>\n",
       "<p>... (7554 rows omitted)</p>"
      ],
      "text/plain": [
       "<IPython.core.display.HTML object>"
      ]
     },
     "metadata": {},
     "output_type": "display_data"
    }
   ],
   "source": [
    "data = Table.read_table('cleaned_data_new.csv')\n",
    "data.show(3)"
   ]
  },
  {
   "cell_type": "markdown",
   "metadata": {},
   "source": [
    "### Question 9\n",
    "Create a histogram of the heights of the `hispanic` column. Then, do the same for `white`."
   ]
  },
  {
   "cell_type": "code",
   "execution_count": 7,
   "metadata": {},
   "outputs": [],
   "source": [
    "# Type your code here"
   ]
  },
  {
   "cell_type": "code",
   "execution_count": 8,
   "metadata": {},
   "outputs": [],
   "source": [
    "# Type your code here"
   ]
  },
  {
   "cell_type": "markdown",
   "metadata": {},
   "source": [
    "### Question 10"
   ]
  },
  {
   "cell_type": "markdown",
   "metadata": {},
   "source": [
    "Now, create two overlapping histograms of distribution of latino and white in the sample, split between hispanic and white but in a single chart."
   ]
  },
  {
   "cell_type": "code",
   "execution_count": 9,
   "metadata": {},
   "outputs": [],
   "source": [
    "# Your code here."
   ]
  },
  {
   "cell_type": "markdown",
   "metadata": {},
   "source": [
    "Now, create a single histogram of the distribution of hispanic and white in the sample.\n",
    "\n",
    "Hint: For the second part, you will need to use the `hispanic_and_white` variable that has already been provided for you."
   ]
  },
  {
   "cell_type": "code",
   "execution_count": 10,
   "metadata": {},
   "outputs": [],
   "source": [
    "white = data.select('white')[0]\n",
    "hispanic = data.select('hispanic')[0]\n",
    "\n",
    "hispanic_and_white = np.hstack([white, hispanic])"
   ]
  },
  {
   "cell_type": "code",
   "execution_count": 11,
   "metadata": {},
   "outputs": [],
   "source": [
    "# Your code here."
   ]
  },
  {
   "cell_type": "code",
   "execution_count": null,
   "metadata": {},
   "outputs": [],
   "source": []
  }
 ],
 "metadata": {
  "kernelspec": {
   "display_name": "Python 3",
   "language": "python",
   "name": "python3"
  },
  "language_info": {
   "codemirror_mode": {
    "name": "ipython",
    "version": 3
   },
   "file_extension": ".py",
   "mimetype": "text/x-python",
   "name": "python",
   "nbconvert_exporter": "python",
   "pygments_lexer": "ipython3",
   "version": "3.7.3"
  }
 },
 "nbformat": 4,
 "nbformat_minor": 2
}
