{
 "cells": [
  {
   "cell_type": "markdown",
   "metadata": {},
   "source": [
    "# Homework 4: Tables and Functions\n",
    "The tools that we've learned over the last week (for example, function definitions, histograms, and the table methods `where`, `apply`, and `group`) are enough to analyze a wide range of questions and datasets.  \n",
    "\n",
    "Please complete this notebook by filling in the cells provided. Before you begin, execute the following cell to load the provided tests."
   ]
  },
  {
   "cell_type": "code",
   "execution_count": 9,
   "metadata": {},
   "outputs": [
    {
     "ename": "ModuleNotFoundError",
     "evalue": "No module named 'datascience'",
     "output_type": "error",
     "traceback": [
      "\u001b[0;31m---------------------------------------------------------------------------\u001b[0m",
      "\u001b[0;31mModuleNotFoundError\u001b[0m                       Traceback (most recent call last)",
      "\u001b[0;32m<ipython-input-9-ac9b8bcd0e85>\u001b[0m in \u001b[0;36m<module>\u001b[0;34m\u001b[0m\n\u001b[1;32m      1\u001b[0m \u001b[0;31m# Don't change this cell; just run it.\u001b[0m\u001b[0;34m\u001b[0m\u001b[0;34m\u001b[0m\u001b[0;34m\u001b[0m\u001b[0m\n\u001b[1;32m      2\u001b[0m \u001b[0;31m# from datascience import *\u001b[0m\u001b[0;34m\u001b[0m\u001b[0;34m\u001b[0m\u001b[0;34m\u001b[0m\u001b[0m\n\u001b[0;32m----> 3\u001b[0;31m \u001b[0;32mimport\u001b[0m \u001b[0mdatascience\u001b[0m\u001b[0;34m\u001b[0m\u001b[0;34m\u001b[0m\u001b[0m\n\u001b[0m\u001b[1;32m      4\u001b[0m \u001b[0;32mimport\u001b[0m \u001b[0mpandas\u001b[0m \u001b[0;32mas\u001b[0m \u001b[0mpd\u001b[0m\u001b[0;34m\u001b[0m\u001b[0;34m\u001b[0m\u001b[0m\n\u001b[1;32m      5\u001b[0m \u001b[0;32mimport\u001b[0m \u001b[0mnumpy\u001b[0m \u001b[0;32mas\u001b[0m \u001b[0mnp\u001b[0m\u001b[0;34m\u001b[0m\u001b[0;34m\u001b[0m\u001b[0m\n",
      "\u001b[0;31mModuleNotFoundError\u001b[0m: No module named 'datascience'"
     ]
    }
   ],
   "source": [
    "# Don't change this cell; just run it. \n",
    "# from datascience import *\n",
    "import datascience \n",
    "import pandas as pd \n",
    "import numpy as np\n",
    "from datascience import Table\n",
    "from datascience import *\n",
    "import matplotlib\n",
    "\n",
    "%matplotlib inline\n",
    "import matplotlib.pyplot as plt\n",
    "import numpy as np\n",
    "plt.style.use('fivethirtyeight')\n",
    "\n",
    "\n",
    "from client.api.notebook import Notebook\n",
    "ok = Notebook('hw04.ok')\n",
    "_ = ok.auth(inline=True)"
   ]
  },
  {
   "cell_type": "markdown",
   "metadata": {},
   "source": [
    "Reading:\n",
    "- Textbook chapters [6](https://data-8r.gitbooks.io/textbook/chapters/06/tables.html) and [7](https://data-8r.gitbooks.io/textbook/chapters/07/functions-and-tables.html)\n",
    "\n",
    "Deadline:\n",
    "\n",
    "This assignment is due **[DUE DATE]**. You will receive an early submission bonus point if you turn in your final submission by **[EARLY SUBMISSION DUE DATE]**. Late work will not be accepted unless you have made special arrangements with your TA or the instructor.\n",
    "\n",
    "Directly sharing answers is not okay, but discussing problems with the course staff or with other students is encouraged. \n",
    "\n",
    "You should start early so that you have time to get help if you're stuck. Drop-in office hours will be held at various times in the week; check the course calendar on the [course webpage](http://data8r.org) for the latest schedule."
   ]
  },
  {
   "cell_type": "markdown",
   "metadata": {},
   "source": [
    "Once you're finished, select \"Save and Checkpoint\" in the File menu and then execute the `submit` cell below. The result will contain a link that you can use to check that your assignment has been submitted successfully. If you submit more than once before the deadline, we will only grade your final submission."
   ]
  },
  {
   "cell_type": "code",
   "execution_count": 2,
   "metadata": {},
   "outputs": [
    {
     "ename": "NameError",
     "evalue": "name 'ok' is not defined",
     "output_type": "error",
     "traceback": [
      "\u001b[0;31m---------------------------------------------------------------------------\u001b[0m",
      "\u001b[0;31mNameError\u001b[0m                                 Traceback (most recent call last)",
      "\u001b[0;32m<ipython-input-2-cc46ca874451>\u001b[0m in \u001b[0;36m<module>\u001b[0;34m\u001b[0m\n\u001b[0;32m----> 1\u001b[0;31m \u001b[0m_\u001b[0m \u001b[0;34m=\u001b[0m \u001b[0mok\u001b[0m\u001b[0;34m.\u001b[0m\u001b[0msubmit\u001b[0m\u001b[0;34m(\u001b[0m\u001b[0;34m)\u001b[0m\u001b[0;34m\u001b[0m\u001b[0;34m\u001b[0m\u001b[0m\n\u001b[0m",
      "\u001b[0;31mNameError\u001b[0m: name 'ok' is not defined"
     ]
    }
   ],
   "source": [
    "_ = ok.submit()"
   ]
  },
  {
   "cell_type": "markdown",
   "metadata": {},
   "source": [
    "## 1. Review of Histograms\n"
   ]
  },
  {
   "cell_type": "code",
   "execution_count": 7,
   "metadata": {},
   "outputs": [
    {
     "ename": "NameError",
     "evalue": "name 'Table' is not defined",
     "output_type": "error",
     "traceback": [
      "\u001b[0;31m---------------------------------------------------------------------------\u001b[0m",
      "\u001b[0;31mNameError\u001b[0m                                 Traceback (most recent call last)",
      "\u001b[0;32m<ipython-input-7-78ec00715ed3>\u001b[0m in \u001b[0;36m<module>\u001b[0;34m\u001b[0m\n\u001b[0;32m----> 1\u001b[0;31m \u001b[0mdata\u001b[0m \u001b[0;34m=\u001b[0m \u001b[0mTable\u001b[0m\u001b[0;34m.\u001b[0m\u001b[0mread_table\u001b[0m\u001b[0;34m(\u001b[0m\u001b[0;34m'cleaned_data_new.csv'\u001b[0m\u001b[0;34m)\u001b[0m\u001b[0;34m\u001b[0m\u001b[0;34m\u001b[0m\u001b[0m\n\u001b[0m",
      "\u001b[0;31mNameError\u001b[0m: name 'Table' is not defined"
     ]
    }
   ],
   "source": [
    "data = Table.read_table('cleaned_data_new.csv')\n"
   ]
  },
  {
   "cell_type": "markdown",
   "metadata": {},
   "source": [
    "We measure the heights of the members of 200 families that each included 1 mother, 1 father, and some varying number of adult sons. We make the following histograms, with all bins being two inches wide.\n",
    "\n",
    "![](three_height_histograms.png)"
   ]
  },
  {
   "cell_type": "markdown",
   "metadata": {},
   "source": [
    "#### Question 1\n",
    "\n",
    "For each quantity listed below, either calculate its value using the histograms, or write *Unknown* if it is not possible to calculate the value numerically given the information we have.\n",
    "1. The **percentage** of mothers that are at least 60 inches but less than 64 inches tall.\n",
    "2. The **percentage** of fathers that are at least 64 inches but less than 67 inches tall.\n",
    "3. The **number** of mothers that are at least 60 inches tall.\n",
    "4. The **number** of sons that are at least 70 inches tall."
   ]
  },
  {
   "cell_type": "markdown",
   "metadata": {},
   "source": [
    "*Write your answer here, replacing this text.*"
   ]
  },
  {
   "cell_type": "markdown",
   "metadata": {},
   "source": [
    "#### Question 2\n",
    "If the fathers' histogram was redrawn with bins of width 4, what would be the height of the bar for the bin from 72 to 76?"
   ]
  },
  {
   "cell_type": "markdown",
   "metadata": {},
   "source": [
    "*Write your answer here, replacing this text.*"
   ]
  },
  {
   "cell_type": "markdown",
   "metadata": {},
   "source": [
    "#### Question 3\n",
    "Some of the sons in the dataset are taller than all of the mothers.  It isn't possible to tell exactly how many, because the binning disguises the exact height values of the mothers and sons.  However, we can calculate upper and lower bounds on the value using our histograms. What's the lowest possible value for the percentage of sons who are taller than all of the mothers? The highest possible value?"
   ]
  },
  {
   "cell_type": "markdown",
   "metadata": {},
   "source": [
    "*Write your answer here, replacing this text.*"
   ]
  },
  {
   "cell_type": "markdown",
   "metadata": {},
   "source": [
    "Run the following cell to load some more height data, this time on 100 adult men and women."
   ]
  },
  {
   "cell_type": "code",
   "execution_count": 6,
   "metadata": {},
   "outputs": [],
   "source": [
    "height_data = Table().read_table(\"Height_Data.csv\")\n",
    "male_heights = height_data.column(\"Male Height\")\n",
    "female_heights = height_data.column(\"Female Height\")\n",
    "all_heights = np.append(male_heights, female_heights)\n",
    "height_data"
   ]
  },
  {
   "cell_type": "markdown",
   "metadata": {},
   "source": [
    "#### Question 4\n",
    "Create a histogram of the heights of the various men in the sample. Then, do the same for women."
   ]
  },
  {
   "cell_type": "code",
   "execution_count": 5,
   "metadata": {},
   "outputs": [],
   "source": [
    "..."
   ]
  },
  {
   "cell_type": "code",
   "execution_count": null,
   "metadata": {},
   "outputs": [],
   "source": [
    "..."
   ]
  },
  {
   "cell_type": "markdown",
   "metadata": {},
   "source": [
    "#### Question 5\n",
    "Ccreate a single histogram of the heights of everyone in the sample, both men and women. \n",
    "\n",
    "*Hint: You will need to use the `all_heights` variable, and make a new table*."
   ]
  },
  {
   "cell_type": "code",
   "execution_count": 10,
   "metadata": {},
   "outputs": [],
   "source": [
    "..."
   ]
  },
  {
   "cell_type": "markdown",
   "metadata": {},
   "source": [
    "## 2. Writing Documentation for Functions\n"
   ]
  },
  {
   "cell_type": "markdown",
   "metadata": {},
   "source": [
    "When you want to figure out how to use a function, typing its name and a question mark in a code cell (and then running the cell) will show you its *documentation*.  It's a good idea to write documentation for the functions you write, too.  This exercise will give you practice with that.\n",
    "\n",
    "**Question 1.** The function below does something interesting, but it's been left without documentation.  Figure out what it does by calling it.  (We've given three example calls to get you started.)  Then write documentation that would help someone understand what the function does.  At a minimum, you should describe:\n",
    "\n",
    "* what the function does, in one short sentence;\n",
    "* the purpose and type of each argument; and\n",
    "* what the function returns.\n",
    "\n",
    "You can follow the [NumPy guidelines for documenting functions](http://sphinxcontrib-napoleon.readthedocs.io/en/latest/example_numpy.html) if you like.\n",
    "\n",
    "**Note:** To complete this exercise, you need to be able to hear audio output from the device you're using."
   ]
  },
  {
   "cell_type": "code",
   "execution_count": 7,
   "metadata": {
    "for_assignment_type": "student"
   },
   "outputs": [],
   "source": [
    "def mystery_function(arg0, arg1, arg2):\n",
    "    \"\"\"\n",
    "    Documentation goes here.\n",
    "    \"\"\"\n",
    "    v = 10000\n",
    "    w = v*arg2\n",
    "    x = np.linspace(arg0, arg1, w)\n",
    "    y = np.cumsum(x) / v\n",
    "    z = np.sin(2*np.pi*y)\n",
    "    from IPython.display import Audio\n",
    "    return Audio(z, rate=v)"
   ]
  },
  {
   "cell_type": "code",
   "execution_count": 8,
   "metadata": {},
   "outputs": [
    {
     "data": {
      "text/html": [
       "\n",
       "                <audio  controls=\"controls\" >\n",
       "                    <source src=\"data:audio/wav;base64,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\" type=\"audio/wav\" />\n",
       "                    Your browser does not support the audio element.\n",
       "                </audio>\n",
       "              "
      ],
      "text/plain": [
       "<IPython.lib.display.Audio object>"
      ]
     },
     "execution_count": 8,
     "metadata": {},
     "output_type": "execute_result"
    }
   ],
   "source": [
    "mystery_function(220, 220, 2)"
   ]
  },
  {
   "cell_type": "code",
   "execution_count": 9,
   "metadata": {},
   "outputs": [
    {
     "data": {
      "text/html": [
       "\n",
       "                <audio  controls=\"controls\" >\n",
       "                    <source src=\"data:audio/wav;base64,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\" type=\"audio/wav\" />\n",
       "                    Your browser does not support the audio element.\n",
       "                </audio>\n",
       "              "
      ],
      "text/plain": [
       "<IPython.lib.display.Audio object>"
      ]
     },
     "execution_count": 9,
     "metadata": {},
     "output_type": "execute_result"
    }
   ],
   "source": [
    "mystery_function(440, 220, 2)"
   ]
  },
  {
   "cell_type": "markdown",
   "metadata": {},
   "source": [
    "## 3. The Climate near Berkeley\n"
   ]
  },
  {
   "cell_type": "markdown",
   "metadata": {},
   "source": [
    "The US National Oceanic and Atmospheric Administration (NOAA) operates thousands of climate observation stations (mostly in the US) that collect information about local climate.  Among other things, each station records the highest and lowest observed temperature each day.  These data, called \"Quality Controlled Local Climatological Data,\" are publicly available [here](http://www.ncdc.noaa.gov/orders/qclcd/) and described [here](https://www.ncdc.noaa.gov/data-access/land-based-station-data/land-based-datasets/quality-controlled-local-climatological-data-qclcd).\n",
    "\n",
    "We've provided you with an excerpt of that dataset.  All the readings are from 2015 and from California stations.\n",
    "\n",
    "**Question 1.** Load the data from `temperatures.csv` into a table called `temperatures`.  Check out the columns in the table.  Each row represents the data from one station on one day.  The column \"Date\" is in MMDD format, meaning that the last two digits denote the day of the month, and the first 1 or 2 digits denote the month."
   ]
  },
  {
   "cell_type": "code",
   "execution_count": 2,
   "metadata": {},
   "outputs": [],
   "source": [
    "temperatures = ...\n",
    "temperatures"
   ]
  },
  {
   "cell_type": "code",
   "execution_count": 3,
   "metadata": {},
   "outputs": [],
   "source": [
    "_ = ok.grade('q3_1')"
   ]
  },
  {
   "cell_type": "markdown",
   "metadata": {},
   "source": [
    "**Question 2.** Each station is named for the city in which it resides.  Is there a station in Berkeley?  Write code to help you answer the question in the next cell, and then write your answer in the cell after that, along with **an English explanation** of what your code does.\n",
    "\n",
    "*Hint:* Use the Table method `.where`."
   ]
  },
  {
   "cell_type": "code",
   "execution_count": 5,
   "metadata": {
    "collapsed": true
   },
   "outputs": [],
   "source": [
    "# Use this cell to work on this problem."
   ]
  },
  {
   "cell_type": "markdown",
   "metadata": {},
   "source": [
    "*Write your answer here, replacing this text.*"
   ]
  },
  {
   "cell_type": "markdown",
   "metadata": {},
   "source": [
    "Let's find the station closest to the UC Berkeley campus.  The campus is located roughly at latitude 37.871746 and longitude -122.259030.  We'll break this down into a few steps.\n",
    "\n",
    "**Question 3.** Create a table called `with_degree_differences` that's a copy of `temperatures`, but with 2 extra columns:\n",
    "\n",
    "1. \"Latitude difference\": The difference between the latitude of the row's station and the latitude of UC Berkeley.\n",
    "2. \"Longitude difference\": The difference between the longitude of the row's station and the longitude of UC Berkeley."
   ]
  },
  {
   "cell_type": "code",
   "execution_count": 6,
   "metadata": {},
   "outputs": [],
   "source": [
    "# We've provided the lat/long of UC Berkeley so you don't have to retype them:\n",
    "BERKELEY_LATITUDE = 37.871746\n",
    "BERKELEY_LONGITUDE = -122.259030\n",
    "\n",
    "with_degree_differences = ...\n",
    "    ...\n",
    "    ...\n",
    "with_degree_differences"
   ]
  },
  {
   "cell_type": "code",
   "execution_count": 7,
   "metadata": {},
   "outputs": [],
   "source": [
    "_ = ok.grade('q3_3')"
   ]
  },
  {
   "cell_type": "markdown",
   "metadata": {
    "for_assignment_type": "student"
   },
   "source": [
    "**Question 4.**  Degrees latitude and longitude don't correspond directly to distances, because the Earth is a sphere.  Near Berkeley, one degree latitude is [around 69 miles](https://www2.usgs.gov/faq/categories/9794/3022), and one degree longitude is around 54.6 miles.  Compute a table called `with_mile_differences` that's a copy of `with_degree_differences` with 2 extra columns:\n",
    "\n",
    "1. \"North-South difference\": The difference between UC Berkeley and the row's station along the North-South axis.  This is the difference in latitude times 69.\n",
    "2. \"East-West difference\": The difference between UC Berkeley and the row's station along the East-West axis.  This is the difference in latitude times 54.6."
   ]
  },
  {
   "cell_type": "code",
   "execution_count": 8,
   "metadata": {},
   "outputs": [],
   "source": [
    "MILES_PER_DEGREE_LATITUDE = 69\n",
    "MILES_PER_DEGREE_LONGITUDE = 54.6\n",
    "with_mile_differences = with_degree_differences.with_columns(\n",
    "    ...\n",
    "    ...\n",
    "with_mile_differences"
   ]
  },
  {
   "cell_type": "code",
   "execution_count": 9,
   "metadata": {},
   "outputs": [],
   "source": [
    "_ = ok.grade('q3_4')"
   ]
  },
  {
   "cell_type": "markdown",
   "metadata": {},
   "source": [
    "**Question 5.** Compute the distance from UC Berkeley to each row's station.  By the Pythagorean theorem, the distance is:\n",
    "$$\\sqrt{(\\text{North-South difference (miles)})^2 + (\\text{East-West difference (miles)})^2}$$\n",
    "\n",
    "Create a table called `with_distances` that's a copy of `with_mile_differences`, but with an extra column called \"Distance to UC Berkeley\" containing these distances.\n",
    "\n",
    "*Hint:* Use elementwise arithmetic operations to square each difference, add them, and square-root them."
   ]
  },
  {
   "cell_type": "code",
   "execution_count": 10,
   "metadata": {},
   "outputs": [],
   "source": [
    "# We found it useful to compute an array of the distances on a separate line,\n",
    "# but you can do whatever you want as long as you define the with_distances\n",
    "# table appropriately.\n",
    "distances = ...\n",
    "with_distances = with_mile_differences.with_columns(\n",
    "    ...\n",
    "with_distances"
   ]
  },
  {
   "cell_type": "code",
   "execution_count": 11,
   "metadata": {},
   "outputs": [],
   "source": [
    "_ = ok.grade('q3_5')"
   ]
  },
  {
   "cell_type": "markdown",
   "metadata": {},
   "source": [
    "**Question 6.** Sort the table by distance to find the station that's closest to Berkeley.  Find its name and assign it to `closest_station_name`."
   ]
  },
  {
   "cell_type": "code",
   "execution_count": 12,
   "metadata": {},
   "outputs": [],
   "source": [
    "closest_station_name = ...\n",
    "closest_station_name"
   ]
  },
  {
   "cell_type": "code",
   "execution_count": 13,
   "metadata": {},
   "outputs": [],
   "source": [
    "_ = ok.grade('q3_6')"
   ]
  },
  {
   "cell_type": "markdown",
   "metadata": {},
   "source": [
    "**Question 7.** Make a table called `closest_station_readings`.  It should be a table like the original `temperatures` table, except it should contain only the rows from the station you found in the previous question.  Sort it in increasing order by date."
   ]
  },
  {
   "cell_type": "code",
   "execution_count": 14,
   "metadata": {},
   "outputs": [],
   "source": [
    "closest_station_readings = ...\n",
    "\n",
    "# This prints out your whole table (with unnecessary columns removed).\n",
    "closest_station_readings.select(2, 1, 0).show()\n",
    "# This code makes a plot of the highs and lows over time in your table,\n",
    "# which is easier to read than the raw numbers.  You don't need to modify\n",
    "# this.\n",
    "closest_station_readings.scatter(2, make_array(0, 1))"
   ]
  },
  {
   "cell_type": "code",
   "execution_count": 15,
   "metadata": {},
   "outputs": [],
   "source": [
    "_ = ok.grade('q3_7')"
   ]
  },
  {
   "cell_type": "markdown",
   "metadata": {},
   "source": [
    "**Question 8.** From the graph, can you figure out the hottest and coldest months in 2015, in terms of average minimum temperature?  (If it looks like there's a tie, name all the months that might qualify.  If you can't answer the question from these data, explain why.)"
   ]
  },
  {
   "cell_type": "markdown",
   "metadata": {},
   "source": [
    "*Write your answer here, replacing this text.*"
   ]
  },
  {
   "cell_type": "markdown",
   "metadata": {},
   "source": [
    "## 4. Fixing Misspellings\n"
   ]
  },
  {
   "cell_type": "markdown",
   "metadata": {},
   "source": [
    "You're editing a collection of your essays for publication, and you discover that you've been misspelling the word \"misspell\" as \"mispel\" your whole life.  You decide to use Python to correct this embarrassing mistake.\n",
    "\n",
    "**Question 1.** Write a function called `correct_mispel`.  It should take a single string as its argument, and return the same string, but with all instances of \"mispel\" replaced with \"misspell\".\n",
    "\n",
    "*Hint:* Use the string method `.replace`.  It takes two arguments: the piece of text you want to find, and the piece of text you want to replace it with."
   ]
  },
  {
   "cell_type": "code",
   "execution_count": 2,
   "metadata": {
    "collapsed": true,
    "for_assignment_type": "student"
   },
   "outputs": [],
   "source": [
    "# Write a function called correct_mispel in this cell."
   ]
  },
  {
   "cell_type": "code",
   "execution_count": 4,
   "metadata": {},
   "outputs": [],
   "source": [
    "_ = ok.grade('q4_1')"
   ]
  },
  {
   "cell_type": "markdown",
   "metadata": {},
   "source": [
    "**Question 2.** Now you need to load your data into Python.  The file `essay_filenames.csv` is a table that contains the *filenames* of your essays.  Each filename is a string that's the name of an essay.  Load it into a table called `essay_filenames`."
   ]
  },
  {
   "cell_type": "code",
   "execution_count": 5,
   "metadata": {},
   "outputs": [],
   "source": [
    "essay_filenames = ...\n",
    "essay_filenames"
   ]
  },
  {
   "cell_type": "code",
   "execution_count": 6,
   "metadata": {},
   "outputs": [],
   "source": [
    "_ = ok.grade('q4_2')"
   ]
  },
  {
   "cell_type": "markdown",
   "metadata": {},
   "source": [
    "**Question 3.** Below, we've provided a function that takes as its argument the *filename* of an essay and returns the text in that file (as one long string).  Using `apply`, create a table called `essays` with two columns:\n",
    "\n",
    "1. \"Name\": The filename of the essay\n",
    "2. \"Text\": The whole text of the essay\n",
    "\n",
    "(The essays are actually books from [Project Gutenberg](gutenberg.org), modified to misspell \"misspell\".  Attributions and copyright information are contained in the text of each essay.)"
   ]
  },
  {
   "cell_type": "code",
   "execution_count": 7,
   "metadata": {},
   "outputs": [],
   "source": [
    "def load_essay(filename):\n",
    "    \"\"\"Loads the text in the given file, returning it as one long string.\"\"\"\n",
    "    with open(filename, 'r') as essay_file:\n",
    "        return essay_file.read()\n",
    "\n",
    "essays = ...\n",
    "essays"
   ]
  },
  {
   "cell_type": "code",
   "execution_count": 8,
   "metadata": {},
   "outputs": [],
   "source": [
    "_ = ok.grade('q4_3')"
   ]
  },
  {
   "cell_type": "markdown",
   "metadata": {},
   "source": [
    "**Question 4.** Using `apply` and the function you wrote earlier, create a table called `corrected_essays` with two columns:\n",
    "\n",
    "1. \"Name\": The filename of the essay\n",
    "2. \"Corrected text\": The whole text of the essay, with \"mispel\" corrected as \"misspell\"."
   ]
  },
  {
   "cell_type": "code",
   "execution_count": 9,
   "metadata": {},
   "outputs": [],
   "source": [
    "corrected_essays = ...\n",
    "corrected_essays"
   ]
  },
  {
   "cell_type": "code",
   "execution_count": 10,
   "metadata": {},
   "outputs": [],
   "source": [
    "_ = ok.grade('q4_4')"
   ]
  },
  {
   "cell_type": "markdown",
   "metadata": {},
   "source": [
    "Did this do anything?  Were there even misspellings in the original essay?  Let's find out.\n",
    "\n",
    "**Question 5.** The string method `splitlines` produces an array of the lines of the string.  Use it to make a table called `news_writing_lines` with a column called \"Line\" containing the lines from the text called \"News Writing\".  That is, there should be one row in `news_writing_lines` for each line in the text called \"News Writing\"."
   ]
  },
  {
   "cell_type": "code",
   "execution_count": 11,
   "metadata": {
    "scrolled": true
   },
   "outputs": [],
   "source": [
    "news_writing = ...\n",
    "news_writing_lines = ...\n",
    "news_writing_lines"
   ]
  },
  {
   "cell_type": "code",
   "execution_count": 12,
   "metadata": {},
   "outputs": [],
   "source": [
    "_ = ok.grade('q4_5')"
   ]
  },
  {
   "cell_type": "markdown",
   "metadata": {},
   "source": [
    "**Question 6.** Use the table method `where` and the predicate `are.containing` to find all the lines in `news_writing_lines` that include the word \"mispel\".  Make a table of those lines called `misspelled_lines`.\n",
    "\n",
    "*Note:* You should also find versions of \"mispel\" like \"mispeled\" or \"mispeling\", and your code probably corrected those, too.  That's okay."
   ]
  },
  {
   "cell_type": "code",
   "execution_count": 13,
   "metadata": {},
   "outputs": [],
   "source": [
    "misspelled_lines = ...\n",
    "misspelled_lines"
   ]
  },
  {
   "cell_type": "code",
   "execution_count": 14,
   "metadata": {
    "for_assignment_type": "student"
   },
   "outputs": [],
   "source": [
    "_ = ok.grade('q4_6')"
   ]
  },
  {
   "cell_type": "markdown",
   "metadata": {},
   "source": [
    "**Question 7.** In the cell below, repeat the work you did in questions 5 and 6, but for the corrected version of \"News Writing\" you produced in `corrected_essays`.  Did your correction fix the misspellings?"
   ]
  },
  {
   "cell_type": "code",
   "execution_count": 16,
   "metadata": {
    "collapsed": true,
    "for_assignment_type": "student"
   },
   "outputs": [],
   "source": [
    "# Use this cell to check whether your code fixed the misspellings."
   ]
  },
  {
   "cell_type": "markdown",
   "metadata": {},
   "source": [
    "*Write your answer here, replacing this text.*"
   ]
  },
  {
   "cell_type": "markdown",
   "metadata": {},
   "source": [
    "## 5. Causes of Death in California\n"
   ]
  },
  {
   "cell_type": "markdown",
   "metadata": {},
   "source": [
    "This exercise is designed to give you practice using the Table method `group`.\n",
    "\n",
    "We'll be looking at a dataset from the California Department of Public Health (available [here](http://www.healthdata.gov/dataset/leading-causes-death-zip-code-1999-2013) and described [here](http://www.cdph.ca.gov/data/statistics/Pages/DeathProfilesbyZIPCode.aspx)) that records the cause of death (as recorded on a death certificate) for everyone who died in California from 1999 to 2013.  The data are in the file `causes_of_death.csv.zip`.  Each row records the number of deaths by one cause in one year in one ZIP code.\n",
    "\n",
    "To make the file smaller, we've compressed it; run the next cell to unzip and load it."
   ]
  },
  {
   "cell_type": "code",
   "execution_count": null,
   "metadata": {
    "collapsed": true
   },
   "outputs": [],
   "source": [
    "!pip install zip\n",
    "import  zipfile\n",
    "zip_ref = zipfile.ZipFile(\"causes_of_death.csv.zip\", 'r')\n",
    "zip_ref.extractall(\".\")\n",
    "zip_ref.close()\n",
    "causes = Table.read_table('causes_of_death.csv')\n",
    "causes"
   ]
  },
  {
   "cell_type": "markdown",
   "metadata": {},
   "source": [
    "The causes of death in the data are abbreviated.  If you want to know what the abbreviations mean, we've provided a table called `abbreviations.csv`."
   ]
  },
  {
   "cell_type": "markdown",
   "metadata": {},
   "source": [
    "**Question 1.** Find the top 5 causes of death in California over the entire period covered by the data.  To do that, create a table with one row for each of the top 5 causes of death, a column called \"Cause of Death\", and a column called \"Count\" that records the total number of deaths due to that cause.  Sort it in descending order by count, and call it `top_5_causes`."
   ]
  },
  {
   "cell_type": "code",
   "execution_count": null,
   "metadata": {
    "collapsed": true,
    "for_assignment_type": "student"
   },
   "outputs": [],
   "source": [
    "# Use this cell to find the top 5 causes of death."
   ]
  },
  {
   "cell_type": "code",
   "execution_count": null,
   "metadata": {
    "collapsed": true
   },
   "outputs": [],
   "source": [
    "_ = ok.grade('q5_1')"
   ]
  },
  {
   "cell_type": "markdown",
   "metadata": {},
   "source": [
    "**Question 2.** Create a bar chart that displays the *proportion of all deaths* by each cause."
   ]
  },
  {
   "cell_type": "code",
   "execution_count": null,
   "metadata": {
    "collapsed": true,
    "for_assignment_type": "student"
   },
   "outputs": [],
   "source": [
    "# Use this cell to make your plot."
   ]
  },
  {
   "cell_type": "markdown",
   "metadata": {},
   "source": [
    "**Question 3.** Create a plot of the total number of deaths per year in California.\n",
    "\n",
    "*Hint:* Use the Table method `plot`.  The first argument is the name or index of the column to put on the horizontal axis."
   ]
  },
  {
   "cell_type": "code",
   "execution_count": null,
   "metadata": {
    "collapsed": true
   },
   "outputs": [],
   "source": [
    "...\n",
    "\n",
    "# This line will make the vertical axis start at 0.  You can remove\n",
    "# it if you want to see the default plot, which is more zoomed-in.\n",
    "plots.ylim(0, 300000)"
   ]
  },
  {
   "cell_type": "markdown",
   "metadata": {},
   "source": [
    "**Question 4.** You should see that deaths have increased a little over time, though not uniformly.  How would you explain that?  Describe a dataset you'd like to see to test whether your explanation is valid."
   ]
  },
  {
   "cell_type": "markdown",
   "metadata": {},
   "source": [
    "*Write your answer here, replacing this text.*"
   ]
  }
 ],
 "metadata": {
  "kernelspec": {
   "display_name": "Python 3",
   "language": "python",
   "name": "python3"
  },
  "language_info": {
   "codemirror_mode": {
    "name": "ipython",
    "version": 3
   },
   "file_extension": ".py",
   "mimetype": "text/x-python",
   "name": "python",
   "nbconvert_exporter": "python",
   "pygments_lexer": "ipython3",
   "version": "3.7.4"
  }
 },
 "nbformat": 4,
 "nbformat_minor": 1
}
